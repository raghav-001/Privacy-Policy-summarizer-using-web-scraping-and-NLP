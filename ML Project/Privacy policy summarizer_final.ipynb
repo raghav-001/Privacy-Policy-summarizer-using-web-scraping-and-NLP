{
 "cells": [
  {
   "cell_type": "markdown",
   "metadata": {},
   "source": [
    "# MACHINE LEARNING - CSE4020"
   ]
  },
  {
   "cell_type": "markdown",
   "metadata": {},
   "source": [
    "# IMPORTANT HIGHLIGHTS IN PRIVACY POLICY USING NATURAL LANGUAGE PROCESSING (NLP)"
   ]
  },
  {
   "cell_type": "markdown",
   "metadata": {},
   "source": [
    "# J-COMPONENT REVIEW-3"
   ]
  },
  {
   "cell_type": "markdown",
   "metadata": {},
   "source": [
    "# V Raghav Anand - 19BCE1415"
   ]
  },
  {
   "cell_type": "markdown",
   "metadata": {},
   "source": [
    "# Anthra Devarajan - 19BCE1681"
   ]
  },
  {
   "cell_type": "markdown",
   "metadata": {},
   "source": [
    "# S Sabhari Girish - 19BCE1759"
   ]
  },
  {
   "cell_type": "markdown",
   "metadata": {},
   "source": [
    "# Faculty: Prof. Abdul Quadir MD"
   ]
  },
  {
   "cell_type": "markdown",
   "metadata": {},
   "source": [
    "## Importing libraries and reading the dataset"
   ]
  },
  {
   "cell_type": "code",
   "execution_count": 1,
   "metadata": {},
   "outputs": [
    {
     "name": "stderr",
     "output_type": "stream",
     "text": [
      "[nltk_data] Downloading package stopwords to\n",
      "[nltk_data]     C:\\Users\\Raghav\\AppData\\Roaming\\nltk_data...\n",
      "[nltk_data]   Package stopwords is already up-to-date!\n"
     ]
    },
    {
     "data": {
      "text/plain": [
       "True"
      ]
     },
     "execution_count": 1,
     "metadata": {},
     "output_type": "execute_result"
    }
   ],
   "source": [
    "import pandas as pd\n",
    "import numpy as np\n",
    "from bs4 import BeautifulSoup \n",
    "from nltk.corpus import stopwords\n",
    "import nltk\n",
    "nltk.download('stopwords')"
   ]
  },
  {
   "cell_type": "code",
   "execution_count": 2,
   "metadata": {
    "scrolled": true
   },
   "outputs": [
    {
     "data": {
      "text/html": [
       "<div>\n",
       "<style scoped>\n",
       "    .dataframe tbody tr th:only-of-type {\n",
       "        vertical-align: middle;\n",
       "    }\n",
       "\n",
       "    .dataframe tbody tr th {\n",
       "        vertical-align: top;\n",
       "    }\n",
       "\n",
       "    .dataframe thead th {\n",
       "        text-align: right;\n",
       "    }\n",
       "</style>\n",
       "<table border=\"1\" class=\"dataframe\">\n",
       "  <thead>\n",
       "    <tr style=\"text-align: right;\">\n",
       "      <th></th>\n",
       "      <th>S. No</th>\n",
       "      <th>Website name</th>\n",
       "      <th>Company website</th>\n",
       "      <th>Privacy policy link</th>\n",
       "    </tr>\n",
       "  </thead>\n",
       "  <tbody>\n",
       "    <tr>\n",
       "      <th>0</th>\n",
       "      <td>1</td>\n",
       "      <td>Limeroad</td>\n",
       "      <td>https://www.limeroad.com/</td>\n",
       "      <td>https://www.limeroad.com/privacypolicy</td>\n",
       "    </tr>\n",
       "    <tr>\n",
       "      <th>1</th>\n",
       "      <td>2</td>\n",
       "      <td>Groupon</td>\n",
       "      <td>https://people.groupon.com/india/</td>\n",
       "      <td>https://www.groupon.com/legal/privacypolicy</td>\n",
       "    </tr>\n",
       "    <tr>\n",
       "      <th>2</th>\n",
       "      <td>3</td>\n",
       "      <td>CraftGhar</td>\n",
       "      <td>https://craftghar.com/</td>\n",
       "      <td>https://craftghar.com/privacy-policy.html</td>\n",
       "    </tr>\n",
       "    <tr>\n",
       "      <th>3</th>\n",
       "      <td>4</td>\n",
       "      <td>Saree</td>\n",
       "      <td>https://www.saree.com/</td>\n",
       "      <td>https://www.saree.com/privacy-policy</td>\n",
       "    </tr>\n",
       "    <tr>\n",
       "      <th>4</th>\n",
       "      <td>5</td>\n",
       "      <td>Rediff Shopping</td>\n",
       "      <td>http://shopping.rediff.com/</td>\n",
       "      <td>http://imshopping.rediff.com/shopping/shp_Priv...</td>\n",
       "    </tr>\n",
       "    <tr>\n",
       "      <th>5</th>\n",
       "      <td>6</td>\n",
       "      <td>Eleb2b</td>\n",
       "      <td>https://www.eleb2b.com/</td>\n",
       "      <td>https://www.eleb2b.com/Privacy-Policy</td>\n",
       "    </tr>\n",
       "    <tr>\n",
       "      <th>6</th>\n",
       "      <td>7</td>\n",
       "      <td>eBay</td>\n",
       "      <td>https://in.ebay.com/</td>\n",
       "      <td>https://www.ebay.com/help/policies/member-beha...</td>\n",
       "    </tr>\n",
       "    <tr>\n",
       "      <th>7</th>\n",
       "      <td>8</td>\n",
       "      <td>OLX</td>\n",
       "      <td>https://www.olx.in</td>\n",
       "      <td>https://help.olx.in/hc/en-us/articles/36000208...</td>\n",
       "    </tr>\n",
       "    <tr>\n",
       "      <th>8</th>\n",
       "      <td>9</td>\n",
       "      <td>gocoop</td>\n",
       "      <td>https://gocoop.com/</td>\n",
       "      <td>https://gocoop.com/policies/privacy-policy</td>\n",
       "    </tr>\n",
       "  </tbody>\n",
       "</table>\n",
       "</div>"
      ],
      "text/plain": [
       "   S. No     Website name                    Company website  \\\n",
       "0      1         Limeroad          https://www.limeroad.com/   \n",
       "1      2          Groupon  https://people.groupon.com/india/   \n",
       "2      3        CraftGhar             https://craftghar.com/   \n",
       "3      4            Saree             https://www.saree.com/   \n",
       "4      5  Rediff Shopping        http://shopping.rediff.com/   \n",
       "5      6           Eleb2b            https://www.eleb2b.com/   \n",
       "6      7             eBay               https://in.ebay.com/   \n",
       "7      8              OLX                 https://www.olx.in   \n",
       "8      9           gocoop                https://gocoop.com/   \n",
       "\n",
       "                                 Privacy policy link  \n",
       "0             https://www.limeroad.com/privacypolicy  \n",
       "1        https://www.groupon.com/legal/privacypolicy  \n",
       "2          https://craftghar.com/privacy-policy.html  \n",
       "3               https://www.saree.com/privacy-policy  \n",
       "4  http://imshopping.rediff.com/shopping/shp_Priv...  \n",
       "5              https://www.eleb2b.com/Privacy-Policy  \n",
       "6  https://www.ebay.com/help/policies/member-beha...  \n",
       "7  https://help.olx.in/hc/en-us/articles/36000208...  \n",
       "8         https://gocoop.com/policies/privacy-policy  "
      ]
     },
     "execution_count": 2,
     "metadata": {},
     "output_type": "execute_result"
    }
   ],
   "source": [
    "dataset=pd.read_csv(\"privacy_policy_buy_sell.csv\")\n",
    "dataset"
   ]
  },
  {
   "cell_type": "code",
   "execution_count": 3,
   "metadata": {},
   "outputs": [],
   "source": [
    "import re\n",
    "import urllib"
   ]
  },
  {
   "cell_type": "markdown",
   "metadata": {},
   "source": [
    "## Functions to perform extraction of data from privacy policy link"
   ]
  },
  {
   "cell_type": "markdown",
   "metadata": {},
   "source": [
    "## Web scraping makes sure that the entire website page containing the privacy policy is scanned from top to bottom"
   ]
  },
  {
   "cell_type": "markdown",
   "metadata": {},
   "source": [
    "### extract_content() function is used to open the URL link and decode the UTF-8 encoding"
   ]
  },
  {
   "cell_type": "code",
   "execution_count": 4,
   "metadata": {},
   "outputs": [],
   "source": [
    "def extract_content(link):\n",
    "    f = urllib.request.urlopen(link)\n",
    "    myfile = f.read()\n",
    "    file=myfile.decode('UTF-8')\n",
    "    return file"
   ]
  },
  {
   "cell_type": "markdown",
   "metadata": {},
   "source": [
    "### clean_html_content() function is used to remove all the special characters using REGEX in Python"
   ]
  },
  {
   "cell_type": "code",
   "execution_count": 5,
   "metadata": {},
   "outputs": [],
   "source": [
    "def clean_html_content(raw_html):\n",
    "    CLEANR = re.compile('<.*?>|&([a-z0-9]+|#[0-9]{1,6}|#x[0-9a-f]{1,6});')\n",
    "    cleantext = re.sub(CLEANR, '', raw_html)\n",
    "    return cleantext"
   ]
  },
  {
   "cell_type": "markdown",
   "metadata": {},
   "source": [
    "### extract_words() function is used to extract all the words from the scraped data using REGEX in Python"
   ]
  },
  {
   "cell_type": "code",
   "execution_count": 6,
   "metadata": {},
   "outputs": [],
   "source": [
    "def extract_words(clean_policy):\n",
    "    words_pattern = '[a-z]+'\n",
    "    word_list=re.findall(words_pattern, clean_policy, flags=re.IGNORECASE)\n",
    "    return word_list"
   ]
  },
  {
   "cell_type": "markdown",
   "metadata": {},
   "source": [
    "### text_cleaner() function is used to remove all the short words and stop words present in the text"
   ]
  },
  {
   "cell_type": "code",
   "execution_count": 7,
   "metadata": {},
   "outputs": [],
   "source": [
    "stop_words = set(stopwords.words('english')) \n",
    "def text_cleaner(text):\n",
    "    newString = text.lower()\n",
    "    newString = BeautifulSoup(newString, \"lxml\").text\n",
    "    newString = re.sub(r'\\([^)]*\\)', '', newString)\n",
    "    newString = re.sub('\"','', newString)\n",
    "    newString = ' '.join([contraction_mapping[t] if t in contraction_mapping else t for t in newString.split(\" \")])    \n",
    "    newString = re.sub(r\"'s\\b\",\"\",newString)\n",
    "    newString = re.sub(\"[^a-zA-Z]\", \" \", newString) \n",
    "    tokens = [w for w in newString.split() if not w in stop_words]\n",
    "    long_words=[]\n",
    "    for i in tokens:\n",
    "        if len(i)>=3:                  #removing short word\n",
    "            long_words.append(i)   \n",
    "    return (\" \".join(long_words)).strip()"
   ]
  },
  {
   "cell_type": "markdown",
   "metadata": {},
   "source": [
    "### place_delimiters() is used to split the words using comma as the delimiter so that words can be extracted and put in lists"
   ]
  },
  {
   "cell_type": "code",
   "execution_count": 8,
   "metadata": {},
   "outputs": [],
   "source": [
    "def place_delimiters(file):\n",
    "    comma_separated_file=file.replace(\" \", \",\")\n",
    "    return comma_separated_file    "
   ]
  },
  {
   "cell_type": "markdown",
   "metadata": {},
   "source": [
    "# IN THE UPCOMING CELLS, THE FIRST 5000 INDEX OF THE SCRAPED DATA IS SHOWN AS SAMPLE OUTPUT IN ORDER TO AVOID LARGE OUTPUTS PRINTED IN THE HTML FILE WHICH CAN BE DIFFICULT TO SCROLL, HOWEVER, IT IS IMPORTANT TO NOTE THAT THE SCRAPED DATA CONTAINS THE ENTIRE WEBSITE'S PAGE AND IS VERY LARGE "
   ]
  },
  {
   "cell_type": "markdown",
   "metadata": {},
   "source": [
    "## Taking the first privacy policy website link and performing preprocessing"
   ]
  },
  {
   "cell_type": "code",
   "execution_count": 9,
   "metadata": {
    "scrolled": false
   },
   "outputs": [
    {
     "name": "stdout",
     "output_type": "stream",
     "text": [
      "\n",
      "<!DOCTYPE html>\n",
      "<!-- content-pages: gig_application_layout@7.0.119 126d3af -->\n",
      "<html lang=\"en\">\n",
      "<head data-app=\"content-pages\" data-country=\"US\" data-lang=\"en\" data-locale=\"en_US\" data-header=\"default\" data-brand=\"groupon\" data-gdpr=\"false\" data-domain=\".groupon.com\" data-categoryid=\"\"><meta charSet=\"utf-8\"/><title>GROUPON, INC. PRIVACY STATEMENT</title><meta http-equiv=\"x-dns-prefetch-control\" content=\"on\"/><link rel=\"preconnect\" href=\"https://www2.grouponcdn.com\" crossorigin=\"\"/><link rel=\"preconnect\" href=\"https://www1.grouponcdn.com\" crossorigin=\"\"/><link rel=\"preconnect\" href=\"https://img.grouponcdn.com\" crossorigin=\"\"/><link rel=\"preload\" href=\"https://www2.grouponcdn.com/layout/assets/Groupon-5e0a12d84d.woff2\" crossorigin=\"\" type=\"font/woff2\" as=\"font\"/><link rel=\"preload\" href=\"https://www2.grouponcdn.com/layout/assets/desktop-grpn-v7.0-9d3dce3f88.css\" as=\"style\"/><link rel=\"stylesheet\" href=\"https://www2.grouponcdn.com/layout/assets/desktop-grpn-v7.0-9d3dce3f88.css\"/><link rel=\"preload\" as=\"font\" crossorigin=\"\" type=\"font/woff2\" href=\"https://www1.grouponcdn.com/layout/assets/OpenSansRegular-409ed3007d.woff2\"/><link rel=\"preload\" as=\"font\" crossorigin=\"\" type=\"font/woff2\" href=\"https://www2.grouponcdn.com/layout/assets/OpenSansSemiBold-55b4120b52.woff2\"/><link rel=\"preload\" as=\"font\" crossorigin=\"\" type=\"font/woff2\" href=\"https://www2.grouponcdn.com/layout/assets/OpenSansBold-2ecb7b1efc.woff2\"/><link rel=\"preload\" as=\"font\" crossorigin=\"\" type=\"font/woff2\" href=\"https://www2.grouponcdn.com/layout/assets/OpenSansExtraBold-1666787ea3.woff2\"/><link rel=\"preload\" href=\"https://www1.grouponcdn.com/content-pages/assets/content_pages-7ca69a892c.css\" as=\"style\"/><link rel=\"stylesheet\" href=\"https://www1.grouponcdn.com/content-pages/assets/content_pages-7ca69a892c.css\"/><!-- --><link rel=\"preload\" href=\"https://www2.grouponcdn.com/layout/assets/head.load-3a0be698c2.js\" as=\"script\"/><link rel=\"preload\" href=\"https://www2.grouponcdn.com/layout/assets/optimize-suite-v2-53caa89dab.js\" as=\"script\"/><link rel=\"preload\" href=\"https://www2.grouponcdn.com/layout/assets/desktop-core-v7.0-018245fa4c.js\" as=\"script\"/><!-- --><!-- --><link rel=\"preload\" href=\"https://www2.grouponcdn.com/content-pages/assets/main-f2766139af.js\" as=\"script\"/><!-- --><!-- --><!-- --><!-- --><meta name=\"viewport\" content=\"width=device-width, initial-scale=1.0\"/><meta name=\"description\" content=\"Discover and save on 1000s of great deals at nearby restaurants, spas, things to do, shopping, travel and more. Groupon: Own the Experience.\"/>\n",
      "<!-- --><!-- --><!-- --><!-- --><link rel=\"canonical\" href=\"https://www.groupon.com/legal/privacypolicy\"/>\n",
      "<!-- --><!-- --><!-- --><!-- --><!-- --><!-- --><!-- --><!-- --><!-- --><!-- --><!-- --><!-- --><!-- --><!-- --><meta name=\"csrf-token\" content=\"OljntXNM-cuaq4Dt3gHI239ce2yeafQBimaQ\"/><!-- --><!-- --><!-- --><!-- --><link rel=\"manifest\" href=\"/layout/manifest.json\"/><meta name=\"request-id\" content=\"522d06ca-108a-4d71-ae27-55913365e505\"/><!-- --><!-- --><!-- --><!-- --><!-- --><script id=\"dyn-config\">\n",
      "          window.LS_Mustache_Params = {\n",
      "            ...window.LS_Mustache_Params,\n",
      "            dynConfig: {\n",
      "        finchLayoutConfig: {\"api-mobile-iphone-rtrGoods1408ZA\":{\"experiments\":{\"rtrGoods1408ZA\":{\"name\":\"rtrGoods1408ZA\",\"tracking\":true,\"variants\":[\"Control\",\"Treatment\"],\"variant_settings\":{\"Control\":null,\"Treatment\":null},\"control\":\"Control\",\"bucket_min\":9999,\"bucket_max\":9999,\"buckets\":\"9999..9999\"}},\"bucketing_salt\":\"api-mobile-iphone-rtrGoods1408ZA\",\"diversion_type\":\"CookieDiversion\"},\"sms-download-link-experiment\":{\"experiments\":{\"sms-download-link-experiment\":{\"name\":\"sms-download-link-experiment\",\"tracking\":true,\"variants\":[\"control\",\"sms_download_link\"],\"variant_settings\":{\"control\":null,\"sms_download_link\":null},\"control\":\"control\",\"bucket_min\":0,\"bucket_max\":249,\"buckets\":\"0..249\"}},\"bucketing_salt\":\"sms-download-link-experiment\",\"diversion_type\":\"CookieDiversion\"},\"OptimizeSuiteGALoadLater\":{\"experiments\":{\"OptimizeSuiteGALoadLater\":{\"name\":\"OptimizeSuiteGALoadLater\",\"tracking\":false,\"variants\":[\"injectOnPageload\"],\"variant_settings\":{\"Control\":null,\"injectOnPageload\":null},\"control\":\"Control\",\"bucket_min\":0,\"bucket_max\":999,\"buckets\":\"0..999\"}},\"bucketing_salt\":\"OptimizeSuiteGALoadLater\",\"diversion_type\":\"CookieDiversion\"},\"LS-4100-intentmedia-gtm\":{\"experiments\":{\"LS-4100-intentmedia-gtm\":{\"name\":\"LS-4100-intentmedia-gtm\",\"tracking\":true,\"variants\":[\"Treatment\"],\"variant_settings\":{\"Control\":null,\"Treatment\":null},\"control\":\"Control\",\"bucket_min\":0,\"bucket_max\":999,\"buckets\":\"0..999\"}},\"bucketing_salt\":\"LS-4100-intentmedia-gtm\",\"diversion_type\":\"CookieDiversion\"},\"LS-4925-Disable-Search-Desktop\":{\"experiments\":{\"LS-4925-Disable-Search-Desktop\":{\"name\":\"LS-4925-Disable-Search-Desktop\",\"tracking\":true,\"variants\":[\"Control\",\"Treatment\"],\"variant_settings\":{\"Control\":null,\"Treatment\":null},\"control\":\"Control\",\"bucket_min\":9999,\"bucket_max\":9999,\"buckets\":\"9999..9999\"}},\"bucketing_salt\":\"LS-4\n"
     ]
    }
   ],
   "source": [
    "file=extract_content(\"https://www.groupon.com/legal/privacypolicy\")\n",
    "print(file[:5000])"
   ]
  },
  {
   "cell_type": "markdown",
   "metadata": {},
   "source": [
    "## Calling the place_delimiters() function"
   ]
  },
  {
   "cell_type": "code",
   "execution_count": 10,
   "metadata": {},
   "outputs": [
    {
     "name": "stdout",
     "output_type": "stream",
     "text": [
      "\n",
      "<!DOCTYPE,html>\n",
      "<!--,content-pages:,gig_application_layout@7.0.119,126d3af,-->\n",
      "<html,lang=\"en\">\n",
      "<head,data-app=\"content-pages\",data-country=\"US\",data-lang=\"en\",data-locale=\"en_US\",data-header=\"default\",data-brand=\"groupon\",data-gdpr=\"false\",data-domain=\".groupon.com\",data-categoryid=\"\"><meta,charSet=\"utf-8\"/><title>GROUPON,,INC.,PRIVACY,STATEMENT</title><meta,http-equiv=\"x-dns-prefetch-control\",content=\"on\"/><link,rel=\"preconnect\",href=\"https://www2.grouponcdn.com\",crossorigin=\"\"/><link,rel=\"preconnect\",href=\"https://www1.grouponcdn.com\",crossorigin=\"\"/><link,rel=\"preconnect\",href=\"https://img.grouponcdn.com\",crossorigin=\"\"/><link,rel=\"preload\",href=\"https://www2.grouponcdn.com/layout/assets/Groupon-5e0a12d84d.woff2\",crossorigin=\"\",type=\"font/woff2\",as=\"font\"/><link,rel=\"preload\",href=\"https://www2.grouponcdn.com/layout/assets/desktop-grpn-v7.0-9d3dce3f88.css\",as=\"style\"/><link,rel=\"stylesheet\",href=\"https://www2.grouponcdn.com/layout/assets/desktop-grpn-v7.0-9d3dce3f88.css\"/><link,rel=\"preload\",as=\"font\",crossorigin=\"\",type=\"font/woff2\",href=\"https://www1.grouponcdn.com/layout/assets/OpenSansRegular-409ed3007d.woff2\"/><link,rel=\"preload\",as=\"font\",crossorigin=\"\",type=\"font/woff2\",href=\"https://www2.grouponcdn.com/layout/assets/OpenSansSemiBold-55b4120b52.woff2\"/><link,rel=\"preload\",as=\"font\",crossorigin=\"\",type=\"font/woff2\",href=\"https://www2.grouponcdn.com/layout/assets/OpenSansBold-2ecb7b1efc.woff2\"/><link,rel=\"preload\",as=\"font\",crossorigin=\"\",type=\"font/woff2\",href=\"https://www2.grouponcdn.com/layout/assets/OpenSansExtraBold-1666787ea3.woff2\"/><link,rel=\"preload\",href=\"https://www1.grouponcdn.com/content-pages/assets/content_pages-7ca69a892c.css\",as=\"style\"/><link,rel=\"stylesheet\",href=\"https://www1.grouponcdn.com/content-pages/assets/content_pages-7ca69a892c.css\"/><!--,--><link,rel=\"preload\",href=\"https://www2.grouponcdn.com/layout/assets/head.load-3a0be698c2.js\",as=\"script\"/><link,rel=\"preload\",href=\"https://www2.grouponcdn.com/layout/assets/optimize-suite-v2-53caa89dab.js\",as=\"script\"/><link,rel=\"preload\",href=\"https://www2.grouponcdn.com/layout/assets/desktop-core-v7.0-018245fa4c.js\",as=\"script\"/><!--,--><!--,--><link,rel=\"preload\",href=\"https://www2.grouponcdn.com/content-pages/assets/main-f2766139af.js\",as=\"script\"/><!--,--><!--,--><!--,--><!--,--><meta,name=\"viewport\",content=\"width=device-width,,initial-scale=1.0\"/><meta,name=\"description\",content=\"Discover,and,save,on,1000s,of,great,deals,at,nearby,restaurants,,spas,,things,to,do,,shopping,,travel,and,more.,Groupon:,Own,the,Experience.\"/>\n",
      "<!--,--><!--,--><!--,--><!--,--><link,rel=\"canonical\",href=\"https://www.groupon.com/legal/privacypolicy\"/>\n",
      "<!--,--><!--,--><!--,--><!--,--><!--,--><!--,--><!--,--><!--,--><!--,--><!--,--><!--,--><!--,--><!--,--><!--,--><meta,name=\"csrf-token\",content=\"OljntXNM-cuaq4Dt3gHI239ce2yeafQBimaQ\"/><!--,--><!--,--><!--,--><!--,--><link,rel=\"manifest\",href=\"/layout/manifest.json\"/><meta,name=\"request-id\",content=\"522d06ca-108a-4d71-ae27-55913365e505\"/><!--,--><!--,--><!--,--><!--,--><!--,--><script,id=\"dyn-config\">\n",
      ",,,,,,,,,,window.LS_Mustache_Params,=,{\n",
      ",,,,,,,,,,,,...window.LS_Mustache_Params,\n",
      ",,,,,,,,,,,,dynConfig:,{\n",
      ",,,,,,,,finchLayoutConfig:,{\"api-mobile-iphone-rtrGoods1408ZA\":{\"experiments\":{\"rtrGoods1408ZA\":{\"name\":\"rtrGoods1408ZA\",\"tracking\":true,\"variants\":[\"Control\",\"Treatment\"],\"variant_settings\":{\"Control\":null,\"Treatment\":null},\"control\":\"Control\",\"bucket_min\":9999,\"bucket_max\":9999,\"buckets\":\"9999..9999\"}},\"bucketing_salt\":\"api-mobile-iphone-rtrGoods1408ZA\",\"diversion_type\":\"CookieDiversion\"},\"sms-download-link-experiment\":{\"experiments\":{\"sms-download-link-experiment\":{\"name\":\"sms-download-link-experiment\",\"tracking\":true,\"variants\":[\"control\",\"sms_download_link\"],\"variant_settings\":{\"control\":null,\"sms_download_link\":null},\"control\":\"control\",\"bucket_min\":0,\"bucket_max\":249,\"buckets\":\"0..249\"}},\"bucketing_salt\":\"sms-download-link-experiment\",\"diversion_type\":\"CookieDiversion\"},\"OptimizeSuiteGALoadLater\":{\"experiments\":{\"OptimizeSuiteGALoadLater\":{\"name\":\"OptimizeSuiteGALoadLater\",\"tracking\":false,\"variants\":[\"injectOnPageload\"],\"variant_settings\":{\"Control\":null,\"injectOnPageload\":null},\"control\":\"Control\",\"bucket_min\":0,\"bucket_max\":999,\"buckets\":\"0..999\"}},\"bucketing_salt\":\"OptimizeSuiteGALoadLater\",\"diversion_type\":\"CookieDiversion\"},\"LS-4100-intentmedia-gtm\":{\"experiments\":{\"LS-4100-intentmedia-gtm\":{\"name\":\"LS-4100-intentmedia-gtm\",\"tracking\":true,\"variants\":[\"Treatment\"],\"variant_settings\":{\"Control\":null,\"Treatment\":null},\"control\":\"Control\",\"bucket_min\":0,\"bucket_max\":999,\"buckets\":\"0..999\"}},\"bucketing_salt\":\"LS-4100-intentmedia-gtm\",\"diversion_type\":\"CookieDiversion\"},\"LS-4925-Disable-Search-Desktop\":{\"experiments\":{\"LS-4925-Disable-Search-Desktop\":{\"name\":\"LS-4925-Disable-Search-Desktop\",\"tracking\":true,\"variants\":[\"Control\",\"Treatment\"],\"variant_settings\":{\"Control\":null,\"Treatment\":null},\"control\":\"Control\",\"bucket_min\":9999,\"bucket_max\":9999,\"buckets\":\"9999..9999\"}},\"bucketing_salt\":\"LS-4\n"
     ]
    }
   ],
   "source": [
    "comma_separated_file=place_delimiters(file)\n",
    "print(comma_separated_file[:5000])"
   ]
  },
  {
   "cell_type": "markdown",
   "metadata": {},
   "source": [
    "## Define a dictionary named contraction_mapping whose words when found in the privacy policy text, are removed"
   ]
  },
  {
   "cell_type": "code",
   "execution_count": 11,
   "metadata": {},
   "outputs": [
    {
     "name": "stdout",
     "output_type": "stream",
     "text": [
      "html groupon inc privacy statement get groupon appscan download groupon mobile app ios android text link insteadrecently viewedmy wishlistsellhelpsign upgroupon logocategoriesyour shopping cart empty time fill bad boy great products like gadgets electronics housewares gifts great offerings groupon goods new notificationssign get personalized notifications deals cash back special offers sign inno account yet sign upsign inmy stuffmy grouponsbuy againmy groupon dealsmy wishlistaccountredeem gift cardnot member sign upsign access grouponsemailpasswordshowremember meforgot password sign inor sign withfacebookgooglegroupon inc privacy statementeffective date august privacy notice explains groupon inc affiliates subsidiaries use information applies use websites platforms including mobile applications touch technologies electronic services social networking sites interactive features online services described online activities control terms govern use service please review service terms use using service acknowledge read terms privacy notice want information handled described privacy notice please provide information interact service may modify privacy notice time make material changes notify email means notice service prior change becoming effective determine privacy notice last revised referring effective date privacy notice organized follows types information collecthow groupon collects informationhow groupon uses informationwhen groupon discloses personal informationsecurity personal informationyour rights regarding personal informationyour choicessocial community areasprivacy practices third partiesbusiness transfers corporate changesnotice residents countries outside united states americachildren privacycontact california privacy rights countries types information collectwe may collect following categories personal information identifiers name postal addresses email addresses social networking website user account names telephone numbers addresses able receive communications demographic information age birthdate gender commercial information information enables determine lifestyle interests activities including purchasing tendencies order history areas interest information collected interactions social networks information persons purchased groupon vouchers gifts bought groupon vouchers gifts information friends refer referred location information information related state province city neighborhood agree specific location information provided gps functionality mobile devices used access service financial information information collected needed process payments groupon vouchers products services buy provided administer participation optional services programs payment card number expiration date card verification number internet network activity information information browsing behavior search history interactions websites advertisements including data cookies pixel tags web beacons inferences regarding preferences characteristics assessment types products services may interest groupon collects informationwe may collect personal information variety sources including collect information submit example use service make purchase register receive information products services available service interact ways collect information voluntarily provide may also request optional information support use service also collect information voluntarily enter postings comments forums within service send mail collect mail address full content mail including attached files information choose provide device use service may collect information devices use access service including hardware model operating system version internet protocol address unique device identifiers mobile network information information device interaction service also collect information use service including access times browser types language type data enables understand often individuals use parts service analyze improve collect information use cookies web beacons similar technologies learn automatically receive record information interact service please review cookies policy note privacy notice covers use information collected via cookies cover use information third parties location information may collect different types information location including general information city state zip code associated address agree specific location information provided gps functionality mobile devices used access service may use location information customize service including advertising presented order location information may passed along affiliates agents vendors advertisers may able disallow use certain location data device browser settings example disabling location services groupon application ios privacy settings social media networks third parties may obtain information use service third party sources vendors like web hosting providers analytics providers advertisers may give permission access information services offered third parties including social media networks information obtain third party services depends account privacy settings third parties third parties privacy policies sure check policies adjust settings meet preferences access service social media networks third party platforms authorizing groupon collect store use information content accordance privacy notice please keep mind information provided third party may also subject third party privacy policy groupon uses informationwe may use information collected described privacy notice operate maintain improve service programs features functionality related service provide interest based ads push notifications communications offers products services business partners including based precise geolocation facilitate fulfill orders example groupon vouchers goods services including tracking redemption process confirm bookings partners process payments evaluate eligibility certain types offers products services may interest analyze advertising effectiveness answer questions respond requests perform analytics conduct customer research communicate provide additional information may interest groupon business partners sometimes combining information information obtain sources send reminders technical notices updates security alerts support administrative messages service bulletins marketing messages requested information including behalf business partners administer rewards surveys sweepstakes contests promotional activities events sponsored business partners manage everyday business needs administration service forum management fulfillment analytics fraud prevention enforcement corporate reporting obligations terms use comply law allow apply job post video sign special offers merchants business partners companies verify requests made pursuant privacy notice enhance information help better understand determine interests use data described card linked deals program consented participate program also may use information collected described privacy notice consent otherwise required permitted law groupon uses geolocation including precise geolocation consistent privacy notice described section deliver location based offers products services may interest make purchases without creating password link purchases email address create secure account system create password later date able view past purchases made email address use features service send information product service another person also collect personal information person extent disclosed may contact using information provided groupon discloses informationwe may share personal information follows required comply law legal obligations comply legal orders government requests needed support auditing compliance corporate governance functions response subpoena similar legal process including law enforcement agencies regulators courts united states countries operate vendors perform variety services functions data storage order fulfillment transmitting emails managing digital content may share information vendors subject confidentiality obligations consistent privacy notice condition service providers use information behalf pursuant instructions merchants provide services request event business transition merger acquisition another company bankruptcy reorganization sale portion assets combat fraud criminal activity protect rights users business partners part legal proceedings affecting groupon affiliates subsidiaries may use personal information purposes described privacy notice information aggregated identified otherwise identify personally otherwise consent may disclose personal information following categories third parties groupon entities merchants marketers distributors resellers advertising networks payment services providers internet service providers data analytics providers operating systems platforms social networks government law enforcement entities fraud protection prevention providers delivery services providers service providerswe may disclose following categories personal information business operational purposes identifiers demographics commercial information location information financial information internet network activity information inferences regarding preferences characteristics may disclose certain personal information exchange services insights valuable consideration disclosures may involve identifiers demographics commercial information location information financial information internet network activity information inferences regarding preferences characteristics security personal informationgroupon implemented information security program contains administrative technical physical controls designed reasonably safeguard personal information example use industry standard encryption technology secure financial account information method transmission internet method electronic storage secure however therefore cannot guarantee absolute security questions security website contact privacy groupon com rights regarding personal informationyou certain rights regard personal information right know request information categories specific pieces personal information collected within last months well categories sources information collected purpose collecting information categories third parties share information also right know sold disclosed personal information business purposes right update personal information right request portable copy personal information right request groupon delete personal information subject certain exceptions allowed applicable law right opt certain disclosures personal information valuable consideration exercise right sell personal information tool right discriminated exercising listed rights may however provide different level service charge different rate reasonably relating value personal information may exercise rights groupon data privacy portal sending email privacy groupon com consumer california consumer privacy act wish contact authorized agent authorized agent submit request behalf privacy groupon com along notice signed certifying agent authorized act behalf may take reasonable steps verify identity including limited verification email prior responding requests addition rights update remove financial account information also deactivate groupon account choiceswe think benefit personalized experience know like however limit information provide groupon limit communications groupon sends particular commercial emails may choose receive commercial mails following instructions contained commercial mails send logging account adjusting email preferences please note even unsubscribe commercial email messages may still email non commercial emails related account transactions service may update subscription preferences time cookies technologies may manage browser handles cookies adjusting privacy security settings browsers different refer instructions related browser learn cookie related privacy security settings may available opt targeted certain service companies groupon served ads online using national advertising initiative opt tool digital advertising alliance ads opt tool information review cookies policy currently alter data collection use practices response track signals use internet network activity information device data directly serve interest based ads third party websites mobile applications interest based ads served directly groupon third party sites display adchoices icon prefer receive interest based ads groupon third party sites click adchoices icon direct groupon adchoices page opt receiving interest based ads served groupon groupon inc member digital advertising alliance media marketing trade association issued self regulatory guidelines online advertising visit daa adchoices page learn interest based advertising opt cookies placed serving companies device data may manage mobile device mobile browser share certain device data groupon well mobile browser handles cookies adjusting privacy security settings mobile device please refer instructions provided mobile service provider manufacturer device learn adjust settings first visit use service may request permission collect use device precise geolocation opt permit collection information permit using mobile app may limit certain functions features service control whether collect precise geolocation information device settings emails business partners wish opt receiving offers directly business partners follow opt instructions emails send social community areasthe service may accessible contain connections areas may able publicly post information communicate others discussion boards blogs review products merchants submit media content prior posting areas please read terms use carefully information post may accessible anyone internet access personal information include posting may read collected used others recommend post personal information social community areas privacy practices third partiesthis privacy notice addresses use disclosure information groupon interaction service websites may accessible links service branded websites may privacy notices personal information collection use disclosure practices business partners may also privacy notices encourage familiarize privacy notices provided parties prior providing information taking advantage sponsored offer promotion business transfers corporate changesgroupon reserves right disclose transfer license information related service including personal information subsequent owner owner operator service portion operation related part service connection corporate merger consolidation restructuring sale substantially stock assets corporate change including without limitation course due diligence process notice residents countries outside united states americathis service intended users united states canada mexico live outside united states canada information handled accordance groupon international privacy notice using service giving personal information directly transferring personal information united states agree consent collection transfer processing personal information accordance privacy notice solely responsible compliance data protection privacy obligations jurisdiction use service provide personal information regardless transfer information still protect information manner described privacy notice children privacythe service general audience site directed children age groupon actual knowledge sale information minors years age using groupon represent least eighteen years old understand must least eighteen years old order create account purchase goods services advertised service contact usplease contact questions comments privacy practices privacy notice reach online privacy groupon com reach via postal mail following address groupon inc attention privacy office west chicago avenue chicago illinois usa california privacy rights countriesif reside canada may right provided access personal information collected written information policies practices respect transfer personal information vendors outside canada mail privacy groupon com questions groupon utilizes various valid data transfer mechanisms personal information sole discretion accordance applicable data protection privacy laws continue monitor assess appropriateness valid data transfer mechanisms become available pursuant section california civil code residents california right request year shared personal information companies companies direct marketing purposes preceding calendar year request copy information disclosure provided groupon please contact privacy groupon com address stated please include shine light request correspondence please allow days response california resident age registered user site policy posted california business professions code section permits request obtain removal content information publicly posted make request please send email detailed description specific content information privacy groupon com please aware request ensure complete comprehensive removal content information posted may circumstances law require allow removal even requested groubercompanyabout grouponjobspressinvestor relationsmanagement teamin communitywork grouponjoin groupon marketplacerun groupon campaignlearn groupon merchantaffiliate programvendor code conductmorecustomer supportrefund policiesfaqcoupon codesgift cardsgift shopstudentsreport infringementgroupon sitesusausaunited kingdomfrancedeutschlanditaliaespa apolskanederlandirelanduaebelgi canadaaustraliafollow usfacebooktwitter get groupon mobile app grow business working groupon incredible deals local experiencesblack friday deals christmas gifts gifts moms harry potter gifts things kids activities nightlife restaurants spas massages hair salons travel coupons blog groupon inc rights reserved terms useprivacy statementlicensesaccessibilitydo sell personal information\n"
     ]
    }
   ],
   "source": [
    "contraction_mapping = {\"ain't\": \"is not\", \"aren't\": \"are not\",\"can't\": \"cannot\", \"'cause\": \"because\", \"could've\": \"could have\", \"couldn't\": \"could not\",\n",
    "\n",
    "                           \"didn't\": \"did not\", \"doesn't\": \"does not\", \"don't\": \"do not\", \"hadn't\": \"had not\", \"hasn't\": \"has not\", \"haven't\": \"have not\",\n",
    "\n",
    "                           \"he'd\": \"he would\",\"he'll\": \"he will\", \"he's\": \"he is\", \"how'd\": \"how did\", \"how'd'y\": \"how do you\", \"how'll\": \"how will\", \"how's\": \"how is\",\n",
    "\n",
    "                           \"I'd\": \"I would\", \"I'd've\": \"I would have\", \"I'll\": \"I will\", \"I'll've\": \"I will have\",\"I'm\": \"I am\", \"I've\": \"I have\", \"i'd\": \"i would\",\n",
    "\n",
    "                           \"i'd've\": \"i would have\", \"i'll\": \"i will\",  \"i'll've\": \"i will have\",\"i'm\": \"i am\", \"i've\": \"i have\", \"isn't\": \"is not\", \"it'd\": \"it would\",\n",
    "\n",
    "                           \"it'd've\": \"it would have\", \"it'll\": \"it will\", \"it'll've\": \"it will have\",\"it's\": \"it is\", \"let's\": \"let us\", \"ma'am\": \"madam\",\n",
    "\n",
    "                           \"mayn't\": \"may not\", \"might've\": \"might have\",\"mightn't\": \"might not\",\"mightn't've\": \"might not have\", \"must've\": \"must have\",\n",
    "\n",
    "                           \"mustn't\": \"must not\", \"mustn't've\": \"must not have\", \"needn't\": \"need not\", \"needn't've\": \"need not have\",\"o'clock\": \"of the clock\",\n",
    "\n",
    "                           \"oughtn't\": \"ought not\", \"oughtn't've\": \"ought not have\", \"shan't\": \"shall not\", \"sha'n't\": \"shall not\", \"shan't've\": \"shall not have\",\n",
    "\n",
    "                           \"she'd\": \"she would\", \"she'd've\": \"she would have\", \"she'll\": \"she will\", \"she'll've\": \"she will have\", \"she's\": \"she is\",\n",
    "\n",
    "                           \"should've\": \"should have\", \"shouldn't\": \"should not\", \"shouldn't've\": \"should not have\", \"so've\": \"so have\",\"so's\": \"so as\",\n",
    "\n",
    "                           \"this's\": \"this is\",\"that'd\": \"that would\", \"that'd've\": \"that would have\", \"that's\": \"that is\", \"there'd\": \"there would\",\n",
    "\n",
    "                           \"there'd've\": \"there would have\", \"there's\": \"there is\", \"here's\": \"here is\",\"they'd\": \"they would\", \"they'd've\": \"they would have\",\n",
    "\n",
    "                           \"they'll\": \"they will\", \"they'll've\": \"they will have\", \"they're\": \"they are\", \"they've\": \"they have\", \"to've\": \"to have\",\n",
    "\n",
    "                           \"wasn't\": \"was not\", \"we'd\": \"we would\", \"we'd've\": \"we would have\", \"we'll\": \"we will\", \"we'll've\": \"we will have\", \"we're\": \"we are\",\n",
    "\n",
    "                           \"we've\": \"we have\", \"weren't\": \"were not\", \"what'll\": \"what will\", \"what'll've\": \"what will have\", \"what're\": \"what are\",\n",
    "\n",
    "                           \"what's\": \"what is\", \"what've\": \"what have\", \"when's\": \"when is\", \"when've\": \"when have\", \"where'd\": \"where did\", \"where's\": \"where is\",\n",
    "\n",
    "                           \"where've\": \"where have\", \"who'll\": \"who will\", \"who'll've\": \"who will have\", \"who's\": \"who is\", \"who've\": \"who have\",\n",
    "\n",
    "                           \"why's\": \"why is\", \"why've\": \"why have\", \"will've\": \"will have\", \"won't\": \"will not\", \"won't've\": \"will not have\",\n",
    "\n",
    "                           \"would've\": \"would have\", \"wouldn't\": \"would not\", \"wouldn't've\": \"would not have\", \"y'all\": \"you all\",\n",
    "\n",
    "                           \"y'all'd\": \"you all would\",\"y'all'd've\": \"you all would have\",\"y'all're\": \"you all are\",\"y'all've\": \"you all have\",\n",
    "\n",
    "                           \"you'd\": \"you would\", \"you'd've\": \"you would have\", \"you'll\": \"you will\", \"you'll've\": \"you will have\",\n",
    "\n",
    "                           \"you're\": \"you are\", \"you've\": \"you have\"}\n",
    "\n",
    "clean_policy=text_cleaner(comma_separated_file)\n",
    "print(clean_policy)"
   ]
  },
  {
   "cell_type": "markdown",
   "metadata": {},
   "source": [
    "## List of words present in the privacy policy page link is extracted"
   ]
  },
  {
   "cell_type": "code",
   "execution_count": 12,
   "metadata": {},
   "outputs": [
    {
     "name": "stdout",
     "output_type": "stream",
     "text": [
      "['html', 'groupon', 'inc', 'privacy', 'statement', 'get', 'groupon', 'appscan', 'download', 'groupon', 'mobile', 'app', 'ios', 'android', 'text', 'link', 'insteadrecently', 'viewedmy', 'wishlistsellhelpsign', 'upgroupon', 'logocategoriesyour', 'shopping', 'cart', 'empty', 'time', 'fill', 'bad', 'boy', 'great', 'products', 'like', 'gadgets', 'electronics', 'housewares', 'gifts', 'great', 'offerings', 'groupon', 'goods', 'new', 'notificationssign', 'get', 'personalized', 'notifications', 'deals', 'cash', 'back', 'special', 'offers', 'sign', 'inno', 'account', 'yet', 'sign', 'upsign', 'inmy', 'stuffmy', 'grouponsbuy', 'againmy', 'groupon', 'dealsmy', 'wishlistaccountredeem', 'gift', 'cardnot', 'member', 'sign', 'upsign', 'access', 'grouponsemailpasswordshowremember', 'meforgot', 'password', 'sign', 'inor', 'sign', 'withfacebookgooglegroupon', 'inc', 'privacy', 'statementeffective', 'date', 'august', 'privacy', 'notice', 'explains', 'groupon', 'inc', 'affiliates', 'subsidiaries', 'use', 'information', 'applies', 'use', 'websites', 'platforms', 'including', 'mobile', 'applications', 'touch', 'technologies', 'electronic', 'services', 'social', 'networking', 'sites', 'interactive', 'features', 'online', 'services', 'described', 'online', 'activities', 'control', 'terms', 'govern', 'use', 'service', 'please', 'review', 'service', 'terms', 'use', 'using', 'service', 'acknowledge', 'read', 'terms', 'privacy', 'notice', 'want', 'information', 'handled', 'described', 'privacy', 'notice', 'please', 'provide', 'information', 'interact', 'service', 'may', 'modify', 'privacy', 'notice', 'time', 'make', 'material', 'changes', 'notify', 'email', 'means', 'notice', 'service', 'prior', 'change', 'becoming', 'effective', 'determine', 'privacy', 'notice', 'last', 'revised', 'referring', 'effective', 'date', 'privacy', 'notice', 'organized', 'follows', 'types', 'information', 'collecthow', 'groupon', 'collects', 'informationhow', 'groupon', 'uses', 'informationwhen', 'groupon', 'discloses', 'personal', 'informationsecurity', 'personal', 'informationyour', 'rights', 'regarding', 'personal', 'informationyour', 'choicessocial', 'community', 'areasprivacy', 'practices', 'third', 'partiesbusiness', 'transfers', 'corporate', 'changesnotice', 'residents', 'countries', 'outside', 'united', 'states', 'americachildren', 'privacycontact', 'california', 'privacy', 'rights', 'countries', 'types', 'information', 'collectwe', 'may', 'collect', 'following', 'categories', 'personal', 'information', 'identifiers', 'name', 'postal', 'addresses', 'email', 'addresses', 'social', 'networking', 'website', 'user', 'account', 'names', 'telephone', 'numbers', 'addresses', 'able', 'receive', 'communications', 'demographic', 'information', 'age', 'birthdate', 'gender', 'commercial', 'information', 'information', 'enables', 'determine', 'lifestyle', 'interests', 'activities', 'including', 'purchasing', 'tendencies', 'order', 'history', 'areas', 'interest', 'information', 'collected', 'interactions', 'social', 'networks', 'information', 'persons', 'purchased', 'groupon', 'vouchers', 'gifts', 'bought', 'groupon', 'vouchers', 'gifts', 'information', 'friends', 'refer', 'referred', 'location', 'information', 'information', 'related', 'state', 'province', 'city', 'neighborhood', 'agree', 'specific', 'location', 'information', 'provided', 'gps', 'functionality', 'mobile', 'devices', 'used', 'access', 'service', 'financial', 'information', 'information', 'collected', 'needed', 'process', 'payments', 'groupon', 'vouchers', 'products', 'services', 'buy', 'provided', 'administer', 'participation', 'optional', 'services', 'programs', 'payment', 'card', 'number', 'expiration', 'date', 'card', 'verification', 'number', 'internet', 'network', 'activity', 'information', 'information', 'browsing', 'behavior', 'search', 'history', 'interactions', 'websites', 'advertisements', 'including', 'data', 'cookies', 'pixel', 'tags', 'web', 'beacons', 'inferences', 'regarding', 'preferences', 'characteristics', 'assessment', 'types', 'products', 'services', 'may', 'interest', 'groupon', 'collects', 'informationwe', 'may', 'collect', 'personal', 'information', 'variety', 'sources', 'including', 'collect', 'information', 'submit', 'example', 'use', 'service', 'make', 'purchase', 'register', 'receive', 'information', 'products', 'services', 'available', 'service', 'interact', 'ways', 'collect', 'information', 'voluntarily', 'provide', 'may', 'also', 'request', 'optional', 'information', 'support', 'use', 'service', 'also', 'collect', 'information', 'voluntarily', 'enter', 'postings', 'comments', 'forums', 'within', 'service', 'send', 'mail', 'collect', 'mail', 'address', 'full', 'content', 'mail', 'including', 'attached', 'files', 'information', 'choose', 'provide', 'device', 'use', 'service', 'may', 'collect', 'information', 'devices', 'use', 'access', 'service', 'including', 'hardware', 'model', 'operating', 'system', 'version', 'internet', 'protocol', 'address', 'unique', 'device', 'identifiers', 'mobile', 'network', 'information', 'information', 'device', 'interaction', 'service', 'also', 'collect', 'information', 'use', 'service', 'including', 'access', 'times', 'browser', 'types', 'language', 'type', 'data', 'enables', 'understand', 'often', 'individuals', 'use', 'parts', 'service', 'analyze', 'improve', 'collect', 'information', 'use', 'cookies', 'web', 'beacons', 'similar', 'technologies', 'learn', 'automatically', 'receive', 'record', 'information', 'interact', 'service', 'please', 'review', 'cookies', 'policy', 'note', 'privacy', 'notice', 'covers', 'use', 'information', 'collected', 'via', 'cookies', 'cover', 'use', 'information', 'third', 'parties', 'location', 'information', 'may', 'collect', 'different', 'types', 'information', 'location', 'including', 'general', 'information', 'city', 'state', 'zip', 'code', 'associated', 'address', 'agree', 'specific', 'location', 'information', 'provided', 'gps', 'functionality', 'mobile', 'devices', 'used', 'access', 'service', 'may', 'use', 'location', 'information', 'customize', 'service', 'including', 'advertising', 'presented', 'order', 'location', 'information', 'may', 'passed', 'along', 'affiliates', 'agents', 'vendors', 'advertisers', 'may', 'able', 'disallow', 'use', 'certain', 'location', 'data', 'device', 'browser', 'settings', 'example', 'disabling', 'location', 'services', 'groupon', 'application', 'ios', 'privacy', 'settings', 'social', 'media', 'networks', 'third', 'parties', 'may', 'obtain', 'information', 'use', 'service', 'third', 'party', 'sources', 'vendors', 'like', 'web', 'hosting', 'providers', 'analytics', 'providers', 'advertisers', 'may', 'give', 'permission', 'access', 'information', 'services', 'offered', 'third', 'parties', 'including', 'social', 'media', 'networks', 'information', 'obtain', 'third', 'party', 'services', 'depends', 'account', 'privacy', 'settings', 'third', 'parties', 'third', 'parties', 'privacy', 'policies', 'sure', 'check', 'policies', 'adjust', 'settings', 'meet', 'preferences', 'access', 'service', 'social', 'media', 'networks', 'third', 'party', 'platforms', 'authorizing', 'groupon', 'collect', 'store', 'use', 'information', 'content', 'accordance', 'privacy', 'notice', 'please', 'keep', 'mind', 'information', 'provided', 'third', 'party', 'may', 'also', 'subject', 'third', 'party', 'privacy', 'policy', 'groupon', 'uses', 'informationwe', 'may', 'use', 'information', 'collected', 'described', 'privacy', 'notice', 'operate', 'maintain', 'improve', 'service', 'programs', 'features', 'functionality', 'related', 'service', 'provide', 'interest', 'based', 'ads', 'push', 'notifications', 'communications', 'offers', 'products', 'services', 'business', 'partners', 'including', 'based', 'precise', 'geolocation', 'facilitate', 'fulfill', 'orders', 'example', 'groupon', 'vouchers', 'goods', 'services', 'including', 'tracking', 'redemption', 'process', 'confirm', 'bookings', 'partners', 'process', 'payments', 'evaluate', 'eligibility', 'certain', 'types', 'offers', 'products', 'services', 'may', 'interest', 'analyze', 'advertising', 'effectiveness', 'answer', 'questions', 'respond', 'requests', 'perform', 'analytics', 'conduct', 'customer', 'research', 'communicate', 'provide', 'additional', 'information', 'may', 'interest', 'groupon', 'business', 'partners', 'sometimes', 'combining', 'information', 'information', 'obtain', 'sources', 'send', 'reminders', 'technical', 'notices', 'updates', 'security', 'alerts', 'support', 'administrative', 'messages', 'service', 'bulletins', 'marketing', 'messages', 'requested', 'information', 'including', 'behalf', 'business', 'partners', 'administer', 'rewards', 'surveys', 'sweepstakes', 'contests', 'promotional', 'activities', 'events', 'sponsored', 'business', 'partners', 'manage', 'everyday', 'business', 'needs', 'administration', 'service', 'forum', 'management', 'fulfillment', 'analytics', 'fraud', 'prevention', 'enforcement', 'corporate', 'reporting', 'obligations', 'terms', 'use', 'comply', 'law', 'allow', 'apply', 'job', 'post', 'video', 'sign', 'special', 'offers', 'merchants', 'business', 'partners', 'companies', 'verify', 'requests', 'made', 'pursuant', 'privacy', 'notice', 'enhance', 'information', 'help', 'better', 'understand', 'determine', 'interests', 'use', 'data', 'described', 'card', 'linked', 'deals', 'program', 'consented', 'participate', 'program', 'also', 'may', 'use', 'information', 'collected', 'described', 'privacy', 'notice', 'consent', 'otherwise', 'required', 'permitted', 'law', 'groupon', 'uses', 'geolocation', 'including', 'precise', 'geolocation', 'consistent', 'privacy', 'notice', 'described', 'section', 'deliver', 'location', 'based', 'offers', 'products', 'services', 'may', 'interest', 'make', 'purchases', 'without', 'creating', 'password', 'link', 'purchases', 'email', 'address', 'create', 'secure', 'account', 'system', 'create', 'password', 'later', 'date', 'able', 'view', 'past', 'purchases', 'made', 'email', 'address', 'use', 'features', 'service', 'send', 'information', 'product', 'service', 'another', 'person', 'also', 'collect', 'personal', 'information', 'person', 'extent', 'disclosed', 'may', 'contact', 'using', 'information', 'provided', 'groupon', 'discloses', 'informationwe', 'may', 'share', 'personal', 'information', 'follows', 'required', 'comply', 'law', 'legal', 'obligations', 'comply', 'legal', 'orders', 'government', 'requests', 'needed', 'support', 'auditing', 'compliance', 'corporate', 'governance', 'functions', 'response', 'subpoena', 'similar', 'legal', 'process', 'including', 'law', 'enforcement', 'agencies', 'regulators', 'courts', 'united', 'states', 'countries', 'operate', 'vendors', 'perform', 'variety', 'services', 'functions', 'data', 'storage', 'order', 'fulfillment', 'transmitting', 'emails', 'managing', 'digital', 'content', 'may', 'share', 'information', 'vendors', 'subject', 'confidentiality', 'obligations', 'consistent', 'privacy', 'notice', 'condition', 'service', 'providers', 'use', 'information', 'behalf', 'pursuant', 'instructions', 'merchants', 'provide', 'services', 'request', 'event', 'business', 'transition', 'merger', 'acquisition', 'another', 'company', 'bankruptcy', 'reorganization', 'sale', 'portion', 'assets', 'combat', 'fraud', 'criminal', 'activity', 'protect', 'rights', 'users', 'business', 'partners', 'part', 'legal', 'proceedings', 'affecting', 'groupon', 'affiliates', 'subsidiaries', 'may', 'use', 'personal', 'information', 'purposes', 'described', 'privacy', 'notice', 'information', 'aggregated', 'identified', 'otherwise', 'identify', 'personally', 'otherwise', 'consent', 'may', 'disclose', 'personal', 'information', 'following', 'categories', 'third', 'parties', 'groupon', 'entities', 'merchants', 'marketers', 'distributors', 'resellers', 'advertising', 'networks', 'payment', 'services', 'providers', 'internet', 'service', 'providers', 'data', 'analytics', 'providers', 'operating', 'systems', 'platforms', 'social', 'networks', 'government', 'law', 'enforcement', 'entities', 'fraud', 'protection', 'prevention', 'providers', 'delivery', 'services', 'providers', 'service', 'providerswe', 'may', 'disclose', 'following', 'categories', 'personal', 'information', 'business', 'operational', 'purposes', 'identifiers', 'demographics', 'commercial', 'information', 'location', 'information', 'financial', 'information', 'internet', 'network', 'activity', 'information', 'inferences', 'regarding', 'preferences', 'characteristics', 'may', 'disclose', 'certain', 'personal', 'information', 'exchange', 'services', 'insights', 'valuable', 'consideration', 'disclosures', 'may', 'involve', 'identifiers', 'demographics', 'commercial', 'information', 'location', 'information', 'financial', 'information', 'internet', 'network', 'activity', 'information', 'inferences', 'regarding', 'preferences', 'characteristics', 'security', 'personal', 'informationgroupon', 'implemented', 'information', 'security', 'program', 'contains', 'administrative', 'technical', 'physical', 'controls', 'designed', 'reasonably', 'safeguard', 'personal', 'information', 'example', 'use', 'industry', 'standard', 'encryption', 'technology', 'secure', 'financial', 'account', 'information', 'method', 'transmission', 'internet', 'method', 'electronic', 'storage', 'secure', 'however', 'therefore', 'cannot', 'guarantee', 'absolute', 'security', 'questions', 'security', 'website', 'contact', 'privacy', 'groupon', 'com', 'rights', 'regarding', 'personal', 'informationyou', 'certain', 'rights', 'regard', 'personal', 'information', 'right', 'know', 'request', 'information', 'categories', 'specific', 'pieces', 'personal', 'information', 'collected', 'within', 'last', 'months', 'well', 'categories', 'sources', 'information', 'collected', 'purpose', 'collecting', 'information', 'categories', 'third', 'parties', 'share', 'information', 'also', 'right', 'know', 'sold', 'disclosed', 'personal', 'information', 'business', 'purposes', 'right', 'update', 'personal', 'information', 'right', 'request', 'portable', 'copy', 'personal', 'information', 'right', 'request', 'groupon', 'delete', 'personal', 'information', 'subject', 'certain', 'exceptions', 'allowed', 'applicable', 'law', 'right', 'opt', 'certain', 'disclosures', 'personal', 'information', 'valuable', 'consideration', 'exercise', 'right', 'sell', 'personal', 'information', 'tool', 'right', 'discriminated', 'exercising', 'listed', 'rights', 'may', 'however', 'provide', 'different', 'level', 'service', 'charge', 'different', 'rate', 'reasonably', 'relating', 'value', 'personal', 'information', 'may', 'exercise', 'rights', 'groupon', 'data', 'privacy', 'portal', 'sending', 'email', 'privacy', 'groupon', 'com', 'consumer', 'california', 'consumer', 'privacy', 'act', 'wish', 'contact', 'authorized', 'agent', 'authorized', 'agent', 'submit', 'request', 'behalf', 'privacy', 'groupon', 'com', 'along', 'notice', 'signed', 'certifying', 'agent', 'authorized', 'act', 'behalf', 'may', 'take', 'reasonable', 'steps', 'verify', 'identity', 'including', 'limited', 'verification', 'email', 'prior', 'responding', 'requests', 'addition', 'rights', 'update', 'remove', 'financial', 'account', 'information', 'also', 'deactivate', 'groupon', 'account', 'choiceswe', 'think', 'benefit', 'personalized', 'experience', 'know', 'like', 'however', 'limit', 'information', 'provide', 'groupon', 'limit', 'communications', 'groupon', 'sends', 'particular', 'commercial', 'emails', 'may', 'choose', 'receive', 'commercial', 'mails', 'following', 'instructions', 'contained', 'commercial', 'mails', 'send', 'logging', 'account', 'adjusting', 'email', 'preferences', 'please', 'note', 'even', 'unsubscribe', 'commercial', 'email', 'messages', 'may', 'still', 'email', 'non', 'commercial', 'emails', 'related', 'account', 'transactions', 'service', 'may', 'update', 'subscription', 'preferences', 'time', 'cookies', 'technologies', 'may', 'manage', 'browser', 'handles', 'cookies', 'adjusting', 'privacy', 'security', 'settings', 'browsers', 'different', 'refer', 'instructions', 'related', 'browser', 'learn', 'cookie', 'related', 'privacy', 'security', 'settings', 'may', 'available', 'opt', 'targeted', 'certain', 'service', 'companies', 'groupon', 'served', 'ads', 'online', 'using', 'national', 'advertising', 'initiative', 'opt', 'tool', 'digital', 'advertising', 'alliance', 'ads', 'opt', 'tool', 'information', 'review', 'cookies', 'policy', 'currently', 'alter', 'data', 'collection', 'use', 'practices', 'response', 'track', 'signals', 'use', 'internet', 'network', 'activity', 'information', 'device', 'data', 'directly', 'serve', 'interest', 'based', 'ads', 'third', 'party', 'websites', 'mobile', 'applications', 'interest', 'based', 'ads', 'served', 'directly', 'groupon', 'third', 'party', 'sites', 'display', 'adchoices', 'icon', 'prefer', 'receive', 'interest', 'based', 'ads', 'groupon', 'third', 'party', 'sites', 'click', 'adchoices', 'icon', 'direct', 'groupon', 'adchoices', 'page', 'opt', 'receiving', 'interest', 'based', 'ads', 'served', 'groupon', 'groupon', 'inc', 'member', 'digital', 'advertising', 'alliance', 'media', 'marketing', 'trade', 'association', 'issued', 'self', 'regulatory', 'guidelines', 'online', 'advertising', 'visit', 'daa', 'adchoices', 'page', 'learn', 'interest', 'based', 'advertising', 'opt', 'cookies', 'placed', 'serving', 'companies', 'device', 'data', 'may', 'manage', 'mobile', 'device', 'mobile', 'browser', 'share', 'certain', 'device', 'data', 'groupon', 'well', 'mobile', 'browser', 'handles', 'cookies', 'adjusting', 'privacy', 'security', 'settings', 'mobile', 'device', 'please', 'refer', 'instructions', 'provided', 'mobile', 'service', 'provider', 'manufacturer', 'device', 'learn', 'adjust', 'settings', 'first', 'visit', 'use', 'service', 'may', 'request', 'permission', 'collect', 'use', 'device', 'precise', 'geolocation', 'opt', 'permit', 'collection', 'information', 'permit', 'using', 'mobile', 'app', 'may', 'limit', 'certain', 'functions', 'features', 'service', 'control', 'whether', 'collect', 'precise', 'geolocation', 'information', 'device', 'settings', 'emails', 'business', 'partners', 'wish', 'opt', 'receiving', 'offers', 'directly', 'business', 'partners', 'follow', 'opt', 'instructions', 'emails', 'send', 'social', 'community', 'areasthe', 'service', 'may', 'accessible', 'contain', 'connections', 'areas', 'may', 'able', 'publicly', 'post', 'information', 'communicate', 'others', 'discussion', 'boards', 'blogs', 'review', 'products', 'merchants', 'submit', 'media', 'content', 'prior', 'posting', 'areas', 'please', 'read', 'terms', 'use', 'carefully', 'information', 'post', 'may', 'accessible', 'anyone', 'internet', 'access', 'personal', 'information', 'include', 'posting', 'may', 'read', 'collected', 'used', 'others', 'recommend', 'post', 'personal', 'information', 'social', 'community', 'areas', 'privacy', 'practices', 'third', 'partiesthis', 'privacy', 'notice', 'addresses', 'use', 'disclosure', 'information', 'groupon', 'interaction', 'service', 'websites', 'may', 'accessible', 'links', 'service', 'branded', 'websites', 'may', 'privacy', 'notices', 'personal', 'information', 'collection', 'use', 'disclosure', 'practices', 'business', 'partners', 'may', 'also', 'privacy', 'notices', 'encourage', 'familiarize', 'privacy', 'notices', 'provided', 'parties', 'prior', 'providing', 'information', 'taking', 'advantage', 'sponsored', 'offer', 'promotion', 'business', 'transfers', 'corporate', 'changesgroupon', 'reserves', 'right', 'disclose', 'transfer', 'license', 'information', 'related', 'service', 'including', 'personal', 'information', 'subsequent', 'owner', 'owner', 'operator', 'service', 'portion', 'operation', 'related', 'part', 'service', 'connection', 'corporate', 'merger', 'consolidation', 'restructuring', 'sale', 'substantially', 'stock', 'assets', 'corporate', 'change', 'including', 'without', 'limitation', 'course', 'due', 'diligence', 'process', 'notice', 'residents', 'countries', 'outside', 'united', 'states', 'americathis', 'service', 'intended', 'users', 'united', 'states', 'canada', 'mexico', 'live', 'outside', 'united', 'states', 'canada', 'information', 'handled', 'accordance', 'groupon', 'international', 'privacy', 'notice', 'using', 'service', 'giving', 'personal', 'information', 'directly', 'transferring', 'personal', 'information', 'united', 'states', 'agree', 'consent', 'collection', 'transfer', 'processing', 'personal', 'information', 'accordance', 'privacy', 'notice', 'solely', 'responsible', 'compliance', 'data', 'protection', 'privacy', 'obligations', 'jurisdiction', 'use', 'service', 'provide', 'personal', 'information', 'regardless', 'transfer', 'information', 'still', 'protect', 'information', 'manner', 'described', 'privacy', 'notice', 'children', 'privacythe', 'service', 'general', 'audience', 'site', 'directed', 'children', 'age', 'groupon', 'actual', 'knowledge', 'sale', 'information', 'minors', 'years', 'age', 'using', 'groupon', 'represent', 'least', 'eighteen', 'years', 'old', 'understand', 'must', 'least', 'eighteen', 'years', 'old', 'order', 'create', 'account', 'purchase', 'goods', 'services', 'advertised', 'service', 'contact', 'usplease', 'contact', 'questions', 'comments', 'privacy', 'practices', 'privacy', 'notice', 'reach', 'online', 'privacy', 'groupon', 'com', 'reach', 'via', 'postal', 'mail', 'following', 'address', 'groupon', 'inc', 'attention', 'privacy', 'office', 'west', 'chicago', 'avenue', 'chicago', 'illinois', 'usa', 'california', 'privacy', 'rights', 'countriesif', 'reside', 'canada', 'may', 'right', 'provided', 'access', 'personal', 'information', 'collected', 'written', 'information', 'policies', 'practices', 'respect', 'transfer', 'personal', 'information', 'vendors', 'outside', 'canada', 'mail', 'privacy', 'groupon', 'com', 'questions', 'groupon', 'utilizes', 'various', 'valid', 'data', 'transfer', 'mechanisms', 'personal', 'information', 'sole', 'discretion', 'accordance', 'applicable', 'data', 'protection', 'privacy', 'laws', 'continue', 'monitor', 'assess', 'appropriateness', 'valid', 'data', 'transfer', 'mechanisms', 'become', 'available', 'pursuant', 'section', 'california', 'civil', 'code', 'residents', 'california', 'right', 'request', 'year', 'shared', 'personal', 'information', 'companies', 'companies', 'direct', 'marketing', 'purposes', 'preceding', 'calendar', 'year', 'request', 'copy', 'information', 'disclosure', 'provided', 'groupon', 'please', 'contact', 'privacy', 'groupon', 'com', 'address', 'stated', 'please', 'include', 'shine', 'light', 'request', 'correspondence', 'please', 'allow', 'days', 'response', 'california', 'resident', 'age', 'registered', 'user', 'site', 'policy', 'posted', 'california', 'business', 'professions', 'code', 'section', 'permits', 'request', 'obtain', 'removal', 'content', 'information', 'publicly', 'posted', 'make', 'request', 'please', 'send', 'email', 'detailed', 'description', 'specific', 'content', 'information', 'privacy', 'groupon', 'com', 'please', 'aware', 'request', 'ensure', 'complete', 'comprehensive', 'removal', 'content', 'information', 'posted', 'may', 'circumstances', 'law', 'require', 'allow', 'removal', 'even', 'requested', 'groubercompanyabout', 'grouponjobspressinvestor', 'relationsmanagement', 'teamin', 'communitywork', 'grouponjoin', 'groupon', 'marketplacerun', 'groupon', 'campaignlearn', 'groupon', 'merchantaffiliate', 'programvendor', 'code', 'conductmorecustomer', 'supportrefund', 'policiesfaqcoupon', 'codesgift', 'cardsgift', 'shopstudentsreport', 'infringementgroupon', 'sitesusausaunited', 'kingdomfrancedeutschlanditaliaespa', 'apolskanederlandirelanduaebelgi', 'canadaaustraliafollow', 'usfacebooktwitter', 'get', 'groupon', 'mobile', 'app', 'grow', 'business', 'working', 'groupon', 'incredible', 'deals', 'local', 'experiencesblack', 'friday', 'deals', 'christmas', 'gifts', 'gifts', 'moms', 'harry', 'potter', 'gifts', 'things', 'kids', 'activities', 'nightlife', 'restaurants', 'spas', 'massages', 'hair', 'salons', 'travel', 'coupons', 'blog', 'groupon', 'inc', 'rights', 'reserved', 'terms', 'useprivacy', 'statementlicensesaccessibilitydo', 'sell', 'personal', 'information']\n"
     ]
    }
   ],
   "source": [
    "word_list_1=extract_words(clean_policy)\n",
    "print(word_list_1)"
   ]
  },
  {
   "cell_type": "markdown",
   "metadata": {},
   "source": [
    "## Taking the next privacy policy website link and doing the same procedure"
   ]
  },
  {
   "cell_type": "code",
   "execution_count": 13,
   "metadata": {},
   "outputs": [
    {
     "name": "stdout",
     "output_type": "stream",
     "text": [
      "<HTML>\r\n",
      "<HEAD>\r\n",
      "<META HTTP-EQUIV=expires CONTENT=60>\r\n",
      "<META NAME=DESCRIPTION CONTENT=\"Rediff Shopping: India's No. 1 online shopping and gifting store. A part of Rediff.com India's largest news and entertainment service online.\">\r\n",
      "<META NAME=KEYWORDS CONTENT=\"rediff.com, shopping, shop, India, US, gift, gifting, marketplace, books, music, festivals, Indian, occasions, brands, online, site, internet discounts, offers, home, send, products, items, exclusive, services, range\">\r\n",
      "<SCRIPT LANGUAGE=JavaScript src=/shopping/cart.js>\r\n",
      "</SCRIPT>\r\n",
      "<style type=\"text/css\">\r\n",
      ".sb1 {FONT-SIZE: 11px; COLOR: #ffffff; FONT-FAMILY: arial; TEXT-DECORATION: none}\r\n",
      ".sb2 {FONT-SIZE: 12px; FONT-FAMILY: arial; TEXT-DECORATION: none}\r\n",
      ".sb3 {FONT-SIZE: 16px; FONT-FAMILY: arial; TEXT-DECORATION: none}\r\n",
      ".sb11 {FONT-FAMILY: arial; FONT-SIZE: 11px;}\r\n",
      "A.tab3 {FONT-SIZE: 11px; COLOR: #ffffff; FONT-FAMILY: arial; TEXT-DECORATION: none}\r\n",
      "</style>\r\n",
      "<title>rediff.com: Shopping Terms and Conditions</title>\r\n",
      "</HEAD>\r\n",
      "<BODY BGCOLOR=\"#FFFFFF\" TEXT=\"#000000\" LINK=\"#0066FF\" ALINK=\"#003399\" VLINK=\"#990066\">\r\n",
      "<!-- TOP  NAVIGATION STARTS -->\r\n",
      "<!--TOP NAVI ENDS -->\r\n",
      "<TABLE WIDTH=500 CELLSPACING=1 CELLPADDING=2 BORDER=0>\r\n",
      "<TR>\r\n",
      "\r\n",
      "<TD bgColor=#eee8d8><FONT color=#ffc460 face=ARIAL size=2>\r\n",
      "<P><B><FONT color=#000000 size=+1>&nbsp;Privacy Policy</FONT></B>\r\n",
      "</P></FONT></TD></TR>\r\n",
      "\r\n",
      "\r\n",
      "</TABLE>\r\n",
      "<TABLE WIDTH=500 CELLSPACING=0 CELLPADDING=0 BORDER=0>\r\n",
      "<TR>\r\n",
      "<TD WIDTH=10></TD>\r\n",
      "<TD WIDTH=770>\r\n",
      "<FONT CLASS=sb2>\r\n",
      "Rediff.com India Limited and its subsidiaries and affiliates (\"Rediff.com\") respects your privacy. This Privacy Policy provides succinctly the manner your data is collected and used by Rediff.com. You are advised to please read the Privacy Policy carefully. By accessing the services provided by Rediff.com you agree to the collection and use of your data by Rediff.com in the manner provided in this Privacy Policy.\r\n",
      "<BR><BR>\r\n",
      "<b>We want you to</b>\r\n",
      "<ul>\r\n",
      "\r\n",
      "<li>feel comfortable using our web sites\r\n",
      "<li>feel secure submitting information to us\r\n",
      "<li>contact us with your questions or concerns about privacy on this site\r\n",
      "<li>know that by using our sites you are consenting to the collection of certain data\r\n",
      "</ul>\r\n",
      "<b>WHAT INFORMATION IS, OR MAY BE, COLLECTED FROM YOU?</b>\r\n",
      "<br><br>\r\n",
      "We will automatically receive and collect certain anonymous information in standard usage logs through our Web server, including computer-identification information obtained from \"cookies,\" sent to your browser from a\r\n",
      "<ul>\r\n",
      "<li>web server cookie stored on your hard drive\r\n",
      "<li>an IP address, assigned to the computer which you use\r\n",
      "<li>the domain server through which you access our service\r\n",
      "<li>the type of computer you're using\r\n",
      "<li>the type of web browser you're using\r\n",
      "</ul>\r\n",
      "We may collect the following personally identifiable information about you:\r\n",
      "\r\n",
      "<ul>\r\n",
      "<li>name including first and last name\r\n",
      "<li>alternate email address\r\n",
      "<li>mobile phone number and contact details\r\n",
      "<li>ZIP/Postal code\r\n",
      "<li>demographic profile (like your age, gender, occupation, education, address and durables owned);\r\n",
      "<li>preferences and interests (such as news, sports, travel and so on);\r\n",
      "<li>financial information (like account or credit card numbers); and\r\n",
      "<li>opinions of features on our websites.\r\n",
      "</ul>\r\n",
      "We may also collect the following information:\r\n",
      "<ul>\r\n",
      "<li>about the pages you visit/access\r\n",
      "<li>the links you click on our site\r\n",
      "<li>the number of times you access the page\r\n",
      "</ul>\r\n",
      "You can terminate your account at any time. However, your information may remain stored in archive on our servers even after the deletion or the termination of your account.\r\n",
      "\r\n",
      "<br><br>\r\n",
      "<b>WHO COLLECTS THE INFORMATION?</b>\r\n",
      "<br><br>\r\n",
      "We will collect anonymous traffic information from you when you visit our site\r\n",
      "<br><br>\r\n",
      "We will collect personally identifiable information about you only as part of a voluntary registration process, on-line survey, or contest or any combination thereof.\r\n",
      "<br><br>\r\n",
      "Our advertisers may collect anonymous traffic information from their own assigned cookies to your browser.\r\n",
      "<br><br>\r\n",
      "The Site contains links to other Web sites. We are not responsible for the privacy practices of such Web sites which we do not own, manage or control.\r\n",
      "<br><br>\r\n",
      "We make chat rooms, forums, instant messenger and message boards and other services available to you. Please understand that any information that is disclosed in these areas becomes public information. We have no control over its use and you should exercise caution when disclosing your personal information to anyone.\r\n",
      "<br><br>\r\n",
      "<b>HOW IS THE INFORMATION USED?</b>\r\n",
      "<br><br>\r\n",
      "\r\n",
      "We use your personal information to:\r\n",
      "<ul>\r\n",
      "<li>help us provide personalized features\r\n",
      "<li>tailor our sites to your interest\r\n",
      "<li>to get in touch with you when necessary\r\n",
      "<li>to provide the services requested by you\r\n",
      "<li>to preserve social history as governed by existing law or policy\r\n",
      "</ul>\r\n",
      "We use contact information internally to:\r\n",
      "<ul>\r\n",
      "<li>direct our efforts for product improvement\r\n",
      "<li>\n"
     ]
    }
   ],
   "source": [
    "file=extract_content(\"http://imshopping.rediff.com/shopping/shp_PrivacyPolicy.htm\")\n",
    "print(file[:5000])"
   ]
  },
  {
   "cell_type": "code",
   "execution_count": 14,
   "metadata": {
    "scrolled": true
   },
   "outputs": [
    {
     "name": "stdout",
     "output_type": "stream",
     "text": [
      "<HTML>\r\n",
      "<HEAD>\r\n",
      "<META,HTTP-EQUIV=expires,CONTENT=60>\r\n",
      "<META,NAME=DESCRIPTION,CONTENT=\"Rediff,Shopping:,India's,No.,1,online,shopping,and,gifting,store.,A,part,of,Rediff.com,India's,largest,news,and,entertainment,service,online.\">\r\n",
      "<META,NAME=KEYWORDS,CONTENT=\"rediff.com,,shopping,,shop,,India,,US,,gift,,gifting,,marketplace,,books,,music,,festivals,,Indian,,occasions,,brands,,online,,site,,internet,discounts,,offers,,home,,send,,products,,items,,exclusive,,services,,range\">\r\n",
      "<SCRIPT,LANGUAGE=JavaScript,src=/shopping/cart.js>\r\n",
      "</SCRIPT>\r\n",
      "<style,type=\"text/css\">\r\n",
      ".sb1,{FONT-SIZE:,11px;,COLOR:,#ffffff;,FONT-FAMILY:,arial;,TEXT-DECORATION:,none}\r\n",
      ".sb2,{FONT-SIZE:,12px;,FONT-FAMILY:,arial;,TEXT-DECORATION:,none}\r\n",
      ".sb3,{FONT-SIZE:,16px;,FONT-FAMILY:,arial;,TEXT-DECORATION:,none}\r\n",
      ".sb11,{FONT-FAMILY:,arial;,FONT-SIZE:,11px;}\r\n",
      "A.tab3,{FONT-SIZE:,11px;,COLOR:,#ffffff;,FONT-FAMILY:,arial;,TEXT-DECORATION:,none}\r\n",
      "</style>\r\n",
      "<title>rediff.com:,Shopping,Terms,and,Conditions</title>\r\n",
      "</HEAD>\r\n",
      "<BODY,BGCOLOR=\"#FFFFFF\",TEXT=\"#000000\",LINK=\"#0066FF\",ALINK=\"#003399\",VLINK=\"#990066\">\r\n",
      "<!--,TOP,,NAVIGATION,STARTS,-->\r\n",
      "<!--TOP,NAVI,ENDS,-->\r\n",
      "<TABLE,WIDTH=500,CELLSPACING=1,CELLPADDING=2,BORDER=0>\r\n",
      "<TR>\r\n",
      "\r\n",
      "<TD,bgColor=#eee8d8><FONT,color=#ffc460,face=ARIAL,size=2>\r\n",
      "<P><B><FONT,color=#000000,size=+1>&nbsp;Privacy,Policy</FONT></B>\r\n",
      "</P></FONT></TD></TR>\r\n",
      "\r\n",
      "\r\n",
      "</TABLE>\r\n",
      "<TABLE,WIDTH=500,CELLSPACING=0,CELLPADDING=0,BORDER=0>\r\n",
      "<TR>\r\n",
      "<TD,WIDTH=10></TD>\r\n",
      "<TD,WIDTH=770>\r\n",
      "<FONT,CLASS=sb2>\r\n",
      "Rediff.com,India,Limited,and,its,subsidiaries,and,affiliates,(\"Rediff.com\"),respects,your,privacy.,This,Privacy,Policy,provides,succinctly,the,manner,your,data,is,collected,and,used,by,Rediff.com.,You,are,advised,to,please,read,the,Privacy,Policy,carefully.,By,accessing,the,services,provided,by,Rediff.com,you,agree,to,the,collection,and,use,of,your,data,by,Rediff.com,in,the,manner,provided,in,this,Privacy,Policy.\r\n",
      "<BR><BR>\r\n",
      "<b>We,want,you,to</b>\r\n",
      "<ul>\r\n",
      "\r\n",
      "<li>feel,comfortable,using,our,web,sites\r\n",
      "<li>feel,secure,submitting,information,to,us\r\n",
      "<li>contact,us,with,your,questions,or,concerns,about,privacy,on,this,site\r\n",
      "<li>know,that,by,using,our,sites,you,are,consenting,to,the,collection,of,certain,data\r\n",
      "</ul>\r\n",
      "<b>WHAT,INFORMATION,IS,,OR,MAY,BE,,COLLECTED,FROM,YOU?</b>\r\n",
      "<br><br>\r\n",
      "We,will,automatically,receive,and,collect,certain,anonymous,information,in,standard,usage,logs,through,our,Web,server,,including,computer-identification,information,obtained,from,\"cookies,\",sent,to,your,browser,from,a\r\n",
      "<ul>\r\n",
      "<li>web,server,cookie,stored,on,your,hard,drive\r\n",
      "<li>an,IP,address,,assigned,to,the,computer,which,you,use\r\n",
      "<li>the,domain,server,through,which,you,access,our,service\r\n",
      "<li>the,type,of,computer,you're,using\r\n",
      "<li>the,type,of,web,browser,you're,using\r\n",
      "</ul>\r\n",
      "We,may,collect,the,following,personally,identifiable,information,about,you:\r\n",
      "\r\n",
      "<ul>\r\n",
      "<li>name,including,first,and,last,name\r\n",
      "<li>alternate,email,address\r\n",
      "<li>mobile,phone,number,and,contact,details\r\n",
      "<li>ZIP/Postal,code\r\n",
      "<li>demographic,profile,(like,your,age,,gender,,occupation,,education,,address,and,durables,owned);\r\n",
      "<li>preferences,and,interests,(such,as,news,,sports,,travel,and,so,on);\r\n",
      "<li>financial,information,(like,account,or,credit,card,numbers);,and\r\n",
      "<li>opinions,of,features,on,our,websites.\r\n",
      "</ul>\r\n",
      "We,may,also,collect,the,following,information:\r\n",
      "<ul>\r\n",
      "<li>about,the,pages,you,visit/access\r\n",
      "<li>the,links,you,click,on,our,site\r\n",
      "<li>the,number,of,times,you,access,the,page\r\n",
      "</ul>\r\n",
      "You,can,terminate,your,account,at,any,time.,However,,your,information,may,remain,stored,in,archive,on,our,servers,even,after,the,deletion,or,the,termination,of,your,account.\r\n",
      "\r\n",
      "<br><br>\r\n",
      "<b>WHO,COLLECTS,THE,INFORMATION?</b>\r\n",
      "<br><br>\r\n",
      "We,will,collect,anonymous,traffic,information,from,you,when,you,visit,our,site\r\n",
      "<br><br>\r\n",
      "We,will,collect,personally,identifiable,information,about,you,only,as,part,of,a,voluntary,registration,process,,on-line,survey,,or,contest,or,any,combination,thereof.\r\n",
      "<br><br>\r\n",
      "Our,advertisers,may,collect,anonymous,traffic,information,from,their,own,assigned,cookies,to,your,browser.\r\n",
      "<br><br>\r\n",
      "The,Site,contains,links,to,other,Web,sites.,We,are,not,responsible,for,the,privacy,practices,of,such,Web,sites,which,we,do,not,own,,manage,or,control.\r\n",
      "<br><br>\r\n",
      "We,make,chat,rooms,,forums,,instant,messenger,and,message,boards,and,other,services,available,to,you.,Please,understand,that,any,information,that,is,disclosed,in,these,areas,becomes,public,information.,We,have,no,control,over,its,use,and,you,should,exercise,caution,when,disclosing,your,personal,information,to,anyone.\r\n",
      "<br><br>\r\n",
      "<b>HOW,IS,THE,INFORMATION,USED?</b>\r\n",
      "<br><br>\r\n",
      "\r\n",
      "We,use,your,personal,information,to:\r\n",
      "<ul>\r\n",
      "<li>help,us,provide,personalized,features\r\n",
      "<li>tailor,our,sites,to,your,interest\r\n",
      "<li>to,get,in,touch,with,you,when,necessary\r\n",
      "<li>to,provide,the,services,requested,by,you\r\n",
      "<li>to,preserve,social,history,as,governed,by,existing,law,or,policy\r\n",
      "</ul>\r\n",
      "We,use,contact,information,internally,to:\r\n",
      "<ul>\r\n",
      "<li>direct,our,efforts,for,product,improvement\r\n",
      "<li>\n"
     ]
    }
   ],
   "source": [
    "comma_separated_file=place_delimiters(file)\n",
    "print(comma_separated_file[:5000])"
   ]
  },
  {
   "cell_type": "code",
   "execution_count": 15,
   "metadata": {
    "scrolled": true
   },
   "outputs": [
    {
     "name": "stdout",
     "output_type": "stream",
     "text": [
      "rediff com shopping terms conditions privacy policy rediff com india limited subsidiaries affiliates respects privacy privacy policy provides succinctly manner data collected used rediff com advised please read privacy policy carefully accessing services provided rediff com agree collection use data rediff com manner provided privacy policy want feel comfortable using web sites feel secure submitting information contact questions concerns privacy site know using sites consenting collection certain data information may collected automatically receive collect certain anonymous information standard usage logs web server including computer identification information obtained cookies sent browser web server cookie stored hard drive address assigned computer use domain server access service type computer using type web browser using may collect following personally identifiable information name including first last name alternate email address mobile phone number contact details zip postal code demographic profile preferences interests financial information opinions features websites may also collect following information pages visit access links click site number times access page terminate account time however information may remain stored archive servers even deletion termination account collects information collect anonymous traffic information visit site collect personally identifiable information part voluntary registration process line survey contest combination thereof advertisers may collect anonymous traffic information assigned cookies browser site contains links web sites responsible privacy practices web sites manage control make chat rooms forums instant messenger message boards services available please understand information disclosed areas becomes public information control use exercise caution disclosing personal information anyone information used use personal information help provide personalized features tailor sites interest get touch necessary provide services requested preserve social history governed existing law policy use contact information internally direct efforts product improvement contact survey respondent notify win contest send promotional materials contest sponsors advertisers generally use anonymous traffic information remind order deliver better personalized service advertising editorial perspective recognize access privileges web sites track entries promotions sweepstakes contests indicate player progress promotion track entries submissions status prize drawings make sure see repeatedly help diagnose problems server administer web sites track session understand better people use sites information shared use financial information purpose complete transaction rent sell share personal information disclose personally identifiable information third parties unless permission provide products services requested help investigate prevent take action regarding unlawful illegal activities suspected fraud potential threat safety security person violations rediff com terms use defend legal claims special circumstances compliance subpoenas court orders requests order legal authorities law enforcement agencies requiring disclosure share information advertisers aggregate basis choices available regarding collection use distribution information supplying personally identifiable information entirely voluntary required register order use sites however offer services visitors register may change interests time may opt opt marketing promotional newsletters mailings rediff com reserves right send certain service related communication considered part rediff account without offering facility opt may update information change account settings time upon request remove block personally identifiable information database thereby canceling registration see contact information however information may remain stored archive servers even deletion termination account plan use personally identifiable information commercial purposes notify time collect information allow opt information used purposes accept decline cookies sites customizable require accept cookies also must accept cookies register someone access services information set browser alert cookies reject cookies http www cookiecentral com faq security procedures place protect information loss misuse alteration protect loss misuse alteration information control place appropriate physical electronic managerial procedures example servers accessible authorized personnel information shared respective personnel need know basis complete transaction provide services requested although endeavor safeguard confidentiality personally identifiable information transmissions made means internet cannot made absolutely secure using site agree liability disclosure information due errors transmission unauthorized acts third parties correct inaccuracies information correct update information provided sites allow online event loss access details use following options send mail shopsupport rediff call following telephone number policy updates reserve right change update policy time placing prominent notice site changes shall effective immediately upon posting site offer views suggestions submitting filled feedback form online contact information contact rediff com india limited mahalaxmi engineering estate first cross road mahim mumbai india tel fax email shopsupport rediff rediff com india limited rights reserved\n"
     ]
    }
   ],
   "source": [
    "clean_policy=text_cleaner(comma_separated_file)\n",
    "print(clean_policy)"
   ]
  },
  {
   "cell_type": "markdown",
   "metadata": {},
   "source": [
    "## Words extracted and stored in another list"
   ]
  },
  {
   "cell_type": "code",
   "execution_count": 16,
   "metadata": {
    "scrolled": true
   },
   "outputs": [
    {
     "name": "stdout",
     "output_type": "stream",
     "text": [
      "['rediff', 'com', 'shopping', 'terms', 'conditions', 'privacy', 'policy', 'rediff', 'com', 'india', 'limited', 'subsidiaries', 'affiliates', 'respects', 'privacy', 'privacy', 'policy', 'provides', 'succinctly', 'manner', 'data', 'collected', 'used', 'rediff', 'com', 'advised', 'please', 'read', 'privacy', 'policy', 'carefully', 'accessing', 'services', 'provided', 'rediff', 'com', 'agree', 'collection', 'use', 'data', 'rediff', 'com', 'manner', 'provided', 'privacy', 'policy', 'want', 'feel', 'comfortable', 'using', 'web', 'sites', 'feel', 'secure', 'submitting', 'information', 'contact', 'questions', 'concerns', 'privacy', 'site', 'know', 'using', 'sites', 'consenting', 'collection', 'certain', 'data', 'information', 'may', 'collected', 'automatically', 'receive', 'collect', 'certain', 'anonymous', 'information', 'standard', 'usage', 'logs', 'web', 'server', 'including', 'computer', 'identification', 'information', 'obtained', 'cookies', 'sent', 'browser', 'web', 'server', 'cookie', 'stored', 'hard', 'drive', 'address', 'assigned', 'computer', 'use', 'domain', 'server', 'access', 'service', 'type', 'computer', 'using', 'type', 'web', 'browser', 'using', 'may', 'collect', 'following', 'personally', 'identifiable', 'information', 'name', 'including', 'first', 'last', 'name', 'alternate', 'email', 'address', 'mobile', 'phone', 'number', 'contact', 'details', 'zip', 'postal', 'code', 'demographic', 'profile', 'preferences', 'interests', 'financial', 'information', 'opinions', 'features', 'websites', 'may', 'also', 'collect', 'following', 'information', 'pages', 'visit', 'access', 'links', 'click', 'site', 'number', 'times', 'access', 'page', 'terminate', 'account', 'time', 'however', 'information', 'may', 'remain', 'stored', 'archive', 'servers', 'even', 'deletion', 'termination', 'account', 'collects', 'information', 'collect', 'anonymous', 'traffic', 'information', 'visit', 'site', 'collect', 'personally', 'identifiable', 'information', 'part', 'voluntary', 'registration', 'process', 'line', 'survey', 'contest', 'combination', 'thereof', 'advertisers', 'may', 'collect', 'anonymous', 'traffic', 'information', 'assigned', 'cookies', 'browser', 'site', 'contains', 'links', 'web', 'sites', 'responsible', 'privacy', 'practices', 'web', 'sites', 'manage', 'control', 'make', 'chat', 'rooms', 'forums', 'instant', 'messenger', 'message', 'boards', 'services', 'available', 'please', 'understand', 'information', 'disclosed', 'areas', 'becomes', 'public', 'information', 'control', 'use', 'exercise', 'caution', 'disclosing', 'personal', 'information', 'anyone', 'information', 'used', 'use', 'personal', 'information', 'help', 'provide', 'personalized', 'features', 'tailor', 'sites', 'interest', 'get', 'touch', 'necessary', 'provide', 'services', 'requested', 'preserve', 'social', 'history', 'governed', 'existing', 'law', 'policy', 'use', 'contact', 'information', 'internally', 'direct', 'efforts', 'product', 'improvement', 'contact', 'survey', 'respondent', 'notify', 'win', 'contest', 'send', 'promotional', 'materials', 'contest', 'sponsors', 'advertisers', 'generally', 'use', 'anonymous', 'traffic', 'information', 'remind', 'order', 'deliver', 'better', 'personalized', 'service', 'advertising', 'editorial', 'perspective', 'recognize', 'access', 'privileges', 'web', 'sites', 'track', 'entries', 'promotions', 'sweepstakes', 'contests', 'indicate', 'player', 'progress', 'promotion', 'track', 'entries', 'submissions', 'status', 'prize', 'drawings', 'make', 'sure', 'see', 'repeatedly', 'help', 'diagnose', 'problems', 'server', 'administer', 'web', 'sites', 'track', 'session', 'understand', 'better', 'people', 'use', 'sites', 'information', 'shared', 'use', 'financial', 'information', 'purpose', 'complete', 'transaction', 'rent', 'sell', 'share', 'personal', 'information', 'disclose', 'personally', 'identifiable', 'information', 'third', 'parties', 'unless', 'permission', 'provide', 'products', 'services', 'requested', 'help', 'investigate', 'prevent', 'take', 'action', 'regarding', 'unlawful', 'illegal', 'activities', 'suspected', 'fraud', 'potential', 'threat', 'safety', 'security', 'person', 'violations', 'rediff', 'com', 'terms', 'use', 'defend', 'legal', 'claims', 'special', 'circumstances', 'compliance', 'subpoenas', 'court', 'orders', 'requests', 'order', 'legal', 'authorities', 'law', 'enforcement', 'agencies', 'requiring', 'disclosure', 'share', 'information', 'advertisers', 'aggregate', 'basis', 'choices', 'available', 'regarding', 'collection', 'use', 'distribution', 'information', 'supplying', 'personally', 'identifiable', 'information', 'entirely', 'voluntary', 'required', 'register', 'order', 'use', 'sites', 'however', 'offer', 'services', 'visitors', 'register', 'may', 'change', 'interests', 'time', 'may', 'opt', 'opt', 'marketing', 'promotional', 'newsletters', 'mailings', 'rediff', 'com', 'reserves', 'right', 'send', 'certain', 'service', 'related', 'communication', 'considered', 'part', 'rediff', 'account', 'without', 'offering', 'facility', 'opt', 'may', 'update', 'information', 'change', 'account', 'settings', 'time', 'upon', 'request', 'remove', 'block', 'personally', 'identifiable', 'information', 'database', 'thereby', 'canceling', 'registration', 'see', 'contact', 'information', 'however', 'information', 'may', 'remain', 'stored', 'archive', 'servers', 'even', 'deletion', 'termination', 'account', 'plan', 'use', 'personally', 'identifiable', 'information', 'commercial', 'purposes', 'notify', 'time', 'collect', 'information', 'allow', 'opt', 'information', 'used', 'purposes', 'accept', 'decline', 'cookies', 'sites', 'customizable', 'require', 'accept', 'cookies', 'also', 'must', 'accept', 'cookies', 'register', 'someone', 'access', 'services', 'information', 'set', 'browser', 'alert', 'cookies', 'reject', 'cookies', 'http', 'www', 'cookiecentral', 'com', 'faq', 'security', 'procedures', 'place', 'protect', 'information', 'loss', 'misuse', 'alteration', 'protect', 'loss', 'misuse', 'alteration', 'information', 'control', 'place', 'appropriate', 'physical', 'electronic', 'managerial', 'procedures', 'example', 'servers', 'accessible', 'authorized', 'personnel', 'information', 'shared', 'respective', 'personnel', 'need', 'know', 'basis', 'complete', 'transaction', 'provide', 'services', 'requested', 'although', 'endeavor', 'safeguard', 'confidentiality', 'personally', 'identifiable', 'information', 'transmissions', 'made', 'means', 'internet', 'cannot', 'made', 'absolutely', 'secure', 'using', 'site', 'agree', 'liability', 'disclosure', 'information', 'due', 'errors', 'transmission', 'unauthorized', 'acts', 'third', 'parties', 'correct', 'inaccuracies', 'information', 'correct', 'update', 'information', 'provided', 'sites', 'allow', 'online', 'event', 'loss', 'access', 'details', 'use', 'following', 'options', 'send', 'mail', 'shopsupport', 'rediff', 'call', 'following', 'telephone', 'number', 'policy', 'updates', 'reserve', 'right', 'change', 'update', 'policy', 'time', 'placing', 'prominent', 'notice', 'site', 'changes', 'shall', 'effective', 'immediately', 'upon', 'posting', 'site', 'offer', 'views', 'suggestions', 'submitting', 'filled', 'feedback', 'form', 'online', 'contact', 'information', 'contact', 'rediff', 'com', 'india', 'limited', 'mahalaxmi', 'engineering', 'estate', 'first', 'cross', 'road', 'mahim', 'mumbai', 'india', 'tel', 'fax', 'email', 'shopsupport', 'rediff', 'rediff', 'com', 'india', 'limited', 'rights', 'reserved']\n"
     ]
    }
   ],
   "source": [
    "word_list_2=extract_words(clean_policy)\n",
    "print(word_list_2)"
   ]
  },
  {
   "cell_type": "markdown",
   "metadata": {},
   "source": [
    "## Third privacy policy page link"
   ]
  },
  {
   "cell_type": "code",
   "execution_count": 17,
   "metadata": {
    "scrolled": true
   },
   "outputs": [
    {
     "name": "stdout",
     "output_type": "stream",
     "text": [
      "<!DOCTYPE html>\r\n",
      "<html>\r\n",
      "<head>\r\n",
      "    <meta charset=\"utf-8\">\r\n",
      "    <meta http-equiv=\"Content-Type\" content=\"text/html; charset=utf-8\" />\r\n",
      "    <meta name=\"viewport\" content=\"width=device-width, initial-scale=1.0\" />\r\n",
      "        <title>eleB2B.com: India’s Online B2B Directory of Electronics Suppliers, Manufacturers, Distributors, Service Providers, etc.</title>\r\n",
      "        <meta name=\"description\" content=\"Leading B2B Directory of Electronics Manufacturers, Distributors, Resellers, OEMs, ESDMs, Design Houses, Service Providers, Trade Associations, System Integrators in India.\" />\r\n",
      "        <meta property=\"og:title\" content=\"eleB2B.com: India’s Online B2B Directory of Electronics Suppliers, Manufacturers, Distributors, Service Providers, etc.\" />\r\n",
      "        <meta property=\"og:description\" content=\"Leading B2B Directory of Electronics Manufacturers, Distributors, Resellers, OEMs, ESDMs, Design Houses, Service Providers, Trade Associations, System Integrators in India.\" />\r\n",
      "    <link rel=\"canonical\" href=\"https://www.eleb2b.com/Privacy-Policy\" />\r\n",
      "    <meta property=\"og:url\" content=\"https://www.eleb2b.com/Privacy-Policy\" />\r\n",
      "    <meta property=\"og:type\" content=\"website\" />\r\n",
      "    <meta property=\"og:image\" content=\"https://www.eleb2b.com/images/eleb2b-share.jpg\" />\r\n",
      "    <link href=\"/Content/font roboto css.css\" rel=\"stylesheet\" />\r\n",
      "    <link href=\"/Content/jquery-ui.min.css\" rel=\"stylesheet\" />\r\n",
      "    <link href=\"/Content/modstyle.css\" rel=\"stylesheet\" />\r\n",
      "    <link href=\"/Content/bootstrap.min.css\" rel=\"stylesheet\" type=\"text/css\" media=\"all\">\r\n",
      "    <script src=\"/Scripts/jquery.min 1.11.3.js\"></script> \r\n",
      "    <link href=\"/Content/custom.css\" rel=\"stylesheet\" type=\"text/css\" media=\"all\">\r\n",
      "    <link href=\"/Content/responsive.css\" rel=\"stylesheet\" />\r\n",
      "    <link href=\"/Content/jquery.bxsilder.css\" rel=\"stylesheet\" type=\"text/css\" media=\"all\">\r\n",
      "    <link href=\"/Content/fastselect.min.css\" rel=\"stylesheet\" />\r\n",
      "    <link href=\"/Content/font-awesome.min.css\" rel=\"stylesheet\" />\r\n",
      "    <script async='async' src='https://www.googletagservices.com/tag/js/gpt.js'></script>\r\n",
      "    \r\n",
      "    <script src=\"/Scripts/jquery-3.1.1.min.js\"></script>\r\n",
      "    <script src=\"/Scripts/custom.js\"></script>\r\n",
      "    <script src=\"/Scripts/bootstrap.min.js\"></script>\r\n",
      "    <script src=\"/Scripts/jquery.bxslider.min.js\"></script>\r\n",
      "    <script src=\"/Scripts/jquery-ui.min.js\"></script>\r\n",
      "    <script src=\"/Scripts/Pages/Common.js\"></script>\r\n",
      "    <script src=\"/Scripts/fastselect.standalone.min.js\"></script>\r\n",
      "    <script src=\"/Scripts/Blocker/jquery.blockUI.js\"></script>\r\n",
      "    <script src=\"/Scripts/Pages/Common.js\"></script>\r\n",
      "    <script src=\"/Scripts/Pages/Google-analytics.js\"></script>\r\n",
      "</head>\r\n",
      "<body>\r\n",
      "    <!-- Google Tag Manager (noscript) -->\r\n",
      "    <noscript>\r\n",
      "        <iframe src=\"https://www.googletagmanager.com/ns.html?id=GTM-MHK6ZKS\" height=\"0\" width=\"0\" style=\"display:none;visibility:hidden\"></iframe>\r\n",
      "    </noscript>\r\n",
      "\r\n",
      "    <!-- End Google Tag Manager (noscript) -->\r\n",
      "    <div class=\"fullbody\">\r\n",
      "        <div class=\"container-fluid\">\r\n",
      "            <div class=\"row\">\r\n",
      "                <div class=\"hdr-dv hdr-fx\">\r\n",
      "                    <div class=\"container-fluid top-menu-header affix-top\" data-spy=\"affix\" data-offset-top=\"40\">\r\n",
      "                        <div class=\"row\">\r\n",
      "                            <div class=\"col-md-3 get-tab-header-logo\"> <div class=\"get-logo-header\"> <a href=\"/Home/Index\" alt=\"eleb2b\"><img src=\"/Images/eleb2b-logo.png\" class=\"img-responsive\" alt=\"eleb2b\" /></a> </div></div><div class=\"col-md-1 min-hgt-mang\"></div><div class=\"col-md-8 menu-col-div\" id=\"menu-col-div2\">\r\n",
      "                                <div class=\"navbar-header\"> <button type=\"button\" class=\"navbar-toggle\" onclick=\"openNav()\"><span class=\"icon-bar\"></span><span class=\"icon-bar\"></span><span class=\"icon-bar\"></span></button> <div class=\"get-logo-menu\"> <a href=\"/Home/Index\" alt=\"eleb2b\"><img src=\"/Images/eleb2b-logo.png\" class=\"img-responsive\" alt=\"eleb2b\" /></a> </div></div><div class=\"header-menu-center sidenav\" id=\"sidenav\">\r\n",
      "                                    <a href=\"javascript:void(0)\" class=\"closebtn\" onclick=\"closeNav()\">×</a><ul class=\"nav nav-pills get-resp-ul\" id=\"get-resp-ul\">\r\n",
      "                                        <li class=\"\"><a href=\"/Home/Index\">Home</a></li>\r\n",
      "                                         \r\n",
      "                                        <li>\r\n",
      "                                            <a href=\"javascript:void(0)\">Do Biz</a> <ul class=\"do-submenu\">\r\n",
      "                                                <li><a href=\"/Channel\">Channel Partner Finder</a></li>\r\n",
      "                                                <li><a href=\"/Channel/Requests\">Invite Channel Partner</a></li>\r\n",
      "                                                                                                     <li><a href=\"/Registration\" id=\"TypeBuyer\" onclick=\"SelectType('Buyer')\">Register as Buyer</a></li>\r\n",
      "                                                    <li><a href=\"/Registration\" id=\"TypeSupplier\" onclick=\"SelectTyp\n"
     ]
    }
   ],
   "source": [
    "file=extract_content(\"https://www.eleb2b.com/Privacy-Policy\")\n",
    "print(file[:5000])"
   ]
  },
  {
   "cell_type": "code",
   "execution_count": 18,
   "metadata": {
    "scrolled": true
   },
   "outputs": [
    {
     "name": "stdout",
     "output_type": "stream",
     "text": [
      "<!DOCTYPE,html>\r\n",
      "<html>\r\n",
      "<head>\r\n",
      ",,,,<meta,charset=\"utf-8\">\r\n",
      ",,,,<meta,http-equiv=\"Content-Type\",content=\"text/html;,charset=utf-8\",/>\r\n",
      ",,,,<meta,name=\"viewport\",content=\"width=device-width,,initial-scale=1.0\",/>\r\n",
      ",,,,,,,,<title>eleB2B.com:,India’s,Online,B2B,Directory,of,Electronics,Suppliers,,Manufacturers,,Distributors,,Service,Providers,,etc.</title>\r\n",
      ",,,,,,,,<meta,name=\"description\",content=\"Leading,B2B,Directory,of,Electronics,Manufacturers,,Distributors,,Resellers,,OEMs,,ESDMs,,Design,Houses,,Service,Providers,,Trade,Associations,,System,Integrators,in,India.\",/>\r\n",
      ",,,,,,,,<meta,property=\"og:title\",content=\"eleB2B.com:,India’s,Online,B2B,Directory,of,Electronics,Suppliers,,Manufacturers,,Distributors,,Service,Providers,,etc.\",/>\r\n",
      ",,,,,,,,<meta,property=\"og:description\",content=\"Leading,B2B,Directory,of,Electronics,Manufacturers,,Distributors,,Resellers,,OEMs,,ESDMs,,Design,Houses,,Service,Providers,,Trade,Associations,,System,Integrators,in,India.\",/>\r\n",
      ",,,,<link,rel=\"canonical\",href=\"https://www.eleb2b.com/Privacy-Policy\",/>\r\n",
      ",,,,<meta,property=\"og:url\",content=\"https://www.eleb2b.com/Privacy-Policy\",/>\r\n",
      ",,,,<meta,property=\"og:type\",content=\"website\",/>\r\n",
      ",,,,<meta,property=\"og:image\",content=\"https://www.eleb2b.com/images/eleb2b-share.jpg\",/>\r\n",
      ",,,,<link,href=\"/Content/font,roboto,css.css\",rel=\"stylesheet\",/>\r\n",
      ",,,,<link,href=\"/Content/jquery-ui.min.css\",rel=\"stylesheet\",/>\r\n",
      ",,,,<link,href=\"/Content/modstyle.css\",rel=\"stylesheet\",/>\r\n",
      ",,,,<link,href=\"/Content/bootstrap.min.css\",rel=\"stylesheet\",type=\"text/css\",media=\"all\">\r\n",
      ",,,,<script,src=\"/Scripts/jquery.min,1.11.3.js\"></script>,\r\n",
      ",,,,<link,href=\"/Content/custom.css\",rel=\"stylesheet\",type=\"text/css\",media=\"all\">\r\n",
      ",,,,<link,href=\"/Content/responsive.css\",rel=\"stylesheet\",/>\r\n",
      ",,,,<link,href=\"/Content/jquery.bxsilder.css\",rel=\"stylesheet\",type=\"text/css\",media=\"all\">\r\n",
      ",,,,<link,href=\"/Content/fastselect.min.css\",rel=\"stylesheet\",/>\r\n",
      ",,,,<link,href=\"/Content/font-awesome.min.css\",rel=\"stylesheet\",/>\r\n",
      ",,,,<script,async='async',src='https://www.googletagservices.com/tag/js/gpt.js'></script>\r\n",
      ",,,,\r\n",
      ",,,,<script,src=\"/Scripts/jquery-3.1.1.min.js\"></script>\r\n",
      ",,,,<script,src=\"/Scripts/custom.js\"></script>\r\n",
      ",,,,<script,src=\"/Scripts/bootstrap.min.js\"></script>\r\n",
      ",,,,<script,src=\"/Scripts/jquery.bxslider.min.js\"></script>\r\n",
      ",,,,<script,src=\"/Scripts/jquery-ui.min.js\"></script>\r\n",
      ",,,,<script,src=\"/Scripts/Pages/Common.js\"></script>\r\n",
      ",,,,<script,src=\"/Scripts/fastselect.standalone.min.js\"></script>\r\n",
      ",,,,<script,src=\"/Scripts/Blocker/jquery.blockUI.js\"></script>\r\n",
      ",,,,<script,src=\"/Scripts/Pages/Common.js\"></script>\r\n",
      ",,,,<script,src=\"/Scripts/Pages/Google-analytics.js\"></script>\r\n",
      "</head>\r\n",
      "<body>\r\n",
      ",,,,<!--,Google,Tag,Manager,(noscript),-->\r\n",
      ",,,,<noscript>\r\n",
      ",,,,,,,,<iframe,src=\"https://www.googletagmanager.com/ns.html?id=GTM-MHK6ZKS\",height=\"0\",width=\"0\",style=\"display:none;visibility:hidden\"></iframe>\r\n",
      ",,,,</noscript>\r\n",
      "\r\n",
      ",,,,<!--,End,Google,Tag,Manager,(noscript),-->\r\n",
      ",,,,<div,class=\"fullbody\">\r\n",
      ",,,,,,,,<div,class=\"container-fluid\">\r\n",
      ",,,,,,,,,,,,<div,class=\"row\">\r\n",
      ",,,,,,,,,,,,,,,,<div,class=\"hdr-dv,hdr-fx\">\r\n",
      ",,,,,,,,,,,,,,,,,,,,<div,class=\"container-fluid,top-menu-header,affix-top\",data-spy=\"affix\",data-offset-top=\"40\">\r\n",
      ",,,,,,,,,,,,,,,,,,,,,,,,<div,class=\"row\">\r\n",
      ",,,,,,,,,,,,,,,,,,,,,,,,,,,,<div,class=\"col-md-3,get-tab-header-logo\">,<div,class=\"get-logo-header\">,<a,href=\"/Home/Index\",alt=\"eleb2b\"><img,src=\"/Images/eleb2b-logo.png\",class=\"img-responsive\",alt=\"eleb2b\",/></a>,</div></div><div,class=\"col-md-1,min-hgt-mang\"></div><div,class=\"col-md-8,menu-col-div\",id=\"menu-col-div2\">\r\n",
      ",,,,,,,,,,,,,,,,,,,,,,,,,,,,,,,,<div,class=\"navbar-header\">,<button,type=\"button\",class=\"navbar-toggle\",onclick=\"openNav()\"><span,class=\"icon-bar\"></span><span,class=\"icon-bar\"></span><span,class=\"icon-bar\"></span></button>,<div,class=\"get-logo-menu\">,<a,href=\"/Home/Index\",alt=\"eleb2b\"><img,src=\"/Images/eleb2b-logo.png\",class=\"img-responsive\",alt=\"eleb2b\",/></a>,</div></div><div,class=\"header-menu-center,sidenav\",id=\"sidenav\">\r\n",
      ",,,,,,,,,,,,,,,,,,,,,,,,,,,,,,,,,,,,<a,href=\"javascript:void(0)\",class=\"closebtn\",onclick=\"closeNav()\">×</a><ul,class=\"nav,nav-pills,get-resp-ul\",id=\"get-resp-ul\">\r\n",
      ",,,,,,,,,,,,,,,,,,,,,,,,,,,,,,,,,,,,,,,,<li,class=\"\"><a,href=\"/Home/Index\">Home</a></li>\r\n",
      ",,,,,,,,,,,,,,,,,,,,,,,,,,,,,,,,,,,,,,,,,\r\n",
      ",,,,,,,,,,,,,,,,,,,,,,,,,,,,,,,,,,,,,,,,<li>\r\n",
      ",,,,,,,,,,,,,,,,,,,,,,,,,,,,,,,,,,,,,,,,,,,,<a,href=\"javascript:void(0)\">Do,Biz</a>,<ul,class=\"do-submenu\">\r\n",
      ",,,,,,,,,,,,,,,,,,,,,,,,,,,,,,,,,,,,,,,,,,,,,,,,<li><a,href=\"/Channel\">Channel,Partner,Finder</a></li>\r\n",
      ",,,,,,,,,,,,,,,,,,,,,,,,,,,,,,,,,,,,,,,,,,,,,,,,<li><a,href=\"/Channel/Requests\">Invite,Channel,Partner</a></li>\r\n",
      ",,,,,,,,,,,,,,,,,,,,,,,,,,,,,,,,,,,,,,,,,,,,,,,,,,,,,,,,,,,,,,,,,,,,,,,,,,,,,,,,,,,,,,,,,,,,,,,,,,,,,<li><a,href=\"/Registration\",id=\"TypeBuyer\",onclick=\"SelectType('Buyer')\">Register,as,Buyer</a></li>\r\n",
      ",,,,,,,,,,,,,,,,,,,,,,,,,,,,,,,,,,,,,,,,,,,,,,,,,,,,<li><a,href=\"/Registration\",id=\"TypeSupplier\",onclick=\"SelectTyp\n"
     ]
    }
   ],
   "source": [
    "comma_separated_file=place_delimiters(file)\n",
    "print(comma_separated_file[:5000])"
   ]
  },
  {
   "cell_type": "code",
   "execution_count": 19,
   "metadata": {
    "scrolled": true
   },
   "outputs": [
    {
     "name": "stdout",
     "output_type": "stream",
     "text": [
      "html eleb com india online directory electronics suppliers manufacturers distributors service providers etc home biz channel partner finder invite channel partner register buyer register supplier launchpad contact login home privacy policy eleb com privacy policy eleb com committed safeguarding users privacy request users read privacy policy understand personal business information handled charge single penny buyers suppliers exchange services privacy policy applicable entire network suppliers manufacturers etc listed using eleb com using site consent terms online privacy policy user information collect collect information buyers suppliers register gain access services requested provide personal business details registration ask buyers suppliers name email address business information personal details use personal business information successful registration users longer anonymous eleb com efy group website admins deemed user given right publish relevant personal business details following purposes personalise experience improve website share sponsors administer contest promotion survey conduct activity site send periodic emails email address provide may used send information respond inquiries interactive communication address requests personalise experience website business information used compiling listings featuring product offerings across network thus fetching maximum business opportunities user also collect usage statistics third party tools websites analysis data helps provide improved user experience services sharing information per principles eleb com efy group websites disclose share personal well business information without permission special circumstances permitted terms policy distribution information eleb com send users emails regarding products services may also use information create match making tools bring buyers together interested sellers promotional use promotions run may sponsored eleb com efy group websites decide participate promotions want data shared record right eleb com running promotional campaign updating information buyer supplier may edit account information profile logging website sending request admin within panel requested changes take time displayed website cross verification process time registered user account deleted deactivated result user able access members area website rest information particular user remain records cookie policy right using cookies usability purposes choose computer warn time cookie sent choose turn cookies via browser settings also turn cookies services may function properly still place orders contacting customer service complain support eleb com protection information sell third parties data bulk misused telemarketing bulk mailing wrong purposes also eleb sell user personal information business information unless permitted user per terms policy changes privacy policy eleb com reserves right change user policies time time suggest buyer seller check terms policy periodically eleb com eleb com india leading online directory electronics industry lists suppliers electronics products components equipment services suppliers span across manufacturers distributors sellers importers service providers system integrators startups multinationals long presence india listed check firm also listed eleb com register clicking free copyright efy enterprises pvt ltd rights reserved reproduction whole part form medium without written permission prohibited usage content web site subject terms conditions privacy policy\n"
     ]
    }
   ],
   "source": [
    "clean_policy=text_cleaner(comma_separated_file)\n",
    "print(clean_policy)"
   ]
  },
  {
   "cell_type": "markdown",
   "metadata": {},
   "source": [
    "## Extracted words"
   ]
  },
  {
   "cell_type": "code",
   "execution_count": 20,
   "metadata": {
    "scrolled": true
   },
   "outputs": [
    {
     "name": "stdout",
     "output_type": "stream",
     "text": [
      "['html', 'eleb', 'com', 'india', 'online', 'directory', 'electronics', 'suppliers', 'manufacturers', 'distributors', 'service', 'providers', 'etc', 'home', 'biz', 'channel', 'partner', 'finder', 'invite', 'channel', 'partner', 'register', 'buyer', 'register', 'supplier', 'launchpad', 'contact', 'login', 'home', 'privacy', 'policy', 'eleb', 'com', 'privacy', 'policy', 'eleb', 'com', 'committed', 'safeguarding', 'users', 'privacy', 'request', 'users', 'read', 'privacy', 'policy', 'understand', 'personal', 'business', 'information', 'handled', 'charge', 'single', 'penny', 'buyers', 'suppliers', 'exchange', 'services', 'privacy', 'policy', 'applicable', 'entire', 'network', 'suppliers', 'manufacturers', 'etc', 'listed', 'using', 'eleb', 'com', 'using', 'site', 'consent', 'terms', 'online', 'privacy', 'policy', 'user', 'information', 'collect', 'collect', 'information', 'buyers', 'suppliers', 'register', 'gain', 'access', 'services', 'requested', 'provide', 'personal', 'business', 'details', 'registration', 'ask', 'buyers', 'suppliers', 'name', 'email', 'address', 'business', 'information', 'personal', 'details', 'use', 'personal', 'business', 'information', 'successful', 'registration', 'users', 'longer', 'anonymous', 'eleb', 'com', 'efy', 'group', 'website', 'admins', 'deemed', 'user', 'given', 'right', 'publish', 'relevant', 'personal', 'business', 'details', 'following', 'purposes', 'personalise', 'experience', 'improve', 'website', 'share', 'sponsors', 'administer', 'contest', 'promotion', 'survey', 'conduct', 'activity', 'site', 'send', 'periodic', 'emails', 'email', 'address', 'provide', 'may', 'used', 'send', 'information', 'respond', 'inquiries', 'interactive', 'communication', 'address', 'requests', 'personalise', 'experience', 'website', 'business', 'information', 'used', 'compiling', 'listings', 'featuring', 'product', 'offerings', 'across', 'network', 'thus', 'fetching', 'maximum', 'business', 'opportunities', 'user', 'also', 'collect', 'usage', 'statistics', 'third', 'party', 'tools', 'websites', 'analysis', 'data', 'helps', 'provide', 'improved', 'user', 'experience', 'services', 'sharing', 'information', 'per', 'principles', 'eleb', 'com', 'efy', 'group', 'websites', 'disclose', 'share', 'personal', 'well', 'business', 'information', 'without', 'permission', 'special', 'circumstances', 'permitted', 'terms', 'policy', 'distribution', 'information', 'eleb', 'com', 'send', 'users', 'emails', 'regarding', 'products', 'services', 'may', 'also', 'use', 'information', 'create', 'match', 'making', 'tools', 'bring', 'buyers', 'together', 'interested', 'sellers', 'promotional', 'use', 'promotions', 'run', 'may', 'sponsored', 'eleb', 'com', 'efy', 'group', 'websites', 'decide', 'participate', 'promotions', 'want', 'data', 'shared', 'record', 'right', 'eleb', 'com', 'running', 'promotional', 'campaign', 'updating', 'information', 'buyer', 'supplier', 'may', 'edit', 'account', 'information', 'profile', 'logging', 'website', 'sending', 'request', 'admin', 'within', 'panel', 'requested', 'changes', 'take', 'time', 'displayed', 'website', 'cross', 'verification', 'process', 'time', 'registered', 'user', 'account', 'deleted', 'deactivated', 'result', 'user', 'able', 'access', 'members', 'area', 'website', 'rest', 'information', 'particular', 'user', 'remain', 'records', 'cookie', 'policy', 'right', 'using', 'cookies', 'usability', 'purposes', 'choose', 'computer', 'warn', 'time', 'cookie', 'sent', 'choose', 'turn', 'cookies', 'via', 'browser', 'settings', 'also', 'turn', 'cookies', 'services', 'may', 'function', 'properly', 'still', 'place', 'orders', 'contacting', 'customer', 'service', 'complain', 'support', 'eleb', 'com', 'protection', 'information', 'sell', 'third', 'parties', 'data', 'bulk', 'misused', 'telemarketing', 'bulk', 'mailing', 'wrong', 'purposes', 'also', 'eleb', 'sell', 'user', 'personal', 'information', 'business', 'information', 'unless', 'permitted', 'user', 'per', 'terms', 'policy', 'changes', 'privacy', 'policy', 'eleb', 'com', 'reserves', 'right', 'change', 'user', 'policies', 'time', 'time', 'suggest', 'buyer', 'seller', 'check', 'terms', 'policy', 'periodically', 'eleb', 'com', 'eleb', 'com', 'india', 'leading', 'online', 'directory', 'electronics', 'industry', 'lists', 'suppliers', 'electronics', 'products', 'components', 'equipment', 'services', 'suppliers', 'span', 'across', 'manufacturers', 'distributors', 'sellers', 'importers', 'service', 'providers', 'system', 'integrators', 'startups', 'multinationals', 'long', 'presence', 'india', 'listed', 'check', 'firm', 'also', 'listed', 'eleb', 'com', 'register', 'clicking', 'free', 'copyright', 'efy', 'enterprises', 'pvt', 'ltd', 'rights', 'reserved', 'reproduction', 'whole', 'part', 'form', 'medium', 'without', 'written', 'permission', 'prohibited', 'usage', 'content', 'web', 'site', 'subject', 'terms', 'conditions', 'privacy', 'policy']\n"
     ]
    }
   ],
   "source": [
    "word_list_3=extract_words(clean_policy)\n",
    "print(word_list_3)"
   ]
  },
  {
   "cell_type": "markdown",
   "metadata": {},
   "source": [
    "## Fourth privacy policy page link"
   ]
  },
  {
   "cell_type": "code",
   "execution_count": 21,
   "metadata": {
    "scrolled": true
   },
   "outputs": [
    {
     "name": "stdout",
     "output_type": "stream",
     "text": [
      "<!DOCTYPE html><html lang=en><head><meta http-equiv=X-UA-Compatible content=IE=Edge><link rel=\"dns-prefetch\" href=\"//ir.ebaystatic.com\"><link rel=\"dns-prefetch\" href=\"//secureir.ebaystatic.com\"><link rel=\"dns-prefetch\" href=\"//i.ebayimg.com\"><link rel=\"dns-prefetch\" href=\"//rover.ebay.com\"><script>$ssgST=new Date().getTime();</script><meta charset=utf-8><meta name=google-site-verification content=RDpd-WPXK6QX0AeQPo4hCtBF-2nKyj3zjzY-H7GgRs8><meta name=viewport content=\"width=device-width, initial-scale=1\"><meta http-equiv=content-language><meta name=format-detection content=telephone=no><meta property=og:type content=article><meta property=og:title content=\"User Privacy Notice\"><meta property=og:description content=\"In our User Privacy Notice we have compiled all essential information about our handling of your personal data and your corresponding rights for you.\n",
      "&nbsp;\n",
      "\n",
      "This User Privacy Notice is effective from December 23, 2021. View the previous User Privacy Notice.\n",
      "\"><meta property=og:url content=https://www.ebay.com/help/policies/member-behaviour-policies/user-privacy-notice-privacy-policy?id=4260><meta property=og:site_name content=eBay><meta name=twitter:title content=\"User Privacy Notice\"><meta name=twitter:description content=\"In our User Privacy Notice we have compiled all essential information about our handling of your personal data and your corresponding rights for you.\n",
      "&nbsp;\n",
      "\n",
      "This User Privacy Notice is effective from December 23, 2021. View the previous User Privacy Notice.\n",
      "\"><meta name=twitter:card content=summary><meta name=twitter:site content=@eBay><meta name=description content=\"In our User Privacy Notice we have compiled all essential information about our handling of your personal data and your corresponding rights for you.\n",
      "&nbsp;\n",
      "\n",
      "This User Privacy Notice is effective from December 23, 2021. View the previous User Privacy Notice.\n",
      "\"><link rel=icon href=https://pages.ebay.com/favicon.ico><link rel=canonical href=https://www.ebay.com/help/policies/member-behaviour-policies/user-privacy-notice-privacy-policy?id=4260><title>User Privacy Notice | eBay</title><link rel=\"stylesheet\" type=\"text/css\" href=\"https://ir.ebaystatic.com/rs/v/ionunpunsiy1zjhsivysbop3uei.css?proc=DU:N\"><link rel=stylesheet href=https://ir.ebaystatic.com/rs/c/web-article-AUhcH9OE.css></head><body class=no-touch><div class=debug><button id=sessionId>647627502062</button><button id=contextId>1091a81a-ba65-4776-bc72-7692bce6317f:17e43d584aa</button><button id=segmentId>19997</button></div><div class=spinning><div class=spinningIcon></div></div><div class=global-header><div><style>.gh-hide-if-nocss{display:none;}.gh-ar-hdn{color:#fff}</style> <div class=\"gh-acc-exp-div gh-hide-if-nocss\"><a id=\"gh-hdn-stm\" class=\"gh-acc-a\" href=\"#mainContent\">Skip to main content</a></div><!--[if lt IE 9]><div id=\"gh\" role=\"banner\" class=\"gh-IE8 gh-flex gh-pre-js gh-w \"><![endif]--><header id=\"gh\" role=\"banner\" class=\"gh-ui-6-5 gh-flex gh-pre-js gh-w gh-sch-prom \" data-treatment><table class=\"gh-tbl\" role=\"presentation\"><tbody><tr><td class=\"gh-td\"><!--[if lt IE 9]><a href=\"https://www.ebay.com/\" _sp=\"m570.l2586\" id=\"gh-la\"><img width=117 height=120 style='clip:rect(47px, 118px, 95px, 0px); position:absolute; top:-47px;left:0' alt=\"eBay Logo\" src=\"https://ir.ebaystatic.com/rs/v/apstidvcvu5pxlbxkphrrdo5iqv.png\" id=\"gh-logo\"></a><![endif]--><a href=\"https://www.ebay.com/\" _sp=\"m570.l2586\" id=\"gh-la\"><img width=\"250\" height=\"200\" style=\"clip:rect(47px, 118px, 95px, 0px); position:absolute; top:-47px;left:0\" alt=\"eBay Logo\" src=\"https://ir.ebaystatic.com/rs/v/fxxj3ttftm5ltcqnto1o4baovyl.png\" id=\"gh-logo\"></a></td><td id=\"gh-title\">Customer Service</td><td class=\"sticky_placeholder\"><ul></ul></td></tr></tbody></table><div id=\"gh-top\" class=\"gh-hide-if-nocss\" role=\"navigation\" aria-label=\"Account\"><ul id=\"gh-topl\"><li class=\"gh-t \" id=\"gh-eb-u\"><noscript class=\"gh-t gh-spr\">Hi (<a href=\"https://signin.ebay.com/ws/eBayISAPI.dll?SignIn&amp;_trksid=m570.l3348\">Sign in</a> to bid or buy)</noscript><script>(function(){try{var d=document.cookie,a=((a=d.match(/u1f[^a-zA-Z0-9]([^^]*)[0-9a-z]{8}/))?a[1].replace(/\\+/g,\" \"):\"\").replace(/(.{12}).*/,\"$1...\");if(/[<>%&'\\/]/.test(a)){throw(1)}document.write(\"<span id=gh-ug\"+(!a||/u1p.QEBfX/.test(d)?' class=gh-ug-guest>Hi! <a href=\"https://signin.ebay.com/ws/eBayISAPI.dll?SignIn&_trksid=m570.l1524\" rel=\"nofollow\" _sp=\"m570.l1524\">Sign in</a> <span id=\"gh-ug-flex\">or <a href=\"https://reg.ebay.com/reg/PartialReg?_trksid=m570.l2621\" rel=\"nofollow\" _sp=\"m570.l2621\">register</a></span>':' style=\"margin-right:3px\">Hi <b>-User-</b>!'.replace(/-User-/,decodeURIComponent(escape(a))))+\"</span>\")}catch(b){document.write(\"<style>#gh-topl{display:none}</style>\")}})();</script></li><li class=\"gh-t gh-divider-l\" id=\"gh-p-1\"><a href=\"https://www.ebay.com/globaldeals\" _sp=\"m570.l3188\" data-sp=\"m570.l3188\" class=\"gh-p\"> Daily Deals</a></li><li class=\"gh-t gh-divider-l\" id=\"gh-p-3\"><a href=\"https://ocsnext.ebay.com/ocs/home\" _sp=\n"
     ]
    }
   ],
   "source": [
    "file=extract_content(\"https://www.ebay.com/help/policies/member-behaviour-policies/user-privacy-notice-privacy-policy?id=4260\")\n",
    "print(file[:5000])"
   ]
  },
  {
   "cell_type": "code",
   "execution_count": 22,
   "metadata": {
    "scrolled": true
   },
   "outputs": [
    {
     "name": "stdout",
     "output_type": "stream",
     "text": [
      "<!DOCTYPE,html><html,lang=en><head><meta,http-equiv=X-UA-Compatible,content=IE=Edge><link,rel=\"dns-prefetch\",href=\"//ir.ebaystatic.com\"><link,rel=\"dns-prefetch\",href=\"//secureir.ebaystatic.com\"><link,rel=\"dns-prefetch\",href=\"//i.ebayimg.com\"><link,rel=\"dns-prefetch\",href=\"//rover.ebay.com\"><script>$ssgST=new,Date().getTime();</script><meta,charset=utf-8><meta,name=google-site-verification,content=RDpd-WPXK6QX0AeQPo4hCtBF-2nKyj3zjzY-H7GgRs8><meta,name=viewport,content=\"width=device-width,,initial-scale=1\"><meta,http-equiv=content-language><meta,name=format-detection,content=telephone=no><meta,property=og:type,content=article><meta,property=og:title,content=\"User,Privacy,Notice\"><meta,property=og:description,content=\"In,our,User,Privacy,Notice,we,have,compiled,all,essential,information,about,our,handling,of,your,personal,data,and,your,corresponding,rights,for,you.\n",
      "&nbsp;\n",
      "\n",
      "This,User,Privacy,Notice,is,effective,from,December,23,,2021.,View,the,previous,User,Privacy,Notice.\n",
      "\"><meta,property=og:url,content=https://www.ebay.com/help/policies/member-behaviour-policies/user-privacy-notice-privacy-policy?id=4260><meta,property=og:site_name,content=eBay><meta,name=twitter:title,content=\"User,Privacy,Notice\"><meta,name=twitter:description,content=\"In,our,User,Privacy,Notice,we,have,compiled,all,essential,information,about,our,handling,of,your,personal,data,and,your,corresponding,rights,for,you.\n",
      "&nbsp;\n",
      "\n",
      "This,User,Privacy,Notice,is,effective,from,December,23,,2021.,View,the,previous,User,Privacy,Notice.\n",
      "\"><meta,name=twitter:card,content=summary><meta,name=twitter:site,content=@eBay><meta,name=description,content=\"In,our,User,Privacy,Notice,we,have,compiled,all,essential,information,about,our,handling,of,your,personal,data,and,your,corresponding,rights,for,you.\n",
      "&nbsp;\n",
      "\n",
      "This,User,Privacy,Notice,is,effective,from,December,23,,2021.,View,the,previous,User,Privacy,Notice.\n",
      "\"><link,rel=icon,href=https://pages.ebay.com/favicon.ico><link,rel=canonical,href=https://www.ebay.com/help/policies/member-behaviour-policies/user-privacy-notice-privacy-policy?id=4260><title>User,Privacy,Notice,|,eBay</title><link,rel=\"stylesheet\",type=\"text/css\",href=\"https://ir.ebaystatic.com/rs/v/ionunpunsiy1zjhsivysbop3uei.css?proc=DU:N\"><link,rel=stylesheet,href=https://ir.ebaystatic.com/rs/c/web-article-AUhcH9OE.css></head><body,class=no-touch><div,class=debug><button,id=sessionId>647627502062</button><button,id=contextId>1091a81a-ba65-4776-bc72-7692bce6317f:17e43d584aa</button><button,id=segmentId>19997</button></div><div,class=spinning><div,class=spinningIcon></div></div><div,class=global-header><div><style>.gh-hide-if-nocss{display:none;}.gh-ar-hdn{color:#fff}</style>,<div,class=\"gh-acc-exp-div,gh-hide-if-nocss\"><a,id=\"gh-hdn-stm\",class=\"gh-acc-a\",href=\"#mainContent\">Skip,to,main,content</a></div><!--[if,lt,IE,9]><div,id=\"gh\",role=\"banner\",class=\"gh-IE8,gh-flex,gh-pre-js,gh-w,\"><![endif]--><header,id=\"gh\",role=\"banner\",class=\"gh-ui-6-5,gh-flex,gh-pre-js,gh-w,gh-sch-prom,\",data-treatment><table,class=\"gh-tbl\",role=\"presentation\"><tbody><tr><td,class=\"gh-td\"><!--[if,lt,IE,9]><a,href=\"https://www.ebay.com/\",_sp=\"m570.l2586\",id=\"gh-la\"><img,width=117,height=120,style='clip:rect(47px,,118px,,95px,,0px);,position:absolute;,top:-47px;left:0',alt=\"eBay,Logo\",src=\"https://ir.ebaystatic.com/rs/v/apstidvcvu5pxlbxkphrrdo5iqv.png\",id=\"gh-logo\"></a><![endif]--><a,href=\"https://www.ebay.com/\",_sp=\"m570.l2586\",id=\"gh-la\"><img,width=\"250\",height=\"200\",style=\"clip:rect(47px,,118px,,95px,,0px);,position:absolute;,top:-47px;left:0\",alt=\"eBay,Logo\",src=\"https://ir.ebaystatic.com/rs/v/fxxj3ttftm5ltcqnto1o4baovyl.png\",id=\"gh-logo\"></a></td><td,id=\"gh-title\">Customer,Service</td><td,class=\"sticky_placeholder\"><ul></ul></td></tr></tbody></table><div,id=\"gh-top\",class=\"gh-hide-if-nocss\",role=\"navigation\",aria-label=\"Account\"><ul,id=\"gh-topl\"><li,class=\"gh-t,\",id=\"gh-eb-u\"><noscript,class=\"gh-t,gh-spr\">Hi,(<a,href=\"https://signin.ebay.com/ws/eBayISAPI.dll?SignIn&amp;_trksid=m570.l3348\">Sign,in</a>,to,bid,or,buy)</noscript><script>(function(){try{var,d=document.cookie,a=((a=d.match(/u1f[^a-zA-Z0-9]([^^]*)[0-9a-z]{8}/))?a[1].replace(/\\+/g,\",\"):\"\").replace(/(.{12}).*/,\"$1...\");if(/[<>%&'\\/]/.test(a)){throw(1)}document.write(\"<span,id=gh-ug\"+(!a||/u1p.QEBfX/.test(d)?',class=gh-ug-guest>Hi!,<a,href=\"https://signin.ebay.com/ws/eBayISAPI.dll?SignIn&_trksid=m570.l1524\",rel=\"nofollow\",_sp=\"m570.l1524\">Sign,in</a> <span,id=\"gh-ug-flex\">or,<a,href=\"https://reg.ebay.com/reg/PartialReg?_trksid=m570.l2621\",rel=\"nofollow\",_sp=\"m570.l2621\">register</a></span>':',style=\"margin-right:3px\">Hi,<b>-User-</b>!'.replace(/-User-/,decodeURIComponent(escape(a))))+\"</span>\")}catch(b){document.write(\"<style>#gh-topl{display:none}</style>\")}})();</script></li><li,class=\"gh-t,gh-divider-l\",id=\"gh-p-1\"><a,href=\"https://www.ebay.com/globaldeals\",_sp=\"m570.l3188\",data-sp=\"m570.l3188\",class=\"gh-p\">,Daily,Deals</a></li><li,class=\"gh-t,gh-divider-l\",id=\"gh-p-3\"><a,href=\"https://ocsnext.ebay.com/ocs/home\",_sp=\n"
     ]
    }
   ],
   "source": [
    "comma_separated_file=place_delimiters(file)\n",
    "print(comma_separated_file[:5000])"
   ]
  },
  {
   "cell_type": "code",
   "execution_count": 23,
   "metadata": {
    "scrolled": true
   },
   "outputs": [
    {
     "name": "stdout",
     "output_type": "stream",
     "text": [
      "html user privacy notice ebay bce skip main contentcustomer servicehi daily deals help contactship toloading error try againok sellwatchlistexpand watch listloading sign see user information ebayexpand ebay summary recently viewed bids offers watchlist purchase history buy selling saved searches saved sellers messagesnotification expand cartloading something went wrong view cart details page navigationhomecustomer serviceuser privacy noticeenter key words want ask helpa dialog open type search terms min articleuser privacy noticeenter search term display live search results use tab key navigate results scope updates user privacy notice controller data protection officer contact personal data collect process purposes legal basis data processing categories recipients international data transfers storage duration erasure rights data subject cookies similar technologies data security important information regarding data protection regional state privacy disclosuresprevious user privacy noticein user privacy notice compiled essential information handling personal data corresponding rights user privacy notice effective december view previous user privacy notice scope updates user privacy notice user privacy notice applies use website ebay applications services products tools regardless access use services including access via mobile devices apps additional regional disclosures please see section regional state privacy disclosures learn section user privacy notice also applies reference made via link similar manner websites partners services ebay offered may change user privacy notice time posting revised user privacy notice website indicating effective date revised user privacy notice notified material changes user privacy notice via messages ebay email controller ebay group company responsible collection processing personal data connection provision services depends use services use services depending region located one following ebay group companies responsible collection processing personal data connection provision services usa ebay inc hamilton avenue san jose usa canada ebay canada limited richmond street west floor suite toronto ontario canada ebay gmbh albert einstein ring kleinmachnow germany united kingdom ebay limited london place london united kingdom india ebay singapore services private limited collyer quay ocean financial centre singapore countries ebay marketplaces gmbh helvetiastrasse bern switzerland use payment services sellers depending region located whether provide payment services following ebay group companies responsible collection processing personal data connection provision payment services sellers usa ebay commerce inc hamilton ave san jose usa ebay boulevard royal luxembourg ebay commerce ltd london place london united kingdom canada ebay commerce canada limited chipman hill suite saint john canada australia ebay commerce australia pty ltd level york street sydney nsw australia described payments terms use opens new window tab personal data may processed one companies depending location location ebay website user completes transaction data protection officer contact appointed data protection officers several countries oversee protection personal data find contact details data protection officer list data protection officers opens new window tab ebay privacy center opens new window tab furthermore questions complaints regarding user privacy notice global data protection principles handling personal data contact ebay privacy team controller responsible processing personal data time applies regardless whether appointed data protection officer country find necessary information contact details opens new window tab ebay privacy center opens new window tab personal data collect process collect personal data use services create new ebay account provide information via web form add update information ebay account participate online community discussions otherwise interact also collect personal data sources learn section total collect following personal data personal data provide using services creating ebay account data identifies name address telephone numbers email addresses username tax identification number provide setting ebay account later date use payment services seller additional identification data tax identification numbers information provide using payment services seller data regarding bids purchases sales provide transaction content share users messaging tools financial information shipping billing information provide well information required customs clearance relevant shipping information shipped one programs cases age gender country birth nationality employment status family status interests preferences may provide additional information web form updating adding information ebay account participating community discussions member chats surveys inquiries dispute resolution customer service calls recorded consent contact reason regarding services data required entitled applicab\n"
     ]
    }
   ],
   "source": [
    "clean_policy=text_cleaner(comma_separated_file)\n",
    "print(clean_policy[:5000])"
   ]
  },
  {
   "cell_type": "markdown",
   "metadata": {},
   "source": [
    "## Extracted words"
   ]
  },
  {
   "cell_type": "code",
   "execution_count": 24,
   "metadata": {},
   "outputs": [
    {
     "name": "stdout",
     "output_type": "stream",
     "text": [
      "['html', 'user', 'privacy', 'notice', 'ebay', 'bce', 'skip', 'main', 'contentcustomer', 'servicehi', 'daily', 'deals', 'help', 'contactship', 'toloading', 'error', 'try', 'againok', 'sellwatchlistexpand', 'watch', 'listloading', 'sign', 'see', 'user', 'information', 'ebayexpand', 'ebay', 'summary', 'recently', 'viewed', 'bids', 'offers', 'watchlist', 'purchase', 'history', 'buy', 'selling', 'saved', 'searches', 'saved', 'sellers', 'messagesnotification', 'expand', 'cartloading', 'something', 'went', 'wrong', 'view', 'cart', 'details', 'page', 'navigationhomecustomer', 'serviceuser', 'privacy', 'noticeenter', 'key', 'words', 'want', 'ask', 'helpa', 'dialog', 'open', 'type', 'search', 'terms', 'min', 'articleuser', 'privacy', 'noticeenter', 'search', 'term', 'display', 'live', 'search', 'results', 'use', 'tab', 'key', 'navigate', 'results', 'scope', 'updates', 'user', 'privacy', 'notice', 'controller', 'data', 'protection', 'officer', 'contact', 'personal', 'data', 'collect', 'process', 'purposes', 'legal', 'basis', 'data', 'processing', 'categories', 'recipients', 'international', 'data', 'transfers', 'storage', 'duration', 'erasure', 'rights', 'data', 'subject', 'cookies', 'similar', 'technologies', 'data', 'security', 'important', 'information', 'regarding', 'data', 'protection', 'regional', 'state', 'privacy', 'disclosuresprevious', 'user', 'privacy', 'noticein', 'user', 'privacy', 'notice', 'compiled', 'essential', 'information', 'handling', 'personal', 'data', 'corresponding', 'rights', 'user', 'privacy', 'notice', 'effective', 'december', 'view', 'previous', 'user', 'privacy', 'notice', 'scope', 'updates', 'user', 'privacy', 'notice', 'user', 'privacy', 'notice', 'applies', 'use', 'website', 'ebay', 'applications', 'services', 'products', 'tools', 'regardless', 'access', 'use', 'services', 'including', 'access', 'via', 'mobile', 'devices', 'apps', 'additional', 'regional', 'disclosures', 'please', 'see', 'section', 'regional', 'state', 'privacy', 'disclosures', 'learn', 'section', 'user', 'privacy', 'notice', 'also', 'applies', 'reference', 'made', 'via', 'link', 'similar', 'manner', 'websites', 'partners', 'services', 'ebay', 'offered', 'may', 'change', 'user', 'privacy', 'notice', 'time', 'posting', 'revised', 'user', 'privacy', 'notice', 'website', 'indicating', 'effective', 'date', 'revised', 'user', 'privacy', 'notice', 'notified', 'material', 'changes', 'user', 'privacy', 'notice', 'via', 'messages', 'ebay', 'email', 'controller', 'ebay', 'group', 'company', 'responsible', 'collection', 'processing', 'personal', 'data', 'connection', 'provision', 'services', 'depends', 'use', 'services', 'use', 'services', 'depending', 'region', 'located', 'one', 'following', 'ebay', 'group', 'companies', 'responsible', 'collection', 'processing', 'personal', 'data', 'connection', 'provision', 'services', 'usa', 'ebay', 'inc', 'hamilton', 'avenue', 'san', 'jose', 'usa', 'canada', 'ebay', 'canada', 'limited', 'richmond', 'street', 'west', 'floor', 'suite', 'toronto', 'ontario', 'canada', 'ebay', 'gmbh', 'albert', 'einstein', 'ring', 'kleinmachnow', 'germany', 'united', 'kingdom', 'ebay', 'limited', 'london', 'place', 'london', 'united', 'kingdom', 'india', 'ebay', 'singapore', 'services', 'private', 'limited', 'collyer', 'quay', 'ocean', 'financial', 'centre', 'singapore', 'countries', 'ebay', 'marketplaces', 'gmbh', 'helvetiastrasse', 'bern', 'switzerland', 'use', 'payment', 'services', 'sellers', 'depending', 'region', 'located', 'whether', 'provide', 'payment', 'services', 'following', 'ebay', 'group', 'companies', 'responsible', 'collection', 'processing', 'personal', 'data', 'connection', 'provision', 'payment', 'services', 'sellers', 'usa', 'ebay', 'commerce', 'inc', 'hamilton', 'ave', 'san', 'jose', 'usa', 'ebay', 'boulevard', 'royal', 'luxembourg', 'ebay', 'commerce', 'ltd', 'london', 'place', 'london', 'united', 'kingdom', 'canada', 'ebay', 'commerce', 'canada', 'limited', 'chipman', 'hill', 'suite', 'saint', 'john', 'canada', 'australia', 'ebay', 'commerce', 'australia', 'pty', 'ltd', 'level', 'york', 'street', 'sydney', 'nsw', 'australia', 'described', 'payments', 'terms', 'use', 'opens', 'new', 'window', 'tab', 'personal', 'data', 'may', 'processed', 'one', 'companies', 'depending', 'location', 'location', 'ebay', 'website', 'user', 'completes', 'transaction', 'data', 'protection', 'officer', 'contact', 'appointed', 'data', 'protection', 'officers', 'several', 'countries', 'oversee', 'protection', 'personal', 'data', 'find', 'contact', 'details', 'data', 'protection', 'officer', 'list', 'data', 'protection', 'officers', 'opens', 'new', 'window', 'tab', 'ebay', 'privacy', 'center', 'opens', 'new', 'window', 'tab', 'furthermore', 'questions', 'complaints', 'regarding', 'user', 'privacy', 'notice', 'global', 'data', 'protection', 'principles', 'handling', 'personal', 'data', 'contact', 'ebay', 'privacy', 'team', 'controller', 'responsible', 'processing', 'personal', 'data', 'time', 'applies', 'regardless', 'whether', 'appointed', 'data', 'protection', 'officer', 'country', 'find', 'necessary', 'information', 'contact', 'details', 'opens', 'new', 'window', 'tab', 'ebay', 'privacy', 'center', 'opens', 'new', 'window', 'tab', 'personal', 'data', 'collect', 'process', 'collect', 'personal', 'data', 'use', 'services', 'create', 'new', 'ebay', 'account', 'provide', 'information', 'via', 'web', 'form', 'add', 'update', 'information', 'ebay', 'account', 'participate', 'online', 'community', 'discussions', 'otherwise', 'interact', 'also', 'collect', 'personal', 'data', 'sources', 'learn', 'section', 'total', 'collect', 'following', 'personal', 'data', 'personal', 'data', 'provide', 'using', 'services', 'creating', 'ebay', 'account', 'data', 'identifies', 'name', 'address', 'telephone', 'numbers', 'email', 'addresses', 'username', 'tax', 'identification', 'number', 'provide', 'setting', 'ebay', 'account', 'later', 'date', 'use', 'payment', 'services', 'seller', 'additional', 'identification', 'data', 'tax', 'identification', 'numbers', 'information', 'provide', 'using', 'payment', 'services', 'seller', 'data', 'regarding', 'bids', 'purchases', 'sales', 'provide', 'transaction', 'content', 'share', 'users', 'messaging', 'tools', 'financial', 'information', 'shipping', 'billing', 'information', 'provide', 'well', 'information', 'required', 'customs', 'clearance', 'relevant', 'shipping', 'information', 'shipped', 'one', 'programs', 'cases', 'age', 'gender', 'country', 'birth', 'nationality', 'employment', 'status', 'family', 'status', 'interests', 'preferences', 'may', 'provide', 'additional', 'information', 'web', 'form', 'updating', 'adding', 'information', 'ebay', 'account', 'participating', 'community', 'discussions', 'member', 'chats', 'surveys', 'inquiries', 'dispute', 'resolution', 'customer', 'service', 'calls', 'recorded', 'consent', 'contact', 'reason', 'regarding', 'services', 'data', 'required', 'entitled', 'applicable', 'law', 'collect', 'process', 'need', 'authentication', 'identification', 'verification', 'data', 'collect', 'personal', 'data', 'collect', 'automatically', 'use', 'services', 'create', 'ebay', 'account', 'data', 'generated', 'part', 'one', 'transactions', 'linked', 'ebay', 'account', 'result', 'transaction', 'involved', 'transaction', 'amounts', 'time', 'location', 'transactions', 'form', 'payment', 'payout', 'method', 'data', 'generated', 'actions', 'use', 'services', 'linked', 'ebay', 'account', 'place', 'items', 'shopping', 'cart', 'place', 'items', 'watch', 'list', 'save', 'sellers', 'searches', 'interests', 'follow', 'users', 'data', 'regarding', 'interactions', 'services', 'advertising', 'preferences', 'communications', 'location', 'data', 'including', 'general', 'location', 'data', 'permission', 'precise', 'location', 'data', 'mobile', 'device', 'please', 'note', 'mobile', 'devices', 'manage', 'disable', 'use', 'precise', 'location', 'services', 'applications', 'settings', 'menu', 'mobile', 'device', 'computer', 'connection', 'information', 'statistics', 'regarding', 'use', 'services', 'information', 'data', 'traffic', 'websites', 'referral', 'url', 'information', 'advertisements', 'address', 'access', 'times', 'including', 'accessed', 'pages', 'within', 'services', 'language', 'settings', 'weblog', 'information', 'personal', 'data', 'collect', 'connection', 'use', 'cookies', 'similar', 'technologies', 'use', 'cookies', 'web', 'beacons', 'similar', 'technologies', 'collect', 'data', 'connection', 'services', 'collect', 'data', 'devices', 'use', 'services', 'data', 'collected', 'includes', 'following', 'usage', 'device', 'related', 'information', 'data', 'pages', 'visit', 'access', 'time', 'frequency', 'duration', 'visits', 'links', 'click', 'actions', 'take', 'part', 'use', 'services', 'advertising', 'email', 'content', 'data', 'activities', 'interactions', 'advertising', 'partners', 'including', 'data', 'advertisements', 'shown', 'often', 'shown', 'shown', 'whether', 'took', 'action', 'clicking', 'advertisement', 'making', 'purchase', 'user', 'segment', 'category', 'user', 'fall', 'example', 'female', 'years', 'old', 'interested', 'sneakers', 'model', 'device', 'type', 'operating', 'system', 'version', 'browser', 'type', 'settings', 'device', 'individual', 'device', 'identifier', 'advertisement', 'individual', 'device', 'token', 'cookie', 'related', 'data', 'address', 'device', 'accesses', 'services', 'location', 'data', 'including', 'general', 'location', 'data', 'permission', 'precise', 'location', 'data', 'mobile', 'device', 'please', 'note', 'mobile', 'devices', 'allow', 'manage', 'disable', 'use', 'precise', 'location', 'services', 'applications', 'settings', 'menu', 'information', 'use', 'technologies', 'choices', 'see', 'section', 'cookies', 'similar', 'technologies', 'personal', 'data', 'sources', 'also', 'collect', 'personal', 'data', 'sources', 'third', 'parties', 'extent', 'permitted', 'applicable', 'law', 'particular', 'includes', 'following', 'data', 'data', 'public', 'sources', 'data', 'credit', 'agencies', 'bureaus', 'data', 'data', 'providers', 'regard', 'payment', 'services', 'sellers', 'data', 'government', 'sources', 'concerning', 'previous', 'convictions', 'respective', 'seller', 'extent', 'permitted', 'applicable', 'law', 'combine', 'connect', 'personal', 'data', 'collect', 'data', 'sources', 'personal', 'data', 'disclosed', 'third', 'parties', 'take', 'steps', 'ensure', 'third', 'parties', 'legally', 'permitted', 'disclose', 'personal', 'data', 'also', 'receive', 'access', 'personal', 'data', 'members', 'ebay', 'inc', 'corporate', 'family', 'opens', 'new', 'window', 'tab', 'social', 'network', 'data', 'share', 'allow', 'use', 'social', 'networks', 'providers', 'single', 'sign', 'services', 'already', 'account', 'create', 'ebay', 'account', 'link', 'ebay', 'account', 'single', 'sign', 'services', 'determine', 'personal', 'data', 'access', 'authorizing', 'connection', 'single', 'sign', 'service', 'allow', 'share', 'personal', 'data', 'social', 'networks', 'link', 'ebay', 'account', 'social', 'network', 'social', 'networks', 'may', 'automatically', 'provide', 'access', 'certain', 'personal', 'data', 'stored', 'determine', 'personal', 'data', 'access', 'privacy', 'settings', 'social', 'network', 'may', 'also', 'use', 'plug', 'ins', 'technologies', 'various', 'social', 'networks', 'click', 'link', 'displayed', 'social', 'network', 'plug', 'voluntarily', 'connect', 'social', 'network', 'purposes', 'legal', 'basis', 'data', 'processing', 'categories', 'recipients', 'process', 'personal', 'data', 'various', 'purposes', 'based', 'several', 'different', 'legal', 'bases', 'allow', 'processing', 'example', 'process', 'personal', 'data', 'provide', 'improve', 'services', 'provide', 'personalized', 'user', 'experience', 'website', 'contact', 'ebay', 'account', 'services', 'provide', 'customer', 'service', 'provide', 'personalized', 'advertising', 'marketing', 'communications', 'detect', 'prevent', 'mitigate', 'investigate', 'fraudulent', 'illegal', 'activity', 'also', 'share', 'information', 'third', 'parties', 'including', 'service', 'providers', 'acting', 'behalf', 'purposes', 'addition', 'may', 'share', 'personal', 'data', 'among', 'ebay', 'group', 'companies', 'order', 'fulfil', 'contract', 'user', 'agreement', 'applicable', 'payments', 'terms', 'use', 'learn', 'section', 'find', 'summary', 'purposes', 'process', 'personal', 'data', 'including', 'categories', 'recipients', 'transmit', 'personal', 'data', 'purposes', 'stated', 'sorted', 'legal', 'basis', 'processing', 'sharing', 'process', 'personal', 'data', 'order', 'fulfil', 'contract', 'provide', 'services', 'includes', 'following', 'purposes', 'processing', 'data', 'relating', 'company', 'purpose', 'entering', 'contract', 'executing', 'provision', 'services', 'including', 'limited', 'enabling', 'performing', 'transactions', 'users', 'displaying', 'transaction', 'feedback', 'history', 'providing', 'enhancing', 'features', 'payment', 'processing', 'ratings', 'ebay', 'account', 'management', 'providing', 'services', 'may', 'use', 'ensuring', 'functionality', 'services', 'connection', 'provision', 'services', 'send', 'notifications', 'relating', 'execution', 'transactions', 'use', 'services', 'accordance', 'communication', 'preferences', 'ebay', 'account', 'enabling', 'delivery', 'purchased', 'items', 'logistics', 'shipping', 'service', 'providers', 'including', 'notifications', 'connection', 'delivery', 'latter', 'extent', 'permitted', 'applicable', 'law', 'without', 'consent', 'provision', 'payment', 'services', 'accordance', 'payments', 'terms', 'use', 'providing', 'general', 'customer', 'support', 'including', 'solution', 'problems', 'ebay', 'account', 'arbitration', 'disputes', 'providing', 'services', 'within', 'scope', 'customer', 'service', 'well', 'enforcement', 'fee', 'claims', 'purposes', 'may', 'contact', 'via', 'notification', 'ebay', 'email', 'telephone', 'sms', 'push', 'notification', 'mobile', 'device', 'mail', 'contact', 'telephone', 'order', 'ensure', 'efficiency', 'may', 'use', 'automatically', 'dialed', 'calls', 'tape', 'announcements', 'automated', 'text', 'messages', 'accordance', 'user', 'agreement', 'payments', 'terms', 'use', 'extent', 'permitted', 'applicable', 'law', 'processing', 'general', 'location', 'data', 'order', 'provide', 'location', 'based', 'services', 'enforcement', 'user', 'agreement', 'payments', 'terms', 'use', 'user', 'privacy', 'notice', 'rules', 'policies', 'publication', 'promotion', 'listings', 'related', 'content', 'websites', 'applications', 'services', 'tools', 'ebay', 'inc', 'corporate', 'family', 'members', 'cooperating', 'third', 'party', 'operators', 'websites', 'applications', 'services', 'tools', 'share', 'content', 'listings', 'related', 'personal', 'data', 'third', 'parties', 'basis', 'agreement', 'limits', 'use', 'personal', 'data', 'third', 'party', 'purposes', 'necessary', 'fulfil', 'contractual', 'obligations', 'third', 'party', 'providers', 'contractually', 'obliged', 'take', 'appropriate', 'security', 'measures', 'regard', 'data', 'third', 'party', 'providers', 'strictly', 'forbidden', 'pass', 'personal', 'data', 'contained', 'listings', 'third', 'parties', 'case', 'data', 'transmissions', 'ebay', 'inc', 'corporate', 'family', 'members', 'restrictions', 'result', 'binding', 'corporate', 'rules', 'necessary', 'transmit', 'personal', 'data', 'processors', 'following', 'recipients', 'one', 'several', 'purposes', 'described', 'ebay', 'users', 'ebay', 'inc', 'corporate', 'family', 'members', 'opens', 'new', 'window', 'tab', 'external', 'service', 'providers', 'authentication', 'partners', 'physical', 'storage', 'service', 'partners', 'shipping', 'companies', 'government', 'agencies', 'public', 'authorities', 'payment', 'service', 'providers', 'external', 'operators', 'websites', 'applications', 'services', 'tools', 'process', 'personal', 'data', 'order', 'comply', 'legal', 'obligations', 'subject', 'includes', 'following', 'purposes', 'participation', 'investigations', 'proceedings', 'conducted', 'public', 'authorities', 'government', 'agencies', 'particular', 'purpose', 'detecting', 'investigating', 'prosecuting', 'illegal', 'acts', 'prevention', 'detection', 'mitigation', 'illegal', 'activities', 'complying', 'information', 'requests', 'third', 'parties', 'based', 'statutory', 'information', 'rights', 'ensuring', 'information', 'security', 'services', 'retention', 'storage', 'personal', 'data', 'comply', 'specific', 'legal', 'retention', 'requirements', 'necessary', 'transmit', 'personal', 'data', 'processors', 'following', 'recipients', 'one', 'several', 'purposes', 'described', 'law', 'enforcement', 'agencies', 'courts', 'government', 'agencies', 'public', 'authorities', 'intergovernmental', 'supranational', 'bodies', 'third', 'parties', 'based', 'statutory', 'information', 'claims', 'third', 'party', 'service', 'providers', 'third', 'parties', 'involved', 'judicial', 'proceedings', 'particular', 'submit', 'legal', 'order', 'court', 'order', 'equivalent', 'legal', 'order', 'credit', 'agencies', 'bureaus', 'associations', 'required', 'applicable', 'law', 'ebay', 'inc', 'corporate', 'family', 'members', 'opens', 'new', 'window', 'tab', 'process', 'personal', 'data', 'order', 'protect', 'vital', 'interests', 'vital', 'interests', 'another', 'natural', 'person', 'includes', 'following', 'purposes', 'prevention', 'detection', 'mitigation', 'investigation', 'unlawful', 'activities', 'may', 'result', 'impairment', 'vital', 'interests', 'vital', 'interests', 'another', 'natural', 'person', 'unless', 'statutory', 'obligation', 'effect', 'necessary', 'transmit', 'personal', 'data', 'processors', 'following', 'recipients', 'one', 'several', 'purposes', 'described', 'law', 'enforcement', 'agencies', 'courts', 'government', 'agencies', 'public', 'authorities', 'intergovernmental', 'supranational', 'bodies', 'third', 'parties', 'involved', 'judicial', 'proceedings', 'ebay', 'inc', 'corporate', 'family', 'members', 'opens', 'new', 'window', 'tab', 'external', 'service', 'providers', 'process', 'personal', 'data', 'necessary', 'purposes', 'legitimate', 'interests', 'pursued', 'third', 'party', 'except', 'interests', 'overridden', 'interests', 'fundamental', 'rights', 'freedoms', 'order', 'reconcile', 'legitimate', 'interests', 'rights', 'introduced', 'appropriate', 'control', 'mechanisms', 'basis', 'process', 'data', 'following', 'purposes', 'participation', 'investigations', 'proceedings', 'conducted', 'courts', 'law', 'enforcement', 'agencies', 'government', 'agencies', 'public', 'authorities', 'intergovernmental', 'supranational', 'bodies', 'particular', 'purpose', 'detecting', 'investigating', 'prosecuting', 'illegal', 'acts', 'unless', 'statutory', 'obligation', 'effect', 'may', 'legitimately', 'assume', 'disclosure', 'data', 'necessary', 'avert', 'imminent', 'disadvantages', 'report', 'suspicion', 'illegal', 'act', 'cases', 'disclose', 'believe', 'necessary', 'name', 'city', 'zip', 'code', 'telephone', 'number', 'email', 'address', 'usernames', 'address', 'fraud', 'complaints', 'bidding', 'listing', 'history', 'protection', 'legitimate', 'interests', 'third', 'parties', 'connection', 'civil', 'law', 'disputes', 'including', 'investigation', 'disputes', 'unless', 'statutory', 'obligation', 'effect', 'may', 'legitimately', 'assume', 'necessary', 'disclose', 'data', 'third', 'parties', 'order', 'avert', 'imminent', 'disadvantages', 'prevention', 'detection', 'mitigation', 'investigation', 'fraud', 'security', 'breaches', 'prohibited', 'unlawful', 'activities', 'including', 'assessment', 'corresponding', 'risks', 'unless', 'statutory', 'obligation', 'effect', 'monitoring', 'improvement', 'information', 'security', 'services', 'unless', 'statutory', 'obligation', 'effect', 'performance', 'identity', 'checks', 'creditworthiness', 'financial', 'standing', 'checks', 'evaluation', 'applications', 'comparison', 'information', 'accuracy', 'verification', 'purposes', 'automatic', 'filtering', 'necessary', 'manual', 'review', 'messages', 'sent', 'messaging', 'tools', 'prevent', 'fraudulent', 'suspicious', 'activity', 'violations', 'user', 'agreement', 'rules', 'policies', 'including', 'enforcing', 'prohibition', 'purchases', 'sales', 'outside', 'ebay', 'explained', 'filtering', 'messages', 'sent', 'via', 'messaging', 'tools', 'provision', 'functions', 'users', 'make', 'processing', 'transactions', 'easier', 'convenient', 'analysis', 'improvement', 'services', 'ebay', 'inc', 'corporate', 'family', 'members', 'reviewing', 'site', 'usage', 'data', 'information', 'users', 'blocked', 'crashed', 'pages', 'order', 'identify', 'solve', 'problems', 'provide', 'improved', 'user', 'experience', 'including', 'part', 'product', 'development', 'analysis', 'telephone', 'conversations', 'customer', 'service', 'recorded', 'consent', 'advertisements', 'mail', 'extent', 'permitted', 'applicable', 'law', 'without', 'consent', 'communications', 'via', 'electronic', 'mail', 'telephone', 'offer', 'vouchers', 'discounts', 'special', 'offers', 'conduct', 'opinion', 'polls', 'surveys', 'inform', 'services', 'wish', 'receive', 'email', 'marketing', 'communications', 'also', 'unsubscribe', 'clicking', 'link', 'email', 'received', 'technical', 'reasons', 'implementation', 'may', 'take', 'days', 'notifications', 'regarding', 'promotions', 'information', 'services', 'logging', 'account', 'messages', 'ebay', 'according', 'communication', 'preferences', 'ebay', 'account', 'users', 'outside', 'european', 'economic', 'area', 'switzerland', 'united', 'kingdom', 'personalization', 'measurement', 'improvement', 'advertisements', 'online', 'offerings', 'online', 'offerings', 'ebay', 'inc', 'corporate', 'family', 'members', 'third', 'parties', 'customization', 'page', 'content', 'display', 'items', 'services', 'may', 'like', 'based', 'actions', 'take', 'evaluation', 'quality', 'success', 'email', 'marketing', 'campaigns', 'assessment', 'service', 'status', 'offering', 'partner', 'bonus', 'programs', 'branded', 'marketing', 'efforts', 'seller', 'financing', 'offers', 'branded', 'credit', 'cards', 'collaboration', 'third', 'party', 'lender', 'credit', 'card', 'issuer', 'provision', 'shared', 'content', 'services', 'ebay', 'inc', 'corporate', 'family', 'members', 'cooperating', 'payment', 'service', 'providers', 'initiation', 'preparation', 'execution', 'company', 'acquisition', 'event', 'merger', 'another', 'company', 'takeover', 'another', 'company', 'event', 'occurs', 'require', 'merged', 'entity', 'comply', 'user', 'privacy', 'notice', 'respect', 'personal', 'data', 'personal', 'data', 'processed', 'purpose', 'specified', 'user', 'privacy', 'notice', 'informed', 'advance', 'processing', 'data', 'new', 'purpose', 'assertion', 'defense', 'legal', 'claims', 'including', 'asserted', 'one', 'ebay', 'user', 'another', 'ebay', 'user', 'necessary', 'transmit', 'personal', 'data', 'processors', 'following', 'recipients', 'one', 'several', 'purposes', 'described', 'ebay', 'inc', 'corporate', 'family', 'members', 'opens', 'new', 'window', 'tab', 'external', 'service', 'providers', 'ebay', 'users', 'law', 'enforcement', 'agencies', 'courts', 'government', 'agencies', 'public', 'authorities', 'intergovernmental', 'supranational', 'bodies', 'third', 'parties', 'involved', 'judicial', 'proceedings', 'payment', 'service', 'providers', 'credit', 'agencies', 'bureaus', 'data', 'verification', 'services', 'risk', 'assessment', 'vendors', 'collections', 'agencies', 'companies', 'context', 'company', 'acquisition', 'participants', 'ebay', 'vero', 'program', 'proact', 'program', 'third', 'parties', 'event', 'investigation', 'fraud', 'intellectual', 'property', 'infringement', 'retail', 'crime', 'stolen', 'goods', 'product', 'piracy', 'unlawful', 'activity', 'sole', 'discretion', 'deem', 'investigation', 'incident', 'necessary', 'useful', 'cases', 'disclose', 'personal', 'data', 'including', 'seller', 'name', 'address', 'city', 'zip', 'code', 'country', 'telephone', 'number', 'email', 'address', 'company', 'name', 'third', 'party', 'bind', 'third', 'party', 'worldwide', 'non', 'disclosure', 'agreement', 'treat', 'data', 'confidential', 'information', 'right', 'object', 'processing', 'based', 'legitimate', 'interests', 'found', 'section', 'rights', 'data', 'subject', 'regard', 'use', 'cookies', 'similar', 'technologies', 'section', 'cookies', 'similar', 'technologies', 'consent', 'process', 'personal', 'data', 'following', 'purposes', 'users', 'within', 'european', 'economic', 'area', 'switzerland', 'united', 'kingdom', 'personalization', 'measurement', 'improvement', 'advertisements', 'online', 'offerings', 'online', 'offerings', 'ebay', 'inc', 'corporate', 'family', 'members', 'third', 'parties', 'marketing', 'communications', 'telephone', 'electronic', 'mail', 'including', 'communications', 'ebay', 'inc', 'corporate', 'family', 'members', 'third', 'parties', 'unless', 'communications', 'permitted', 'without', 'consent', 'applicable', 'law', 'may', 'engage', 'third', 'parties', 'send', 'marketing', 'communications', 'behalf', 'processing', 'precise', 'location', 'data', 'provide', 'location', 'based', 'services', 'please', 'note', 'mobile', 'devices', 'allow', 'manage', 'disable', 'use', 'precise', 'location', 'services', 'applications', 'settings', 'menu', 'users', 'within', 'european', 'economic', 'area', 'storing', 'financial', 'information', 'future', 'transactions', 'provision', 'single', 'sign', 'service', 'allowing', 'register', 'log', 'third', 'party', 'services', 'using', 'ebay', 'log', 'credentials', 'processing', 'personal', 'data', 'basis', 'consent', 'given', 'third', 'parties', 'enable', 'use', 'certain', 'services', 'make', 'available', 'find', 'information', 'right', 'withdraw', 'consent', 'section', 'rights', 'data', 'subject', 'information', 'regard', 'use', 'cookies', 'similar', 'technologies', 'section', 'cookies', 'similar', 'technologies', 'necessary', 'transmit', 'personal', 'data', 'processors', 'following', 'recipients', 'one', 'several', 'purposes', 'described', 'ebay', 'inc', 'corporate', 'family', 'members', 'opens', 'new', 'window', 'tab', 'external', 'service', 'providers', 'third', 'parties', 'using', 'single', 'sign', 'service', 'third', 'parties', 'partner', 'offer', 'specific', 'services', 'third', 'party', 'financial', 'institutions', 'partner', 'offer', 'financial', 'products', 'provide', 'joint', 'content', 'services', 'third', 'party', 'financial', 'institution', 'partners', 'use', 'personal', 'data', 'send', 'marketing', 'communications', 'requested', 'services', 'data', 'sharing', 'ebay', 'inc', 'corporate', 'family', 'members', 'set', 'personal', 'data', 'sources', 'also', 'receive', 'access', 'personal', 'data', 'ebay', 'inc', 'corporate', 'family', 'members', 'opens', 'new', 'window', 'tab', 'enables', 'particular', 'provide', 'consent', 'legally', 'required', 'information', 'products', 'services', 'believe', 'might', 'interest', 'improve', 'products', 'services', 'content', 'advertising', 'analyzing', 'use', 'services', 'ebay', 'inc', 'corporate', 'family', 'members', 'particular', 'matching', 'certain', 'data', 'furthermore', 'allows', 'better', 'prevent', 'detect', 'mitigate', 'investigate', 'fraud', 'security', 'breaches', 'prohibited', 'unlawful', 'activities', 'including', 'assessment', 'corresponding', 'risks', 'also', 'grant', 'access', 'personal', 'data', 'ebay', 'inc', 'corporate', 'family', 'members', 'aforementioned', 'purposes', 'extent', 'ebay', 'inc', 'corporate', 'family', 'members', 'access', 'personal', 'data', 'follow', 'practices', 'least', 'restrictive', 'practices', 'described', 'user', 'privacy', 'notice', 'additional', 'information', 'regarding', 'payment', 'services', 'sellers', 'regard', 'payment', 'services', 'sellers', 'additionally', 'point', 'ebay', 'subject', 'professional', 'secrecy', 'requires', 'special', 'transparency', 'regard', 'processing', 'particular', 'transmission', 'personal', 'data', 'therefore', 'expressly', 'draw', 'attention', 'fact', 'ebay', 'may', 'pass', 'personal', 'data', 'trustworthy', 'third', 'parties', 'business', 'partners', 'necessary', 'provide', 'payment', 'services', 'sellers', 'described', 'section', 'user', 'privacy', 'notice', 'includes', 'particular', 'following', 'third', 'parties', 'business', 'partners', 'payment', 'service', 'providers', 'including', 'financial', 'institutions', 'companies', 'offering', 'financial', 'products', 'analyses', 'scoring', 'authorities', 'agencies', 'governmental', 'bodies', 'auditors', 'professional', 'advisors', 'request', 'complete', 'list', 'third', 'party', 'providers', 'business', 'partners', 'payment', 'services', 'sellers', 'contacting', 'automated', 'decision', 'making', 'use', 'technologies', 'considered', 'automated', 'decision', 'making', 'profiling', 'make', 'automated', 'decisions', 'would', 'significantly', 'affect', 'unless', 'decision', 'necessary', 'entering', 'performance', 'contract', 'obtained', 'consent', 'required', 'applicable', 'law', 'use', 'technology', 'find', 'information', 'right', 'object', 'processing', 'data', 'section', 'rights', 'data', 'subject', 'international', 'data', 'transfers', 'recipients', 'personal', 'data', 'located', 'outside', 'country', 'offices', 'countries', 'data', 'protection', 'laws', 'may', 'provide', 'different', 'level', 'protection', 'laws', 'country', 'transferring', 'personal', 'data', 'recipients', 'provide', 'appropriate', 'safeguards', 'learn', 'section', 'data', 'transfers', 'ebay', 'inc', 'corporate', 'family', 'members', 'transmission', 'personal', 'data', 'different', 'ebay', 'inc', 'corporate', 'family', 'members', 'based', 'worldwide', 'data', 'protection', 'principles', 'binding', 'internal', 'data', 'protection', 'regulations', 'basis', 'appropriate', 'safeguards', 'binding', 'corporate', 'rules', 'ebay', 'inc', 'corporate', 'family', 'members', 'undertake', 'protect', 'personal', 'data', 'comply', 'data', 'protection', 'obligations', 'information', 'binding', 'company', 'wide', 'guidelines', 'worldwide', 'data', 'protection', 'principles', 'found', 'ebay', 'privacy', 'center', 'opens', 'new', 'window', 'tab', 'data', 'transfers', 'may', 'transfer', 'personal', 'data', 'recipients', 'may', 'located', 'anywhere', 'world', 'transfer', 'personal', 'data', 'european', 'economic', 'area', 'united', 'kingdom', 'switzerland', 'third', 'countries', 'countries', 'outside', 'eea', 'basis', 'appropriate', 'safeguards', 'otherwise', 'authorized', 'applicable', 'law', 'third', 'countries', 'providing', 'adequate', 'level', 'data', 'protection', 'according', 'european', 'commission', 'currently', 'include', 'andorra', 'argentina', 'canada', 'switzerland', 'faroe', 'islands', 'guernsey', 'state', 'israel', 'isle', 'man', 'japan', 'jersey', 'new', 'zealand', 'united', 'kingdom', 'uruguay', 'cases', 'ebay', 'provides', 'necessary', 'safeguards', 'conclusion', 'data', 'protection', 'contracts', 'adopted', 'european', 'commission', 'recipients', 'measures', 'provided', 'law', 'copy', 'documentation', 'measures', 'taken', 'available', 'request', 'regularly', 'reevaluate', 'measures', 'taken', 'assess', 'requirements', 'deriving', 'new', 'regulatory', 'guidance', 'case', 'law', 'court', 'justice', 'european', 'union', 'decision', 'matter', 'storage', 'duration', 'erasure', 'personal', 'data', 'stored', 'service', 'providers', 'accordance', 'applicable', 'data', 'protection', 'laws', 'extent', 'necessary', 'processing', 'purposes', 'set', 'user', 'privacy', 'notice', 'subsequently', 'delete', 'personal', 'data', 'accordance', 'data', 'retention', 'deletion', 'policy', 'take', 'steps', 'properly', 'render', 'data', 'anonymous', 'unless', 'legally', 'obliged', 'permitted', 'keep', 'personal', 'data', 'longer', 'europe', 'retention', 'periods', 'generally', 'years', 'far', 'legally', 'permissible', 'required', 'restrict', 'processing', 'data', 'instead', 'deleting', 'applies', 'particular', 'cases', 'may', 'still', 'need', 'data', 'execution', 'contract', 'assertion', 'defense', 'legal', 'claims', 'retention', 'otherwise', 'required', 'permitted', 'law', 'cases', 'duration', 'restriction', 'processing', 'depends', 'respective', 'statutory', 'limitation', 'retention', 'periods', 'data', 'deleted', 'relevant', 'limitation', 'retention', 'periods', 'expired', 'learn', 'section', 'specific', 'retention', 'periods', 'personal', 'data', 'documented', 'regional', 'data', 'retention', 'guidelines', 'long', 'retain', 'personal', 'data', 'may', 'vary', 'depending', 'services', 'provide', 'legal', 'obligations', 'applicable', 'national', 'law', 'following', 'factors', 'typically', 'affect', 'retention', 'period', 'necessity', 'provision', 'services', 'includes', 'things', 'executing', 'user', 'agreement', 'maintaining', 'improving', 'performance', 'products', 'keeping', 'systems', 'secure', 'maintaining', 'appropriate', 'business', 'financial', 'records', 'retention', 'periods', 'determined', 'basis', 'general', 'rule', 'consent', 'based', 'processing', 'personal', 'data', 'process', 'personal', 'data', 'basis', 'consent', 'store', 'data', 'long', 'necessary', 'order', 'process', 'according', 'consent', 'statutory', 'contractual', 'similar', 'obligations', 'corresponding', 'storage', 'obligations', 'may', 'arise', 'example', 'laws', 'official', 'orders', 'may', 'also', 'necessary', 'store', 'personal', 'data', 'regard', 'pending', 'future', 'legal', 'disputes', 'personal', 'data', 'contained', 'contracts', 'notifications', 'business', 'letters', 'may', 'subject', 'statutory', 'storage', 'obligations', 'depending', 'national', 'law', 'rights', 'data', 'subject', 'subject', 'possible', 'restrictions', 'national', 'law', 'data', 'subject', 'right', 'access', 'rectification', 'erasure', 'restriction', 'processing', 'data', 'portability', 'regard', 'personal', 'data', 'addition', 'withdraw', 'consent', 'object', 'processing', 'personal', 'data', 'basis', 'legitimate', 'interests', 'also', 'lodge', 'complaint', 'supervisory', 'authority', 'learn', 'section', 'rights', 'detail', 'withdraw', 'consent', 'processing', 'personal', 'data', 'time', 'result', 'may', 'longer', 'process', 'personal', 'data', 'based', 'consent', 'future', 'withdrawal', 'consent', 'effect', 'lawfulness', 'processing', 'based', 'consent', 'withdrawal', 'right', 'obtain', 'access', 'personal', 'data', 'processed', 'particular', 'may', 'request', 'information', 'purposes', 'processing', 'categories', 'personal', 'data', 'concerned', 'categories', 'recipients', 'personal', 'data', 'disclosed', 'possible', 'envisaged', 'period', 'personal', 'data', 'stored', 'criteria', 'used', 'determine', 'period', 'existence', 'right', 'request', 'rectification', 'erasure', 'personal', 'data', 'restriction', 'processing', 'personal', 'data', 'object', 'processing', 'right', 'lodge', 'complaint', 'supervisory', 'authority', 'available', 'information', 'personal', 'data', 'source', 'existence', 'automated', 'decision', 'making', 'including', 'profiling', 'appropriate', 'meaningful', 'information', 'details', 'right', 'access', 'shall', 'adversely', 'affect', 'rights', 'freedoms', 'others', 'right', 'access', 'may', 'limited', 'national', 'law', 'right', 'obtain', 'without', 'undue', 'delay', 'rectification', 'inaccurate', 'personal', 'data', 'concerning', 'taking', 'account', 'purposes', 'processing', 'right', 'incomplete', 'personal', 'data', 'completed', 'including', 'means', 'providing', 'supplementary', 'statement', 'right', 'obtain', 'erasure', 'personal', 'data', 'concerning', 'certain', 'conditions', 'unless', 'processing', 'necessary', 'exercising', 'right', 'freedom', 'expression', 'information', 'compliance', 'legal', 'obligation', 'reasons', 'public', 'interest', 'establishment', 'exercise', 'defense', 'legal', 'claims', 'right', 'erasure', 'may', 'limited', 'national', 'law', 'right', 'obtain', 'restriction', 'processing', 'personal', 'data', 'extent', 'accuracy', 'data', 'disputed', 'processing', 'unlawful', 'oppose', 'erasure', 'personal', 'data', 'longer', 'need', 'data', 'need', 'assert', 'exercise', 'defend', 'legal', 'claims', 'objected', 'processing', 'right', 'receive', 'personal', 'data', 'concerning', 'provided', 'structured', 'commonly', 'used', 'machine', 'readable', 'format', 'right', 'transmit', 'data', 'another', 'controller', 'right', 'lodge', 'complaint', 'supervisory', 'authority', 'rule', 'contact', 'supervisory', 'authority', 'usual', 'place', 'residence', 'place', 'work', 'registered', 'office', 'controller', 'personal', 'data', 'processed', 'basis', 'legitimate', 'interests', 'right', 'object', 'processing', 'personal', 'data', 'grounds', 'relating', 'particular', 'situation', 'also', 'applies', 'profiling', 'personal', 'data', 'processed', 'direct', 'marketing', 'purposes', 'right', 'object', 'time', 'processing', 'personal', 'data', 'marketing', 'includes', 'profiling', 'extent', 'related', 'direct', 'marketing', 'exercising', 'rights', 'managing', 'settings', 'exercise', 'rights', 'data', 'subject', 'via', 'privacy', 'contact', 'page', 'opens', 'new', 'window', 'tab', 'addition', 'course', 'free', 'contact', 'ebay', 'privacy', 'team', 'controller', 'responsible', 'processing', 'personal', 'data', 'time', 'find', 'necessary', 'information', 'contact', 'details', 'opens', 'new', 'window', 'tab', 'ebay', 'privacy', 'center', 'opens', 'new', 'window', 'tab', 'exercise', 'data', 'subjects', 'rights', 'generally', 'free', 'charge', 'requests', 'manifestly', 'unfounded', 'excessive', 'particular', 'repetitive', 'character', 'may', 'charge', 'appropriate', 'fee', 'accordance', 'applicable', 'statutory', 'regulations', 'refuse', 'process', 'application', 'managing', 'communication', 'preferences', 'would', 'like', 'change', 'preferences', 'regarding', 'ebay', 'communications', 'time', 'ebay', 'communication', 'preferences', 'wish', 'receive', 'email', 'marketing', 'communications', 'also', 'unsubscribe', 'clicking', 'link', 'email', 'received', 'technical', 'reasons', 'implementation', 'may', 'take', 'days', 'information', 'manage', 'cookie', 'similar', 'technology', 'preferences', 'see', 'next', 'section', 'cookies', 'similar', 'technologies', 'cookies', 'similar', 'technologies', 'use', 'services', 'selected', 'third', 'parties', 'use', 'cookies', 'similar', 'technologies', 'provide', 'better', 'faster', 'safer', 'user', 'experience', 'show', 'personalized', 'advertising', 'cookies', 'small', 'text', 'files', 'automatically', 'created', 'browser', 'stored', 'device', 'use', 'services', 'find', 'detailed', 'information', 'use', 'cookies', 'similar', 'technologies', 'choices', 'user', 'cookie', 'notice', 'learn', 'section', 'cookies', 'similar', 'technologies', 'used', 'connection', 'services', 'different', 'functions', 'may', 'technically', 'necessary', 'provision', 'services', 'help', 'optimize', 'services', 'technically', 'help', 'improve', 'user', 'experience', 'allow', 'show', 'relevant', 'advertisements', 'use', 'cookies', 'similar', 'technologies', 'remain', 'device', 'long', 'browser', 'active', 'well', 'cookies', 'similar', 'technologies', 'remain', 'device', 'longer', 'take', 'appropriate', 'security', 'measures', 'prevent', 'unauthorized', 'access', 'cookies', 'similar', 'technologies', 'choices', 'regarding', 'cookies', 'please', 'see', 'user', 'cookie', 'notice', 'information', 'choices', 'respect', 'cookies', 'similar', 'technologies', 'directly', 'advertising', 'related', 'preferences', 'opens', 'new', 'window', 'tab', 'adchoice', 'ebay', 'advertising', 'preferences', 'opens', 'new', 'window', 'tab', 'manage', 'respective', 'preferences', 'also', 'free', 'disable', 'use', 'cookies', 'similar', 'technologies', 'supported', 'device', 'manage', 'cookie', 'settings', 'browser', 'device', 'settings', 'find', 'information', 'third', 'party', 'cookies', 'related', 'advertising', 'prevent', 'use', 'following', 'websites', 'www', 'youronlinechoices', 'com', 'opens', 'new', 'window', 'tab', 'www', 'aboutads', 'info', 'choices', 'opens', 'new', 'window', 'tab', 'www', 'networkadvertising', 'org', 'choices', 'opens', 'new', 'window', 'tab', 'decide', 'allow', 'third', 'parties', 'process', 'personal', 'data', 'advertising', 'purposes', 'via', 'cookies', 'mean', 'show', 'advertisements', 'simply', 'means', 'advertisements', 'personalized', 'using', 'cookies', 'web', 'beacons', 'similar', 'technologies', 'data', 'security', 'protect', 'personal', 'data', 'technical', 'organizational', 'security', 'measures', 'minimize', 'risks', 'associated', 'data', 'loss', 'misuse', 'unauthorized', 'access', 'unauthorized', 'disclosure', 'alteration', 'end', 'use', 'firewalls', 'data', 'encryption', 'example', 'well', 'physical', 'access', 'restrictions', 'data', 'centers', 'authorization', 'controls', 'data', 'access', 'find', 'information', 'data', 'security', 'security', 'center', 'opens', 'new', 'window', 'tab', 'important', 'information', 'regarding', 'data', 'protection', 'section', 'contains', 'important', 'additional', 'information', 'protection', 'personal', 'data', 'connection', 'use', 'services', 'including', 'whether', 'required', 'provide', 'personal', 'data', 'learn', 'section', 'happens', 'share', 'personal', 'data', 'sites', 'applications', 'users', 'access', 'information', 'share', 'ebay', 'disclose', 'users', 'example', 'users', 'see', 'bids', 'purchases', 'items', 'sale', 'saved', 'interests', 'sellers', 'searches', 'storefronts', 'feedback', 'ratings', 'product', 'reviews', 'associated', 'comments', 'users', 'also', 'see', 'information', 'choose', 'share', 'profile', 'use', 'services', 'public', 'user', 'may', 'displayed', 'available', 'public', 'associated', 'public', 'ebay', 'activity', 'notices', 'sent', 'users', 'suspicious', 'activity', 'notice', 'violations', 'sites', 'may', 'refer', 'public', 'user', 'specific', 'items', 'accordingly', 'use', 'username', 'allows', 'others', 'identify', 'others', 'may', 'able', 'identify', 'ebay', 'activities', 'help', 'protect', 'personal', 'data', 'allow', 'limited', 'access', 'users', 'contact', 'shipping', 'financial', 'information', 'necessary', 'facilitate', 'transactions', 'collect', 'payments', 'however', 'users', 'involved', 'transaction', 'access', 'name', 'user', 'email', 'address', 'contact', 'shipping', 'information', 'example', 'may', 'allow', 'users', 'exchange', 'telephone', 'numbers', 'order', 'contact', 'prior', 'completing', 'transaction', 'case', 'sellers', 'prohibited', 'using', 'buyer', 'telephone', 'number', 'purposes', 'responsibilities', 'transactional', 'information', 'receive', 'ebay', 'complete', 'transaction', 'another', 'user', 'provide', 'user', 'personal', 'data', 'email', 'address', 'contact', 'information', 'shipping', 'billing', 'information', 'return', 'address', 'independent', 'controller', 'data', 'responsible', 'processing', 'perform', 'shared', 'data', 'including', 'compliance', 'limitations', 'imposed', 'user', 'privacy', 'notice', 'user', 'agreement', 'unless', 'act', 'purely', 'personal', 'purposes', 'recommend', 'explain', 'data', 'processing', 'activities', 'privacy', 'notice', 'protect', 'privacy', 'users', 'seller', 'must', 'case', 'comply', 'applicable', 'data', 'protection', 'laws', 'particular', 'protect', 'rights', 'users', 'data', 'subjects', 'give', 'opportunity', 'access', 'personal', 'data', 'collected', 'demand', 'erased', 'may', 'use', 'personal', 'data', 'access', 'ebay', 'transaction', 'related', 'purposes', 'services', 'offered', 'ebay', 'purposes', 'expressly', 'consented', 'user', 'data', 'relates', 'using', 'personal', 'data', 'users', 'access', 'purpose', 'adding', 'mailing', 'list', 'without', 'express', 'consent', 'constitutes', 'violation', 'user', 'agreement', 'personal', 'data', 'relating', 'third', 'parties', 'provide', 'personal', 'data', 'relating', 'another', 'person', 'must', 'obtain', 'consent', 'person', 'disclosure', 'data', 'must', 'otherwise', 'legally', 'permissible', 'must', 'inform', 'person', 'process', 'personal', 'data', 'accordance', 'user', 'privacy', 'notice', 'filtering', 'messages', 'sent', 'via', 'messaging', 'tools', 'messages', 'sent', 'via', 'messaging', 'tools', 'first', 'received', 'forwarded', 'recipient', 'messages', 'automatically', 'filtered', 'according', 'certain', 'criteria', 'necessary', 'conspicuous', 'messages', 'checked', 'manually', 'customer', 'service', 'event', 'violation', 'user', 'agreement', 'reserve', 'right', 'block', 'transmission', 'message', 'restrict', 'purchase', 'sales', 'functions', 'ebay', 'account', 'block', 'ebay', 'account', 'protect', 'legitimate', 'interests', 'protecting', 'fraudulent', 'suspicious', 'activities', 'enforcing', 'user', 'agreement', 'rules', 'policies', 'including', 'limited', 'enforcing', 'prohibition', 'purchases', 'sales', 'outside', 'ebay', 'obliged', 'provide', 'personal', 'data', 'personal', 'data', 'provide', 'required', 'enter', 'user', 'agreement', 'payments', 'terms', 'use', 'example', 'payments', 'terms', 'use', 'must', 'provide', 'certain', 'identification', 'information', 'including', 'legal', 'name', 'date', 'birth', 'tax', 'identification', 'number', 'social', 'security', 'number', 'may', 'fulfil', 'legal', 'know', 'customer', 'obligations', 'described', 'elsewhere', 'user', 'privacy', 'notice', 'payments', 'terms', 'use', 'may', 'share', 'data', 'ebay', 'group', 'companies', 'order', 'facilitate', 'transactions', 'service', 'providers', 'including', 'payment', 'processors', 'credit', 'agencies', 'bureaus', 'although', 'provision', 'personal', 'data', 'voluntary', 'may', 'necessary', 'use', 'services', 'bidding', 'purchase', 'sales', 'data', 'complete', 'transaction', 'children', 'privacy', 'services', 'intended', 'use', 'children', 'knowingly', 'collect', 'personal', 'data', 'users', 'considered', 'children', 'applicable', 'national', 'laws', 'user', 'agreement', 'children', 'permitted', 'use', 'services', 'staying', 'signed', 'sign', 'account', 'services', 'give', 'option', 'stay', 'signed', 'account', 'certain', 'amount', 'time', 'using', 'public', 'shared', 'computer', 'encourage', 'decline', 'user', 'computer', 'browser', 'signed', 'able', 'view', 'access', 'parts', 'account', 'take', 'certain', 'specific', 'actions', 'signed', 'period', 'without', 'authorization', 'specific', 'actions', 'account', 'activities', 'user', 'computer', 'browser', 'may', 'take', 'include', 'bid', 'buy', 'make', 'offer', 'item', 'check', 'add', 'items', 'cart', 'purchase', 'item', 'paypal', 'using', 'faster', 'checkout', 'view', 'activity', 'header', 'view', 'ebay', 'page', 'view', 'edit', 'watch', 'list', 'order', 'details', 'view', 'profile', 'page', 'send', 'member', 'member', 'messages', 'conduct', 'sale', 'activities', 'like', 'leaving', 'feedback', 'canceling', 'orders', 'requesting', 'returns', 'submitting', 'claims', 'attempt', 'change', 'password', 'user', 'update', 'account', 'information', 'attempt', 'account', 'activity', 'beyond', 'listed', 'may', 'required', 'enter', 'password', 'typically', 'end', 'signed', 'session', 'either', 'signing', 'clearing', 'cookies', 'certain', 'browser', 'privacy', 'settings', 'enabled', 'simply', 'closing', 'browser', 'may', 'also', 'end', 'signed', 'session', 'using', 'public', 'shared', 'computer', 'sign', 'clear', 'cookies', 'done', 'using', 'services', 'protect', 'account', 'personal', 'data', 'regional', 'state', 'privacy', 'disclosures', 'additional', 'regional', 'disclosures', 'residents', 'certain', 'states', 'including', 'california', 'please', 'review', 'state', 'privacy', 'disclosures', 'opens', 'new', 'window', 'tab', 'page', 'additional', 'disclosures', 'specific', 'regions', 'countries', 'including', 'brazil', 'mainland', 'people', 'republic', 'china', 'please', 'review', 'regional', 'privacy', 'disclosures', 'opens', 'new', 'window', 'tab', 'page', 'previous', 'user', 'privacy', 'notice', 'previous', 'user', 'privacy', 'notice', 'scope', 'updates', 'user', 'privacy', 'notice', 'user', 'privacy', 'notice', 'applies', 'use', 'website', 'ebay', 'applications', 'services', 'products', 'tools', 'regardless', 'access', 'use', 'services', 'including', 'access', 'via', 'mobile', 'devices', 'apps', 'learn', 'section', 'user', 'privacy', 'notice', 'also', 'applies', 'explicit', 'reference', 'made', 'via', 'link', 'similar', 'manner', 'websites', 'partners', 'services', 'ebay', 'offered', 'may', 'change', 'user', 'privacy', 'notice', 'time', 'posting', 'revised', 'user', 'privacy', 'notice', 'website', 'indicating', 'effective', 'date', 'revised', 'user', 'privacy', 'notice', 'notified', 'material', 'changes', 'user', 'privacy', 'notice', 'via', 'messages', 'ebay', 'email', 'controller', 'ebay', 'group', 'company', 'responsible', 'collection', 'processing', 'personal', 'data', 'connection', 'provision', 'services', 'depends', 'use', 'services', 'use', 'services', 'depending', 'region', 'located', 'one', 'following', 'ebay', 'group', 'companies', 'responsible', 'collection', 'processing', 'personal', 'data', 'connection', 'provision', 'services', 'usa', 'ebay', 'inc', 'hamilton', 'avenue', 'san', 'jose', 'usa', 'canada', 'ebay', 'canada', 'limited', 'king', 'street', 'west', 'suite', 'toronto', 'canada', 'ebay', 'gmbh', 'albert', 'einstein', 'ring', 'kleinmachnow', 'germany', 'use', 'ebay', 'customer', 'guarantee', 'offered', 'france', 'italy', 'spain', 'ebay', 'services', 'boulevard', 'royal', 'luxembourg', 'responsible', 'data', 'processing', 'regarding', 'specific', 'service', 'united', 'kingdom', 'ebay', 'limited', 'london', 'place', 'london', 'united', 'kingdom', 'india', 'ebay', 'singapore', 'services', 'private', 'limited', 'collyer', 'quay', 'ocean', 'financial', 'centre', 'singapore', 'countries', 'ebay', 'marketplaces', 'gmbh', 'helvetiastrasse', 'bern', 'switzerland', 'use', 'payment', 'services', 'sellers', 'depending', 'region', 'located', 'whether', 'provide', 'payment', 'services', 'following', 'ebay', 'group', 'companies', 'responsible', 'collection', 'processing', 'personal', 'data', 'connection', 'provision', 'payment', 'services', 'sellers', 'usa', 'ebay', 'commerce', 'inc', 'hamilton', 'ave', 'san', 'jose', 'usa', 'ebay', 'boulevard', 'royal', 'luxembourg', 'ebay', 'commerce', 'ltd', 'london', 'place', 'london', 'united', 'kingdom', 'canada', 'ebay', 'commerce', 'canada', 'limited', 'chipman', 'hill', 'suite', 'saint', 'john', 'canada', 'australia', 'ebay', 'commerce', 'australia', 'pty', 'ltd', 'level', 'york', 'street', 'sydney', 'nsw', 'australia', 'described', 'payments', 'terms', 'use', 'personal', 'data', 'may', 'processed', 'one', 'companies', 'depending', 'location', 'location', 'ebay', 'website', 'user', 'completes', 'transaction', 'data', 'protection', 'officer', 'contact', 'appointed', 'data', 'protection', 'officers', 'several', 'countries', 'oversee', 'protection', 'personal', 'data', 'questions', 'user', 'privacy', 'notice', 'data', 'protection', 'ebay', 'general', 'contact', 'data', 'protection', 'officer', 'responsible', 'country', 'time', 'find', 'contact', 'details', 'data', 'protection', 'officer', 'list', 'data', 'protection', 'officers', 'opens', 'new', 'window', 'tab', 'ebay', 'privacy', 'center', 'opens', 'new', 'window', 'tab', 'furthermore', 'questions', 'complaints', 'regarding', 'user', 'privacy', 'notice', 'global', 'data', 'protection', 'principles', 'handling', 'personal', 'data', 'also', 'contact', 'ebay', 'privacy', 'team', 'controller', 'responsible', 'processing', 'personal', 'data', 'time', 'applies', 'regardless', 'whether', 'appointed', 'data', 'protection', 'officer', 'country', 'find', 'necessary', 'information', 'contact', 'details', 'opens', 'new', 'window', 'tab', 'ebay', 'privacy', 'center', 'opens', 'new', 'window', 'tab', 'personal', 'data', 'collect', 'process', 'collect', 'personal', 'data', 'use', 'services', 'create', 'new', 'ebay', 'account', 'provide', 'information', 'via', 'web', 'form', 'add', 'update', 'information', 'ebay', 'account', 'participate', 'online', 'community', 'discussions', 'otherwise', 'interact', 'also', 'collect', 'personal', 'data', 'sources', 'learn', 'section', 'total', 'collect', 'following', 'personal', 'data', 'personal', 'data', 'provide', 'using', 'services', 'creating', 'ebay', 'account', 'data', 'identifies', 'name', 'address', 'telephone', 'numbers', 'email', 'addresses', 'user', 'name', 'tax', 'identification', 'number', 'provide', 'setting', 'ebay', 'account', 'later', 'date', 'use', 'payment', 'services', 'seller', 'additional', 'identification', 'data', 'tax', 'identification', 'numbers', 'information', 'provide', 'using', 'payment', 'services', 'seller', 'data', 'regarding', 'bids', 'purchases', 'sales', 'provide', 'transaction', 'content', 'share', 'users', 'messaging', 'tools', 'financial', 'information', 'shipping', 'billing', 'information', 'provide', 'well', 'information', 'required', 'customs', 'clearance', 'relevant', 'shipping', 'information', 'shipped', 'one', 'programs', 'cases', 'age', 'gender', 'country', 'birth', 'nationality', 'employment', 'status', 'family', 'status', 'interests', 'preferences', 'may', 'provide', 'additional', 'information', 'web', 'form', 'updating', 'adding', 'information', 'ebay', 'account', 'participating', 'community', 'discussions', 'member', 'chats', 'inquiries', 'dispute', 'resolution', 'customer', 'service', 'calls', 'recorded', 'consent', 'contact', 'reason', 'regarding', 'services', 'data', 'required', 'entitled', 'applicable', 'law', 'collect', 'process', 'need', 'authentication', 'identification', 'verification', 'data', 'collect', 'personal', 'data', 'collect', 'automatically', 'use', 'services', 'create', 'ebay', 'account', 'data', 'generated', 'part', 'one', 'transactions', 'linked', 'ebay', 'account', 'result', 'transaction', 'involved', 'transaction', 'amounts', 'time', 'location', 'transactions', 'form', 'payment', 'payout', 'method', 'data', 'generated', 'actions', 'use', 'services', 'linked', 'ebay', 'account', 'place', 'items', 'shopping', 'cart', 'place', 'items', 'watch', 'list', 'save', 'sellers', 'searches', 'interests', 'follow', 'users', 'data', 'regarding', 'interactions', 'services', 'advertising', 'preferences', 'communications', 'location', 'data', 'including', 'general', 'location', 'data', 'precise', 'location', 'data', 'mobile', 'device', 'please', 'note', 'mobile', 'devices', 'manage', 'disable', 'use', 'location', 'services', 'applications', 'settings', 'menu', 'mobile', 'device', 'computer', 'connection', 'information', 'statistics', 'regarding', 'use', 'services', 'ebay', 'information', 'data', 'traffic', 'websites', 'referral', 'url', 'information', 'advertisements', 'address', 'access', 'times', 'browser', 'history', 'data', 'language', 'settings', 'weblog', 'information', 'personal', 'data', 'collect', 'connection', 'use', 'cookies', 'similar', 'technologies', 'use', 'cookies', 'web', 'beacons', 'similar', 'technologies', 'collect', 'data', 'use', 'services', 'collect', 'data', 'devices', 'use', 'services', 'data', 'collected', 'includes', 'following', 'usage', 'device', 'related', 'information', 'data', 'pages', 'visit', 'access', 'time', 'frequency', 'duration', 'visits', 'links', 'click', 'actions', 'take', 'part', 'use', 'services', 'advertising', 'email', 'content', 'data', 'activities', 'interactions', 'advertising', 'partners', 'including', 'data', 'advertisements', 'shown', 'often', 'shown', 'shown', 'whether', 'took', 'action', 'clicking', 'advertisement', 'making', 'purchase', 'user', 'segment', 'category', 'user', 'fall', 'example', 'male', 'years', 'old', 'interested', 'cars', 'model', 'device', 'type', 'operating', 'system', 'version', 'browser', 'type', 'settings', 'device', 'individual', 'device', 'identifier', 'advertisement', 'individual', 'device', 'token', 'cookie', 'related', 'data', 'address', 'device', 'accesses', 'services', 'location', 'data', 'including', 'general', 'location', 'data', 'precise', 'location', 'data', 'mobile', 'device', 'please', 'note', 'mobile', 'devices', 'allow', 'manage', 'disable', 'use', 'location', 'services', 'applications', 'settings', 'menu', 'information', 'use', 'technologies', 'choices', 'see', 'cookies', 'similar', 'technologies', 'personal', 'data', 'sources', 'also', 'collect', 'personal', 'data', 'sources', 'third', 'parties', 'extent', 'permitted', 'applicable', 'law', 'particular', 'includes', 'following', 'data', 'data', 'public', 'sources', 'data', 'credit', 'agencies', 'bureaus', 'data', 'data', 'providers', 'regard', 'payment', 'services', 'sellers', 'data', 'government', 'sources', 'concerning', 'previous', 'convictions', 'respective', 'seller', 'extent', 'permitted', 'applicable', 'law', 'combine', 'connect', 'personal', 'data', 'collect', 'data', 'sources', 'personal', 'data', 'disclosed', 'third', 'parties', 'third', 'parties', 'legally', 'permitted', 'disclose', 'personal', 'data', 'also', 'receive', 'access', 'personal', 'data', 'members', 'ebay', 'inc', 'corporate', 'family', 'opens', 'new', 'window', 'tab', 'social', 'network', 'data', 'share', 'allow', 'use', 'social', 'networks', 'providers', 'single', 'sign', 'services', 'already', 'account', 'create', 'ebay', 'account', 'link', 'ebay', 'account', 'single', 'sign', 'services', 'determine', 'personal', 'data', 'access', 'authorizing', 'connection', 'single', 'sign', 'service', 'allow', 'share', 'personal', 'data', 'social', 'networks', 'link', 'ebay', 'account', 'social', 'network', 'social', 'networks', 'may', 'automatically', 'provide', 'access', 'certain', 'personal', 'data', 'stored', 'determine', 'personal', 'data', 'access', 'privacy', 'settings', 'social', 'network', 'give', 'access', 'video', 'content', 'pages', 'grant', 'access', 'consent', 'may', 'least', 'two', 'years', 'withdraw', 'consent', 'longer', 'connected', 'social', 'network', 'share', 'collect', 'social', 'networks', 'information', 'regarding', 'viewing', 'videos', 'may', 'also', 'use', 'plug', 'ins', 'technologies', 'various', 'social', 'networks', 'click', 'link', 'displayed', 'social', 'network', 'plug', 'voluntarily', 'connect', 'social', 'network', 'purposes', 'legal', 'basis', 'data', 'processing', 'categories', 'recipients', 'process', 'personal', 'data', 'various', 'purposes', 'based', 'several', 'different', 'legal', 'bases', 'allow', 'processing', 'example', 'process', 'personal', 'data', 'provide', 'improve', 'services', 'provide', 'personalized', 'user', 'experience', 'website', 'contact', 'ebay', 'account', 'services', 'provide', 'customer', 'service', 'provide', 'personalized', 'advertising', 'marketing', 'communications', 'detect', 'prevent', 'mitigate', 'investigate', 'fraudulent', 'illegal', 'activity', 'also', 'share', 'information', 'third', 'parties', 'including', 'service', 'providers', 'acting', 'behalf', 'purposes', 'addition', 'may', 'share', 'personal', 'data', 'among', 'ebay', 'group', 'companies', 'order', 'fulfil', 'contract', 'user', 'agreement', 'applicable', 'payments', 'terms', 'use', 'learn', 'section', 'find', 'summary', 'purposes', 'process', 'personal', 'data', 'including', 'categories', 'recipients', 'transmit', 'personal', 'data', 'purposes', 'stated', 'sorted', 'legal', 'basis', 'processing', 'sharing', 'process', 'personal', 'data', 'order', 'fulfil', 'contract', 'provide', 'services', 'includes', 'following', 'purposes', 'processing', 'data', 'relating', 'company', 'purpose', 'entering', 'contract', 'executing', 'provision', 'services', 'including', 'limited', 'enabling', 'performing', 'transactions', 'users', 'displaying', 'transaction', 'feedback', 'history', 'providing', 'enhancing', 'features', 'payment', 'processing', 'ratings', 'ebay', 'account', 'management', 'providing', 'services', 'may', 'use', 'ensuring', 'functionality', 'services', 'connection', 'provision', 'services', 'send', 'notifications', 'relating', 'execution', 'transactions', 'use', 'services', 'accordance', 'communication', 'preferences', 'ebay', 'account', 'enabling', 'delivery', 'purchased', 'items', 'logistics', 'shipping', 'service', 'providers', 'including', 'notifications', 'connection', 'delivery', 'latter', 'extent', 'permitted', 'applicable', 'law', 'without', 'consent', 'provision', 'payment', 'services', 'accordance', 'payments', 'terms', 'use', 'providing', 'general', 'customer', 'support', 'including', 'solution', 'problems', 'ebay', 'account', 'arbitration', 'disputes', 'providing', 'services', 'within', 'scope', 'customer', 'service', 'well', 'enforcement', 'fee', 'claims', 'purposes', 'may', 'contact', 'via', 'notification', 'ebay', 'email', 'telephone', 'sms', 'push', 'notification', 'mobile', 'device', 'mail', 'contact', 'telephone', 'order', 'ensure', 'efficiency', 'may', 'use', 'automatically', 'dialed', 'calls', 'tape', 'announcements', 'automated', 'text', 'messages', 'accordance', 'user', 'agreement', 'payments', 'terms', 'use', 'extent', 'permitted', 'applicable', 'law', 'processing', 'general', 'location', 'data', 'order', 'provide', 'location', 'based', 'services', 'enforcement', 'user', 'agreement', 'payments', 'terms', 'use', 'user', 'privacy', 'notice', 'rules', 'policies', 'publication', 'promotion', 'listings', 'related', 'content', 'websites', 'applications', 'services', 'tools', 'ebay', 'inc', 'corporate', 'family', 'members', 'cooperating', 'third', 'party', 'operators', 'websites', 'applications', 'services', 'tools', 'share', 'content', 'listings', 'related', 'personal', 'data', 'third', 'parties', 'basis', 'agreement', 'limits', 'use', 'personal', 'data', 'third', 'party', 'purposes', 'necessary', 'fulfil', 'contractual', 'obligations', 'third', 'party', 'providers', 'contractually', 'obliged', 'take', 'appropriate', 'security', 'measures', 'regard', 'data', 'third', 'party', 'providers', 'strictly', 'forbidden', 'pass', 'personal', 'data', 'contained', 'listings', 'third', 'parties', 'case', 'data', 'transmissions', 'ebay', 'inc', 'corporate', 'family', 'members', 'restrictions', 'result', 'binding', 'corporate', 'rules', 'necessary', 'transmit', 'personal', 'data', 'processors', 'following', 'recipients', 'one', 'several', 'purposes', 'described', 'ebay', 'users', 'ebay', 'inc', 'corporate', 'family', 'members', 'opens', 'new', 'window', 'tab', 'external', 'service', 'providers', 'shipping', 'companies', 'payment', 'service', 'providers', 'including', 'paypal', 'inc', 'group', 'companies', 'external', 'operators', 'websites', 'applications', 'services', 'tools', 'process', 'personal', 'data', 'order', 'comply', 'legal', 'obligations', 'subject', 'includes', 'following', 'purposes', 'participation', 'investigations', 'proceedings', 'conducted', 'public', 'authorities', 'government', 'agencies', 'particular', 'purpose', 'detecting', 'investigating', 'prosecuting', 'illegal', 'acts', 'prevention', 'detection', 'mitigation', 'illegal', 'activities', 'complying', 'information', 'requests', 'third', 'parties', 'based', 'statutory', 'information', 'rights', 'ensuring', 'information', 'security', 'services', 'retention', 'storage', 'personal', 'data', 'comply', 'specific', 'legal', 'retention', 'requirements', 'necessary', 'transmit', 'personal', 'data', 'processors', 'following', 'recipients', 'one', 'several', 'purposes', 'described', 'law', 'enforcement', 'agencies', 'courts', 'government', 'agencies', 'public', 'authorities', 'intergovernmental', 'supranational', 'bodies', 'third', 'parties', 'based', 'statutory', 'information', 'claims', 'third', 'party', 'service', 'providers', 'third', 'parties', 'involved', 'judicial', 'proceedings', 'particular', 'submit', 'legal', 'order', 'court', 'order', 'equivalent', 'legal', 'order', 'credit', 'agencies', 'bureaus', 'associations', 'required', 'applicable', 'law', 'ebay', 'inc', 'corporate', 'family', 'members', 'opens', 'new', 'window', 'tab', 'process', 'personal', 'data', 'order', 'protect', 'vital', 'interests', 'vital', 'interests', 'another', 'natural', 'person', 'includes', 'following', 'purposes', 'prevention', 'detection', 'mitigation', 'investigation', 'unlawful', 'activities', 'may', 'result', 'impairment', 'vital', 'interests', 'vital', 'interests', 'another', 'natural', 'person', 'unless', 'statutory', 'obligation', 'effect', 'necessary', 'transmit', 'personal', 'data', 'processors', 'following', 'recipients', 'one', 'several', 'purposes', 'described', 'law', 'enforcement', 'agencies', 'courts', 'government', 'agencies', 'public', 'authorities', 'intergovernmental', 'supranational', 'bodies', 'third', 'parties', 'involved', 'judicial', 'proceedings', 'ebay', 'inc', 'corporate', 'family', 'members', 'opens', 'new', 'window', 'tab', 'external', 'service', 'providers', 'process', 'personal', 'data', 'necessary', 'purposes', 'legitimate', 'interests', 'pursued', 'third', 'party', 'except', 'interests', 'overridden', 'interests', 'fundamental', 'rights', 'freedoms', 'order', 'reconcile', 'legitimate', 'interests', 'rights', 'introduced', 'appropriate', 'control', 'mechanisms', 'basis', 'process', 'data', 'following', 'purposes', 'participation', 'proceedings', 'conducted', 'courts', 'law', 'enforcement', 'agencies', 'government', 'agencies', 'public', 'authorities', 'intergovernmental', 'supranational', 'bodies', 'particular', 'purpose', 'detecting', 'investigating', 'prosecuting', 'illegal', 'acts', 'unless', 'statutory', 'obligation', 'effect', 'may', 'legitimately', 'assume', 'disclosure', 'data', 'necessary', 'avert', 'imminent', 'disadvantages', 'report', 'suspicion', 'illegal', 'act', 'cases', 'disclose', 'believe', 'necessary', 'name', 'city', 'zip', 'code', 'telephone', 'number', 'email', 'address', 'user', 'names', 'address', 'fraud', 'complaints', 'bidding', 'listing', 'history', 'protection', 'legitimate', 'interests', 'third', 'parties', 'connection', 'civil', 'law', 'disputes', 'unless', 'statutory', 'obligation', 'effect', 'may', 'legitimately', 'assume', 'necessary', 'disclose', 'data', 'third', 'parties', 'order', 'avert', 'imminent', 'disadvantages', 'prevention', 'detection', 'mitigation', 'investigation', 'fraud', 'security', 'breaches', 'prohibited', 'unlawful', 'activities', 'including', 'assessment', 'corresponding', 'risks', 'unless', 'statutory', 'obligation', 'effect', 'monitoring', 'improvement', 'information', 'security', 'services', 'unless', 'statutory', 'obligation', 'effect', 'performance', 'identity', 'checks', 'creditworthiness', 'financial', 'standing', 'checks', 'evaluation', 'applications', 'comparison', 'information', 'accuracy', 'verification', 'purposes', 'automatic', 'filtering', 'necessary', 'manual', 'review', 'messages', 'sent', 'messaging', 'tools', 'prevent', 'fraudulent', 'suspicious', 'activity', 'violations', 'user', 'agreement', 'rules', 'policies', 'including', 'enforcing', 'prohibition', 'purchases', 'sales', 'outside', 'ebay', 'explained', 'filtering', 'messages', 'sent', 'via', 'messaging', 'tools', 'provision', 'functions', 'users', 'make', 'processing', 'transactions', 'easier', 'convenient', 'analysis', 'improvement', 'services', 'ebay', 'inc', 'corporate', 'family', 'members', 'reviewing', 'site', 'usage', 'data', 'information', 'users', 'blocked', 'crashed', 'pages', 'order', 'identify', 'solve', 'problems', 'provide', 'improved', 'user', 'experience', 'including', 'part', 'product', 'development', 'analysis', 'telephone', 'conversations', 'customer', 'service', 'recorded', 'consent', 'advertisements', 'mail', 'extent', 'permitted', 'applicable', 'law', 'without', 'consent', 'communications', 'via', 'electronic', 'mail', 'telephone', 'offer', 'vouchers', 'discounts', 'special', 'offers', 'conduct', 'opinion', 'polls', 'surveys', 'inform', 'services', 'wish', 'receive', 'marketing', 'communications', 'also', 'unsubscribe', 'clicking', 'link', 'email', 'received', 'technical', 'reasons', 'implementation', 'may', 'take', 'days', 'notifications', 'regarding', 'promotions', 'information', 'services', 'logging', 'account', 'messages', 'ebay', 'users', 'outside', 'european', 'economic', 'area', 'personalization', 'measurement', 'improvement', 'third', 'party', 'advertisements', 'online', 'offerings', 'online', 'offerings', 'ebay', 'inc', 'corporate', 'family', 'members', 'third', 'parties', 'customization', 'page', 'content', 'display', 'items', 'services', 'may', 'like', 'based', 'actions', 'take', 'evaluation', 'quality', 'success', 'email', 'marketing', 'campaigns', 'assessment', 'service', 'status', 'offering', 'partner', 'bonus', 'programs', 'branded', 'marketing', 'efforts', 'branded', 'credit', 'cards', 'collaboration', 'third', 'party', 'credit', 'card', 'issuer', 'provision', 'shared', 'content', 'services', 'ebay', 'inc', 'corporate', 'family', 'members', 'cooperating', 'payment', 'service', 'providers', 'initiation', 'preparation', 'execution', 'company', 'acquisition', 'event', 'merger', 'another', 'company', 'takeover', 'another', 'company', 'event', 'occurs', 'require', 'merged', 'entity', 'comply', 'user', 'privacy', 'notice', 'respect', 'personal', 'data', 'personal', 'data', 'processed', 'purpose', 'specified', 'user', 'privacy', 'notice', 'informed', 'advance', 'processing', 'data', 'new', 'purpose', 'assertion', 'defense', 'legal', 'claims', 'including', 'asserted', 'one', 'ebay', 'user', 'another', 'ebay', 'user', 'necessary', 'transmit', 'personal', 'data', 'processors', 'following', 'recipients', 'one', 'several', 'purposes', 'described', 'ebay', 'inc', 'corporate', 'family', 'members', 'opens', 'new', 'window', 'tab', 'external', 'service', 'providers', 'ebay', 'users', 'law', 'enforcement', 'agencies', 'courts', 'government', 'agencies', 'public', 'authorities', 'intergovernmental', 'supranational', 'bodies', 'third', 'parties', 'involved', 'judicial', 'proceedings', 'payment', 'service', 'providers', 'including', 'paypal', 'inc', 'group', 'companies', 'credit', 'agencies', 'bureaus', 'data', 'verification', 'services', 'risk', 'assessment', 'vendors', 'collections', 'agencies', 'companies', 'context', 'company', 'acquisition', 'participants', 'ebay', 'vero', 'program', 'proact', 'program', 'third', 'parties', 'event', 'investigation', 'fraud', 'intellectual', 'property', 'infringement', 'retail', 'crime', 'stolen', 'goods', 'product', 'piracy', 'unlawful', 'activity', 'sole', 'discretion', 'deem', 'investigation', 'incident', 'necessary', 'useful', 'cases', 'disclose', 'seller', 'name', 'address', 'city', 'zip', 'code', 'country', 'telephone', 'number', 'email', 'address', 'company', 'name', 'third', 'party', 'bind', 'third', 'party', 'worldwide', 'non', 'disclosure', 'agreement', 'treat', 'data', 'confidential', 'information', 'right', 'object', 'processing', 'based', 'legitimate', 'interests', 'found', 'rights', 'data', 'subject', 'regard', 'use', 'cookies', 'similar', 'technologies', 'cookies', 'similar', 'technologies', 'consent', 'process', 'personal', 'data', 'following', 'purposes', 'users', 'within', 'european', 'economic', 'area', 'personalization', 'measurement', 'improvement', 'third', 'party', 'advertisements', 'online', 'offerings', 'online', 'offerings', 'ebay', 'inc', 'corporate', 'family', 'members', 'third', 'parties', 'marketing', 'communications', 'telephone', 'electronic', 'mail', 'including', 'communications', 'ebay', 'inc', 'corporate', 'family', 'members', 'third', 'parties', 'unless', 'communications', 'permitted', 'without', 'consent', 'applicable', 'law', 'may', 'engage', 'third', 'parties', 'send', 'marketing', 'communications', 'behalf', 'processing', 'precise', 'location', 'data', 'provide', 'location', 'based', 'services', 'provision', 'single', 'sign', 'service', 'allowing', 'register', 'log', 'third', 'party', 'services', 'using', 'ebay', 'log', 'credentials', 'processing', 'personal', 'data', 'basis', 'consent', 'given', 'third', 'parties', 'enable', 'use', 'certain', 'services', 'make', 'available', 'find', 'information', 'right', 'withdraw', 'consent', 'rights', 'data', 'subject', 'information', 'regard', 'use', 'cookies', 'similar', 'technologies', 'cookies', 'similar', 'technologies', 'necessary', 'transmit', 'personal', 'data', 'processors', 'following', 'recipients', 'one', 'several', 'purposes', 'described', 'ebay', 'inc', 'corporate', 'family', 'members', 'opens', 'new', 'window', 'tab', 'external', 'service', 'providers', 'third', 'parties', 'using', 'single', 'sign', 'service', 'third', 'parties', 'partner', 'offer', 'specific', 'services', 'third', 'party', 'financial', 'institutions', 'partner', 'offer', 'financial', 'products', 'provide', 'joint', 'content', 'services', 'third', 'party', 'financial', 'institution', 'partners', 'use', 'personal', 'data', 'send', 'marketing', 'communications', 'requested', 'services', 'data', 'sharing', 'ebay', 'inc', 'corporate', 'family', 'members', 'set', 'personal', 'data', 'sources', 'also', 'receive', 'access', 'personal', 'data', 'ebay', 'inc', 'corporate', 'family', 'members', 'opens', 'new', 'window', 'tab', 'enables', 'particular', 'provide', 'consent', 'legally', 'required', 'information', 'products', 'services', 'believe', 'might', 'interest', 'improve', 'products', 'services', 'content', 'advertising', 'analyzing', 'use', 'services', 'ebay', 'inc', 'corporate', 'family', 'members', 'particular', 'matching', 'certain', 'data', 'furthermore', 'allows', 'better', 'prevent', 'detect', 'mitigate', 'investigate', 'fraud', 'security', 'breaches', 'prohibited', 'unlawful', 'activities', 'including', 'assessment', 'corresponding', 'risks', 'also', 'grant', 'access', 'personal', 'data', 'ebay', 'inc', 'corporate', 'family', 'members', 'aforementioned', 'purposes', 'extent', 'ebay', 'inc', 'corporate', 'family', 'members', 'access', 'personal', 'data', 'follow', 'practices', 'least', 'restrictive', 'practices', 'described', 'user', 'privacy', 'notice', 'additional', 'information', 'regarding', 'payment', 'services', 'sellers', 'regard', 'payment', 'services', 'sellers', 'additionally', 'point', 'ebay', 'subject', 'professional', 'secrecy', 'requires', 'special', 'transparency', 'regard', 'processing', 'particular', 'transmission', 'personal', 'data', 'therefore', 'expressly', 'draw', 'attention', 'fact', 'ebay', 'may', 'pass', 'personal', 'data', 'trustworthy', 'third', 'parties', 'business', 'partners', 'necessary', 'provide', 'payment', 'services', 'sellers', 'described', 'section', 'user', 'privacy', 'notice', 'includes', 'particular', 'following', 'third', 'parties', 'business', 'partners', 'payment', 'service', 'providers', 'including', 'financial', 'institutions', 'companies', 'offering', 'financial', 'products', 'analyses', 'scoring', 'authorities', 'agencies', 'governmental', 'bodies', 'auditors', 'professional', 'advisors', 'request', 'complete', 'list', 'third', 'party', 'providers', 'business', 'partners', 'payment', 'services', 'sellers', 'contacting', 'automated', 'decision', 'making', 'use', 'technologies', 'considered', 'automated', 'decision', 'making', 'profiling', 'make', 'automated', 'decisions', 'would', 'significantly', 'affect', 'unless', 'decision', 'necessary', 'entering', 'performance', 'contract', 'obtained', 'consent', 'required', 'applicable', 'law', 'use', 'technology', 'find', 'information', 'right', 'object', 'processing', 'data', 'rights', 'data', 'subject', 'international', 'data', 'transfers', 'recipients', 'personal', 'data', 'located', 'outside', 'country', 'offices', 'countries', 'data', 'protection', 'laws', 'may', 'provide', 'different', 'level', 'protection', 'laws', 'country', 'transferring', 'personal', 'data', 'recipients', 'provide', 'appropriate', 'safeguards', 'learn', 'section', 'data', 'transfers', 'ebay', 'inc', 'corporate', 'family', 'members', 'transmission', 'personal', 'data', 'different', 'ebay', 'inc', 'corporate', 'family', 'members', 'based', 'worldwide', 'data', 'protection', 'principles', 'binding', 'internal', 'data', 'protection', 'regulations', 'basis', 'appropriate', 'safeguards', 'binding', 'corporate', 'rules', 'ebay', 'inc', 'corporate', 'family', 'members', 'undertake', 'protect', 'personal', 'data', 'comply', 'data', 'protection', 'obligations', 'information', 'binding', 'company', 'wide', 'guidelines', 'worldwide', 'data', 'protection', 'principles', 'found', 'ebay', 'privacy', 'center', 'opens', 'new', 'window', 'tab', 'data', 'transfers', 'transfer', 'personal', 'data', 'european', 'economic', 'area', 'third', 'countries', 'countries', 'outside', 'eea', 'basis', 'appropriate', 'safeguards', 'third', 'countries', 'providing', 'adequate', 'level', 'data', 'protection', 'according', 'european', 'commission', 'currently', 'include', 'andorra', 'argentina', 'canada', 'switzerland', 'faroe', 'islands', 'guernsey', 'state', 'israel', 'isle', 'man', 'japan', 'jersey', 'new', 'zealand', 'uruguay', 'cases', 'ebay', 'provides', 'necessary', 'safeguards', 'conclusion', 'data', 'protection', 'contracts', 'adopted', 'european', 'commission', 'recipients', 'measures', 'provided', 'law', 'copy', 'documentation', 'measures', 'taken', 'available', 'request', 'storage', 'duration', 'erasure', 'personal', 'data', 'stored', 'service', 'providers', 'accordance', 'applicable', 'data', 'protection', 'laws', 'extent', 'necessary', 'processing', 'purposes', 'set', 'user', 'privacy', 'notice', 'subsequently', 'delete', 'personal', 'data', 'accordance', 'data', 'retention', 'deletion', 'policy', 'take', 'steps', 'properly', 'render', 'data', 'anonymous', 'unless', 'legally', 'obliged', 'keep', 'personal', 'data', 'longer', 'europe', 'retention', 'periods', 'generally', 'years', 'far', 'legally', 'permissible', 'required', 'restrict', 'processing', 'data', 'instead', 'deleting', 'applies', 'particular', 'cases', 'may', 'still', 'need', 'data', 'execution', 'contract', 'assertion', 'defense', 'legal', 'claims', 'retention', 'otherwise', 'required', 'permitted', 'law', 'cases', 'duration', 'restriction', 'processing', 'depends', 'respective', 'statutory', 'limitation', 'retention', 'periods', 'data', 'deleted', 'relevant', 'limitation', 'retention', 'periods', 'expired', 'learn', 'section', 'specific', 'retention', 'periods', 'personal', 'data', 'documented', 'regional', 'data', 'retention', 'guidelines', 'long', 'retain', 'personal', 'data', 'may', 'vary', 'depending', 'services', 'provide', 'legal', 'obligations', 'applicable', 'national', 'law', 'following', 'factors', 'typically', 'affect', 'retention', 'period', 'necessity', 'provision', 'services', 'includes', 'things', 'executing', 'user', 'agreement', 'maintaining', 'improving', 'performance', 'products', 'keeping', 'systems', 'secure', 'maintaining', 'appropriate', 'business', 'financial', 'records', 'retention', 'periods', 'determined', 'basis', 'general', 'rule', 'special', 'categories', 'personal', 'data', 'store', 'special', 'categories', 'personal', 'data', 'shorter', 'retention', 'period', 'usually', 'appropriate', 'consent', 'based', 'processing', 'personal', 'data', 'process', 'personal', 'data', 'basis', 'consent', 'store', 'data', 'long', 'necessary', 'order', 'process', 'according', 'consent', 'statutory', 'contractual', 'similar', 'obligations', 'corresponding', 'storage', 'obligations', 'may', 'arise', 'example', 'laws', 'official', 'orders', 'may', 'also', 'necessary', 'store', 'personal', 'data', 'regard', 'pending', 'future', 'legal', 'disputes', 'personal', 'data', 'contained', 'contracts', 'notifications', 'business', 'letters', 'may', 'subject', 'statutory', 'storage', 'obligations', 'depending', 'national', 'law', 'rights', 'data', 'subject', 'subject', 'possible', 'restrictions', 'national', 'law', 'data', 'subject', 'right', 'access', 'rectification', 'erasure', 'restriction', 'processing', 'data', 'portability', 'regard', 'personal', 'data', 'addition', 'withdraw', 'consent', 'object', 'processing', 'personal', 'data', 'basis', 'legitimate', 'interests', 'also', 'lodge', 'complaint', 'supervisory', 'authority', 'learn', 'section', 'rights', 'detail', 'withdraw', 'consent', 'processing', 'personal', 'data', 'time', 'result', 'may', 'longer', 'process', 'personal', 'data', 'based', 'consent', 'future', 'withdrawal', 'consent', 'effect', 'lawfulness', 'processing', 'based', 'consent', 'withdrawal', 'right', 'obtain', 'access', 'personal', 'data', 'processed', 'particular', 'may', 'request', 'information', 'purposes', 'processing', 'categories', 'personal', 'data', 'concerned', 'categories', 'recipients', 'personal', 'data', 'disclosed', 'envisaged', 'period', 'personal', 'data', 'stored', 'existence', 'right', 'request', 'rectification', 'erasure', 'personal', 'data', 'restriction', 'processing', 'personal', 'data', 'object', 'processing', 'right', 'lodge', 'complaint', 'supervisory', 'authority', 'available', 'information', 'personal', 'data', 'source', 'existence', 'automated', 'decision', 'making', 'including', 'profiling', 'appropriate', 'meaningful', 'information', 'details', 'right', 'access', 'may', 'limited', 'national', 'law', 'right', 'obtain', 'without', 'undue', 'delay', 'rectification', 'inaccurate', 'personal', 'data', 'concerning', 'taking', 'account', 'purposes', 'processing', 'right', 'incomplete', 'personal', 'data', 'completed', 'including', 'means', 'providing', 'supplementary', 'statement', 'right', 'obtain', 'erasure', 'personal', 'data', 'concerning', 'unless', 'processing', 'necessary', 'exercising', 'right', 'freedom', 'expression', 'information', 'compliance', 'legal', 'obligation', 'reasons', 'public', 'interest', 'establishment', 'exercise', 'defense', 'legal', 'claims', 'right', 'erasure', 'may', 'limited', 'national', 'law', 'right', 'obtain', 'restriction', 'processing', 'extent', 'accuracy', 'data', 'disputed', 'processing', 'unlawful', 'oppose', 'erasure', 'personal', 'data', 'longer', 'need', 'data', 'need', 'assert', 'exercise', 'defend', 'legal', 'claims', 'objected', 'processing', 'right', 'receive', 'personal', 'data', 'concerning', 'provided', 'structured', 'commonly', 'used', 'machine', 'readable', 'format', 'right', 'transmit', 'data', 'another', 'controller', 'right', 'lodge', 'complaint', 'supervisory', 'authority', 'rule', 'contact', 'supervisory', 'authority', 'usual', 'place', 'residence', 'place', 'work', 'registered', 'office', 'controller', 'personal', 'data', 'processed', 'basis', 'legitimate', 'interests', 'right', 'object', 'processing', 'personal', 'data', 'grounds', 'relating', 'particular', 'situation', 'also', 'applies', 'profiling', 'personal', 'data', 'processed', 'direct', 'marketing', 'purposes', 'right', 'object', 'time', 'processing', 'personal', 'data', 'marketing', 'includes', 'profiling', 'extent', 'related', 'direct', 'marketing', 'exercise', 'data', 'subjects', 'rights', 'generally', 'free', 'charge', 'requests', 'manifestly', 'unfounded', 'excessive', 'particular', 'repetitive', 'character', 'may', 'charge', 'appropriate', 'fee', 'accordance', 'applicable', 'statutory', 'regulations', 'refuse', 'process', 'application', 'exercising', 'rights', 'managing', 'settings', 'exercise', 'rights', 'data', 'subject', 'via', 'privacy', 'contact', 'page', 'opens', 'new', 'window', 'tab', 'addition', 'course', 'free', 'contact', 'would', 'like', 'change', 'preferences', 'regarding', 'ebay', 'notifications', 'time', 'ebay', 'communication', 'preferences', 'wish', 'receive', 'marketing', 'communications', 'also', 'unsubscribe', 'clicking', 'link', 'email', 'received', 'technical', 'reasons', 'implementation', 'may', 'take', 'days', 'information', 'manage', 'cookie', 'similar', 'technology', 'preferences', 'see', 'next', 'section', 'cookies', 'similar', 'technologies', 'cookies', 'similar', 'technologies', 'use', 'services', 'selected', 'third', 'parties', 'may', 'use', 'cookies', 'similar', 'technologies', 'provide', 'better', 'faster', 'safer', 'user', 'experience', 'show', 'personalized', 'advertising', 'cookies', 'small', 'text', 'files', 'automatically', 'created', 'browser', 'stored', 'device', 'use', 'services', 'find', 'detailed', 'information', 'use', 'cookies', 'similar', 'technologies', 'choices', 'user', 'cookie', 'notice', 'learn', 'section', 'cookies', 'similar', 'technologies', 'different', 'functions', 'may', 'technically', 'necessary', 'provision', 'services', 'help', 'optimize', 'services', 'technically', 'help', 'improve', 'user', 'experience', 'allow', 'show', 'relevant', 'advertisements', 'use', 'cookies', 'similar', 'technologies', 'remain', 'device', 'long', 'browser', 'active', 'well', 'cookies', 'similar', 'technologies', 'remain', 'device', 'longer', 'possible', 'take', 'appropriate', 'security', 'measures', 'prevent', 'unauthorized', 'access', 'cookies', 'similar', 'technologies', 'unique', 'ensures', 'selected', 'third', 'parties', 'access', 'cookie', 'data', 'choices', 'regarding', 'cookies', 'free', 'disable', 'use', 'cookies', 'similar', 'technologies', 'supported', 'device', 'manage', 'cookie', 'settings', 'browser', 'device', 'settings', 'addition', 'decide', 'whether', 'may', 'use', 'cookies', 'similar', 'technologies', 'show', 'personalized', 'advertisements', 'manage', 'settings', 'regarding', 'use', 'first', 'party', 'cookies', 'advertising', 'related', 'purposes', 'please', 'adchoice', 'ebay', 'advertising', 'preferences', 'opens', 'new', 'window', 'tab', 'find', 'information', 'third', 'party', 'cookies', 'related', 'advertising', 'prevent', 'use', 'following', 'websites', 'www', 'youronlinechoices', 'com', 'opens', 'new', 'window', 'tab', 'www', 'aboutads', 'info', 'choices', 'opens', 'new', 'window', 'tab', 'www', 'networkadvertising', 'org', 'choices', 'opens', 'new', 'window', 'tab', 'users', 'european', 'economic', 'area', 'also', 'use', 'advertising', 'related', 'preferences', 'opens', 'new', 'window', 'tab', 'determine', 'extent', 'consent', 'processing', 'personal', 'data', 'advertising', 'purposes', 'via', 'cookies', 'decide', 'personal', 'data', 'processed', 'advertising', 'purposes', 'via', 'cookies', 'mean', 'show', 'advertisements', 'simply', 'means', 'advertisements', 'personalized', 'using', 'first', 'party', 'third', 'party', 'cookies', 'web', 'beacons', 'similar', 'technologies', 'data', 'security', 'protect', 'personal', 'data', 'technical', 'organizational', 'security', 'measures', 'minimize', 'risks', 'associated', 'data', 'loss', 'misuse', 'unauthorized', 'access', 'unauthorized', 'disclosure', 'alteration', 'end', 'use', 'firewalls', 'data', 'encryption', 'example', 'well', 'physical', 'access', 'restrictions', 'data', 'centers', 'authorization', 'controls', 'data', 'access', 'find', 'information', 'data', 'security', 'security', 'center', 'opens', 'new', 'window', 'tab', 'important', 'information', 'regarding', 'data', 'protection', 'section', 'contains', 'important', 'additional', 'information', 'protection', 'personal', 'data', 'connection', 'use', 'services', 'including', 'whether', 'required', 'provide', 'personal', 'data', 'learn', 'section', 'happens', 'share', 'personal', 'data', 'sites', 'applications', 'users', 'access', 'information', 'share', 'ebay', 'disclose', 'users', 'example', 'users', 'see', 'bids', 'purchases', 'items', 'sale', 'saved', 'interests', 'sellers', 'searches', 'storefronts', 'feedback', 'ratings', 'product', 'reviews', 'associated', 'comments', 'users', 'also', 'see', 'information', 'chose', 'share', 'profile', 'use', 'services', 'public', 'user', 'may', 'displayed', 'available', 'public', 'associated', 'public', 'ebay', 'activity', 'notices', 'sent', 'users', 'suspicious', 'activity', 'notice', 'violations', 'sites', 'may', 'refer', 'public', 'user', 'specific', 'items', 'accordingly', 'use', 'username', 'allows', 'others', 'identify', 'others', 'may', 'able', 'identify', 'ebay', 'activities', 'help', 'protect', 'personal', 'data', 'allow', 'limited', 'access', 'users', 'contact', 'shipping', 'financial', 'information', 'necessary', 'facilitate', 'transactions', 'collect', 'payments', 'however', 'users', 'involved', 'transaction', 'access', 'name', 'user', 'email', 'address', 'contact', 'shipping', 'information', 'example', 'may', 'allow', 'users', 'exchange', 'telephone', 'numbers', 'order', 'contact', 'prior', 'completing', 'transaction', 'case', 'sellers', 'prohibited', 'using', 'buyer', 'telephone', 'number', 'purposes', 'responsibilities', 'transactional', 'information', 'receive', 'ebay', 'complete', 'transaction', 'another', 'user', 'provide', 'user', 'personal', 'data', 'independent', 'controller', 'data', 'responsible', 'processing', 'perform', 'shared', 'data', 'including', 'compliance', 'limitations', 'imposed', 'user', 'privacy', 'notice', 'user', 'agreement', 'unless', 'act', 'purely', 'personal', 'purposes', 'recommend', 'explain', 'data', 'processing', 'activities', 'privacy', 'notice', 'protect', 'privacy', 'users', 'seller', 'must', 'case', 'comply', 'applicable', 'data', 'protection', 'laws', 'particular', 'protect', 'rights', 'users', 'data', 'subjects', 'give', 'opportunity', 'access', 'personal', 'data', 'collected', 'demand', 'erased', 'may', 'use', 'personal', 'data', 'access', 'ebay', 'transaction', 'related', 'purposes', 'services', 'offered', 'ebay', 'purposes', 'expressly', 'consented', 'user', 'data', 'relates', 'using', 'personal', 'data', 'users', 'access', 'purpose', 'adding', 'mailing', 'list', 'without', 'express', 'consent', 'constitutes', 'violation', 'user', 'agreement', 'personal', 'data', 'relating', 'third', 'parties', 'provide', 'personal', 'data', 'relating', 'another', 'person', 'must', 'obtain', 'consent', 'person', 'disclosure', 'data', 'must', 'otherwise', 'legally', 'permissible', 'must', 'inform', 'person', 'process', 'personal', 'data', 'accordance', 'user', 'privacy', 'notice', 'filtering', 'messages', 'sent', 'via', 'messaging', 'tools', 'messages', 'sent', 'via', 'messaging', 'tools', 'first', 'received', 'forwarded', 'recipient', 'messages', 'automatically', 'filtered', 'according', 'certain', 'criteria', 'necessary', 'conspicuous', 'messages', 'checked', 'manually', 'customer', 'service', 'event', 'violation', 'user', 'agreement', 'reserve', 'right', 'block', 'transmission', 'message', 'restrict', 'purchase', 'sales', 'functions', 'ebay', 'account', 'block', 'ebay', 'account', 'protect', 'legitimate', 'interests', 'protecting', 'fraudulent', 'suspicious', 'activities', 'enforcing', 'user', 'agreement', 'rules', 'policies', 'including', 'limited', 'enforcing', 'prohibition', 'purchases', 'sales', 'outside', 'ebay', 'obliged', 'provide', 'personal', 'data', 'personal', 'data', 'provide', 'required', 'enter', 'user', 'agreement', 'payments', 'terms', 'use', 'example', 'payments', 'terms', 'use', 'must', 'provide', 'certain', 'identification', 'information', 'including', 'legal', 'name', 'date', 'birth', 'tax', 'identification', 'number', 'social', 'security', 'number', 'may', 'fulfil', 'legal', 'know', 'customer', 'obligations', 'described', 'elsewhere', 'user', 'privacy', 'notice', 'payments', 'terms', 'use', 'may', 'share', 'data', 'ebay', 'group', 'companies', 'order', 'facilitate', 'transactions', 'service', 'providers', 'including', 'payment', 'processors', 'credit', 'agencies', 'bureaus', 'although', 'provision', 'personal', 'data', 'voluntary', 'may', 'necessary', 'use', 'services', 'bidding', 'purchase', 'sales', 'data', 'complete', 'transaction', 'children', 'privacy', 'services', 'intended', 'use', 'children', 'knowingly', 'collect', 'personal', 'data', 'users', 'considered', 'children', 'applicable', 'national', 'laws', 'user', 'agreement', 'children', 'permitted', 'use', 'services', 'staying', 'signed', 'sign', 'account', 'services', 'give', 'option', 'stay', 'signed', 'account', 'certain', 'amount', 'time', 'using', 'public', 'shared', 'computer', 'encourage', 'decline', 'user', 'computer', 'browser', 'signed', 'able', 'view', 'access', 'parts', 'account', 'take', 'certain', 'specific', 'actions', 'signed', 'period', 'without', 'authorization', 'specific', 'actions', 'account', 'activities', 'user', 'computer', 'browser', 'may', 'take', 'include', 'bid', 'buy', 'make', 'offer', 'item', 'check', 'add', 'items', 'cart', 'purchase', 'item', 'paypal', 'using', 'faster', 'checkout', 'view', 'activity', 'header', 'view', 'ebay', 'page', 'view', 'edit', 'watch', 'list', 'order', 'details', 'view', 'profile', 'page', 'send', 'member', 'member', 'messages', 'conduct', 'sale', 'activities', 'like', 'leaving', 'feedback', 'canceling', 'orders', 'requesting', 'returns', 'submitting', 'claims', 'attempt', 'change', 'password', 'user', 'update', 'account', 'information', 'attempt', 'account', 'activity', 'beyond', 'listed', 'may', 'required', 'enter', 'password', 'typically', 'end', 'signed', 'session', 'either', 'signing', 'clearing', 'cookies', 'certain', 'browser', 'privacy', 'settings', 'enabled', 'simply', 'closing', 'browser', 'may', 'also', 'end', 'signed', 'session', 'using', 'public', 'shared', 'computer', 'sign', 'clear', 'cookies', 'done', 'using', 'services', 'protect', 'account', 'personal', 'data', 'regional', 'state', 'privacy', 'disclosures', 'additional', 'regional', 'disclosures', 'residents', 'certain', 'states', 'including', 'california', 'please', 'review', 'state', 'privacy', 'disclosures', 'opens', 'new', 'window', 'tab', 'page', 'additional', 'disclosures', 'specific', 'regions', 'countries', 'including', 'brazil', 'mainland', 'people', 'republic', 'china', 'please', 'review', 'regional', 'privacy', 'disclosures', 'opens', 'new', 'window', 'tab', 'page', 'article', 'helpful', 'might', 'also', 'interested', 'unsolicited', 'idea', 'submissions', 'policyat', 'ebay', 'appreciate', 'comments', 'members', 'products', 'services', 'long', 'standing', 'policy', 'accepting', 'unsolicited', 'suggestions', 'ideas', 'proposals', 'min', 'articlethreats', 'offensive', 'language', 'policythreats', 'offensive', 'language', 'hate', 'speech', 'allowed', 'ebay', 'min', 'article', 'additional', 'site', 'navigationabout', 'ebayannouncementscommunitysecurity', 'centerseller', 'information', 'centerpoliciesaffiliateshelp', 'contactsite', 'mapcopyright', 'ebay', 'inc', 'rights', 'reserved', 'accessibility', 'user', 'agreement', 'privacy', 'cookies', 'sell', 'personal', 'information', 'adchoicenorton', 'secured', 'powered', 'digicert']\n"
     ]
    }
   ],
   "source": [
    "word_list_4=extract_words(clean_policy)\n",
    "print(word_list_4)"
   ]
  },
  {
   "cell_type": "markdown",
   "metadata": {},
   "source": [
    "### Rest of the privacy policy links can be used for testing later"
   ]
  },
  {
   "cell_type": "markdown",
   "metadata": {},
   "source": [
    "## Extracting the common words from the list of words obtained above"
   ]
  },
  {
   "cell_type": "code",
   "execution_count": 25,
   "metadata": {},
   "outputs": [],
   "source": [
    "common_word_set=set(word_list_1) & set(word_list_2) & set(word_list_3) & set(word_list_4)"
   ]
  },
  {
   "cell_type": "code",
   "execution_count": 26,
   "metadata": {},
   "outputs": [],
   "source": [
    "common_word_list=list(common_word_set)"
   ]
  },
  {
   "cell_type": "code",
   "execution_count": 27,
   "metadata": {
    "scrolled": true
   },
   "outputs": [
    {
     "data": {
      "text/plain": [
       "['data',\n",
       " 'right',\n",
       " 'policy',\n",
       " 'product',\n",
       " 'account',\n",
       " 'register',\n",
       " 'may',\n",
       " 'process',\n",
       " 'contact',\n",
       " 'disclose',\n",
       " 'rights',\n",
       " 'privacy',\n",
       " 'access',\n",
       " 'site',\n",
       " 'time',\n",
       " 'browser',\n",
       " 'want',\n",
       " 'com',\n",
       " 'purposes',\n",
       " 'websites',\n",
       " 'terms',\n",
       " 'request',\n",
       " 'services',\n",
       " 'requests',\n",
       " 'cookie',\n",
       " 'also',\n",
       " 'online',\n",
       " 'orders',\n",
       " 'changes',\n",
       " 'using',\n",
       " 'used',\n",
       " 'permission',\n",
       " 'cookies',\n",
       " 'name',\n",
       " 'regarding',\n",
       " 'change',\n",
       " 'email',\n",
       " 'use',\n",
       " 'special',\n",
       " 'provide',\n",
       " 'take',\n",
       " 'requested',\n",
       " 'parties',\n",
       " 'collect',\n",
       " 'following',\n",
       " 'service',\n",
       " 'send',\n",
       " 'part',\n",
       " 'address',\n",
       " 'settings',\n",
       " 'without',\n",
       " 'shared',\n",
       " 'share',\n",
       " 'personal',\n",
       " 'web',\n",
       " 'products',\n",
       " 'third',\n",
       " 'sell',\n",
       " 'promotion',\n",
       " 'information',\n",
       " 'reserved']"
      ]
     },
     "execution_count": 27,
     "metadata": {},
     "output_type": "execute_result"
    }
   ],
   "source": [
    "common_word_list"
   ]
  },
  {
   "cell_type": "code",
   "execution_count": 28,
   "metadata": {},
   "outputs": [
    {
     "data": {
      "text/plain": [
       "61"
      ]
     },
     "execution_count": 28,
     "metadata": {},
     "output_type": "execute_result"
    }
   ],
   "source": [
    "len(common_word_list)"
   ]
  },
  {
   "cell_type": "markdown",
   "metadata": {},
   "source": [
    "## Testing on a privacy policy text"
   ]
  },
  {
   "cell_type": "code",
   "execution_count": 29,
   "metadata": {
    "scrolled": true
   },
   "outputs": [
    {
     "data": {
      "text/plain": [
       "\"eleB2B.com (a part of EFY Enterprises Pvt Ltd) is committed to safeguarding its users' privacy. We request all users to read our 'Privacy Policy' to understand how their personal and business information will be handled. As of now, we do not charge a single penny to buyers and suppliers (this may change later, and we will inform you when that happens) in exchange for our services. This privacy policy is applicable to the entire network of suppliers/manufacturers etc listed on and using eleB2B.com.By using our site, you consent to the terms of our online Privacy Policy.What user information do we collect?We collect information from buyers and suppliers when they register to gain access to our services or when they are requested to provide their personal and business details. During registration, we ask the buyers or suppliers for their name, email address, business information and other personal details.What do we use your personal/business information for?On successful registration, users are no longer anonymous to the eleB2B.com and EFY Group website admins, and it is deemed that the user has given us the right to publish the relevant personal and business details for the following purposes:To personalise your experienceTo improve our websiteTo share with sponsorsTo administer a contest, promotion, survey, or conduct any other such activity on the siteTo send out periodic emails.The email address you provide may be used to send you information, respond to inquiries, have an interactive communication, address other requests or personalise your experience on our website. Your business information is used when compiling listings or when featuring product offerings across our network, thus fetching the maximum business opportunities for the user.We also collect usage statistics (page views, unique visitors, browser software, screen resolutions, etc.) through third party tools/websites for analysis. This data helps us provide you with an improved user experience and services.Sharing of Information:As per our principles, eleB2B.com and EFY Group websites will not disclose or share any of your personal as well as business information without your permission, or under special circumstances as permitted in the terms of this policy (Privacy Policy Agreement).Distribution of Information:eleB2B.com; send its users emails regarding its products and services. It may also use your information to create any match- making tools to bring buyers together with interested sellers.Promotional use:Promotions that are being run may be sponsored by eleB2B.com only or EFY Group websites. You can decide not to participate in the promotions if you don't want your data to be shared. For the record, right now, eleB2B.com is not running any promotional campaign.Updating information:As a buyer or supplier, you may edit your account information and profile by logging into our website and/or by sending a request to the admin within the panel. The requested changes will take time to be displayed on the website because of the cross-verification process.At the same time, a registered user account can be deleted or deactivated, but doing so will only result in the user not being able to access the members-only area of the website. The rest of the information about that particular user will remain in our records.Cookie policyRight now, we are using cookies for usability purposes only. You can choose to have your computer warn you each time a cookie is being sent, or you can choose to turn off all cookies via your browser settings. Also, if you turn your cookies off, some of our services may not function properly.You can still place orders by contacting customer service +91-11-4059-6605 or can complain at support@eleb2b.com.Protection of Information:We do not sell third parties any data in bulk, which can be misused for telemarketing, bulk mailing or any other wrong purposes. Also, eleB2B does not sell any user’s’ personal information or business information until and unless it is permitted to do so by the user, as per the terms of this policy (Privacy Policy Agreement).Changes in the Privacy Policy.eleB2B.com reserves the right to change its user policies from time to time, so we suggest that you, as a buyer or seller, check the terms of the policy periodically.\""
      ]
     },
     "execution_count": 29,
     "metadata": {},
     "output_type": "execute_result"
    }
   ],
   "source": [
    "policy_test=\"eleB2B.com (a part of EFY Enterprises Pvt Ltd) is committed to safeguarding its users' privacy. We request all users to read our 'Privacy Policy' to understand how their personal and business information will be handled. As of now, we do not charge a single penny to buyers and suppliers (this may change later, and we will inform you when that happens) in exchange for our services. This privacy policy is applicable to the entire network of suppliers/manufacturers etc listed on and using eleB2B.com.By using our site, you consent to the terms of our online Privacy Policy.What user information do we collect?We collect information from buyers and suppliers when they register to gain access to our services or when they are requested to provide their personal and business details. During registration, we ask the buyers or suppliers for their name, email address, business information and other personal details.What do we use your personal/business information for?On successful registration, users are no longer anonymous to the eleB2B.com and EFY Group website admins, and it is deemed that the user has given us the right to publish the relevant personal and business details for the following purposes:To personalise your experienceTo improve our websiteTo share with sponsorsTo administer a contest, promotion, survey, or conduct any other such activity on the siteTo send out periodic emails.The email address you provide may be used to send you information, respond to inquiries, have an interactive communication, address other requests or personalise your experience on our website. Your business information is used when compiling listings or when featuring product offerings across our network, thus fetching the maximum business opportunities for the user.We also collect usage statistics (page views, unique visitors, browser software, screen resolutions, etc.) through third party tools/websites for analysis. This data helps us provide you with an improved user experience and services.Sharing of Information:As per our principles, eleB2B.com and EFY Group websites will not disclose or share any of your personal as well as business information without your permission, or under special circumstances as permitted in the terms of this policy (Privacy Policy Agreement).Distribution of Information:eleB2B.com; send its users emails regarding its products and services. It may also use your information to create any match- making tools to bring buyers together with interested sellers.Promotional use:Promotions that are being run may be sponsored by eleB2B.com only or EFY Group websites. You can decide not to participate in the promotions if you don't want your data to be shared. For the record, right now, eleB2B.com is not running any promotional campaign.Updating information:As a buyer or supplier, you may edit your account information and profile by logging into our website and/or by sending a request to the admin within the panel. The requested changes will take time to be displayed on the website because of the cross-verification process.At the same time, a registered user account can be deleted or deactivated, but doing so will only result in the user not being able to access the members-only area of the website. The rest of the information about that particular user will remain in our records.Cookie policyRight now, we are using cookies for usability purposes only. You can choose to have your computer warn you each time a cookie is being sent, or you can choose to turn off all cookies via your browser settings. Also, if you turn your cookies off, some of our services may not function properly.You can still place orders by contacting customer service +91-11-4059-6605 or can complain at support@eleb2b.com.Protection of Information:We do not sell third parties any data in bulk, which can be misused for telemarketing, bulk mailing or any other wrong purposes. Also, eleB2B does not sell any user’s’ personal information or business information until and unless it is permitted to do so by the user, as per the terms of this policy (Privacy Policy Agreement).Changes in the Privacy Policy.eleB2B.com reserves the right to change its user policies from time to time, so we suggest that you, as a buyer or seller, check the terms of the policy periodically.\"\n",
    "policy_test"
   ]
  },
  {
   "cell_type": "markdown",
   "metadata": {},
   "source": [
    "## Storing the sentences in a list by using \".\" as the delimiter and splitting"
   ]
  },
  {
   "cell_type": "code",
   "execution_count": 30,
   "metadata": {
    "scrolled": true
   },
   "outputs": [
    {
     "data": {
      "text/plain": [
       "['eleB2B',\n",
       " \"com (a part of EFY Enterprises Pvt Ltd) is committed to safeguarding its users' privacy\",\n",
       " \" We request all users to read our 'Privacy Policy' to understand how their personal and business information will be handled\",\n",
       " ' As of now, we do not charge a single penny to buyers and suppliers (this may change later, and we will inform you when that happens) in exchange for our services',\n",
       " ' This privacy policy is applicable to the entire network of suppliers/manufacturers etc listed on and using eleB2B',\n",
       " 'com',\n",
       " 'By using our site, you consent to the terms of our online Privacy Policy',\n",
       " 'What user information do we collect?We collect information from buyers and suppliers when they register to gain access to our services or when they are requested to provide their personal and business details',\n",
       " ' During registration, we ask the buyers or suppliers for their name, email address, business information and other personal details',\n",
       " 'What do we use your personal/business information for?On successful registration, users are no longer anonymous to the eleB2B',\n",
       " 'com and EFY Group website admins, and it is deemed that the user has given us the right to publish the relevant personal and business details for the following purposes:To personalise your experienceTo improve our websiteTo share with sponsorsTo administer a contest, promotion, survey, or conduct any other such activity on the siteTo send out periodic emails',\n",
       " 'The email address you provide may be used to send you information, respond to inquiries, have an interactive communication, address other requests or personalise your experience on our website',\n",
       " ' Your business information is used when compiling listings or when featuring product offerings across our network, thus fetching the maximum business opportunities for the user',\n",
       " 'We also collect usage statistics (page views, unique visitors, browser software, screen resolutions, etc',\n",
       " ') through third party tools/websites for analysis',\n",
       " ' This data helps us provide you with an improved user experience and services',\n",
       " 'Sharing of Information:As per our principles, eleB2B',\n",
       " 'com and EFY Group websites will not disclose or share any of your personal as well as business information without your permission, or under special circumstances as permitted in the terms of this policy (Privacy Policy Agreement)',\n",
       " 'Distribution of Information:eleB2B',\n",
       " 'com; send its users emails regarding its products and services',\n",
       " ' It may also use your information to create any match- making tools to bring buyers together with interested sellers',\n",
       " 'Promotional use:Promotions that are being run may be sponsored by eleB2B',\n",
       " 'com only or EFY Group websites',\n",
       " \" You can decide not to participate in the promotions if you don't want your data to be shared\",\n",
       " ' For the record, right now, eleB2B',\n",
       " 'com is not running any promotional campaign',\n",
       " 'Updating information:As a buyer or supplier, you may edit your account information and profile by logging into our website and/or by sending a request to the admin within the panel',\n",
       " ' The requested changes will take time to be displayed on the website because of the cross-verification process',\n",
       " 'At the same time, a registered user account can be deleted or deactivated, but doing so will only result in the user not being able to access the members-only area of the website',\n",
       " ' The rest of the information about that particular user will remain in our records',\n",
       " 'Cookie policyRight now, we are using cookies for usability purposes only',\n",
       " ' You can choose to have your computer warn you each time a cookie is being sent, or you can choose to turn off all cookies via your browser settings',\n",
       " ' Also, if you turn your cookies off, some of our services may not function properly',\n",
       " 'You can still place orders by contacting customer service +91-11-4059-6605 or can complain at support@eleb2b',\n",
       " 'com',\n",
       " 'Protection of Information:We do not sell third parties any data in bulk, which can be misused for telemarketing, bulk mailing or any other wrong purposes',\n",
       " ' Also, eleB2B does not sell any user’s’ personal information or business information until and unless it is permitted to do so by the user, as per the terms of this policy (Privacy Policy Agreement)',\n",
       " 'Changes in the Privacy Policy',\n",
       " 'eleB2B',\n",
       " 'com reserves the right to change its user policies from time to time, so we suggest that you, as a buyer or seller, check the terms of the policy periodically',\n",
       " '']"
      ]
     },
     "execution_count": 30,
     "metadata": {},
     "output_type": "execute_result"
    }
   ],
   "source": [
    "policy_test_sentences=policy_test.split(\".\")\n",
    "policy_test_sentences"
   ]
  },
  {
   "cell_type": "code",
   "execution_count": 31,
   "metadata": {},
   "outputs": [
    {
     "data": {
      "text/plain": [
       "41"
      ]
     },
     "execution_count": 31,
     "metadata": {},
     "output_type": "execute_result"
    }
   ],
   "source": [
    "len(policy_test_sentences)"
   ]
  },
  {
   "cell_type": "markdown",
   "metadata": {},
   "source": [
    "## Code to print the sentences which contain words from the common word list (either as a subset, or as a whole)"
   ]
  },
  {
   "cell_type": "code",
   "execution_count": 32,
   "metadata": {},
   "outputs": [],
   "source": [
    "summary=[]\n",
    "for i in range(len(policy_test_sentences)):\n",
    "    for j in common_word_list:\n",
    "        if j in policy_test_sentences[i]:\n",
    "            summary.append(policy_test_sentences[i])\n",
    "            break"
   ]
  },
  {
   "cell_type": "code",
   "execution_count": 33,
   "metadata": {
    "scrolled": true
   },
   "outputs": [
    {
     "data": {
      "text/plain": [
       "[\"com (a part of EFY Enterprises Pvt Ltd) is committed to safeguarding its users' privacy\",\n",
       " \" We request all users to read our 'Privacy Policy' to understand how their personal and business information will be handled\",\n",
       " ' As of now, we do not charge a single penny to buyers and suppliers (this may change later, and we will inform you when that happens) in exchange for our services',\n",
       " ' This privacy policy is applicable to the entire network of suppliers/manufacturers etc listed on and using eleB2B',\n",
       " 'com',\n",
       " 'By using our site, you consent to the terms of our online Privacy Policy',\n",
       " 'What user information do we collect?We collect information from buyers and suppliers when they register to gain access to our services or when they are requested to provide their personal and business details',\n",
       " ' During registration, we ask the buyers or suppliers for their name, email address, business information and other personal details',\n",
       " 'What do we use your personal/business information for?On successful registration, users are no longer anonymous to the eleB2B',\n",
       " 'com and EFY Group website admins, and it is deemed that the user has given us the right to publish the relevant personal and business details for the following purposes:To personalise your experienceTo improve our websiteTo share with sponsorsTo administer a contest, promotion, survey, or conduct any other such activity on the siteTo send out periodic emails',\n",
       " 'The email address you provide may be used to send you information, respond to inquiries, have an interactive communication, address other requests or personalise your experience on our website',\n",
       " ' Your business information is used when compiling listings or when featuring product offerings across our network, thus fetching the maximum business opportunities for the user',\n",
       " 'We also collect usage statistics (page views, unique visitors, browser software, screen resolutions, etc',\n",
       " ') through third party tools/websites for analysis',\n",
       " ' This data helps us provide you with an improved user experience and services',\n",
       " 'com and EFY Group websites will not disclose or share any of your personal as well as business information without your permission, or under special circumstances as permitted in the terms of this policy (Privacy Policy Agreement)',\n",
       " 'com; send its users emails regarding its products and services',\n",
       " ' It may also use your information to create any match- making tools to bring buyers together with interested sellers',\n",
       " 'Promotional use:Promotions that are being run may be sponsored by eleB2B',\n",
       " 'com only or EFY Group websites',\n",
       " \" You can decide not to participate in the promotions if you don't want your data to be shared\",\n",
       " ' For the record, right now, eleB2B',\n",
       " 'com is not running any promotional campaign',\n",
       " 'Updating information:As a buyer or supplier, you may edit your account information and profile by logging into our website and/or by sending a request to the admin within the panel',\n",
       " ' The requested changes will take time to be displayed on the website because of the cross-verification process',\n",
       " 'At the same time, a registered user account can be deleted or deactivated, but doing so will only result in the user not being able to access the members-only area of the website',\n",
       " ' The rest of the information about that particular user will remain in our records',\n",
       " 'Cookie policyRight now, we are using cookies for usability purposes only',\n",
       " ' You can choose to have your computer warn you each time a cookie is being sent, or you can choose to turn off all cookies via your browser settings',\n",
       " ' Also, if you turn your cookies off, some of our services may not function properly',\n",
       " 'You can still place orders by contacting customer service +91-11-4059-6605 or can complain at support@eleb2b',\n",
       " 'com',\n",
       " 'Protection of Information:We do not sell third parties any data in bulk, which can be misused for telemarketing, bulk mailing or any other wrong purposes',\n",
       " ' Also, eleB2B does not sell any user’s’ personal information or business information until and unless it is permitted to do so by the user, as per the terms of this policy (Privacy Policy Agreement)',\n",
       " 'com reserves the right to change its user policies from time to time, so we suggest that you, as a buyer or seller, check the terms of the policy periodically']"
      ]
     },
     "execution_count": 33,
     "metadata": {},
     "output_type": "execute_result"
    }
   ],
   "source": [
    "summary"
   ]
  },
  {
   "cell_type": "code",
   "execution_count": 34,
   "metadata": {},
   "outputs": [
    {
     "data": {
      "text/plain": [
       "35"
      ]
     },
     "execution_count": 34,
     "metadata": {},
     "output_type": "execute_result"
    }
   ],
   "source": [
    "len(summary)"
   ]
  },
  {
   "cell_type": "code",
   "execution_count": 35,
   "metadata": {},
   "outputs": [
    {
     "data": {
      "image/png": "[encoded data removed]",
      "text/plain": [
       "<Figure size 432x288 with 1 Axes>"
      ]
     },
     "metadata": {},
     "output_type": "display_data"
    }
   ],
   "source": [
    "import seaborn as sns\n",
    "import matplotlib.pyplot as plt\n",
    "sns.set_style('darkgrid')\n",
    "sns.barplot(x=[\"Summarized policy\",\"Raw policy\"],y=[33,41]).set(xlabel='Privacy policy', ylabel='Count of sentences')\n",
    "plt.show()"
   ]
  },
  {
   "cell_type": "markdown",
   "metadata": {},
   "source": [
    "## We can infer that there is a 19.5% decrease in the number of sentences after using common words to extract sentences"
   ]
  },
  {
   "cell_type": "markdown",
   "metadata": {},
   "source": [
    "## Testing using another privacy policy text"
   ]
  },
  {
   "cell_type": "code",
   "execution_count": 163,
   "metadata": {
    "scrolled": true
   },
   "outputs": [
    {
     "data": {
      "text/plain": [
       "\"Rediff.com India Limited and its subsidiaries and affiliates ('Rediff.com') respects your privacy. This Privacy Policy provides succinctly the manner your data is collected and used by Rediff.com. You are advised to please read the Privacy Policy carefully. By accessing the services provided by Rediff.com you agree to the collection and use of your data by Rediff.com in the manner provided in this Privacy Policy.We want you to feel comfortable using our web sites feel secure submitting information to uscontact us with your questions or concerns about privacy on this site know that by using our sites you are consenting to the collection of certain data.WHAT INFORMATION IS, OR MAY BE, COLLECTED FROM YOU?We will automatically receive and collect certain anonymous information in standard usage logs through our Web server, including computer-identification information obtained from 'cookies,' sent to your browser from a web server cookie stored on your hard drive an IP address, assigned to the computer which you use the domain server through which you access our service the type of computer you're using, the type of web browser you're using.We may collect the following personally identifiable information about you:name including first and last name alternate email address mobile phone number and contact details ZIP/Postal code demographic profile (like your age, gender, occupation, education, address and durables owned);preferences and interests (such as news, sports, travel and so on);financial information (like account or credit card numbers); andopinions of features on our websites.We may also collect the following information:about the pages you visit/access the links you click on our site the number of times you access the pageYou can terminate your account at any time. However, your information may remain stored in archive on our servers even after the deletion or the termination of your account.WHO COLLECTS THE INFORMATION?We will collect anonymous traffic information from you when you visit our site.We will collect personally identifiable information about you only as part of a voluntary registration process, on-line survey, or contest or any combination thereof.Our advertisers may collect anonymous traffic information from their own assigned cookies to your browser.The Site contains links to other Web sites. We are not responsible for the privacy practices of such Web sites which we do not own, manage or control.We make chat rooms, forums, instant messenger and message boards and other services available to you. Please understand that any information that is disclosed in these areas becomes public information. We have no control over its use and you should exercise caution when disclosing your personal information to anyone.HOW IS THE INFORMATION USED?We use your personal information to:help us provide personalized featurestailor our sites to your interest to get in touch with you when necessary to provide the services requested by you to preserve social history as governed by existing law or policy.We use contact information internally to: direct our efforts for product improvement contact you as a survey respondent notify you if you win any contest; and send you promotional materials from our contest sponsors or advertisers Generally, we use anonymous traffic information to: remind us of who you are in order to deliver to you a better and more personalized service from both an advertising and an editorial perspective; recognize your access privileges to our Web sites track your entries in some of our promotions, sweepstakes and contests to indicate a player's progress through the promotion and to track entries, submissions, and status in prize drawings make sure that you don't see the same ad repeatedly help diagnose problems with our server administer our Web sites track your session so that we can understand better how people use our sites.WITH WHOM WILL YOUR INFORMATION BE SHARED?We will not use your financial information for any purpose other than to complete a transaction with you.We do not rent, sell or share your personal information and we will not disclose any of your personally identifiable information to third parties unless:we have your permissionto provide products or services you've requested to help investigate, prevent or take action regarding unlawful and illegal activities, suspected fraud, potential threat to the safety or security of any person, violations of Rediff.com's terms of use or to defend against legal claims;special circumstances such as compliance with subpoenas, court orders, requests/order from legal authorities or law enforcement agencies requiring such disclosure.We share your information with advertisers on an aggregate basis only.WHAT CHOICES ARE AVAILABLE TO YOU REGARDING COLLECTION, USE AND DISTRIBUTION OF YOUR INFORMATION?Supplying personally identifiable information is entirely voluntary. You are not required to register with us in order to use our sites. However, we offer some services only to visitors who do register.You may change your interests at any time and may opt-in or opt-out of any marketing / promotional / newsletters mailings. Rediff.com reserves the right to send you certain service-related communication, considered to be a part of your rediff account without offering you the facility to opt-out. You may update your information and change your account settings at any time.Upon request, we will remove/block your personally identifiable information from our database, thereby canceling your registration. See Contact information below. However, your information may remain stored in archive on our servers even after the deletion or the termination of your account.If we plan to use your personally identifiable information for any commercial purposes, we will notify you at the time we collect that information and allow you to opt-out of having your information used for those purposes.You can accept or decline the cookies. All sites that are customizable require that you accept cookies. You also must accept cookies to register as someone for access to some of our services. For information on how to set your browser to alert you to cookies, or to reject cookies, go to http://www.cookiecentral.com/faq/.WHAT SECURITY PROCEDURES ARE IN PLACE TO PROTECT INFORMATION FROM LOSS, MISUSE OR ALTERATION?To protect against the loss, misuse and alteration of the information under our control, we have in place appropriate physical, electronic and managerial procedures. For example, our servers are accessible only to authorized personnel and that your information is shared with respective personnel on need to know basis to complete the transaction and to provide the services requested by you.Although we will endeavor to safeguard the confidentiality of your personally identifiable information, transmissions made by means of the Internet cannot be made absolutely secure. By using this site, you agree that we will have no liability for disclosure of your information due to errors in transmission or unauthorized acts of third parties.HOW CAN YOU CORRECT INACCURACIES IN THE INFORMATION?To correct or update any information you have provided, our sites allow you to do it online. In the event of loss of access details you can use any of the following options:Send an e-mail to shopsupport@rediff.co.in.Call the following telephone number: +91 (22) 61820000.POLICY UPDATES.We reserve the right to change or update this policy at any time by placing a prominent notice on our site. Such changes shall be effective immediately upon posting to this site.You are can offer your views, suggestions, if any, by submitting the filled in feedback form online.\""
      ]
     },
     "execution_count": 163,
     "metadata": {},
     "output_type": "execute_result"
    }
   ],
   "source": [
    "test_2=\"Rediff.com India Limited and its subsidiaries and affiliates ('Rediff.com') respects your privacy. This Privacy Policy provides succinctly the manner your data is collected and used by Rediff.com. You are advised to please read the Privacy Policy carefully. By accessing the services provided by Rediff.com you agree to the collection and use of your data by Rediff.com in the manner provided in this Privacy Policy.We want you to feel comfortable using our web sites feel secure submitting information to uscontact us with your questions or concerns about privacy on this site know that by using our sites you are consenting to the collection of certain data.WHAT INFORMATION IS, OR MAY BE, COLLECTED FROM YOU?We will automatically receive and collect certain anonymous information in standard usage logs through our Web server, including computer-identification information obtained from 'cookies,' sent to your browser from a web server cookie stored on your hard drive an IP address, assigned to the computer which you use the domain server through which you access our service the type of computer you're using, the type of web browser you're using.We may collect the following personally identifiable information about you:name including first and last name alternate email address mobile phone number and contact details ZIP/Postal code demographic profile (like your age, gender, occupation, education, address and durables owned);preferences and interests (such as news, sports, travel and so on);financial information (like account or credit card numbers); andopinions of features on our websites.We may also collect the following information:about the pages you visit/access the links you click on our site the number of times you access the pageYou can terminate your account at any time. However, your information may remain stored in archive on our servers even after the deletion or the termination of your account.WHO COLLECTS THE INFORMATION?We will collect anonymous traffic information from you when you visit our site.We will collect personally identifiable information about you only as part of a voluntary registration process, on-line survey, or contest or any combination thereof.Our advertisers may collect anonymous traffic information from their own assigned cookies to your browser.The Site contains links to other Web sites. We are not responsible for the privacy practices of such Web sites which we do not own, manage or control.We make chat rooms, forums, instant messenger and message boards and other services available to you. Please understand that any information that is disclosed in these areas becomes public information. We have no control over its use and you should exercise caution when disclosing your personal information to anyone.HOW IS THE INFORMATION USED?We use your personal information to:help us provide personalized featurestailor our sites to your interest to get in touch with you when necessary to provide the services requested by you to preserve social history as governed by existing law or policy.We use contact information internally to: direct our efforts for product improvement contact you as a survey respondent notify you if you win any contest; and send you promotional materials from our contest sponsors or advertisers Generally, we use anonymous traffic information to: remind us of who you are in order to deliver to you a better and more personalized service from both an advertising and an editorial perspective; recognize your access privileges to our Web sites track your entries in some of our promotions, sweepstakes and contests to indicate a player's progress through the promotion and to track entries, submissions, and status in prize drawings make sure that you don't see the same ad repeatedly help diagnose problems with our server administer our Web sites track your session so that we can understand better how people use our sites.WITH WHOM WILL YOUR INFORMATION BE SHARED?We will not use your financial information for any purpose other than to complete a transaction with you.We do not rent, sell or share your personal information and we will not disclose any of your personally identifiable information to third parties unless:we have your permissionto provide products or services you've requested to help investigate, prevent or take action regarding unlawful and illegal activities, suspected fraud, potential threat to the safety or security of any person, violations of Rediff.com's terms of use or to defend against legal claims;special circumstances such as compliance with subpoenas, court orders, requests/order from legal authorities or law enforcement agencies requiring such disclosure.We share your information with advertisers on an aggregate basis only.WHAT CHOICES ARE AVAILABLE TO YOU REGARDING COLLECTION, USE AND DISTRIBUTION OF YOUR INFORMATION?Supplying personally identifiable information is entirely voluntary. You are not required to register with us in order to use our sites. However, we offer some services only to visitors who do register.You may change your interests at any time and may opt-in or opt-out of any marketing / promotional / newsletters mailings. Rediff.com reserves the right to send you certain service-related communication, considered to be a part of your rediff account without offering you the facility to opt-out. You may update your information and change your account settings at any time.Upon request, we will remove/block your personally identifiable information from our database, thereby canceling your registration. See Contact information below. However, your information may remain stored in archive on our servers even after the deletion or the termination of your account.If we plan to use your personally identifiable information for any commercial purposes, we will notify you at the time we collect that information and allow you to opt-out of having your information used for those purposes.You can accept or decline the cookies. All sites that are customizable require that you accept cookies. You also must accept cookies to register as someone for access to some of our services. For information on how to set your browser to alert you to cookies, or to reject cookies, go to http://www.cookiecentral.com/faq/.WHAT SECURITY PROCEDURES ARE IN PLACE TO PROTECT INFORMATION FROM LOSS, MISUSE OR ALTERATION?To protect against the loss, misuse and alteration of the information under our control, we have in place appropriate physical, electronic and managerial procedures. For example, our servers are accessible only to authorized personnel and that your information is shared with respective personnel on need to know basis to complete the transaction and to provide the services requested by you.Although we will endeavor to safeguard the confidentiality of your personally identifiable information, transmissions made by means of the Internet cannot be made absolutely secure. By using this site, you agree that we will have no liability for disclosure of your information due to errors in transmission or unauthorized acts of third parties.HOW CAN YOU CORRECT INACCURACIES IN THE INFORMATION?To correct or update any information you have provided, our sites allow you to do it online. In the event of loss of access details you can use any of the following options:Send an e-mail to shopsupport@rediff.co.in.Call the following telephone number: +91 (22) 61820000.POLICY UPDATES.We reserve the right to change or update this policy at any time by placing a prominent notice on our site. Such changes shall be effective immediately upon posting to this site.You are can offer your views, suggestions, if any, by submitting the filled in feedback form online.\"\n",
    "test_2"
   ]
  },
  {
   "cell_type": "code",
   "execution_count": 164,
   "metadata": {
    "scrolled": true
   },
   "outputs": [
    {
     "data": {
      "text/plain": [
       "['Rediff',\n",
       " \"com India Limited and its subsidiaries and affiliates ('Rediff\",\n",
       " \"com') respects your privacy\",\n",
       " ' This Privacy Policy provides succinctly the manner your data is collected and used by Rediff',\n",
       " 'com',\n",
       " ' You are advised to please read the Privacy Policy carefully',\n",
       " ' By accessing the services provided by Rediff',\n",
       " 'com you agree to the collection and use of your data by Rediff',\n",
       " 'com in the manner provided in this Privacy Policy',\n",
       " 'We want you to feel comfortable using our web sites feel secure submitting information to uscontact us with your questions or concerns about privacy on this site know that by using our sites you are consenting to the collection of certain data',\n",
       " \"WHAT INFORMATION IS, OR MAY BE, COLLECTED FROM YOU?We will automatically receive and collect certain anonymous information in standard usage logs through our Web server, including computer-identification information obtained from 'cookies,' sent to your browser from a web server cookie stored on your hard drive an IP address, assigned to the computer which you use the domain server through which you access our service the type of computer you're using, the type of web browser you're using\",\n",
       " 'We may collect the following personally identifiable information about you:name including first and last name alternate email address mobile phone number and contact details ZIP/Postal code demographic profile (like your age, gender, occupation, education, address and durables owned);preferences and interests (such as news, sports, travel and so on);financial information (like account or credit card numbers); andopinions of features on our websites',\n",
       " 'We may also collect the following information:about the pages you visit/access the links you click on our site the number of times you access the pageYou can terminate your account at any time',\n",
       " ' However, your information may remain stored in archive on our servers even after the deletion or the termination of your account',\n",
       " 'WHO COLLECTS THE INFORMATION?We will collect anonymous traffic information from you when you visit our site',\n",
       " 'We will collect personally identifiable information about you only as part of a voluntary registration process, on-line survey, or contest or any combination thereof',\n",
       " 'Our advertisers may collect anonymous traffic information from their own assigned cookies to your browser',\n",
       " 'The Site contains links to other Web sites',\n",
       " ' We are not responsible for the privacy practices of such Web sites which we do not own, manage or control',\n",
       " 'We make chat rooms, forums, instant messenger and message boards and other services available to you',\n",
       " ' Please understand that any information that is disclosed in these areas becomes public information',\n",
       " ' We have no control over its use and you should exercise caution when disclosing your personal information to anyone',\n",
       " 'HOW IS THE INFORMATION USED?We use your personal information to:help us provide personalized featurestailor our sites to your interest to get in touch with you when necessary to provide the services requested by you to preserve social history as governed by existing law or policy',\n",
       " \"We use contact information internally to: direct our efforts for product improvement contact you as a survey respondent notify you if you win any contest; and send you promotional materials from our contest sponsors or advertisers Generally, we use anonymous traffic information to: remind us of who you are in order to deliver to you a better and more personalized service from both an advertising and an editorial perspective; recognize your access privileges to our Web sites track your entries in some of our promotions, sweepstakes and contests to indicate a player's progress through the promotion and to track entries, submissions, and status in prize drawings make sure that you don't see the same ad repeatedly help diagnose problems with our server administer our Web sites track your session so that we can understand better how people use our sites\",\n",
       " 'WITH WHOM WILL YOUR INFORMATION BE SHARED?We will not use your financial information for any purpose other than to complete a transaction with you',\n",
       " \"We do not rent, sell or share your personal information and we will not disclose any of your personally identifiable information to third parties unless:we have your permissionto provide products or services you've requested to help investigate, prevent or take action regarding unlawful and illegal activities, suspected fraud, potential threat to the safety or security of any person, violations of Rediff\",\n",
       " \"com's terms of use or to defend against legal claims;special circumstances such as compliance with subpoenas, court orders, requests/order from legal authorities or law enforcement agencies requiring such disclosure\",\n",
       " 'We share your information with advertisers on an aggregate basis only',\n",
       " 'WHAT CHOICES ARE AVAILABLE TO YOU REGARDING COLLECTION, USE AND DISTRIBUTION OF YOUR INFORMATION?Supplying personally identifiable information is entirely voluntary',\n",
       " ' You are not required to register with us in order to use our sites',\n",
       " ' However, we offer some services only to visitors who do register',\n",
       " 'You may change your interests at any time and may opt-in or opt-out of any marketing / promotional / newsletters mailings',\n",
       " ' Rediff',\n",
       " 'com reserves the right to send you certain service-related communication, considered to be a part of your rediff account without offering you the facility to opt-out',\n",
       " ' You may update your information and change your account settings at any time',\n",
       " 'Upon request, we will remove/block your personally identifiable information from our database, thereby canceling your registration',\n",
       " ' See Contact information below',\n",
       " ' However, your information may remain stored in archive on our servers even after the deletion or the termination of your account',\n",
       " 'If we plan to use your personally identifiable information for any commercial purposes, we will notify you at the time we collect that information and allow you to opt-out of having your information used for those purposes',\n",
       " 'You can accept or decline the cookies',\n",
       " ' All sites that are customizable require that you accept cookies',\n",
       " ' You also must accept cookies to register as someone for access to some of our services',\n",
       " ' For information on how to set your browser to alert you to cookies, or to reject cookies, go to http://www',\n",
       " 'cookiecentral',\n",
       " 'com/faq/',\n",
       " 'WHAT SECURITY PROCEDURES ARE IN PLACE TO PROTECT INFORMATION FROM LOSS, MISUSE OR ALTERATION?To protect against the loss, misuse and alteration of the information under our control, we have in place appropriate physical, electronic and managerial procedures',\n",
       " ' For example, our servers are accessible only to authorized personnel and that your information is shared with respective personnel on need to know basis to complete the transaction and to provide the services requested by you',\n",
       " 'Although we will endeavor to safeguard the confidentiality of your personally identifiable information, transmissions made by means of the Internet cannot be made absolutely secure',\n",
       " ' By using this site, you agree that we will have no liability for disclosure of your information due to errors in transmission or unauthorized acts of third parties',\n",
       " 'HOW CAN YOU CORRECT INACCURACIES IN THE INFORMATION?To correct or update any information you have provided, our sites allow you to do it online',\n",
       " ' In the event of loss of access details you can use any of the following options:Send an e-mail to shopsupport@rediff',\n",
       " 'co',\n",
       " 'in',\n",
       " 'Call the following telephone number: +91 (22) 61820000',\n",
       " 'POLICY UPDATES',\n",
       " 'We reserve the right to change or update this policy at any time by placing a prominent notice on our site',\n",
       " ' Such changes shall be effective immediately upon posting to this site',\n",
       " 'You are can offer your views, suggestions, if any, by submitting the filled in feedback form online',\n",
       " '']"
      ]
     },
     "execution_count": 164,
     "metadata": {},
     "output_type": "execute_result"
    }
   ],
   "source": [
    "test_2=test_2.split(\".\")\n",
    "test_2"
   ]
  },
  {
   "cell_type": "code",
   "execution_count": 165,
   "metadata": {},
   "outputs": [
    {
     "data": {
      "text/plain": [
       "59"
      ]
     },
     "execution_count": 165,
     "metadata": {},
     "output_type": "execute_result"
    }
   ],
   "source": [
    "len(test_2)"
   ]
  },
  {
   "cell_type": "code",
   "execution_count": 166,
   "metadata": {},
   "outputs": [],
   "source": [
    "summary=[]\n",
    "for i in range(len(test_2)):\n",
    "    for j in common_word_list:\n",
    "        if j in test_2[i]:\n",
    "            summary.append(test_2[i])\n",
    "            break"
   ]
  },
  {
   "cell_type": "code",
   "execution_count": 167,
   "metadata": {
    "scrolled": true
   },
   "outputs": [
    {
     "data": {
      "text/plain": [
       "[\"com India Limited and its subsidiaries and affiliates ('Rediff\",\n",
       " \"com') respects your privacy\",\n",
       " ' This Privacy Policy provides succinctly the manner your data is collected and used by Rediff',\n",
       " 'com',\n",
       " ' By accessing the services provided by Rediff',\n",
       " 'com you agree to the collection and use of your data by Rediff',\n",
       " 'com in the manner provided in this Privacy Policy',\n",
       " 'We want you to feel comfortable using our web sites feel secure submitting information to uscontact us with your questions or concerns about privacy on this site know that by using our sites you are consenting to the collection of certain data',\n",
       " \"WHAT INFORMATION IS, OR MAY BE, COLLECTED FROM YOU?We will automatically receive and collect certain anonymous information in standard usage logs through our Web server, including computer-identification information obtained from 'cookies,' sent to your browser from a web server cookie stored on your hard drive an IP address, assigned to the computer which you use the domain server through which you access our service the type of computer you're using, the type of web browser you're using\",\n",
       " 'We may collect the following personally identifiable information about you:name including first and last name alternate email address mobile phone number and contact details ZIP/Postal code demographic profile (like your age, gender, occupation, education, address and durables owned);preferences and interests (such as news, sports, travel and so on);financial information (like account or credit card numbers); andopinions of features on our websites',\n",
       " 'We may also collect the following information:about the pages you visit/access the links you click on our site the number of times you access the pageYou can terminate your account at any time',\n",
       " ' However, your information may remain stored in archive on our servers even after the deletion or the termination of your account',\n",
       " 'WHO COLLECTS THE INFORMATION?We will collect anonymous traffic information from you when you visit our site',\n",
       " 'We will collect personally identifiable information about you only as part of a voluntary registration process, on-line survey, or contest or any combination thereof',\n",
       " 'Our advertisers may collect anonymous traffic information from their own assigned cookies to your browser',\n",
       " 'The Site contains links to other Web sites',\n",
       " ' We are not responsible for the privacy practices of such Web sites which we do not own, manage or control',\n",
       " 'We make chat rooms, forums, instant messenger and message boards and other services available to you',\n",
       " ' Please understand that any information that is disclosed in these areas becomes public information',\n",
       " ' We have no control over its use and you should exercise caution when disclosing your personal information to anyone',\n",
       " 'HOW IS THE INFORMATION USED?We use your personal information to:help us provide personalized featurestailor our sites to your interest to get in touch with you when necessary to provide the services requested by you to preserve social history as governed by existing law or policy',\n",
       " \"We use contact information internally to: direct our efforts for product improvement contact you as a survey respondent notify you if you win any contest; and send you promotional materials from our contest sponsors or advertisers Generally, we use anonymous traffic information to: remind us of who you are in order to deliver to you a better and more personalized service from both an advertising and an editorial perspective; recognize your access privileges to our Web sites track your entries in some of our promotions, sweepstakes and contests to indicate a player's progress through the promotion and to track entries, submissions, and status in prize drawings make sure that you don't see the same ad repeatedly help diagnose problems with our server administer our Web sites track your session so that we can understand better how people use our sites\",\n",
       " 'WITH WHOM WILL YOUR INFORMATION BE SHARED?We will not use your financial information for any purpose other than to complete a transaction with you',\n",
       " \"We do not rent, sell or share your personal information and we will not disclose any of your personally identifiable information to third parties unless:we have your permissionto provide products or services you've requested to help investigate, prevent or take action regarding unlawful and illegal activities, suspected fraud, potential threat to the safety or security of any person, violations of Rediff\",\n",
       " \"com's terms of use or to defend against legal claims;special circumstances such as compliance with subpoenas, court orders, requests/order from legal authorities or law enforcement agencies requiring such disclosure\",\n",
       " 'We share your information with advertisers on an aggregate basis only',\n",
       " 'WHAT CHOICES ARE AVAILABLE TO YOU REGARDING COLLECTION, USE AND DISTRIBUTION OF YOUR INFORMATION?Supplying personally identifiable information is entirely voluntary',\n",
       " ' You are not required to register with us in order to use our sites',\n",
       " ' However, we offer some services only to visitors who do register',\n",
       " 'You may change your interests at any time and may opt-in or opt-out of any marketing / promotional / newsletters mailings',\n",
       " 'com reserves the right to send you certain service-related communication, considered to be a part of your rediff account without offering you the facility to opt-out',\n",
       " ' You may update your information and change your account settings at any time',\n",
       " 'Upon request, we will remove/block your personally identifiable information from our database, thereby canceling your registration',\n",
       " ' See Contact information below',\n",
       " ' However, your information may remain stored in archive on our servers even after the deletion or the termination of your account',\n",
       " 'If we plan to use your personally identifiable information for any commercial purposes, we will notify you at the time we collect that information and allow you to opt-out of having your information used for those purposes',\n",
       " 'You can accept or decline the cookies',\n",
       " ' All sites that are customizable require that you accept cookies',\n",
       " ' You also must accept cookies to register as someone for access to some of our services',\n",
       " ' For information on how to set your browser to alert you to cookies, or to reject cookies, go to http://www',\n",
       " 'cookiecentral',\n",
       " 'com/faq/',\n",
       " 'WHAT SECURITY PROCEDURES ARE IN PLACE TO PROTECT INFORMATION FROM LOSS, MISUSE OR ALTERATION?To protect against the loss, misuse and alteration of the information under our control, we have in place appropriate physical, electronic and managerial procedures',\n",
       " ' For example, our servers are accessible only to authorized personnel and that your information is shared with respective personnel on need to know basis to complete the transaction and to provide the services requested by you',\n",
       " 'Although we will endeavor to safeguard the confidentiality of your personally identifiable information, transmissions made by means of the Internet cannot be made absolutely secure',\n",
       " ' By using this site, you agree that we will have no liability for disclosure of your information due to errors in transmission or unauthorized acts of third parties',\n",
       " 'HOW CAN YOU CORRECT INACCURACIES IN THE INFORMATION?To correct or update any information you have provided, our sites allow you to do it online',\n",
       " ' In the event of loss of access details you can use any of the following options:Send an e-mail to shopsupport@rediff',\n",
       " 'Call the following telephone number: +91 (22) 61820000',\n",
       " 'We reserve the right to change or update this policy at any time by placing a prominent notice on our site',\n",
       " ' Such changes shall be effective immediately upon posting to this site',\n",
       " 'You are can offer your views, suggestions, if any, by submitting the filled in feedback form online']"
      ]
     },
     "execution_count": 167,
     "metadata": {},
     "output_type": "execute_result"
    }
   ],
   "source": [
    "summary"
   ]
  },
  {
   "cell_type": "code",
   "execution_count": 168,
   "metadata": {},
   "outputs": [
    {
     "data": {
      "text/plain": [
       "52"
      ]
     },
     "execution_count": 168,
     "metadata": {},
     "output_type": "execute_result"
    }
   ],
   "source": [
    "len(summary)"
   ]
  },
  {
   "cell_type": "markdown",
   "metadata": {},
   "source": [
    "### We can see that there is a 16.9% decrease in this case"
   ]
  },
  {
   "cell_type": "code",
   "execution_count": 169,
   "metadata": {},
   "outputs": [
    {
     "data": {
      "image/png": "[encoded data removed]",
      "text/plain": [
       "<Figure size 432x288 with 1 Axes>"
      ]
     },
     "metadata": {},
     "output_type": "display_data"
    }
   ],
   "source": [
    "import seaborn as sns\n",
    "import matplotlib.pyplot as plt\n",
    "sns.set_style('darkgrid')\n",
    "sns.barplot(x=[\"Summarized policy\",\"Raw policy\"],y=[49,59]).set(xlabel='Privacy policy', ylabel='Count of sentences')\n",
    "plt.show()"
   ]
  },
  {
   "cell_type": "markdown",
   "metadata": {},
   "source": [
    "## It can be inferred that there is definitely a reduction in the number of sentences when we print sentences that contain common words that we extracted above from the other privacy policy links. Hence on applying an NLP algorithm on top of this (future work), the sentences can be further reduced in length and hence an efficient shorter summary can be obtained"
   ]
  },
  {
   "cell_type": "markdown",
   "metadata": {},
   "source": [
    "# APPLYING NLP ALGORITHMS"
   ]
  },
  {
   "cell_type": "markdown",
   "metadata": {},
   "source": [
    "## Getting the summarized privacy policies combined to form sentences"
   ]
  },
  {
   "cell_type": "code",
   "execution_count": 170,
   "metadata": {
    "scrolled": true
   },
   "outputs": [
    {
     "name": "stdout",
     "output_type": "stream",
     "text": [
      "com India Limited and its subsidiaries and affiliates ('Rediff.com') respects your privacy. This Privacy Policy provides succinctly the manner your data is collected and used by Rediff.com. By accessing the services provided by Rediff.com you agree to the collection and use of your data by Rediff.com in the manner provided in this Privacy Policy.We want you to feel comfortable using our web sites feel secure submitting information to uscontact us with your questions or concerns about privacy on this site know that by using our sites you are consenting to the collection of certain data.WHAT INFORMATION IS, OR MAY BE, COLLECTED FROM YOU?We will automatically receive and collect certain anonymous information in standard usage logs through our Web server, including computer-identification information obtained from 'cookies,' sent to your browser from a web server cookie stored on your hard drive an IP address, assigned to the computer which you use the domain server through which you access our service the type of computer you're using, the type of web browser you're using.We may collect the following personally identifiable information about you:name including first and last name alternate email address mobile phone number and contact details ZIP/Postal code demographic profile (like your age, gender, occupation, education, address and durables owned);preferences and interests (such as news, sports, travel and so on);financial information (like account or credit card numbers); andopinions of features on our websites.We may also collect the following information:about the pages you visit/access the links you click on our site the number of times you access the pageYou can terminate your account at any time. However, your information may remain stored in archive on our servers even after the deletion or the termination of your account.WHO COLLECTS THE INFORMATION?We will collect anonymous traffic information from you when you visit our site.We will collect personally identifiable information about you only as part of a voluntary registration process, on-line survey, or contest or any combination thereof.Our advertisers may collect anonymous traffic information from their own assigned cookies to your browser.The Site contains links to other Web sites. We are not responsible for the privacy practices of such Web sites which we do not own, manage or control.We make chat rooms, forums, instant messenger and message boards and other services available to you. Please understand that any information that is disclosed in these areas becomes public information. We have no control over its use and you should exercise caution when disclosing your personal information to anyone.HOW IS THE INFORMATION USED?We use your personal information to:help us provide personalized featurestailor our sites to your interest to get in touch with you when necessary to provide the services requested by you to preserve social history as governed by existing law or policy.We use contact information internally to: direct our efforts for product improvement contact you as a survey respondent notify you if you win any contest; and send you promotional materials from our contest sponsors or advertisers Generally, we use anonymous traffic information to: remind us of who you are in order to deliver to you a better and more personalized service from both an advertising and an editorial perspective; recognize your access privileges to our Web sites track your entries in some of our promotions, sweepstakes and contests to indicate a player's progress through the promotion and to track entries, submissions, and status in prize drawings make sure that you don't see the same ad repeatedly help diagnose problems with our server administer our Web sites track your session so that we can understand better how people use our sites.WITH WHOM WILL YOUR INFORMATION BE SHARED?We will not use your financial information for any purpose other than to complete a transaction with you.We do not rent, sell or share your personal information and we will not disclose any of your personally identifiable information to third parties unless:we have your permissionto provide products or services you've requested to help investigate, prevent or take action regarding unlawful and illegal activities, suspected fraud, potential threat to the safety or security of any person, violations of Rediff.com's terms of use or to defend against legal claims;special circumstances such as compliance with subpoenas, court orders, requests/order from legal authorities or law enforcement agencies requiring such disclosure.We share your information with advertisers on an aggregate basis only.WHAT CHOICES ARE AVAILABLE TO YOU REGARDING COLLECTION, USE AND DISTRIBUTION OF YOUR INFORMATION?Supplying personally identifiable information is entirely voluntary. You are not required to register with us in order to use our sites. However, we offer some services only to visitors who do register.You may change your interests at any time and may opt-in or opt-out of any marketing / promotional / newsletters mailings.com reserves the right to send you certain service-related communication, considered to be a part of your rediff account without offering you the facility to opt-out. You may update your information and change your account settings at any time.Upon request, we will remove/block your personally identifiable information from our database, thereby canceling your registration. See Contact information below. However, your information may remain stored in archive on our servers even after the deletion or the termination of your account.If we plan to use your personally identifiable information for any commercial purposes, we will notify you at the time we collect that information and allow you to opt-out of having your information used for those purposes.You can accept or decline the cookies. All sites that are customizable require that you accept cookies. You also must accept cookies to register as someone for access to some of our services. For information on how to set your browser to alert you to cookies, or to reject cookies, go to http://www.cookiecentral.com/faq/.WHAT SECURITY PROCEDURES ARE IN PLACE TO PROTECT INFORMATION FROM LOSS, MISUSE OR ALTERATION?To protect against the loss, misuse and alteration of the information under our control, we have in place appropriate physical, electronic and managerial procedures. For example, our servers are accessible only to authorized personnel and that your information is shared with respective personnel on need to know basis to complete the transaction and to provide the services requested by you.Although we will endeavor to safeguard the confidentiality of your personally identifiable information, transmissions made by means of the Internet cannot be made absolutely secure. By using this site, you agree that we will have no liability for disclosure of your information due to errors in transmission or unauthorized acts of third parties.HOW CAN YOU CORRECT INACCURACIES IN THE INFORMATION?To correct or update any information you have provided, our sites allow you to do it online. In the event of loss of access details you can use any of the following options:Send an e-mail to shopsupport@rediff.Call the following telephone number: +91 (22) 61820000.We reserve the right to change or update this policy at any time by placing a prominent notice on our site. Such changes shall be effective immediately upon posting to this site.You are can offer your views, suggestions, if any, by submitting the filled in feedback form online.\n"
     ]
    }
   ],
   "source": [
    "string=\"\"\n",
    "for i in summary:\n",
    "    string+=i\n",
    "    string+=\".\"\n",
    "print(string)"
   ]
  },
  {
   "cell_type": "markdown",
   "metadata": {},
   "source": [
    "## Importing libraries to perform extractive summarization"
   ]
  },
  {
   "cell_type": "code",
   "execution_count": 44,
   "metadata": {},
   "outputs": [],
   "source": [
    "import sumy"
   ]
  },
  {
   "cell_type": "code",
   "execution_count": 45,
   "metadata": {},
   "outputs": [],
   "source": [
    "from sumy.parsers.plaintext import PlaintextParser\n",
    "from sumy.nlp.tokenizers import Tokenizer"
   ]
  },
  {
   "cell_type": "markdown",
   "metadata": {},
   "source": [
    "## Using the LEXRANK summarizer"
   ]
  },
  {
   "cell_type": "code",
   "execution_count": 46,
   "metadata": {},
   "outputs": [],
   "source": [
    "from sumy.summarizers.lex_rank import LexRankSummarizer"
   ]
  },
  {
   "cell_type": "code",
   "execution_count": 47,
   "metadata": {},
   "outputs": [
    {
     "name": "stderr",
     "output_type": "stream",
     "text": [
      "[nltk_data] Downloading package punkt to\n",
      "[nltk_data]     C:\\Users\\Raghav\\AppData\\Roaming\\nltk_data...\n",
      "[nltk_data]   Package punkt is already up-to-date!\n"
     ]
    },
    {
     "data": {
      "text/plain": [
       "True"
      ]
     },
     "execution_count": 47,
     "metadata": {},
     "output_type": "execute_result"
    }
   ],
   "source": [
    "import nltk\n",
    "nltk.download('punkt')"
   ]
  },
  {
   "cell_type": "code",
   "execution_count": 171,
   "metadata": {},
   "outputs": [],
   "source": [
    "my_parser = PlaintextParser.from_string(string,Tokenizer('english'))"
   ]
  },
  {
   "cell_type": "code",
   "execution_count": 172,
   "metadata": {
    "scrolled": true
   },
   "outputs": [
    {
     "name": "stdout",
     "output_type": "stream",
     "text": [
      "com India Limited and its subsidiaries and affiliates ('Rediff.com') respects your privacy.\n",
      "\n",
      "By accessing the services provided by Rediff.com you agree to the collection and use of your data by Rediff.com in the manner provided in this Privacy Policy.We want you to feel comfortable using our web sites feel secure submitting information to uscontact us with your questions or concerns about privacy on this site know that by using our sites you are consenting to the collection of certain data.WHAT INFORMATION IS, OR MAY BE, COLLECTED FROM YOU?We will automatically receive and collect certain anonymous information in standard usage logs through our Web server, including computer-identification information obtained from 'cookies,' sent to your browser from a web server cookie stored on your hard drive an IP address, assigned to the computer which you use the domain server through which you access our service the type of computer you're using, the type of web browser you're using.We may collect the following personally identifiable information about you:name including first and last name alternate email address mobile phone number and contact details ZIP/Postal code demographic profile (like your age, gender, occupation, education, address and durables owned);preferences and interests (such as news, sports, travel and so on);financial information (like account or credit card numbers); andopinions of features on our websites.We may also collect the following information:about the pages you visit/access the links you click on our site the number of times you access the pageYou can terminate your account at any time.\n",
      "\n",
      "However, your information may remain stored in archive on our servers even after the deletion or the termination of your account.WHO COLLECTS THE INFORMATION?We will collect anonymous traffic information from you when you visit our site.We will collect personally identifiable information about you only as part of a voluntary registration process, on-line survey, or contest or any combination thereof.Our advertisers may collect anonymous traffic information from their own assigned cookies to your browser.The Site contains links to other Web sites.\n",
      "\n",
      "We are not responsible for the privacy practices of such Web sites which we do not own, manage or control.We make chat rooms, forums, instant messenger and message boards and other services available to you.\n",
      "\n",
      "Please understand that any information that is disclosed in these areas becomes public information.\n",
      "\n",
      "We have no control over its use and you should exercise caution when disclosing your personal information to anyone.HOW IS THE INFORMATION USED?We use your personal information to:help us provide personalized featurestailor our sites to your interest to get in touch with you when necessary to provide the services requested by you to preserve social history as governed by existing law or policy.We use contact information internally to: direct our efforts for product improvement contact you as a survey respondent notify you if you win any contest; and send you promotional materials from our contest sponsors or advertisers Generally, we use anonymous traffic information to: remind us of who you are in order to deliver to you a better and more personalized service from both an advertising and an editorial perspective; recognize your access privileges to our Web sites track your entries in some of our promotions, sweepstakes and contests to indicate a player's progress through the promotion and to track entries, submissions, and status in prize drawings make sure that you don't see the same ad repeatedly help diagnose problems with our server administer our Web sites track your session so that we can understand better how people use our sites.WITH WHOM WILL YOUR INFORMATION BE SHARED?We will not use your financial information for any purpose other than to complete a transaction with you.We do not rent, sell or share your personal information and we will not disclose any of your personally identifiable information to third parties unless:we have your permissionto provide products or services you've requested to help investigate, prevent or take action regarding unlawful and illegal activities, suspected fraud, potential threat to the safety or security of any person, violations of Rediff.com's terms of use or to defend against legal claims;special circumstances such as compliance with subpoenas, court orders, requests/order from legal authorities or law enforcement agencies requiring such disclosure.We share your information with advertisers on an aggregate basis only.WHAT CHOICES ARE AVAILABLE TO YOU REGARDING COLLECTION, USE AND DISTRIBUTION OF YOUR INFORMATION?Supplying personally identifiable information is entirely voluntary.\n",
      "\n",
      "You are not required to register with us in order to use our sites.\n",
      "\n",
      "However, we offer some services only to visitors who do register.You may change your interests at any time and may opt-in or opt-out of any marketing / promotional / newsletters mailings.com reserves the right to send you certain service-related communication, considered to be a part of your rediff account without offering you the facility to opt-out.\n",
      "\n",
      "You may update your information and change your account settings at any time.Upon request, we will remove/block your personally identifiable information from our database, thereby canceling your registration.\n",
      "\n",
      "See Contact information below.\n",
      "\n",
      "However, your information may remain stored in archive on our servers even after the deletion or the termination of your account.If we plan to use your personally identifiable information for any commercial purposes, we will notify you at the time we collect that information and allow you to opt-out of having your information used for those purposes.You can accept or decline the cookies.\n",
      "\n",
      "You also must accept cookies to register as someone for access to some of our services.\n",
      "\n",
      "By using this site, you agree that we will have no liability for disclosure of your information due to errors in transmission or unauthorized acts of third parties.HOW CAN YOU CORRECT INACCURACIES IN THE INFORMATION?To correct or update any information you have provided, our sites allow you to do it online.\n",
      "\n",
      "In the event of loss of access details you can use any of the following options:Send an e-mail to shopsupport@rediff.Call the following telephone number: +91 (22) 61820000.We reserve the right to change or update this policy at any time by placing a prominent notice on our site.\n",
      "\n",
      "Such changes shall be effective immediately upon posting to this site.You are can offer your views, suggestions, if any, by submitting the filled in feedback form online.\n",
      "\n"
     ]
    }
   ],
   "source": [
    "lex_rank_summarizer = LexRankSummarizer()\n",
    "lexrank_summary = lex_rank_summarizer(my_parser.document,sentences_count=15)\n",
    "# Printing the summary\n",
    "final_policy=\"\"\n",
    "for sentence in lexrank_summary:\n",
    "    print(sentence)\n",
    "    print()\n",
    "    final_policy+=str(sentence)"
   ]
  },
  {
   "cell_type": "code",
   "execution_count": 173,
   "metadata": {
    "scrolled": true
   },
   "outputs": [
    {
     "name": "stdout",
     "output_type": "stream",
     "text": [
      "[\"com India Limited and its subsidiaries and affiliates ('Rediff\", \"com') respects your privacy\", 'By accessing the services provided by Rediff', 'com you agree to the collection and use of your data by Rediff', 'com in the manner provided in this Privacy Policy', 'We want you to feel comfortable using our web sites feel secure submitting information to uscontact us with your questions or concerns about privacy on this site know that by using our sites you are consenting to the collection of certain data', \"WHAT INFORMATION IS, OR MAY BE, COLLECTED FROM YOU?We will automatically receive and collect certain anonymous information in standard usage logs through our Web server, including computer-identification information obtained from 'cookies,' sent to your browser from a web server cookie stored on your hard drive an IP address, assigned to the computer which you use the domain server through which you access our service the type of computer you're using, the type of web browser you're using\", 'We may collect the following personally identifiable information about you:name including first and last name alternate email address mobile phone number and contact details ZIP/Postal code demographic profile (like your age, gender, occupation, education, address and durables owned);preferences and interests (such as news, sports, travel and so on);financial information (like account or credit card numbers); andopinions of features on our websites', 'We may also collect the following information:about the pages you visit/access the links you click on our site the number of times you access the pageYou can terminate your account at any time', 'However, your information may remain stored in archive on our servers even after the deletion or the termination of your account', 'WHO COLLECTS THE INFORMATION?We will collect anonymous traffic information from you when you visit our site', 'We will collect personally identifiable information about you only as part of a voluntary registration process, on-line survey, or contest or any combination thereof', 'Our advertisers may collect anonymous traffic information from their own assigned cookies to your browser', 'The Site contains links to other Web sites', 'We are not responsible for the privacy practices of such Web sites which we do not own, manage or control', 'We make chat rooms, forums, instant messenger and message boards and other services available to you', 'Please understand that any information that is disclosed in these areas becomes public information', 'We have no control over its use and you should exercise caution when disclosing your personal information to anyone', 'HOW IS THE INFORMATION USED?We use your personal information to:help us provide personalized featurestailor our sites to your interest to get in touch with you when necessary to provide the services requested by you to preserve social history as governed by existing law or policy', \"We use contact information internally to: direct our efforts for product improvement contact you as a survey respondent notify you if you win any contest; and send you promotional materials from our contest sponsors or advertisers Generally, we use anonymous traffic information to: remind us of who you are in order to deliver to you a better and more personalized service from both an advertising and an editorial perspective; recognize your access privileges to our Web sites track your entries in some of our promotions, sweepstakes and contests to indicate a player's progress through the promotion and to track entries, submissions, and status in prize drawings make sure that you don't see the same ad repeatedly help diagnose problems with our server administer our Web sites track your session so that we can understand better how people use our sites\", 'WITH WHOM WILL YOUR INFORMATION BE SHARED?We will not use your financial information for any purpose other than to complete a transaction with you', \"We do not rent, sell or share your personal information and we will not disclose any of your personally identifiable information to third parties unless:we have your permissionto provide products or services you've requested to help investigate, prevent or take action regarding unlawful and illegal activities, suspected fraud, potential threat to the safety or security of any person, violations of Rediff\", \"com's terms of use or to defend against legal claims;special circumstances such as compliance with subpoenas, court orders, requests/order from legal authorities or law enforcement agencies requiring such disclosure\", 'We share your information with advertisers on an aggregate basis only', 'WHAT CHOICES ARE AVAILABLE TO YOU REGARDING COLLECTION, USE AND DISTRIBUTION OF YOUR INFORMATION?Supplying personally identifiable information is entirely voluntary', 'You are not required to register with us in order to use our sites', 'However, we offer some services only to visitors who do register', 'You may change your interests at any time and may opt-in or opt-out of any marketing / promotional / newsletters mailings', 'com reserves the right to send you certain service-related communication, considered to be a part of your rediff account without offering you the facility to opt-out', 'You may update your information and change your account settings at any time', 'Upon request, we will remove/block your personally identifiable information from our database, thereby canceling your registration', 'See Contact information below', 'However, your information may remain stored in archive on our servers even after the deletion or the termination of your account', 'If we plan to use your personally identifiable information for any commercial purposes, we will notify you at the time we collect that information and allow you to opt-out of having your information used for those purposes', 'You can accept or decline the cookies', 'You also must accept cookies to register as someone for access to some of our services', 'By using this site, you agree that we will have no liability for disclosure of your information due to errors in transmission or unauthorized acts of third parties', 'HOW CAN YOU CORRECT INACCURACIES IN THE INFORMATION?To correct or update any information you have provided, our sites allow you to do it online', 'In the event of loss of access details you can use any of the following options:Send an e-mail to shopsupport@rediff', 'Call the following telephone number: +91 (22) 61820000', 'We reserve the right to change or update this policy at any time by placing a prominent notice on our site', 'Such changes shall be effective immediately upon posting to this site', 'You are can offer your views, suggestions, if any, by submitting the filled in feedback form online']\n"
     ]
    }
   ],
   "source": [
    "final_policy_list=final_policy.split(\".\")\n",
    "final_policy_list.remove(\"\")\n",
    "print(final_policy_list)"
   ]
  },
  {
   "cell_type": "markdown",
   "metadata": {},
   "source": [
    "## We get 3 chunks of paragraphs and 18 sentences as output"
   ]
  },
  {
   "cell_type": "code",
   "execution_count": 174,
   "metadata": {},
   "outputs": [
    {
     "name": "stdout",
     "output_type": "stream",
     "text": [
      "43\n"
     ]
    }
   ],
   "source": [
    "print(len(final_policy_list))"
   ]
  },
  {
   "cell_type": "code",
   "execution_count": 175,
   "metadata": {},
   "outputs": [
    {
     "name": "stdout",
     "output_type": "stream",
     "text": [
      "245\n"
     ]
    }
   ],
   "source": [
    "count_common=0\n",
    "for i in final_policy_list:\n",
    "    for j in common_word_list:\n",
    "        if j in i:\n",
    "            count_common+=i.count(j)\n",
    "print(count_common)"
   ]
  },
  {
   "cell_type": "markdown",
   "metadata": {},
   "source": [
    "## The common words from the list of 59 words has repeated 144 times, which proves sentence significance"
   ]
  },
  {
   "cell_type": "markdown",
   "metadata": {},
   "source": [
    "## Without common words reduction and directly applying LEXRANK to the raw privacy policy"
   ]
  },
  {
   "cell_type": "code",
   "execution_count": 53,
   "metadata": {
    "scrolled": true
   },
   "outputs": [
    {
     "name": "stdout",
     "output_type": "stream",
     "text": [
      "Rediff.com India Limited and its subsidiaries and affiliates ('Rediff.com') respects your privacy. This Privacy Policy provides succinctly the manner your data is collected and used by Rediff.com. You are advised to please read the Privacy Policy carefully. By accessing the services provided by Rediff.com you agree to the collection and use of your data by Rediff.com in the manner provided in this Privacy Policy.We want you to feel comfortable using our web sites feel secure submitting information to uscontact us with your questions or concerns about privacy on this site know that by using our sites you are consenting to the collection of certain data.WHAT INFORMATION IS, OR MAY BE, COLLECTED FROM YOU?We will automatically receive and collect certain anonymous information in standard usage logs through our Web server, including computer-identification information obtained from 'cookies,' sent to your browser from a web server cookie stored on your hard drive an IP address, assigned to the computer which you use the domain server through which you access our service the type of computer you're using, the type of web browser you're using.We may collect the following personally identifiable information about you:name including first and last name alternate email address mobile phone number and contact details ZIP/Postal code demographic profile (like your age, gender, occupation, education, address and durables owned);preferences and interests (such as news, sports, travel and so on);financial information (like account or credit card numbers); andopinions of features on our websites.We may also collect the following information:about the pages you visit/access the links you click on our site the number of times you access the pageYou can terminate your account at any time. However, your information may remain stored in archive on our servers even after the deletion or the termination of your account.WHO COLLECTS THE INFORMATION?We will collect anonymous traffic information from you when you visit our site.We will collect personally identifiable information about you only as part of a voluntary registration process, on-line survey, or contest or any combination thereof.Our advertisers may collect anonymous traffic information from their own assigned cookies to your browser.The Site contains links to other Web sites. We are not responsible for the privacy practices of such Web sites which we do not own, manage or control.We make chat rooms, forums, instant messenger and message boards and other services available to you. Please understand that any information that is disclosed in these areas becomes public information. We have no control over its use and you should exercise caution when disclosing your personal information to anyone.HOW IS THE INFORMATION USED?We use your personal information to:help us provide personalized featurestailor our sites to your interest to get in touch with you when necessary to provide the services requested by you to preserve social history as governed by existing law or policy.We use contact information internally to: direct our efforts for product improvement contact you as a survey respondent notify you if you win any contest; and send you promotional materials from our contest sponsors or advertisers Generally, we use anonymous traffic information to: remind us of who you are in order to deliver to you a better and more personalized service from both an advertising and an editorial perspective; recognize your access privileges to our Web sites track your entries in some of our promotions, sweepstakes and contests to indicate a player's progress through the promotion and to track entries, submissions, and status in prize drawings make sure that you don't see the same ad repeatedly help diagnose problems with our server administer our Web sites track your session so that we can understand better how people use our sites.WITH WHOM WILL YOUR INFORMATION BE SHARED?We will not use your financial information for any purpose other than to complete a transaction with you.We do not rent, sell or share your personal information and we will not disclose any of your personally identifiable information to third parties unless:we have your permissionto provide products or services you've requested to help investigate, prevent or take action regarding unlawful and illegal activities, suspected fraud, potential threat to the safety or security of any person, violations of Rediff.com's terms of use or to defend against legal claims;special circumstances such as compliance with subpoenas, court orders, requests/order from legal authorities or law enforcement agencies requiring such disclosure.We share your information with advertisers on an aggregate basis only.WHAT CHOICES ARE AVAILABLE TO YOU REGARDING COLLECTION, USE AND DISTRIBUTION OF YOUR INFORMATION?Supplying personally identifiable information is entirely voluntary. You are not required to register with us in order to use our sites. However, we offer some services only to visitors who do register.You may change your interests at any time and may opt-in or opt-out of any marketing / promotional / newsletters mailings. Rediff.com reserves the right to send you certain service-related communication, considered to be a part of your rediff account without offering you the facility to opt-out. You may update your information and change your account settings at any time.Upon request, we will remove/block your personally identifiable information from our database, thereby canceling your registration. See Contact information below. However, your information may remain stored in archive on our servers even after the deletion or the termination of your account.If we plan to use your personally identifiable information for any commercial purposes, we will notify you at the time we collect that information and allow you to opt-out of having your information used for those purposes.You can accept or decline the cookies. All sites that are customizable require that you accept cookies. You also must accept cookies to register as someone for access to some of our services. For information on how to set your browser to alert you to cookies, or to reject cookies, go to http://www.cookiecentral.com/faq/.WHAT SECURITY PROCEDURES ARE IN PLACE TO PROTECT INFORMATION FROM LOSS, MISUSE OR ALTERATION?To protect against the loss, misuse and alteration of the information under our control, we have in place appropriate physical, electronic and managerial procedures. For example, our servers are accessible only to authorized personnel and that your information is shared with respective personnel on need to know basis to complete the transaction and to provide the services requested by you.Although we will endeavor to safeguard the confidentiality of your personally identifiable information, transmissions made by means of the Internet cannot be made absolutely secure. By using this site, you agree that we will have no liability for disclosure of your information due to errors in transmission or unauthorized acts of third parties.HOW CAN YOU CORRECT INACCURACIES IN THE INFORMATION?To correct or update any information you have provided, our sites allow you to do it online. In the event of loss of access details you can use any of the following options:Send an e-mail to shopsupport@rediff.co.in.Call the following telephone number: +91 (22) 61820000.POLICY UPDATES.We reserve the right to change or update this policy at any time by placing a prominent notice on our site. Such changes shall be effective immediately upon posting to this site.You are can offer your views, suggestions, if any, by submitting the filled in feedback form online..\n"
     ]
    }
   ],
   "source": [
    "test_string=\"\"\n",
    "for i in test_2:\n",
    "    test_string+=i\n",
    "    test_string+=\".\"\n",
    "print(test_string)"
   ]
  },
  {
   "cell_type": "code",
   "execution_count": 54,
   "metadata": {},
   "outputs": [],
   "source": [
    "my_parser = PlaintextParser.from_string(test_string,Tokenizer('english'))"
   ]
  },
  {
   "cell_type": "code",
   "execution_count": 55,
   "metadata": {
    "scrolled": true
   },
   "outputs": [
    {
     "name": "stdout",
     "output_type": "stream",
     "text": [
      "By accessing the services provided by Rediff.com you agree to the collection and use of your data by Rediff.com in the manner provided in this Privacy Policy.We want you to feel comfortable using our web sites feel secure submitting information to uscontact us with your questions or concerns about privacy on this site know that by using our sites you are consenting to the collection of certain data.WHAT INFORMATION IS, OR MAY BE, COLLECTED FROM YOU?We will automatically receive and collect certain anonymous information in standard usage logs through our Web server, including computer-identification information obtained from 'cookies,' sent to your browser from a web server cookie stored on your hard drive an IP address, assigned to the computer which you use the domain server through which you access our service the type of computer you're using, the type of web browser you're using.We may collect the following personally identifiable information about you:name including first and last name alternate email address mobile phone number and contact details ZIP/Postal code demographic profile (like your age, gender, occupation, education, address and durables owned);preferences and interests (such as news, sports, travel and so on);financial information (like account or credit card numbers); andopinions of features on our websites.We may also collect the following information:about the pages you visit/access the links you click on our site the number of times you access the pageYou can terminate your account at any time.\n",
      "\n",
      "We have no control over its use and you should exercise caution when disclosing your personal information to anyone.HOW IS THE INFORMATION USED?We use your personal information to:help us provide personalized featurestailor our sites to your interest to get in touch with you when necessary to provide the services requested by you to preserve social history as governed by existing law or policy.We use contact information internally to: direct our efforts for product improvement contact you as a survey respondent notify you if you win any contest; and send you promotional materials from our contest sponsors or advertisers Generally, we use anonymous traffic information to: remind us of who you are in order to deliver to you a better and more personalized service from both an advertising and an editorial perspective; recognize your access privileges to our Web sites track your entries in some of our promotions, sweepstakes and contests to indicate a player's progress through the promotion and to track entries, submissions, and status in prize drawings make sure that you don't see the same ad repeatedly help diagnose problems with our server administer our Web sites track your session so that we can understand better how people use our sites.WITH WHOM WILL YOUR INFORMATION BE SHARED?We will not use your financial information for any purpose other than to complete a transaction with you.We do not rent, sell or share your personal information and we will not disclose any of your personally identifiable information to third parties unless:we have your permissionto provide products or services you've requested to help investigate, prevent or take action regarding unlawful and illegal activities, suspected fraud, potential threat to the safety or security of any person, violations of Rediff.com's terms of use or to defend against legal claims;special circumstances such as compliance with subpoenas, court orders, requests/order from legal authorities or law enforcement agencies requiring such disclosure.We share your information with advertisers on an aggregate basis only.WHAT CHOICES ARE AVAILABLE TO YOU REGARDING COLLECTION, USE AND DISTRIBUTION OF YOUR INFORMATION?Supplying personally identifiable information is entirely voluntary.\n",
      "\n",
      "However, your information may remain stored in archive on our servers even after the deletion or the termination of your account.If we plan to use your personally identifiable information for any commercial purposes, we will notify you at the time we collect that information and allow you to opt-out of having your information used for those purposes.You can accept or decline the cookies.\n",
      "\n"
     ]
    }
   ],
   "source": [
    "lex_rank_summarizer = LexRankSummarizer()\n",
    "lexrank_summary = lex_rank_summarizer(my_parser.document,sentences_count=3)\n",
    "\n",
    "# Printing the summary\n",
    "final_policy_without_cw=\"\"\n",
    "for sentence in lexrank_summary:\n",
    "    print(sentence)\n",
    "    print()\n",
    "    final_policy_without_cw+=str(sentence)"
   ]
  },
  {
   "cell_type": "code",
   "execution_count": 56,
   "metadata": {
    "scrolled": true
   },
   "outputs": [
    {
     "name": "stdout",
     "output_type": "stream",
     "text": [
      "['By accessing the services provided by Rediff', 'com you agree to the collection and use of your data by Rediff', 'com in the manner provided in this Privacy Policy', 'We want you to feel comfortable using our web sites feel secure submitting information to uscontact us with your questions or concerns about privacy on this site know that by using our sites you are consenting to the collection of certain data', \"WHAT INFORMATION IS, OR MAY BE, COLLECTED FROM YOU?We will automatically receive and collect certain anonymous information in standard usage logs through our Web server, including computer-identification information obtained from 'cookies,' sent to your browser from a web server cookie stored on your hard drive an IP address, assigned to the computer which you use the domain server through which you access our service the type of computer you're using, the type of web browser you're using\", 'We may collect the following personally identifiable information about you:name including first and last name alternate email address mobile phone number and contact details ZIP/Postal code demographic profile (like your age, gender, occupation, education, address and durables owned);preferences and interests (such as news, sports, travel and so on);financial information (like account or credit card numbers); andopinions of features on our websites', 'We may also collect the following information:about the pages you visit/access the links you click on our site the number of times you access the pageYou can terminate your account at any time', 'We have no control over its use and you should exercise caution when disclosing your personal information to anyone', 'HOW IS THE INFORMATION USED?We use your personal information to:help us provide personalized featurestailor our sites to your interest to get in touch with you when necessary to provide the services requested by you to preserve social history as governed by existing law or policy', \"We use contact information internally to: direct our efforts for product improvement contact you as a survey respondent notify you if you win any contest; and send you promotional materials from our contest sponsors or advertisers Generally, we use anonymous traffic information to: remind us of who you are in order to deliver to you a better and more personalized service from both an advertising and an editorial perspective; recognize your access privileges to our Web sites track your entries in some of our promotions, sweepstakes and contests to indicate a player's progress through the promotion and to track entries, submissions, and status in prize drawings make sure that you don't see the same ad repeatedly help diagnose problems with our server administer our Web sites track your session so that we can understand better how people use our sites\", 'WITH WHOM WILL YOUR INFORMATION BE SHARED?We will not use your financial information for any purpose other than to complete a transaction with you', \"We do not rent, sell or share your personal information and we will not disclose any of your personally identifiable information to third parties unless:we have your permissionto provide products or services you've requested to help investigate, prevent or take action regarding unlawful and illegal activities, suspected fraud, potential threat to the safety or security of any person, violations of Rediff\", \"com's terms of use or to defend against legal claims;special circumstances such as compliance with subpoenas, court orders, requests/order from legal authorities or law enforcement agencies requiring such disclosure\", 'We share your information with advertisers on an aggregate basis only', 'WHAT CHOICES ARE AVAILABLE TO YOU REGARDING COLLECTION, USE AND DISTRIBUTION OF YOUR INFORMATION?Supplying personally identifiable information is entirely voluntary', 'However, your information may remain stored in archive on our servers even after the deletion or the termination of your account', 'If we plan to use your personally identifiable information for any commercial purposes, we will notify you at the time we collect that information and allow you to opt-out of having your information used for those purposes', 'You can accept or decline the cookies', '']\n"
     ]
    }
   ],
   "source": [
    "final_policy_list_test2=final_policy_without_cw.split(\".\")\n",
    "print(final_policy_list_test2)"
   ]
  },
  {
   "cell_type": "code",
   "execution_count": 57,
   "metadata": {},
   "outputs": [
    {
     "name": "stdout",
     "output_type": "stream",
     "text": [
      "19\n"
     ]
    }
   ],
   "source": [
    "print(len(final_policy_list_test2))"
   ]
  },
  {
   "cell_type": "code",
   "execution_count": 58,
   "metadata": {},
   "outputs": [
    {
     "data": {
      "image/png": "[encoded data removed]",
      "text/plain": [
       "<Figure size 432x288 with 1 Axes>"
      ]
     },
     "metadata": {},
     "output_type": "display_data"
    }
   ],
   "source": [
    "import seaborn as sns\n",
    "import matplotlib.pyplot as plt\n",
    "sns.set_style('darkgrid')\n",
    "sns.barplot(x=[\"Common word-reduced\",\"Raw privacy policy\"],y=[18,19]).set(xlabel='Privacy policy', ylabel='Sentence count')\n",
    "plt.show()"
   ]
  },
  {
   "cell_type": "markdown",
   "metadata": {},
   "source": [
    "## However, the chunk of lines obtained after common word sentence reduction process is different from the direct application of LEXRANK above."
   ]
  },
  {
   "cell_type": "markdown",
   "metadata": {},
   "source": [
    "## Applying another extractive method (KL Summarizer) and testing the privacy policies"
   ]
  },
  {
   "cell_type": "code",
   "execution_count": 59,
   "metadata": {},
   "outputs": [],
   "source": [
    "from sumy.summarizers.kl import KLSummarizer"
   ]
  },
  {
   "cell_type": "code",
   "execution_count": 176,
   "metadata": {
    "scrolled": true
   },
   "outputs": [
    {
     "data": {
      "text/plain": [
       "\"com India Limited and its subsidiaries and affiliates ('Rediff.com') respects your privacy. This Privacy Policy provides succinctly the manner your data is collected and used by Rediff.com. By accessing the services provided by Rediff.com you agree to the collection and use of your data by Rediff.com in the manner provided in this Privacy Policy.We want you to feel comfortable using our web sites feel secure submitting information to uscontact us with your questions or concerns about privacy on this site know that by using our sites you are consenting to the collection of certain data.WHAT INFORMATION IS, OR MAY BE, COLLECTED FROM YOU?We will automatically receive and collect certain anonymous information in standard usage logs through our Web server, including computer-identification information obtained from 'cookies,' sent to your browser from a web server cookie stored on your hard drive an IP address, assigned to the computer which you use the domain server through which you access our service the type of computer you're using, the type of web browser you're using.We may collect the following personally identifiable information about you:name including first and last name alternate email address mobile phone number and contact details ZIP/Postal code demographic profile (like your age, gender, occupation, education, address and durables owned);preferences and interests (such as news, sports, travel and so on);financial information (like account or credit card numbers); andopinions of features on our websites.We may also collect the following information:about the pages you visit/access the links you click on our site the number of times you access the pageYou can terminate your account at any time. However, your information may remain stored in archive on our servers even after the deletion or the termination of your account.WHO COLLECTS THE INFORMATION?We will collect anonymous traffic information from you when you visit our site.We will collect personally identifiable information about you only as part of a voluntary registration process, on-line survey, or contest or any combination thereof.Our advertisers may collect anonymous traffic information from their own assigned cookies to your browser.The Site contains links to other Web sites. We are not responsible for the privacy practices of such Web sites which we do not own, manage or control.We make chat rooms, forums, instant messenger and message boards and other services available to you. Please understand that any information that is disclosed in these areas becomes public information. We have no control over its use and you should exercise caution when disclosing your personal information to anyone.HOW IS THE INFORMATION USED?We use your personal information to:help us provide personalized featurestailor our sites to your interest to get in touch with you when necessary to provide the services requested by you to preserve social history as governed by existing law or policy.We use contact information internally to: direct our efforts for product improvement contact you as a survey respondent notify you if you win any contest; and send you promotional materials from our contest sponsors or advertisers Generally, we use anonymous traffic information to: remind us of who you are in order to deliver to you a better and more personalized service from both an advertising and an editorial perspective; recognize your access privileges to our Web sites track your entries in some of our promotions, sweepstakes and contests to indicate a player's progress through the promotion and to track entries, submissions, and status in prize drawings make sure that you don't see the same ad repeatedly help diagnose problems with our server administer our Web sites track your session so that we can understand better how people use our sites.WITH WHOM WILL YOUR INFORMATION BE SHARED?We will not use your financial information for any purpose other than to complete a transaction with you.We do not rent, sell or share your personal information and we will not disclose any of your personally identifiable information to third parties unless:we have your permissionto provide products or services you've requested to help investigate, prevent or take action regarding unlawful and illegal activities, suspected fraud, potential threat to the safety or security of any person, violations of Rediff.com's terms of use or to defend against legal claims;special circumstances such as compliance with subpoenas, court orders, requests/order from legal authorities or law enforcement agencies requiring such disclosure.We share your information with advertisers on an aggregate basis only.WHAT CHOICES ARE AVAILABLE TO YOU REGARDING COLLECTION, USE AND DISTRIBUTION OF YOUR INFORMATION?Supplying personally identifiable information is entirely voluntary. You are not required to register with us in order to use our sites. However, we offer some services only to visitors who do register.You may change your interests at any time and may opt-in or opt-out of any marketing / promotional / newsletters mailings.com reserves the right to send you certain service-related communication, considered to be a part of your rediff account without offering you the facility to opt-out. You may update your information and change your account settings at any time.Upon request, we will remove/block your personally identifiable information from our database, thereby canceling your registration. See Contact information below. However, your information may remain stored in archive on our servers even after the deletion or the termination of your account.If we plan to use your personally identifiable information for any commercial purposes, we will notify you at the time we collect that information and allow you to opt-out of having your information used for those purposes.You can accept or decline the cookies. All sites that are customizable require that you accept cookies. You also must accept cookies to register as someone for access to some of our services. For information on how to set your browser to alert you to cookies, or to reject cookies, go to http://www.cookiecentral.com/faq/.WHAT SECURITY PROCEDURES ARE IN PLACE TO PROTECT INFORMATION FROM LOSS, MISUSE OR ALTERATION?To protect against the loss, misuse and alteration of the information under our control, we have in place appropriate physical, electronic and managerial procedures. For example, our servers are accessible only to authorized personnel and that your information is shared with respective personnel on need to know basis to complete the transaction and to provide the services requested by you.Although we will endeavor to safeguard the confidentiality of your personally identifiable information, transmissions made by means of the Internet cannot be made absolutely secure. By using this site, you agree that we will have no liability for disclosure of your information due to errors in transmission or unauthorized acts of third parties.HOW CAN YOU CORRECT INACCURACIES IN THE INFORMATION?To correct or update any information you have provided, our sites allow you to do it online. In the event of loss of access details you can use any of the following options:Send an e-mail to shopsupport@rediff.Call the following telephone number: +91 (22) 61820000.We reserve the right to change or update this policy at any time by placing a prominent notice on our site. Such changes shall be effective immediately upon posting to this site.You are can offer your views, suggestions, if any, by submitting the filled in feedback form online.\""
      ]
     },
     "execution_count": 176,
     "metadata": {},
     "output_type": "execute_result"
    }
   ],
   "source": [
    "string"
   ]
  },
  {
   "cell_type": "code",
   "execution_count": 177,
   "metadata": {},
   "outputs": [],
   "source": [
    "parser=PlaintextParser.from_string(string,Tokenizer('english'))"
   ]
  },
  {
   "cell_type": "code",
   "execution_count": 178,
   "metadata": {
    "scrolled": true
   },
   "outputs": [
    {
     "name": "stdout",
     "output_type": "stream",
     "text": [
      "com India Limited and its subsidiaries and affiliates ('Rediff.com') respects your privacy.\n",
      "\n",
      "This Privacy Policy provides succinctly the manner your data is collected and used by Rediff.com.\n",
      "\n",
      "Please understand that any information that is disclosed in these areas becomes public information.\n",
      "\n",
      "You are not required to register with us in order to use our sites.\n",
      "\n",
      "However, we offer some services only to visitors who do register.You may change your interests at any time and may opt-in or opt-out of any marketing / promotional / newsletters mailings.com reserves the right to send you certain service-related communication, considered to be a part of your rediff account without offering you the facility to opt-out.\n",
      "\n",
      "You may update your information and change your account settings at any time.Upon request, we will remove/block your personally identifiable information from our database, thereby canceling your registration.\n",
      "\n",
      "See Contact information below.\n",
      "\n",
      "However, your information may remain stored in archive on our servers even after the deletion or the termination of your account.If we plan to use your personally identifiable information for any commercial purposes, we will notify you at the time we collect that information and allow you to opt-out of having your information used for those purposes.You can accept or decline the cookies.\n",
      "\n",
      "All sites that are customizable require that you accept cookies.\n",
      "\n",
      "You also must accept cookies to register as someone for access to some of our services.\n",
      "\n",
      "For information on how to set your browser to alert you to cookies, or to reject cookies, go to http://www.cookiecentral.com/faq/.WHAT SECURITY PROCEDURES ARE IN PLACE TO PROTECT INFORMATION FROM LOSS, MISUSE OR ALTERATION?To protect against the loss, misuse and alteration of the information under our control, we have in place appropriate physical, electronic and managerial procedures.\n",
      "\n",
      "For example, our servers are accessible only to authorized personnel and that your information is shared with respective personnel on need to know basis to complete the transaction and to provide the services requested by you.Although we will endeavor to safeguard the confidentiality of your personally identifiable information, transmissions made by means of the Internet cannot be made absolutely secure.\n",
      "\n",
      "By using this site, you agree that we will have no liability for disclosure of your information due to errors in transmission or unauthorized acts of third parties.HOW CAN YOU CORRECT INACCURACIES IN THE INFORMATION?To correct or update any information you have provided, our sites allow you to do it online.\n",
      "\n",
      "In the event of loss of access details you can use any of the following options:Send an e-mail to shopsupport@rediff.Call the following telephone number: +91 (22) 61820000.We reserve the right to change or update this policy at any time by placing a prominent notice on our site.\n",
      "\n",
      "Such changes shall be effective immediately upon posting to this site.You are can offer your views, suggestions, if any, by submitting the filled in feedback form online.\n",
      "\n"
     ]
    }
   ],
   "source": [
    "kl_summarizer=KLSummarizer()\n",
    "kl_summary=kl_summarizer(parser.document,sentences_count=15)\n",
    "\n",
    "count=0\n",
    "policy=\"\"\n",
    "# Printing the summary\n",
    "for sentence in kl_summary:\n",
    "    print(sentence)\n",
    "    count+=1\n",
    "    policy+=str(sentence)\n",
    "    print()"
   ]
  },
  {
   "cell_type": "code",
   "execution_count": 179,
   "metadata": {},
   "outputs": [
    {
     "name": "stdout",
     "output_type": "stream",
     "text": [
      "Total chunk of lines obtained:  15\n"
     ]
    }
   ],
   "source": [
    "print(\"Total chunk of lines obtained: \",count)"
   ]
  },
  {
   "cell_type": "code",
   "execution_count": 180,
   "metadata": {
    "scrolled": true
   },
   "outputs": [
    {
     "data": {
      "text/plain": [
       "\"com India Limited and its subsidiaries and affiliates ('Rediff.com') respects your privacy.This Privacy Policy provides succinctly the manner your data is collected and used by Rediff.com.Please understand that any information that is disclosed in these areas becomes public information.You are not required to register with us in order to use our sites.However, we offer some services only to visitors who do register.You may change your interests at any time and may opt-in or opt-out of any marketing / promotional / newsletters mailings.com reserves the right to send you certain service-related communication, considered to be a part of your rediff account without offering you the facility to opt-out.You may update your information and change your account settings at any time.Upon request, we will remove/block your personally identifiable information from our database, thereby canceling your registration.See Contact information below.However, your information may remain stored in archive on our servers even after the deletion or the termination of your account.If we plan to use your personally identifiable information for any commercial purposes, we will notify you at the time we collect that information and allow you to opt-out of having your information used for those purposes.You can accept or decline the cookies.All sites that are customizable require that you accept cookies.You also must accept cookies to register as someone for access to some of our services.For information on how to set your browser to alert you to cookies, or to reject cookies, go to http://www.cookiecentral.com/faq/.WHAT SECURITY PROCEDURES ARE IN PLACE TO PROTECT INFORMATION FROM LOSS, MISUSE OR ALTERATION?To protect against the loss, misuse and alteration of the information under our control, we have in place appropriate physical, electronic and managerial procedures.For example, our servers are accessible only to authorized personnel and that your information is shared with respective personnel on need to know basis to complete the transaction and to provide the services requested by you.Although we will endeavor to safeguard the confidentiality of your personally identifiable information, transmissions made by means of the Internet cannot be made absolutely secure.By using this site, you agree that we will have no liability for disclosure of your information due to errors in transmission or unauthorized acts of third parties.HOW CAN YOU CORRECT INACCURACIES IN THE INFORMATION?To correct or update any information you have provided, our sites allow you to do it online.In the event of loss of access details you can use any of the following options:Send an e-mail to shopsupport@rediff.Call the following telephone number: +91 (22) 61820000.We reserve the right to change or update this policy at any time by placing a prominent notice on our site.Such changes shall be effective immediately upon posting to this site.You are can offer your views, suggestions, if any, by submitting the filled in feedback form online.\""
      ]
     },
     "execution_count": 180,
     "metadata": {},
     "output_type": "execute_result"
    }
   ],
   "source": [
    "policy"
   ]
  },
  {
   "cell_type": "code",
   "execution_count": 181,
   "metadata": {
    "scrolled": true
   },
   "outputs": [
    {
     "data": {
      "text/plain": [
       "[\"com India Limited and its subsidiaries and affiliates ('Rediff\",\n",
       " \"com') respects your privacy\",\n",
       " 'This Privacy Policy provides succinctly the manner your data is collected and used by Rediff',\n",
       " 'com',\n",
       " 'Please understand that any information that is disclosed in these areas becomes public information',\n",
       " 'You are not required to register with us in order to use our sites',\n",
       " 'However, we offer some services only to visitors who do register',\n",
       " 'You may change your interests at any time and may opt-in or opt-out of any marketing / promotional / newsletters mailings',\n",
       " 'com reserves the right to send you certain service-related communication, considered to be a part of your rediff account without offering you the facility to opt-out',\n",
       " 'You may update your information and change your account settings at any time',\n",
       " 'Upon request, we will remove/block your personally identifiable information from our database, thereby canceling your registration',\n",
       " 'See Contact information below',\n",
       " 'However, your information may remain stored in archive on our servers even after the deletion or the termination of your account',\n",
       " 'If we plan to use your personally identifiable information for any commercial purposes, we will notify you at the time we collect that information and allow you to opt-out of having your information used for those purposes',\n",
       " 'You can accept or decline the cookies',\n",
       " 'All sites that are customizable require that you accept cookies',\n",
       " 'You also must accept cookies to register as someone for access to some of our services',\n",
       " 'For information on how to set your browser to alert you to cookies, or to reject cookies, go to http://www',\n",
       " 'cookiecentral',\n",
       " 'com/faq/',\n",
       " 'WHAT SECURITY PROCEDURES ARE IN PLACE TO PROTECT INFORMATION FROM LOSS, MISUSE OR ALTERATION?To protect against the loss, misuse and alteration of the information under our control, we have in place appropriate physical, electronic and managerial procedures',\n",
       " 'For example, our servers are accessible only to authorized personnel and that your information is shared with respective personnel on need to know basis to complete the transaction and to provide the services requested by you',\n",
       " 'Although we will endeavor to safeguard the confidentiality of your personally identifiable information, transmissions made by means of the Internet cannot be made absolutely secure',\n",
       " 'By using this site, you agree that we will have no liability for disclosure of your information due to errors in transmission or unauthorized acts of third parties',\n",
       " 'HOW CAN YOU CORRECT INACCURACIES IN THE INFORMATION?To correct or update any information you have provided, our sites allow you to do it online',\n",
       " 'In the event of loss of access details you can use any of the following options:Send an e-mail to shopsupport@rediff',\n",
       " 'Call the following telephone number: +91 (22) 61820000',\n",
       " 'We reserve the right to change or update this policy at any time by placing a prominent notice on our site',\n",
       " 'Such changes shall be effective immediately upon posting to this site',\n",
       " 'You are can offer your views, suggestions, if any, by submitting the filled in feedback form online',\n",
       " '']"
      ]
     },
     "execution_count": 181,
     "metadata": {},
     "output_type": "execute_result"
    }
   ],
   "source": [
    "test_list=policy.split(\".\")\n",
    "test_list"
   ]
  },
  {
   "cell_type": "code",
   "execution_count": 182,
   "metadata": {},
   "outputs": [
    {
     "name": "stdout",
     "output_type": "stream",
     "text": [
      "115\n"
     ]
    }
   ],
   "source": [
    "count_common=0\n",
    "for i in test_list:\n",
    "    for j in common_word_list:\n",
    "        if j in i:\n",
    "            count_common+=i.count(j)\n",
    "print(count_common)"
   ]
  },
  {
   "cell_type": "markdown",
   "metadata": {},
   "source": [
    "## The common words from the list of 59 words has repeated 106 times, which proves sentence significance"
   ]
  },
  {
   "cell_type": "markdown",
   "metadata": {},
   "source": [
    "## Comparison with actual privacy policy without common words reduction"
   ]
  },
  {
   "cell_type": "code",
   "execution_count": 67,
   "metadata": {},
   "outputs": [],
   "source": [
    "parser=PlaintextParser.from_string(test_string,Tokenizer('english'))"
   ]
  },
  {
   "cell_type": "code",
   "execution_count": 68,
   "metadata": {},
   "outputs": [],
   "source": [
    "my_parser = PlaintextParser.from_string(test_string,Tokenizer('english'))"
   ]
  },
  {
   "cell_type": "code",
   "execution_count": 69,
   "metadata": {
    "scrolled": true
   },
   "outputs": [
    {
     "name": "stdout",
     "output_type": "stream",
     "text": [
      "Rediff.com India Limited and its subsidiaries and affiliates ('Rediff.com') respects your privacy.\n",
      "\n",
      "This Privacy Policy provides succinctly the manner your data is collected and used by Rediff.com.\n",
      "\n",
      "You are advised to please read the Privacy Policy carefully.\n",
      "\n",
      "Please understand that any information that is disclosed in these areas becomes public information.\n",
      "\n",
      "You are not required to register with us in order to use our sites.\n",
      "\n",
      "However, we offer some services only to visitors who do register.You may change your interests at any time and may opt-in or opt-out of any marketing / promotional / newsletters mailings.\n",
      "\n",
      "You may update your information and change your account settings at any time.Upon request, we will remove/block your personally identifiable information from our database, thereby canceling your registration.\n",
      "\n",
      "See Contact information below.\n",
      "\n",
      "However, your information may remain stored in archive on our servers even after the deletion or the termination of your account.If we plan to use your personally identifiable information for any commercial purposes, we will notify you at the time we collect that information and allow you to opt-out of having your information used for those purposes.You can accept or decline the cookies.\n",
      "\n",
      "All sites that are customizable require that you accept cookies.\n",
      "\n",
      "You also must accept cookies to register as someone for access to some of our services.\n",
      "\n",
      "For information on how to set your browser to alert you to cookies, or to reject cookies, go to http://www.cookiecentral.com/faq/.WHAT SECURITY PROCEDURES ARE IN PLACE TO PROTECT INFORMATION FROM LOSS, MISUSE OR ALTERATION?To protect against the loss, misuse and alteration of the information under our control, we have in place appropriate physical, electronic and managerial procedures.\n",
      "\n",
      "For example, our servers are accessible only to authorized personnel and that your information is shared with respective personnel on need to know basis to complete the transaction and to provide the services requested by you.Although we will endeavor to safeguard the confidentiality of your personally identifiable information, transmissions made by means of the Internet cannot be made absolutely secure.\n",
      "\n",
      "By using this site, you agree that we will have no liability for disclosure of your information due to errors in transmission or unauthorized acts of third parties.HOW CAN YOU CORRECT INACCURACIES IN THE INFORMATION?To correct or update any information you have provided, our sites allow you to do it online.\n",
      "\n",
      "Such changes shall be effective immediately upon posting to this site.You are can offer your views, suggestions, if any, by submitting the filled in feedback form online..\n",
      "\n"
     ]
    }
   ],
   "source": [
    "kl_summarizer=KLSummarizer()\n",
    "kl_summary=kl_summarizer(parser.document,sentences_count=15)\n",
    "\n",
    "count=0\n",
    "# Printing the summary\n",
    "for sentence in kl_summary:\n",
    "    print(sentence)\n",
    "    count+=1\n",
    "    print()"
   ]
  },
  {
   "cell_type": "code",
   "execution_count": 70,
   "metadata": {},
   "outputs": [
    {
     "name": "stdout",
     "output_type": "stream",
     "text": [
      "Total chunk of lines obtained:  15\n"
     ]
    }
   ],
   "source": [
    "print(\"Total chunk of lines obtained: \",count)"
   ]
  },
  {
   "cell_type": "markdown",
   "metadata": {},
   "source": [
    "## Few more tests using the KL summarizer to see the reduction"
   ]
  },
  {
   "cell_type": "code",
   "execution_count": 71,
   "metadata": {
    "scrolled": true
   },
   "outputs": [
    {
     "data": {
      "text/plain": [
       "\"eleB2B.com (a part of EFY Enterprises Pvt Ltd) is committed to safeguarding its users' privacy. We request all users to read our 'Privacy Policy' to understand how their personal and business information will be handled. As of now, we do not charge a single penny to buyers and suppliers (this may change later, and we will inform you when that happens) in exchange for our services. This privacy policy is applicable to the entire network of suppliers/manufacturers etc listed on and using eleB2B.com.By using our site, you consent to the terms of our online Privacy Policy.What user information do we collect?We collect information from buyers and suppliers when they register to gain access to our services or when they are requested to provide their personal and business details. During registration, we ask the buyers or suppliers for their name, email address, business information and other personal details.What do we use your personal/business information for?On successful registration, users are no longer anonymous to the eleB2B.com and EFY Group website admins, and it is deemed that the user has given us the right to publish the relevant personal and business details for the following purposes:To personalise your experienceTo improve our websiteTo share with sponsorsTo administer a contest, promotion, survey, or conduct any other such activity on the siteTo send out periodic emails.The email address you provide may be used to send you information, respond to inquiries, have an interactive communication, address other requests or personalise your experience on our website. Your business information is used when compiling listings or when featuring product offerings across our network, thus fetching the maximum business opportunities for the user.We also collect usage statistics (page views, unique visitors, browser software, screen resolutions, etc.) through third party tools/websites for analysis. This data helps us provide you with an improved user experience and services.Sharing of Information:As per our principles, eleB2B.com and EFY Group websites will not disclose or share any of your personal as well as business information without your permission, or under special circumstances as permitted in the terms of this policy (Privacy Policy Agreement).Distribution of Information:eleB2B.com; send its users emails regarding its products and services. It may also use your information to create any match- making tools to bring buyers together with interested sellers.Promotional use:Promotions that are being run may be sponsored by eleB2B.com only or EFY Group websites. You can decide not to participate in the promotions if you don't want your data to be shared. For the record, right now, eleB2B.com is not running any promotional campaign.Updating information:As a buyer or supplier, you may edit your account information and profile by logging into our website and/or by sending a request to the admin within the panel. The requested changes will take time to be displayed on the website because of the cross-verification process.At the same time, a registered user account can be deleted or deactivated, but doing so will only result in the user not being able to access the members-only area of the website. The rest of the information about that particular user will remain in our records.Cookie policyRight now, we are using cookies for usability purposes only. You can choose to have your computer warn you each time a cookie is being sent, or you can choose to turn off all cookies via your browser settings. Also, if you turn your cookies off, some of our services may not function properly.You can still place orders by contacting customer service +91-11-4059-6605 or can complain at support@eleb2b.com.Protection of Information:We do not sell third parties any data in bulk, which can be misused for telemarketing, bulk mailing or any other wrong purposes. Also, eleB2B does not sell any user’s’ personal information or business information until and unless it is permitted to do so by the user, as per the terms of this policy (Privacy Policy Agreement).Changes in the Privacy Policy.eleB2B.com reserves the right to change its user policies from time to time, so we suggest that you, as a buyer or seller, check the terms of the policy periodically.\""
      ]
     },
     "execution_count": 71,
     "metadata": {},
     "output_type": "execute_result"
    }
   ],
   "source": [
    "policy_test=\"eleB2B.com (a part of EFY Enterprises Pvt Ltd) is committed to safeguarding its users' privacy. We request all users to read our 'Privacy Policy' to understand how their personal and business information will be handled. As of now, we do not charge a single penny to buyers and suppliers (this may change later, and we will inform you when that happens) in exchange for our services. This privacy policy is applicable to the entire network of suppliers/manufacturers etc listed on and using eleB2B.com.By using our site, you consent to the terms of our online Privacy Policy.What user information do we collect?We collect information from buyers and suppliers when they register to gain access to our services or when they are requested to provide their personal and business details. During registration, we ask the buyers or suppliers for their name, email address, business information and other personal details.What do we use your personal/business information for?On successful registration, users are no longer anonymous to the eleB2B.com and EFY Group website admins, and it is deemed that the user has given us the right to publish the relevant personal and business details for the following purposes:To personalise your experienceTo improve our websiteTo share with sponsorsTo administer a contest, promotion, survey, or conduct any other such activity on the siteTo send out periodic emails.The email address you provide may be used to send you information, respond to inquiries, have an interactive communication, address other requests or personalise your experience on our website. Your business information is used when compiling listings or when featuring product offerings across our network, thus fetching the maximum business opportunities for the user.We also collect usage statistics (page views, unique visitors, browser software, screen resolutions, etc.) through third party tools/websites for analysis. This data helps us provide you with an improved user experience and services.Sharing of Information:As per our principles, eleB2B.com and EFY Group websites will not disclose or share any of your personal as well as business information without your permission, or under special circumstances as permitted in the terms of this policy (Privacy Policy Agreement).Distribution of Information:eleB2B.com; send its users emails regarding its products and services. It may also use your information to create any match- making tools to bring buyers together with interested sellers.Promotional use:Promotions that are being run may be sponsored by eleB2B.com only or EFY Group websites. You can decide not to participate in the promotions if you don't want your data to be shared. For the record, right now, eleB2B.com is not running any promotional campaign.Updating information:As a buyer or supplier, you may edit your account information and profile by logging into our website and/or by sending a request to the admin within the panel. The requested changes will take time to be displayed on the website because of the cross-verification process.At the same time, a registered user account can be deleted or deactivated, but doing so will only result in the user not being able to access the members-only area of the website. The rest of the information about that particular user will remain in our records.Cookie policyRight now, we are using cookies for usability purposes only. You can choose to have your computer warn you each time a cookie is being sent, or you can choose to turn off all cookies via your browser settings. Also, if you turn your cookies off, some of our services may not function properly.You can still place orders by contacting customer service +91-11-4059-6605 or can complain at support@eleb2b.com.Protection of Information:We do not sell third parties any data in bulk, which can be misused for telemarketing, bulk mailing or any other wrong purposes. Also, eleB2B does not sell any user’s’ personal information or business information until and unless it is permitted to do so by the user, as per the terms of this policy (Privacy Policy Agreement).Changes in the Privacy Policy.eleB2B.com reserves the right to change its user policies from time to time, so we suggest that you, as a buyer or seller, check the terms of the policy periodically.\"\n",
    "policy_test"
   ]
  },
  {
   "cell_type": "code",
   "execution_count": 72,
   "metadata": {},
   "outputs": [],
   "source": [
    "parser=PlaintextParser.from_string(policy_test,Tokenizer('english'))"
   ]
  },
  {
   "cell_type": "code",
   "execution_count": 73,
   "metadata": {},
   "outputs": [],
   "source": [
    "my_parser = PlaintextParser.from_string(policy_test,Tokenizer('english'))"
   ]
  },
  {
   "cell_type": "code",
   "execution_count": 74,
   "metadata": {
    "scrolled": true
   },
   "outputs": [
    {
     "name": "stdout",
     "output_type": "stream",
     "text": [
      "eleB2B.com (a part of EFY Enterprises Pvt Ltd) is committed to safeguarding its users' privacy.\n",
      "We request all users to read our 'Privacy Policy' to understand how their personal and business information will be handled.\n",
      "As of now, we do not charge a single penny to buyers and suppliers (this may change later, and we will inform you when that happens) in exchange for our services.\n",
      "This privacy policy is applicable to the entire network of suppliers/manufacturers etc listed on and using eleB2B.com.By using our site, you consent to the terms of our online Privacy Policy.What user information do we collect?We collect information from buyers and suppliers when they register to gain access to our services or when they are requested to provide their personal and business details.\n",
      "During registration, we ask the buyers or suppliers for their name, email address, business information and other personal details.What do we use your personal/business information for?On successful registration, users are no longer anonymous to the eleB2B.com and EFY Group website admins, and it is deemed that the user has given us the right to publish the relevant personal and business details for the following purposes:To personalise your experienceTo improve our websiteTo share with sponsorsTo administer a contest, promotion, survey, or conduct any other such activity on the siteTo send out periodic emails.The email address you provide may be used to send you information, respond to inquiries, have an interactive communication, address other requests or personalise your experience on our website.\n",
      "Your business information is used when compiling listings or when featuring product offerings across our network, thus fetching the maximum business opportunities for the user.We also collect usage statistics (page views, unique visitors, browser software, screen resolutions, etc.)\n",
      "through third party tools/websites for analysis.\n",
      "This data helps us provide you with an improved user experience and services.Sharing of Information:As per our principles, eleB2B.com and EFY Group websites will not disclose or share any of your personal as well as business information without your permission, or under special circumstances as permitted in the terms of this policy (Privacy Policy Agreement).Distribution of Information:eleB2B.com; send its users emails regarding its products and services.\n",
      "It may also use your information to create any match- making tools to bring buyers together with interested sellers.Promotional use:Promotions that are being run may be sponsored by eleB2B.com only or EFY Group websites.\n",
      "You can decide not to participate in the promotions if you don't want your data to be shared.\n",
      "For the record, right now, eleB2B.com is not running any promotional campaign.Updating information:As a buyer or supplier, you may edit your account information and profile by logging into our website and/or by sending a request to the admin within the panel.\n",
      "The requested changes will take time to be displayed on the website because of the cross-verification process.At the same time, a registered user account can be deleted or deactivated, but doing so will only result in the user not being able to access the members-only area of the website.\n",
      "The rest of the information about that particular user will remain in our records.Cookie policyRight now, we are using cookies for usability purposes only.\n",
      "You can choose to have your computer warn you each time a cookie is being sent, or you can choose to turn off all cookies via your browser settings.\n",
      "Also, if you turn your cookies off, some of our services may not function properly.You can still place orders by contacting customer service +91-11-4059-6605 or can complain at support@eleb2b.com.Protection of Information:We do not sell third parties any data in bulk, which can be misused for telemarketing, bulk mailing or any other wrong purposes.\n",
      "Also, eleB2B does not sell any user’s’ personal information or business information until and unless it is permitted to do so by the user, as per the terms of this policy (Privacy Policy Agreement).Changes in the Privacy Policy.eleB2B.com reserves the right to change its user policies from time to time, so we suggest that you, as a buyer or seller, check the terms of the policy periodically.\n"
     ]
    }
   ],
   "source": [
    "kl_summarizer=KLSummarizer()\n",
    "kl_summary=kl_summarizer(parser.document,sentences_count=20)\n",
    "\n",
    "# Printing the summary\n",
    "for sentence in kl_summary:\n",
    "    print(sentence)"
   ]
  },
  {
   "cell_type": "code",
   "execution_count": 75,
   "metadata": {},
   "outputs": [],
   "source": [
    "summary_test=[]\n",
    "for i in range(len(policy_test_sentences)):\n",
    "    for j in common_word_list:\n",
    "        if j in policy_test_sentences[i]:\n",
    "            summary_test.append(policy_test_sentences[i])\n",
    "            break"
   ]
  },
  {
   "cell_type": "code",
   "execution_count": 76,
   "metadata": {
    "scrolled": true
   },
   "outputs": [
    {
     "name": "stdout",
     "output_type": "stream",
     "text": [
      "com (a part of EFY Enterprises Pvt Ltd) is committed to safeguarding its users' privacy. We request all users to read our 'Privacy Policy' to understand how their personal and business information will be handled. As of now, we do not charge a single penny to buyers and suppliers (this may change later, and we will inform you when that happens) in exchange for our services. This privacy policy is applicable to the entire network of suppliers/manufacturers etc listed on and using eleB2B.com.By using our site, you consent to the terms of our online Privacy Policy.What user information do we collect?We collect information from buyers and suppliers when they register to gain access to our services or when they are requested to provide their personal and business details. During registration, we ask the buyers or suppliers for their name, email address, business information and other personal details.What do we use your personal/business information for?On successful registration, users are no longer anonymous to the eleB2B.com and EFY Group website admins, and it is deemed that the user has given us the right to publish the relevant personal and business details for the following purposes:To personalise your experienceTo improve our websiteTo share with sponsorsTo administer a contest, promotion, survey, or conduct any other such activity on the siteTo send out periodic emails.The email address you provide may be used to send you information, respond to inquiries, have an interactive communication, address other requests or personalise your experience on our website. Your business information is used when compiling listings or when featuring product offerings across our network, thus fetching the maximum business opportunities for the user.We also collect usage statistics (page views, unique visitors, browser software, screen resolutions, etc.) through third party tools/websites for analysis. This data helps us provide you with an improved user experience and services.com and EFY Group websites will not disclose or share any of your personal as well as business information without your permission, or under special circumstances as permitted in the terms of this policy (Privacy Policy Agreement).com; send its users emails regarding its products and services. It may also use your information to create any match- making tools to bring buyers together with interested sellers.Promotional use:Promotions that are being run may be sponsored by eleB2B.com only or EFY Group websites. You can decide not to participate in the promotions if you don't want your data to be shared. For the record, right now, eleB2B.com is not running any promotional campaign.Updating information:As a buyer or supplier, you may edit your account information and profile by logging into our website and/or by sending a request to the admin within the panel. The requested changes will take time to be displayed on the website because of the cross-verification process.At the same time, a registered user account can be deleted or deactivated, but doing so will only result in the user not being able to access the members-only area of the website. The rest of the information about that particular user will remain in our records.Cookie policyRight now, we are using cookies for usability purposes only. You can choose to have your computer warn you each time a cookie is being sent, or you can choose to turn off all cookies via your browser settings. Also, if you turn your cookies off, some of our services may not function properly.You can still place orders by contacting customer service +91-11-4059-6605 or can complain at support@eleb2b.com.Protection of Information:We do not sell third parties any data in bulk, which can be misused for telemarketing, bulk mailing or any other wrong purposes. Also, eleB2B does not sell any user’s’ personal information or business information until and unless it is permitted to do so by the user, as per the terms of this policy (Privacy Policy Agreement).com reserves the right to change its user policies from time to time, so we suggest that you, as a buyer or seller, check the terms of the policy periodically.\n"
     ]
    }
   ],
   "source": [
    "string3=\"\"\n",
    "for i in summary_test:\n",
    "    string3+=i\n",
    "    string3+=\".\"\n",
    "print(string3)"
   ]
  },
  {
   "cell_type": "code",
   "execution_count": 77,
   "metadata": {},
   "outputs": [],
   "source": [
    "parser=PlaintextParser.from_string(string3,Tokenizer('english'))"
   ]
  },
  {
   "cell_type": "code",
   "execution_count": 78,
   "metadata": {},
   "outputs": [],
   "source": [
    "my_parser = PlaintextParser.from_string(string3,Tokenizer('english'))"
   ]
  },
  {
   "cell_type": "code",
   "execution_count": 79,
   "metadata": {
    "scrolled": true
   },
   "outputs": [
    {
     "name": "stdout",
     "output_type": "stream",
     "text": [
      "com (a part of EFY Enterprises Pvt Ltd) is committed to safeguarding its users' privacy.\n",
      "\n",
      "We request all users to read our 'Privacy Policy' to understand how their personal and business information will be handled.\n",
      "\n",
      "As of now, we do not charge a single penny to buyers and suppliers (this may change later, and we will inform you when that happens) in exchange for our services.\n",
      "\n",
      "This privacy policy is applicable to the entire network of suppliers/manufacturers etc listed on and using eleB2B.com.By using our site, you consent to the terms of our online Privacy Policy.What user information do we collect?We collect information from buyers and suppliers when they register to gain access to our services or when they are requested to provide their personal and business details.\n",
      "\n",
      "During registration, we ask the buyers or suppliers for their name, email address, business information and other personal details.What do we use your personal/business information for?On successful registration, users are no longer anonymous to the eleB2B.com and EFY Group website admins, and it is deemed that the user has given us the right to publish the relevant personal and business details for the following purposes:To personalise your experienceTo improve our websiteTo share with sponsorsTo administer a contest, promotion, survey, or conduct any other such activity on the siteTo send out periodic emails.The email address you provide may be used to send you information, respond to inquiries, have an interactive communication, address other requests or personalise your experience on our website.\n",
      "\n",
      "Your business information is used when compiling listings or when featuring product offerings across our network, thus fetching the maximum business opportunities for the user.We also collect usage statistics (page views, unique visitors, browser software, screen resolutions, etc.)\n",
      "\n",
      "through third party tools/websites for analysis.\n",
      "\n",
      "This data helps us provide you with an improved user experience and services.com and EFY Group websites will not disclose or share any of your personal as well as business information without your permission, or under special circumstances as permitted in the terms of this policy (Privacy Policy Agreement).com; send its users emails regarding its products and services.\n",
      "\n",
      "It may also use your information to create any match- making tools to bring buyers together with interested sellers.Promotional use:Promotions that are being run may be sponsored by eleB2B.com only or EFY Group websites.\n",
      "\n",
      "You can decide not to participate in the promotions if you don't want your data to be shared.\n",
      "\n",
      "For the record, right now, eleB2B.com is not running any promotional campaign.Updating information:As a buyer or supplier, you may edit your account information and profile by logging into our website and/or by sending a request to the admin within the panel.\n",
      "\n",
      "The requested changes will take time to be displayed on the website because of the cross-verification process.At the same time, a registered user account can be deleted or deactivated, but doing so will only result in the user not being able to access the members-only area of the website.\n",
      "\n",
      "The rest of the information about that particular user will remain in our records.Cookie policyRight now, we are using cookies for usability purposes only.\n",
      "\n",
      "You can choose to have your computer warn you each time a cookie is being sent, or you can choose to turn off all cookies via your browser settings.\n",
      "\n",
      "Also, if you turn your cookies off, some of our services may not function properly.You can still place orders by contacting customer service +91-11-4059-6605 or can complain at support@eleb2b.com.Protection of Information:We do not sell third parties any data in bulk, which can be misused for telemarketing, bulk mailing or any other wrong purposes.\n",
      "\n",
      "Also, eleB2B does not sell any user’s’ personal information or business information until and unless it is permitted to do so by the user, as per the terms of this policy (Privacy Policy Agreement).com reserves the right to change its user policies from time to time, so we suggest that you, as a buyer or seller, check the terms of the policy periodically.\n",
      "\n"
     ]
    }
   ],
   "source": [
    "kl_summarizer=KLSummarizer()\n",
    "kl_summary=kl_summarizer(parser.document,sentences_count=20)\n",
    "count=0\n",
    "# Printing the summary\n",
    "for sentence in kl_summary:\n",
    "    print(sentence)\n",
    "    count+=1\n",
    "    print()"
   ]
  },
  {
   "cell_type": "code",
   "execution_count": 80,
   "metadata": {},
   "outputs": [
    {
     "name": "stdout",
     "output_type": "stream",
     "text": [
      "Total chunk of lines obtained 16\n"
     ]
    }
   ],
   "source": [
    "print(\"Total chunk of lines obtained\",count)"
   ]
  },
  {
   "cell_type": "markdown",
   "metadata": {},
   "source": [
    "## There were a minimum of 16% reduction of sentences and a maximum of 20% reduction of sentences using the common word reduction process, and on applying extractive NLP algorithms on top of that, we get more significant sentences in a summarized form"
   ]
  },
  {
   "cell_type": "markdown",
   "metadata": {},
   "source": [
    "## The results show that there is a minimum of 79.6% increase in the repetition of common words in each sentences and a maximum of 144% increase in repetition on another test conducted which proves the significant role common words play "
   ]
  },
  {
   "cell_type": "code",
   "execution_count": 81,
   "metadata": {},
   "outputs": [
    {
     "data": {
      "image/png": "[encoded data removed]",
      "text/plain": [
       "<Figure size 432x288 with 1 Axes>"
      ]
     },
     "metadata": {},
     "output_type": "display_data"
    }
   ],
   "source": [
    "sns.set_style('darkgrid')\n",
    "sns.barplot(x=[\"Test-1\",\"Test-2\"],y=[79.6,144]).set(xlabel='Test data', ylabel='% increase in the repetition of common words')\n",
    "plt.show()"
   ]
  },
  {
   "cell_type": "markdown",
   "metadata": {},
   "source": [
    "## On comparison of text done using common word reduction process and without the common word reduction process, we obtained a difference of 18.94% increase when the raw text with the reduction process is fed into the NLP algorithms, which indicates that it retained the important sentences better than what the raw text without the reduction process retained"
   ]
  },
  {
   "cell_type": "markdown",
   "metadata": {},
   "source": [
    "## Thus, as an inference, we can see that the sentences obtained after applying the common word reduction process are more significant than by directly giving the privacy policy text in raw form"
   ]
  },
  {
   "cell_type": "markdown",
   "metadata": {},
   "source": [
    "# TEST-3"
   ]
  },
  {
   "cell_type": "code",
   "execution_count": 147,
   "metadata": {},
   "outputs": [
    {
     "data": {
      "text/plain": [
       "\"GoCoop Solutions and Services Private Limited, an Indian company ('GoCoop Solutions and Services', 'Our' or 'We') recognizes the importance of Your privacy and is committed to ensuring that You are aware of how Your information is being used.The terms “You” or “Your”, shall include any individual or legal entity who accesses or uses www.gocoop.com (“Website”).This policy describes the types of information GoCoop Solutions and Services may collect from You or that You may provide in relation to the use or access of the Website and the manner in which such information is collected used, processed, disclosed and maintained.Please read and understand the policy carefully. If You do not agree with Our policies and Our practices in the way we treat Your information (“User Information” which may include Your name, nationality, date of birth, telephone number, email address, physical address and the like), Your choice is to not use the Website. Your use or access of the Website, shall constitute Your agreement to this Privacy Policy.By accepting the Privacy Policy you expressly consent to GoCoop Solutions and Services’ use and disclosure of your personal information in accordance with this Privacy Policy.This policy shall apply to all information You provide on the Website and all information that GoCoop Solutions and Services collects on the Website including but not limited to any information You upload, emails that You exchange with GoCoop Solutions and Services and other users of the Website and any information submitted by You to GoCoop Solutions and Services.The policy does not apply to, nor does GoCoop Solutions and Services take any responsibility for, any information that is collected by any third party either using the Website or through any links on the Website or through any advertisements on the Website.In the use of the Website, as You navigate through the Website, GoCoop Solutions and Services may collect different types of information. This may include User Information, information that is personally identifiable, other information which may not be personally identifiable, information on the usage patterns of any user including You, searches that You have done on the Website, advertisements or third party links that You have visited, any emails or other correspondence You have exchanged on the Website or with GoCoop Solutions and Services.You understand that the information collected by GoCoop Solutions and Services, may be collected directly or through tracking of Your usage of the Website. The usage details may include IP addresses, details of Your computer equipment, browser, location, connections, any information that GoCoop Solutions and Services may collect through the use of cookies and other tracking technologies. The collection of data may in most cases be automatic.'Cookies' are files that would be placed in Your system’s hard drive and are intended to improve Your User experience, by enabling GoCoop Solutions and Services to track Your usage and preference. These cookies may track Your Website usage, advertisement and links that You visit and other user data. [Most cookies GoCoop Solutions and Services uses are limited to a session, which mean they will be automatically deleted when Your session closes]. You may decline these cookies by changing Your browser settings, if permitted, however do note that this mayAdvertisements on the Website may be posted by third-party advertisers, and such third parties may use cookies and other automatic tracking technologies to collect information about You, including but not limited to web behavioural information and patterns. GoCoop Solutions and Services does not control nor takes any responsibility for such third parties, their collection and use of information or their tracking technologies or how they may be used.You also may provide information to be published or displayed or posted on the Website, or transmitted to other users of the Website or third parties. Any such information is posted or transmitted to others at your own risk. Please be aware that GoCoop Solutions and Services cannot control the actions of other users of the Website with whom you may choose to share information with.By using our website, you agree to allow third parties to process your IP address, in order to determine your location for the purpose of currency conversion. You also agree to have that currency stored in a session cookie in your browser (a temporary cookie which gets automatically removed when you close your browser). We do this in order for the selected currency to remain selected and consistent when browsing our website so that the prices can convert to your (the visitor) local currency.The information that We collect on the Website will be used for the purposes of operating the Website, facilitating Your use of the Website, facilitating the transactions between the users, studying user behaviour and for other business purposes of GoCoop Solutions and Services. The information including any User Information will be available to other registered users of the Website.Except as otherwise provided herein, no personally identifiable information will be disclosed or shared with any third party without Your express consent. For the purposes of this policy, personally identifiable information shall mean name, age, gender, bank account information, telephone numbers, location data, email addresses, payment, billing or shipping information.Please do not include any personal information, personally identifiable information or sensitive personal information unless specifically requested by GoCoop Solutions and Services as part of the registration or other applicable processes. If GoCoop Solutions and Services determines that any information You have provided or uploaded violates the terms of this Privacy Policy, GoCoop Solutions and Services has the right, in its absolute discretion, to delete or destroy such information without incurring any liability to You.GoCoop Solutions and Services will not publish, sell or rent Your personal information to third parties for their marketing purposes without Your explicit consentGoCoop Solutions and Services may also use the information for analytical purposes, including but not limited to assessing usage data, usage patterns, estimate audience sizes and other similar activities.You agree that Your personal information may be used to contact You and deliver information or targeted advertisements, administrative notices and any other communication relevant to Your use of the Website. If You do not wish to receive these communications, You can at any time change Your profile settings.The User Information You provide on the Website may be disclosed by GoCoop Solutions and Services to its agents, employees, third party advertisers, subsidiaries and affiliates, or to other third party service providers of GoCoop Solutions and Services who require the information for the purposes of operating and maintaining the Website.GoCoop Solutions and Services will comply with requests and directions of all governmental, law enforcement or regulatory authorities, which it believes in good faith to be in accordance with any applicable law. Such compliance may include providing User Information, personally identifiable information or any other information to such agency or authority. By providing any information on the Website, You consent to GoCoop Solutions and Services providing such information to any governmental, law enforcement or regulatory authorities who exercise jurisdiction over GoCoop Solutions and Services and the Website.The information that You provide, subject to disclosure in accordance with this Privacy Policy shall be maintained in a safe and secure manner. GoCoop Solutions and Services’ databases and information are stored on secure servers with appropriate firewalls owned by GoCoop Solutions and Services or by third parties.As a user of the Website, You have the responsibility to ensure data security. You should use the Website in a responsible manner. Do not share Your username or password with any person. You are solely responsible for all acts done under the username You are registered under.Given the nature of internet transactions, GoCoop Solutions and Services does not take any responsibility for the transmission of information including User Information to the Website. Any transmission of User Information on the internet is done at Your risk. GoCoop Solutions and Services does not take any responsibility for You or any third party circumventing the privacy settings or security measures contained on the Website.While GoCoop Solutions and Services will use all reasonable efforts to ensure that Your User Information and other information submitted by You is safe and secure, it offers no representation, warranties or other assurances that the security measures are adequate, safe, fool proof or impenetrable.You can change, alter of otherwise modify or update Your User Information at any time by accessing the Website using Your registered username and accessing Your User account.You may also change and/or delete any of the information You have submitted. Do note however, GoCoop Solutions and Services the rights to save any usage information and You are not entitled to seek the deletion of the same.GoCoop Solutions and Services at its sole discretion may permit or deny the change of any information, if it is believes the same is required to observe applicable laws.The Website is only intended for users who are of 18 years of age or older and otherwise competent to enter into binding contracts. If You are not of the requisite age or otherwise unable to enter into binding contracts You are not to provide any User Information or other information. If it comes to GoCoop Solutions and Services’ attention that any User Information or information pertains to an individual under the age of 18 years or otherwise not eligible to enter into binding contracts, such User Information or information will be deleted without notice to You.The aggregate liability of GoCoop Solutions and Services to You or anyone, whether in contract, tort, negligence or otherwise, howsoever arising, whether in connection with this Privacy Policy, Your access and use of the Website and its contents and functionalities shall not exceed Rs. 100/- (Indian Rupees One Hundred Only). In no event shall GoCoop Solutions and Services be liable for any loss of profits (anticipated or real), loss of business, loss of reputation, loss of data, loss of goodwill, any business interruption or any direct, indirect, special, incidental, consequential, punitive, tort or other damages, however caused, whether or not it has been advised of the possibility of such damages.This Privacy Policy is subject to change at GoCoop Solutions and Services’ sole discretion. Any changes to the Privacy Policy will be notified by a notice on the home page.\""
      ]
     },
     "execution_count": 147,
     "metadata": {},
     "output_type": "execute_result"
    }
   ],
   "source": [
    "pr_new=\"GoCoop Solutions and Services Private Limited, an Indian company ('GoCoop Solutions and Services', 'Our' or 'We') recognizes the importance of Your privacy and is committed to ensuring that You are aware of how Your information is being used.The terms “You” or “Your”, shall include any individual or legal entity who accesses or uses www.gocoop.com (“Website”).This policy describes the types of information GoCoop Solutions and Services may collect from You or that You may provide in relation to the use or access of the Website and the manner in which such information is collected used, processed, disclosed and maintained.Please read and understand the policy carefully. If You do not agree with Our policies and Our practices in the way we treat Your information (“User Information” which may include Your name, nationality, date of birth, telephone number, email address, physical address and the like), Your choice is to not use the Website. Your use or access of the Website, shall constitute Your agreement to this Privacy Policy.By accepting the Privacy Policy you expressly consent to GoCoop Solutions and Services’ use and disclosure of your personal information in accordance with this Privacy Policy.This policy shall apply to all information You provide on the Website and all information that GoCoop Solutions and Services collects on the Website including but not limited to any information You upload, emails that You exchange with GoCoop Solutions and Services and other users of the Website and any information submitted by You to GoCoop Solutions and Services.The policy does not apply to, nor does GoCoop Solutions and Services take any responsibility for, any information that is collected by any third party either using the Website or through any links on the Website or through any advertisements on the Website.In the use of the Website, as You navigate through the Website, GoCoop Solutions and Services may collect different types of information. This may include User Information, information that is personally identifiable, other information which may not be personally identifiable, information on the usage patterns of any user including You, searches that You have done on the Website, advertisements or third party links that You have visited, any emails or other correspondence You have exchanged on the Website or with GoCoop Solutions and Services.You understand that the information collected by GoCoop Solutions and Services, may be collected directly or through tracking of Your usage of the Website. The usage details may include IP addresses, details of Your computer equipment, browser, location, connections, any information that GoCoop Solutions and Services may collect through the use of cookies and other tracking technologies. The collection of data may in most cases be automatic.'Cookies' are files that would be placed in Your system’s hard drive and are intended to improve Your User experience, by enabling GoCoop Solutions and Services to track Your usage and preference. These cookies may track Your Website usage, advertisement and links that You visit and other user data. [Most cookies GoCoop Solutions and Services uses are limited to a session, which mean they will be automatically deleted when Your session closes]. You may decline these cookies by changing Your browser settings, if permitted, however do note that this mayAdvertisements on the Website may be posted by third-party advertisers, and such third parties may use cookies and other automatic tracking technologies to collect information about You, including but not limited to web behavioural information and patterns. GoCoop Solutions and Services does not control nor takes any responsibility for such third parties, their collection and use of information or their tracking technologies or how they may be used.You also may provide information to be published or displayed or posted on the Website, or transmitted to other users of the Website or third parties. Any such information is posted or transmitted to others at your own risk. Please be aware that GoCoop Solutions and Services cannot control the actions of other users of the Website with whom you may choose to share information with.By using our website, you agree to allow third parties to process your IP address, in order to determine your location for the purpose of currency conversion. You also agree to have that currency stored in a session cookie in your browser (a temporary cookie which gets automatically removed when you close your browser). We do this in order for the selected currency to remain selected and consistent when browsing our website so that the prices can convert to your (the visitor) local currency.The information that We collect on the Website will be used for the purposes of operating the Website, facilitating Your use of the Website, facilitating the transactions between the users, studying user behaviour and for other business purposes of GoCoop Solutions and Services. The information including any User Information will be available to other registered users of the Website.Except as otherwise provided herein, no personally identifiable information will be disclosed or shared with any third party without Your express consent. For the purposes of this policy, personally identifiable information shall mean name, age, gender, bank account information, telephone numbers, location data, email addresses, payment, billing or shipping information.Please do not include any personal information, personally identifiable information or sensitive personal information unless specifically requested by GoCoop Solutions and Services as part of the registration or other applicable processes. If GoCoop Solutions and Services determines that any information You have provided or uploaded violates the terms of this Privacy Policy, GoCoop Solutions and Services has the right, in its absolute discretion, to delete or destroy such information without incurring any liability to You.GoCoop Solutions and Services will not publish, sell or rent Your personal information to third parties for their marketing purposes without Your explicit consentGoCoop Solutions and Services may also use the information for analytical purposes, including but not limited to assessing usage data, usage patterns, estimate audience sizes and other similar activities.You agree that Your personal information may be used to contact You and deliver information or targeted advertisements, administrative notices and any other communication relevant to Your use of the Website. If You do not wish to receive these communications, You can at any time change Your profile settings.The User Information You provide on the Website may be disclosed by GoCoop Solutions and Services to its agents, employees, third party advertisers, subsidiaries and affiliates, or to other third party service providers of GoCoop Solutions and Services who require the information for the purposes of operating and maintaining the Website.GoCoop Solutions and Services will comply with requests and directions of all governmental, law enforcement or regulatory authorities, which it believes in good faith to be in accordance with any applicable law. Such compliance may include providing User Information, personally identifiable information or any other information to such agency or authority. By providing any information on the Website, You consent to GoCoop Solutions and Services providing such information to any governmental, law enforcement or regulatory authorities who exercise jurisdiction over GoCoop Solutions and Services and the Website.The information that You provide, subject to disclosure in accordance with this Privacy Policy shall be maintained in a safe and secure manner. GoCoop Solutions and Services’ databases and information are stored on secure servers with appropriate firewalls owned by GoCoop Solutions and Services or by third parties.As a user of the Website, You have the responsibility to ensure data security. You should use the Website in a responsible manner. Do not share Your username or password with any person. You are solely responsible for all acts done under the username You are registered under.Given the nature of internet transactions, GoCoop Solutions and Services does not take any responsibility for the transmission of information including User Information to the Website. Any transmission of User Information on the internet is done at Your risk. GoCoop Solutions and Services does not take any responsibility for You or any third party circumventing the privacy settings or security measures contained on the Website.While GoCoop Solutions and Services will use all reasonable efforts to ensure that Your User Information and other information submitted by You is safe and secure, it offers no representation, warranties or other assurances that the security measures are adequate, safe, fool proof or impenetrable.You can change, alter of otherwise modify or update Your User Information at any time by accessing the Website using Your registered username and accessing Your User account.You may also change and/or delete any of the information You have submitted. Do note however, GoCoop Solutions and Services the rights to save any usage information and You are not entitled to seek the deletion of the same.GoCoop Solutions and Services at its sole discretion may permit or deny the change of any information, if it is believes the same is required to observe applicable laws.The Website is only intended for users who are of 18 years of age or older and otherwise competent to enter into binding contracts. If You are not of the requisite age or otherwise unable to enter into binding contracts You are not to provide any User Information or other information. If it comes to GoCoop Solutions and Services’ attention that any User Information or information pertains to an individual under the age of 18 years or otherwise not eligible to enter into binding contracts, such User Information or information will be deleted without notice to You.The aggregate liability of GoCoop Solutions and Services to You or anyone, whether in contract, tort, negligence or otherwise, howsoever arising, whether in connection with this Privacy Policy, Your access and use of the Website and its contents and functionalities shall not exceed Rs. 100/- (Indian Rupees One Hundred Only). In no event shall GoCoop Solutions and Services be liable for any loss of profits (anticipated or real), loss of business, loss of reputation, loss of data, loss of goodwill, any business interruption or any direct, indirect, special, incidental, consequential, punitive, tort or other damages, however caused, whether or not it has been advised of the possibility of such damages.This Privacy Policy is subject to change at GoCoop Solutions and Services’ sole discretion. Any changes to the Privacy Policy will be notified by a notice on the home page.\"\n",
    "pr_new"
   ]
  },
  {
   "cell_type": "code",
   "execution_count": 148,
   "metadata": {},
   "outputs": [
    {
     "data": {
      "text/plain": [
       "[\"GoCoop Solutions and Services Private Limited, an Indian company ('GoCoop Solutions and Services', 'Our' or 'We') recognizes the importance of Your privacy and is committed to ensuring that You are aware of how Your information is being used\",\n",
       " 'The terms “You” or “Your”, shall include any individual or legal entity who accesses or uses www',\n",
       " 'gocoop',\n",
       " 'com (“Website”)',\n",
       " 'This policy describes the types of information GoCoop Solutions and Services may collect from You or that You may provide in relation to the use or access of the Website and the manner in which such information is collected used, processed, disclosed and maintained',\n",
       " 'Please read and understand the policy carefully',\n",
       " ' If You do not agree with Our policies and Our practices in the way we treat Your information (“User Information” which may include Your name, nationality, date of birth, telephone number, email address, physical address and the like), Your choice is to not use the Website',\n",
       " ' Your use or access of the Website, shall constitute Your agreement to this Privacy Policy',\n",
       " 'By accepting the Privacy Policy you expressly consent to GoCoop Solutions and Services’ use and disclosure of your personal information in accordance with this Privacy Policy',\n",
       " 'This policy shall apply to all information You provide on the Website and all information that GoCoop Solutions and Services collects on the Website including but not limited to any information You upload, emails that You exchange with GoCoop Solutions and Services and other users of the Website and any information submitted by You to GoCoop Solutions and Services',\n",
       " 'The policy does not apply to, nor does GoCoop Solutions and Services take any responsibility for, any information that is collected by any third party either using the Website or through any links on the Website or through any advertisements on the Website',\n",
       " 'In the use of the Website, as You navigate through the Website, GoCoop Solutions and Services may collect different types of information',\n",
       " ' This may include User Information, information that is personally identifiable, other information which may not be personally identifiable, information on the usage patterns of any user including You, searches that You have done on the Website, advertisements or third party links that You have visited, any emails or other correspondence You have exchanged on the Website or with GoCoop Solutions and Services',\n",
       " 'You understand that the information collected by GoCoop Solutions and Services, may be collected directly or through tracking of Your usage of the Website',\n",
       " ' The usage details may include IP addresses, details of Your computer equipment, browser, location, connections, any information that GoCoop Solutions and Services may collect through the use of cookies and other tracking technologies',\n",
       " ' The collection of data may in most cases be automatic',\n",
       " \"'Cookies' are files that would be placed in Your system’s hard drive and are intended to improve Your User experience, by enabling GoCoop Solutions and Services to track Your usage and preference\",\n",
       " ' These cookies may track Your Website usage, advertisement and links that You visit and other user data',\n",
       " ' [Most cookies GoCoop Solutions and Services uses are limited to a session, which mean they will be automatically deleted when Your session closes]',\n",
       " ' You may decline these cookies by changing Your browser settings, if permitted, however do note that this mayAdvertisements on the Website may be posted by third-party advertisers, and such third parties may use cookies and other automatic tracking technologies to collect information about You, including but not limited to web behavioural information and patterns',\n",
       " ' GoCoop Solutions and Services does not control nor takes any responsibility for such third parties, their collection and use of information or their tracking technologies or how they may be used',\n",
       " 'You also may provide information to be published or displayed or posted on the Website, or transmitted to other users of the Website or third parties',\n",
       " ' Any such information is posted or transmitted to others at your own risk',\n",
       " ' Please be aware that GoCoop Solutions and Services cannot control the actions of other users of the Website with whom you may choose to share information with',\n",
       " 'By using our website, you agree to allow third parties to process your IP address, in order to determine your location for the purpose of currency conversion',\n",
       " ' You also agree to have that currency stored in a session cookie in your browser (a temporary cookie which gets automatically removed when you close your browser)',\n",
       " ' We do this in order for the selected currency to remain selected and consistent when browsing our website so that the prices can convert to your (the visitor) local currency',\n",
       " 'The information that We collect on the Website will be used for the purposes of operating the Website, facilitating Your use of the Website, facilitating the transactions between the users, studying user behaviour and for other business purposes of GoCoop Solutions and Services',\n",
       " ' The information including any User Information will be available to other registered users of the Website',\n",
       " 'Except as otherwise provided herein, no personally identifiable information will be disclosed or shared with any third party without Your express consent',\n",
       " ' For the purposes of this policy, personally identifiable information shall mean name, age, gender, bank account information, telephone numbers, location data, email addresses, payment, billing or shipping information',\n",
       " 'Please do not include any personal information, personally identifiable information or sensitive personal information unless specifically requested by GoCoop Solutions and Services as part of the registration or other applicable processes',\n",
       " ' If GoCoop Solutions and Services determines that any information You have provided or uploaded violates the terms of this Privacy Policy, GoCoop Solutions and Services has the right, in its absolute discretion, to delete or destroy such information without incurring any liability to You',\n",
       " 'GoCoop Solutions and Services will not publish, sell or rent Your personal information to third parties for their marketing purposes without Your explicit consentGoCoop Solutions and Services may also use the information for analytical purposes, including but not limited to assessing usage data, usage patterns, estimate audience sizes and other similar activities',\n",
       " 'You agree that Your personal information may be used to contact You and deliver information or targeted advertisements, administrative notices and any other communication relevant to Your use of the Website',\n",
       " ' If You do not wish to receive these communications, You can at any time change Your profile settings',\n",
       " 'The User Information You provide on the Website may be disclosed by GoCoop Solutions and Services to its agents, employees, third party advertisers, subsidiaries and affiliates, or to other third party service providers of GoCoop Solutions and Services who require the information for the purposes of operating and maintaining the Website',\n",
       " 'GoCoop Solutions and Services will comply with requests and directions of all governmental, law enforcement or regulatory authorities, which it believes in good faith to be in accordance with any applicable law',\n",
       " ' Such compliance may include providing User Information, personally identifiable information or any other information to such agency or authority',\n",
       " ' By providing any information on the Website, You consent to GoCoop Solutions and Services providing such information to any governmental, law enforcement or regulatory authorities who exercise jurisdiction over GoCoop Solutions and Services and the Website',\n",
       " 'The information that You provide, subject to disclosure in accordance with this Privacy Policy shall be maintained in a safe and secure manner',\n",
       " ' GoCoop Solutions and Services’ databases and information are stored on secure servers with appropriate firewalls owned by GoCoop Solutions and Services or by third parties',\n",
       " 'As a user of the Website, You have the responsibility to ensure data security',\n",
       " ' You should use the Website in a responsible manner',\n",
       " ' Do not share Your username or password with any person',\n",
       " ' You are solely responsible for all acts done under the username You are registered under',\n",
       " 'Given the nature of internet transactions, GoCoop Solutions and Services does not take any responsibility for the transmission of information including User Information to the Website',\n",
       " ' Any transmission of User Information on the internet is done at Your risk',\n",
       " ' GoCoop Solutions and Services does not take any responsibility for You or any third party circumventing the privacy settings or security measures contained on the Website',\n",
       " 'While GoCoop Solutions and Services will use all reasonable efforts to ensure that Your User Information and other information submitted by You is safe and secure, it offers no representation, warranties or other assurances that the security measures are adequate, safe, fool proof or impenetrable',\n",
       " 'You can change, alter of otherwise modify or update Your User Information at any time by accessing the Website using Your registered username and accessing Your User account',\n",
       " 'You may also change and/or delete any of the information You have submitted',\n",
       " ' Do note however, GoCoop Solutions and Services the rights to save any usage information and You are not entitled to seek the deletion of the same',\n",
       " 'GoCoop Solutions and Services at its sole discretion may permit or deny the change of any information, if it is believes the same is required to observe applicable laws',\n",
       " 'The Website is only intended for users who are of 18 years of age or older and otherwise competent to enter into binding contracts',\n",
       " ' If You are not of the requisite age or otherwise unable to enter into binding contracts You are not to provide any User Information or other information',\n",
       " ' If it comes to GoCoop Solutions and Services’ attention that any User Information or information pertains to an individual under the age of 18 years or otherwise not eligible to enter into binding contracts, such User Information or information will be deleted without notice to You',\n",
       " 'The aggregate liability of GoCoop Solutions and Services to You or anyone, whether in contract, tort, negligence or otherwise, howsoever arising, whether in connection with this Privacy Policy, Your access and use of the Website and its contents and functionalities shall not exceed Rs',\n",
       " ' 100/- (Indian Rupees One Hundred Only)',\n",
       " ' In no event shall GoCoop Solutions and Services be liable for any loss of profits (anticipated or real), loss of business, loss of reputation, loss of data, loss of goodwill, any business interruption or any direct, indirect, special, incidental, consequential, punitive, tort or other damages, however caused, whether or not it has been advised of the possibility of such damages',\n",
       " 'This Privacy Policy is subject to change at GoCoop Solutions and Services’ sole discretion',\n",
       " ' Any changes to the Privacy Policy will be notified by a notice on the home page',\n",
       " '']"
      ]
     },
     "execution_count": 148,
     "metadata": {},
     "output_type": "execute_result"
    }
   ],
   "source": [
    "pr_new=pr_new.split(\".\")\n",
    "pr_new"
   ]
  },
  {
   "cell_type": "code",
   "execution_count": 149,
   "metadata": {},
   "outputs": [
    {
     "data": {
      "text/plain": [
       "63"
      ]
     },
     "execution_count": 149,
     "metadata": {},
     "output_type": "execute_result"
    }
   ],
   "source": [
    "len(pr_new)"
   ]
  },
  {
   "cell_type": "code",
   "execution_count": 150,
   "metadata": {},
   "outputs": [],
   "source": [
    "summary=[]\n",
    "for i in range(len(pr_new)):\n",
    "    for j in common_word_list:\n",
    "        if j in pr_new[i]:\n",
    "            summary.append(pr_new[i])\n",
    "            break"
   ]
  },
  {
   "cell_type": "code",
   "execution_count": 151,
   "metadata": {},
   "outputs": [
    {
     "data": {
      "text/plain": [
       "[\"GoCoop Solutions and Services Private Limited, an Indian company ('GoCoop Solutions and Services', 'Our' or 'We') recognizes the importance of Your privacy and is committed to ensuring that You are aware of how Your information is being used\",\n",
       " 'The terms “You” or “Your”, shall include any individual or legal entity who accesses or uses www',\n",
       " 'com (“Website”)',\n",
       " 'This policy describes the types of information GoCoop Solutions and Services may collect from You or that You may provide in relation to the use or access of the Website and the manner in which such information is collected used, processed, disclosed and maintained',\n",
       " 'Please read and understand the policy carefully',\n",
       " ' If You do not agree with Our policies and Our practices in the way we treat Your information (“User Information” which may include Your name, nationality, date of birth, telephone number, email address, physical address and the like), Your choice is to not use the Website',\n",
       " ' Your use or access of the Website, shall constitute Your agreement to this Privacy Policy',\n",
       " 'By accepting the Privacy Policy you expressly consent to GoCoop Solutions and Services’ use and disclosure of your personal information in accordance with this Privacy Policy',\n",
       " 'This policy shall apply to all information You provide on the Website and all information that GoCoop Solutions and Services collects on the Website including but not limited to any information You upload, emails that You exchange with GoCoop Solutions and Services and other users of the Website and any information submitted by You to GoCoop Solutions and Services',\n",
       " 'The policy does not apply to, nor does GoCoop Solutions and Services take any responsibility for, any information that is collected by any third party either using the Website or through any links on the Website or through any advertisements on the Website',\n",
       " 'In the use of the Website, as You navigate through the Website, GoCoop Solutions and Services may collect different types of information',\n",
       " ' This may include User Information, information that is personally identifiable, other information which may not be personally identifiable, information on the usage patterns of any user including You, searches that You have done on the Website, advertisements or third party links that You have visited, any emails or other correspondence You have exchanged on the Website or with GoCoop Solutions and Services',\n",
       " 'You understand that the information collected by GoCoop Solutions and Services, may be collected directly or through tracking of Your usage of the Website',\n",
       " ' The usage details may include IP addresses, details of Your computer equipment, browser, location, connections, any information that GoCoop Solutions and Services may collect through the use of cookies and other tracking technologies',\n",
       " ' The collection of data may in most cases be automatic',\n",
       " ' These cookies may track Your Website usage, advertisement and links that You visit and other user data',\n",
       " ' [Most cookies GoCoop Solutions and Services uses are limited to a session, which mean they will be automatically deleted when Your session closes]',\n",
       " ' You may decline these cookies by changing Your browser settings, if permitted, however do note that this mayAdvertisements on the Website may be posted by third-party advertisers, and such third parties may use cookies and other automatic tracking technologies to collect information about You, including but not limited to web behavioural information and patterns',\n",
       " ' GoCoop Solutions and Services does not control nor takes any responsibility for such third parties, their collection and use of information or their tracking technologies or how they may be used',\n",
       " 'You also may provide information to be published or displayed or posted on the Website, or transmitted to other users of the Website or third parties',\n",
       " ' Any such information is posted or transmitted to others at your own risk',\n",
       " ' Please be aware that GoCoop Solutions and Services cannot control the actions of other users of the Website with whom you may choose to share information with',\n",
       " 'By using our website, you agree to allow third parties to process your IP address, in order to determine your location for the purpose of currency conversion',\n",
       " ' You also agree to have that currency stored in a session cookie in your browser (a temporary cookie which gets automatically removed when you close your browser)',\n",
       " ' We do this in order for the selected currency to remain selected and consistent when browsing our website so that the prices can convert to your (the visitor) local currency',\n",
       " 'The information that We collect on the Website will be used for the purposes of operating the Website, facilitating Your use of the Website, facilitating the transactions between the users, studying user behaviour and for other business purposes of GoCoop Solutions and Services',\n",
       " ' The information including any User Information will be available to other registered users of the Website',\n",
       " 'Except as otherwise provided herein, no personally identifiable information will be disclosed or shared with any third party without Your express consent',\n",
       " ' For the purposes of this policy, personally identifiable information shall mean name, age, gender, bank account information, telephone numbers, location data, email addresses, payment, billing or shipping information',\n",
       " 'Please do not include any personal information, personally identifiable information or sensitive personal information unless specifically requested by GoCoop Solutions and Services as part of the registration or other applicable processes',\n",
       " ' If GoCoop Solutions and Services determines that any information You have provided or uploaded violates the terms of this Privacy Policy, GoCoop Solutions and Services has the right, in its absolute discretion, to delete or destroy such information without incurring any liability to You',\n",
       " 'GoCoop Solutions and Services will not publish, sell or rent Your personal information to third parties for their marketing purposes without Your explicit consentGoCoop Solutions and Services may also use the information for analytical purposes, including but not limited to assessing usage data, usage patterns, estimate audience sizes and other similar activities',\n",
       " 'You agree that Your personal information may be used to contact You and deliver information or targeted advertisements, administrative notices and any other communication relevant to Your use of the Website',\n",
       " ' If You do not wish to receive these communications, You can at any time change Your profile settings',\n",
       " 'The User Information You provide on the Website may be disclosed by GoCoop Solutions and Services to its agents, employees, third party advertisers, subsidiaries and affiliates, or to other third party service providers of GoCoop Solutions and Services who require the information for the purposes of operating and maintaining the Website',\n",
       " 'GoCoop Solutions and Services will comply with requests and directions of all governmental, law enforcement or regulatory authorities, which it believes in good faith to be in accordance with any applicable law',\n",
       " ' Such compliance may include providing User Information, personally identifiable information or any other information to such agency or authority',\n",
       " ' By providing any information on the Website, You consent to GoCoop Solutions and Services providing such information to any governmental, law enforcement or regulatory authorities who exercise jurisdiction over GoCoop Solutions and Services and the Website',\n",
       " 'The information that You provide, subject to disclosure in accordance with this Privacy Policy shall be maintained in a safe and secure manner',\n",
       " ' GoCoop Solutions and Services’ databases and information are stored on secure servers with appropriate firewalls owned by GoCoop Solutions and Services or by third parties',\n",
       " 'As a user of the Website, You have the responsibility to ensure data security',\n",
       " ' You should use the Website in a responsible manner',\n",
       " ' Do not share Your username or password with any person',\n",
       " ' You are solely responsible for all acts done under the username You are registered under',\n",
       " 'Given the nature of internet transactions, GoCoop Solutions and Services does not take any responsibility for the transmission of information including User Information to the Website',\n",
       " ' GoCoop Solutions and Services does not take any responsibility for You or any third party circumventing the privacy settings or security measures contained on the Website',\n",
       " 'While GoCoop Solutions and Services will use all reasonable efforts to ensure that Your User Information and other information submitted by You is safe and secure, it offers no representation, warranties or other assurances that the security measures are adequate, safe, fool proof or impenetrable',\n",
       " 'You can change, alter of otherwise modify or update Your User Information at any time by accessing the Website using Your registered username and accessing Your User account',\n",
       " 'You may also change and/or delete any of the information You have submitted',\n",
       " ' Do note however, GoCoop Solutions and Services the rights to save any usage information and You are not entitled to seek the deletion of the same',\n",
       " 'GoCoop Solutions and Services at its sole discretion may permit or deny the change of any information, if it is believes the same is required to observe applicable laws',\n",
       " 'The Website is only intended for users who are of 18 years of age or older and otherwise competent to enter into binding contracts',\n",
       " ' If You are not of the requisite age or otherwise unable to enter into binding contracts You are not to provide any User Information or other information',\n",
       " ' If it comes to GoCoop Solutions and Services’ attention that any User Information or information pertains to an individual under the age of 18 years or otherwise not eligible to enter into binding contracts, such User Information or information will be deleted without notice to You',\n",
       " 'The aggregate liability of GoCoop Solutions and Services to You or anyone, whether in contract, tort, negligence or otherwise, howsoever arising, whether in connection with this Privacy Policy, Your access and use of the Website and its contents and functionalities shall not exceed Rs',\n",
       " ' In no event shall GoCoop Solutions and Services be liable for any loss of profits (anticipated or real), loss of business, loss of reputation, loss of data, loss of goodwill, any business interruption or any direct, indirect, special, incidental, consequential, punitive, tort or other damages, however caused, whether or not it has been advised of the possibility of such damages',\n",
       " 'This Privacy Policy is subject to change at GoCoop Solutions and Services’ sole discretion',\n",
       " ' Any changes to the Privacy Policy will be notified by a notice on the home page']"
      ]
     },
     "execution_count": 151,
     "metadata": {},
     "output_type": "execute_result"
    }
   ],
   "source": [
    "summary"
   ]
  },
  {
   "cell_type": "code",
   "execution_count": 152,
   "metadata": {},
   "outputs": [
    {
     "data": {
      "text/plain": [
       "58"
      ]
     },
     "execution_count": 152,
     "metadata": {},
     "output_type": "execute_result"
    }
   ],
   "source": [
    "len(summary)"
   ]
  },
  {
   "cell_type": "code",
   "execution_count": 153,
   "metadata": {},
   "outputs": [
    {
     "name": "stdout",
     "output_type": "stream",
     "text": [
      "GoCoop Solutions and Services Private Limited, an Indian company ('GoCoop Solutions and Services', 'Our' or 'We') recognizes the importance of Your privacy and is committed to ensuring that You are aware of how Your information is being used.The terms “You” or “Your”, shall include any individual or legal entity who accesses or uses www.com (“Website”).This policy describes the types of information GoCoop Solutions and Services may collect from You or that You may provide in relation to the use or access of the Website and the manner in which such information is collected used, processed, disclosed and maintained.Please read and understand the policy carefully. If You do not agree with Our policies and Our practices in the way we treat Your information (“User Information” which may include Your name, nationality, date of birth, telephone number, email address, physical address and the like), Your choice is to not use the Website. Your use or access of the Website, shall constitute Your agreement to this Privacy Policy.By accepting the Privacy Policy you expressly consent to GoCoop Solutions and Services’ use and disclosure of your personal information in accordance with this Privacy Policy.This policy shall apply to all information You provide on the Website and all information that GoCoop Solutions and Services collects on the Website including but not limited to any information You upload, emails that You exchange with GoCoop Solutions and Services and other users of the Website and any information submitted by You to GoCoop Solutions and Services.The policy does not apply to, nor does GoCoop Solutions and Services take any responsibility for, any information that is collected by any third party either using the Website or through any links on the Website or through any advertisements on the Website.In the use of the Website, as You navigate through the Website, GoCoop Solutions and Services may collect different types of information. This may include User Information, information that is personally identifiable, other information which may not be personally identifiable, information on the usage patterns of any user including You, searches that You have done on the Website, advertisements or third party links that You have visited, any emails or other correspondence You have exchanged on the Website or with GoCoop Solutions and Services.You understand that the information collected by GoCoop Solutions and Services, may be collected directly or through tracking of Your usage of the Website. The usage details may include IP addresses, details of Your computer equipment, browser, location, connections, any information that GoCoop Solutions and Services may collect through the use of cookies and other tracking technologies. The collection of data may in most cases be automatic. These cookies may track Your Website usage, advertisement and links that You visit and other user data. [Most cookies GoCoop Solutions and Services uses are limited to a session, which mean they will be automatically deleted when Your session closes]. You may decline these cookies by changing Your browser settings, if permitted, however do note that this mayAdvertisements on the Website may be posted by third-party advertisers, and such third parties may use cookies and other automatic tracking technologies to collect information about You, including but not limited to web behavioural information and patterns. GoCoop Solutions and Services does not control nor takes any responsibility for such third parties, their collection and use of information or their tracking technologies or how they may be used.You also may provide information to be published or displayed or posted on the Website, or transmitted to other users of the Website or third parties. Any such information is posted or transmitted to others at your own risk. Please be aware that GoCoop Solutions and Services cannot control the actions of other users of the Website with whom you may choose to share information with.By using our website, you agree to allow third parties to process your IP address, in order to determine your location for the purpose of currency conversion. You also agree to have that currency stored in a session cookie in your browser (a temporary cookie which gets automatically removed when you close your browser). We do this in order for the selected currency to remain selected and consistent when browsing our website so that the prices can convert to your (the visitor) local currency.The information that We collect on the Website will be used for the purposes of operating the Website, facilitating Your use of the Website, facilitating the transactions between the users, studying user behaviour and for other business purposes of GoCoop Solutions and Services. The information including any User Information will be available to other registered users of the Website.Except as otherwise provided herein, no personally identifiable information will be disclosed or shared with any third party without Your express consent. For the purposes of this policy, personally identifiable information shall mean name, age, gender, bank account information, telephone numbers, location data, email addresses, payment, billing or shipping information.Please do not include any personal information, personally identifiable information or sensitive personal information unless specifically requested by GoCoop Solutions and Services as part of the registration or other applicable processes. If GoCoop Solutions and Services determines that any information You have provided or uploaded violates the terms of this Privacy Policy, GoCoop Solutions and Services has the right, in its absolute discretion, to delete or destroy such information without incurring any liability to You.GoCoop Solutions and Services will not publish, sell or rent Your personal information to third parties for their marketing purposes without Your explicit consentGoCoop Solutions and Services may also use the information for analytical purposes, including but not limited to assessing usage data, usage patterns, estimate audience sizes and other similar activities.You agree that Your personal information may be used to contact You and deliver information or targeted advertisements, administrative notices and any other communication relevant to Your use of the Website. If You do not wish to receive these communications, You can at any time change Your profile settings.The User Information You provide on the Website may be disclosed by GoCoop Solutions and Services to its agents, employees, third party advertisers, subsidiaries and affiliates, or to other third party service providers of GoCoop Solutions and Services who require the information for the purposes of operating and maintaining the Website.GoCoop Solutions and Services will comply with requests and directions of all governmental, law enforcement or regulatory authorities, which it believes in good faith to be in accordance with any applicable law. Such compliance may include providing User Information, personally identifiable information or any other information to such agency or authority. By providing any information on the Website, You consent to GoCoop Solutions and Services providing such information to any governmental, law enforcement or regulatory authorities who exercise jurisdiction over GoCoop Solutions and Services and the Website.The information that You provide, subject to disclosure in accordance with this Privacy Policy shall be maintained in a safe and secure manner. GoCoop Solutions and Services’ databases and information are stored on secure servers with appropriate firewalls owned by GoCoop Solutions and Services or by third parties.As a user of the Website, You have the responsibility to ensure data security. You should use the Website in a responsible manner. Do not share Your username or password with any person. You are solely responsible for all acts done under the username You are registered under.Given the nature of internet transactions, GoCoop Solutions and Services does not take any responsibility for the transmission of information including User Information to the Website. GoCoop Solutions and Services does not take any responsibility for You or any third party circumventing the privacy settings or security measures contained on the Website.While GoCoop Solutions and Services will use all reasonable efforts to ensure that Your User Information and other information submitted by You is safe and secure, it offers no representation, warranties or other assurances that the security measures are adequate, safe, fool proof or impenetrable.You can change, alter of otherwise modify or update Your User Information at any time by accessing the Website using Your registered username and accessing Your User account.You may also change and/or delete any of the information You have submitted. Do note however, GoCoop Solutions and Services the rights to save any usage information and You are not entitled to seek the deletion of the same.GoCoop Solutions and Services at its sole discretion may permit or deny the change of any information, if it is believes the same is required to observe applicable laws.The Website is only intended for users who are of 18 years of age or older and otherwise competent to enter into binding contracts. If You are not of the requisite age or otherwise unable to enter into binding contracts You are not to provide any User Information or other information. If it comes to GoCoop Solutions and Services’ attention that any User Information or information pertains to an individual under the age of 18 years or otherwise not eligible to enter into binding contracts, such User Information or information will be deleted without notice to You.The aggregate liability of GoCoop Solutions and Services to You or anyone, whether in contract, tort, negligence or otherwise, howsoever arising, whether in connection with this Privacy Policy, Your access and use of the Website and its contents and functionalities shall not exceed Rs. In no event shall GoCoop Solutions and Services be liable for any loss of profits (anticipated or real), loss of business, loss of reputation, loss of data, loss of goodwill, any business interruption or any direct, indirect, special, incidental, consequential, punitive, tort or other damages, however caused, whether or not it has been advised of the possibility of such damages.This Privacy Policy is subject to change at GoCoop Solutions and Services’ sole discretion. Any changes to the Privacy Policy will be notified by a notice on the home page.\n"
     ]
    }
   ],
   "source": [
    "string=\"\"\n",
    "for i in summary:\n",
    "    string+=i\n",
    "    string+=\".\"\n",
    "print(string)"
   ]
  },
  {
   "cell_type": "code",
   "execution_count": 154,
   "metadata": {},
   "outputs": [
    {
     "name": "stdout",
     "output_type": "stream",
     "text": [
      "GoCoop Solutions and Services Private Limited, an Indian company ('GoCoop Solutions and Services', 'Our' or 'We') recognizes the importance of Your privacy and is committed to ensuring that You are aware of how Your information is being used.The terms “You” or “Your”, shall include any individual or legal entity who accesses or uses www.com (“Website”).This policy describes the types of information GoCoop Solutions and Services may collect from You or that You may provide in relation to the use or access of the Website and the manner in which such information is collected used, processed, disclosed and maintained.Please read and understand the policy carefully.\n",
      "\n",
      "Your use or access of the Website, shall constitute Your agreement to this Privacy Policy.By accepting the Privacy Policy you expressly consent to GoCoop Solutions and Services’ use and disclosure of your personal information in accordance with this Privacy Policy.This policy shall apply to all information You provide on the Website and all information that GoCoop Solutions and Services collects on the Website including but not limited to any information You upload, emails that You exchange with GoCoop Solutions and Services and other users of the Website and any information submitted by You to GoCoop Solutions and Services.The policy does not apply to, nor does GoCoop Solutions and Services take any responsibility for, any information that is collected by any third party either using the Website or through any links on the Website or through any advertisements on the Website.In the use of the Website, as You navigate through the Website, GoCoop Solutions and Services may collect different types of information.\n",
      "\n",
      "This may include User Information, information that is personally identifiable, other information which may not be personally identifiable, information on the usage patterns of any user including You, searches that You have done on the Website, advertisements or third party links that You have visited, any emails or other correspondence You have exchanged on the Website or with GoCoop Solutions and Services.You understand that the information collected by GoCoop Solutions and Services, may be collected directly or through tracking of Your usage of the Website.\n",
      "\n",
      "You may decline these cookies by changing Your browser settings, if permitted, however do note that this mayAdvertisements on the Website may be posted by third-party advertisers, and such third parties may use cookies and other automatic tracking technologies to collect information about You, including but not limited to web behavioural information and patterns.\n",
      "\n",
      "GoCoop Solutions and Services does not control nor takes any responsibility for such third parties, their collection and use of information or their tracking technologies or how they may be used.You also may provide information to be published or displayed or posted on the Website, or transmitted to other users of the Website or third parties.\n",
      "\n",
      "Please be aware that GoCoop Solutions and Services cannot control the actions of other users of the Website with whom you may choose to share information with.By using our website, you agree to allow third parties to process your IP address, in order to determine your location for the purpose of currency conversion.\n",
      "\n",
      "The information including any User Information will be available to other registered users of the Website.Except as otherwise provided herein, no personally identifiable information will be disclosed or shared with any third party without Your express consent.\n",
      "\n",
      "For the purposes of this policy, personally identifiable information shall mean name, age, gender, bank account information, telephone numbers, location data, email addresses, payment, billing or shipping information.Please do not include any personal information, personally identifiable information or sensitive personal information unless specifically requested by GoCoop Solutions and Services as part of the registration or other applicable processes.\n",
      "\n",
      "If GoCoop Solutions and Services determines that any information You have provided or uploaded violates the terms of this Privacy Policy, GoCoop Solutions and Services has the right, in its absolute discretion, to delete or destroy such information without incurring any liability to You.GoCoop Solutions and Services will not publish, sell or rent Your personal information to third parties for their marketing purposes without Your explicit consentGoCoop Solutions and Services may also use the information for analytical purposes, including but not limited to assessing usage data, usage patterns, estimate audience sizes and other similar activities.You agree that Your personal information may be used to contact You and deliver information or targeted advertisements, administrative notices and any other communication relevant to Your use of the Website.\n",
      "\n",
      "If You do not wish to receive these communications, You can at any time change Your profile settings.The User Information You provide on the Website may be disclosed by GoCoop Solutions and Services to its agents, employees, third party advertisers, subsidiaries and affiliates, or to other third party service providers of GoCoop Solutions and Services who require the information for the purposes of operating and maintaining the Website.GoCoop Solutions and Services will comply with requests and directions of all governmental, law enforcement or regulatory authorities, which it believes in good faith to be in accordance with any applicable law.\n",
      "\n",
      "By providing any information on the Website, You consent to GoCoop Solutions and Services providing such information to any governmental, law enforcement or regulatory authorities who exercise jurisdiction over GoCoop Solutions and Services and the Website.The information that You provide, subject to disclosure in accordance with this Privacy Policy shall be maintained in a safe and secure manner.\n",
      "\n",
      "GoCoop Solutions and Services’ databases and information are stored on secure servers with appropriate firewalls owned by GoCoop Solutions and Services or by third parties.As a user of the Website, You have the responsibility to ensure data security.\n",
      "\n",
      "GoCoop Solutions and Services does not take any responsibility for You or any third party circumventing the privacy settings or security measures contained on the Website.While GoCoop Solutions and Services will use all reasonable efforts to ensure that Your User Information and other information submitted by You is safe and secure, it offers no representation, warranties or other assurances that the security measures are adequate, safe, fool proof or impenetrable.You can change, alter of otherwise modify or update Your User Information at any time by accessing the Website using Your registered username and accessing Your User account.You may also change and/or delete any of the information You have submitted.\n",
      "\n",
      "Do note however, GoCoop Solutions and Services the rights to save any usage information and You are not entitled to seek the deletion of the same.GoCoop Solutions and Services at its sole discretion may permit or deny the change of any information, if it is believes the same is required to observe applicable laws.The Website is only intended for users who are of 18 years of age or older and otherwise competent to enter into binding contracts.\n",
      "\n",
      "If it comes to GoCoop Solutions and Services’ attention that any User Information or information pertains to an individual under the age of 18 years or otherwise not eligible to enter into binding contracts, such User Information or information will be deleted without notice to You.The aggregate liability of GoCoop Solutions and Services to You or anyone, whether in contract, tort, negligence or otherwise, howsoever arising, whether in connection with this Privacy Policy, Your access and use of the Website and its contents and functionalities shall not exceed Rs.\n",
      "\n"
     ]
    }
   ],
   "source": [
    "my_parser = PlaintextParser.from_string(string,Tokenizer('english'))\n",
    "lex_rank_summarizer = LexRankSummarizer()\n",
    "lexrank_summary = lex_rank_summarizer(my_parser.document,sentences_count=15)\n",
    "# Printing the summary\n",
    "final_policy=\"\"\n",
    "for sentence in lexrank_summary:\n",
    "    print(sentence)\n",
    "    print()\n",
    "    final_policy+=str(sentence)"
   ]
  },
  {
   "cell_type": "code",
   "execution_count": 155,
   "metadata": {},
   "outputs": [
    {
     "name": "stdout",
     "output_type": "stream",
     "text": [
      "[\"GoCoop Solutions and Services Private Limited, an Indian company ('GoCoop Solutions and Services', 'Our' or 'We') recognizes the importance of Your privacy and is committed to ensuring that You are aware of how Your information is being used\", 'The terms “You” or “Your”, shall include any individual or legal entity who accesses or uses www', 'com (“Website”)', 'This policy describes the types of information GoCoop Solutions and Services may collect from You or that You may provide in relation to the use or access of the Website and the manner in which such information is collected used, processed, disclosed and maintained', 'Please read and understand the policy carefully', 'Your use or access of the Website, shall constitute Your agreement to this Privacy Policy', 'By accepting the Privacy Policy you expressly consent to GoCoop Solutions and Services’ use and disclosure of your personal information in accordance with this Privacy Policy', 'This policy shall apply to all information You provide on the Website and all information that GoCoop Solutions and Services collects on the Website including but not limited to any information You upload, emails that You exchange with GoCoop Solutions and Services and other users of the Website and any information submitted by You to GoCoop Solutions and Services', 'The policy does not apply to, nor does GoCoop Solutions and Services take any responsibility for, any information that is collected by any third party either using the Website or through any links on the Website or through any advertisements on the Website', 'In the use of the Website, as You navigate through the Website, GoCoop Solutions and Services may collect different types of information', 'This may include User Information, information that is personally identifiable, other information which may not be personally identifiable, information on the usage patterns of any user including You, searches that You have done on the Website, advertisements or third party links that You have visited, any emails or other correspondence You have exchanged on the Website or with GoCoop Solutions and Services', 'You understand that the information collected by GoCoop Solutions and Services, may be collected directly or through tracking of Your usage of the Website', 'You may decline these cookies by changing Your browser settings, if permitted, however do note that this mayAdvertisements on the Website may be posted by third-party advertisers, and such third parties may use cookies and other automatic tracking technologies to collect information about You, including but not limited to web behavioural information and patterns', 'GoCoop Solutions and Services does not control nor takes any responsibility for such third parties, their collection and use of information or their tracking technologies or how they may be used', 'You also may provide information to be published or displayed or posted on the Website, or transmitted to other users of the Website or third parties', 'Please be aware that GoCoop Solutions and Services cannot control the actions of other users of the Website with whom you may choose to share information with', 'By using our website, you agree to allow third parties to process your IP address, in order to determine your location for the purpose of currency conversion', 'The information including any User Information will be available to other registered users of the Website', 'Except as otherwise provided herein, no personally identifiable information will be disclosed or shared with any third party without Your express consent', 'For the purposes of this policy, personally identifiable information shall mean name, age, gender, bank account information, telephone numbers, location data, email addresses, payment, billing or shipping information', 'Please do not include any personal information, personally identifiable information or sensitive personal information unless specifically requested by GoCoop Solutions and Services as part of the registration or other applicable processes', 'If GoCoop Solutions and Services determines that any information You have provided or uploaded violates the terms of this Privacy Policy, GoCoop Solutions and Services has the right, in its absolute discretion, to delete or destroy such information without incurring any liability to You', 'GoCoop Solutions and Services will not publish, sell or rent Your personal information to third parties for their marketing purposes without Your explicit consentGoCoop Solutions and Services may also use the information for analytical purposes, including but not limited to assessing usage data, usage patterns, estimate audience sizes and other similar activities', 'You agree that Your personal information may be used to contact You and deliver information or targeted advertisements, administrative notices and any other communication relevant to Your use of the Website', 'If You do not wish to receive these communications, You can at any time change Your profile settings', 'The User Information You provide on the Website may be disclosed by GoCoop Solutions and Services to its agents, employees, third party advertisers, subsidiaries and affiliates, or to other third party service providers of GoCoop Solutions and Services who require the information for the purposes of operating and maintaining the Website', 'GoCoop Solutions and Services will comply with requests and directions of all governmental, law enforcement or regulatory authorities, which it believes in good faith to be in accordance with any applicable law', 'By providing any information on the Website, You consent to GoCoop Solutions and Services providing such information to any governmental, law enforcement or regulatory authorities who exercise jurisdiction over GoCoop Solutions and Services and the Website', 'The information that You provide, subject to disclosure in accordance with this Privacy Policy shall be maintained in a safe and secure manner', 'GoCoop Solutions and Services’ databases and information are stored on secure servers with appropriate firewalls owned by GoCoop Solutions and Services or by third parties', 'As a user of the Website, You have the responsibility to ensure data security', 'GoCoop Solutions and Services does not take any responsibility for You or any third party circumventing the privacy settings or security measures contained on the Website', 'While GoCoop Solutions and Services will use all reasonable efforts to ensure that Your User Information and other information submitted by You is safe and secure, it offers no representation, warranties or other assurances that the security measures are adequate, safe, fool proof or impenetrable', 'You can change, alter of otherwise modify or update Your User Information at any time by accessing the Website using Your registered username and accessing Your User account', 'You may also change and/or delete any of the information You have submitted', 'Do note however, GoCoop Solutions and Services the rights to save any usage information and You are not entitled to seek the deletion of the same', 'GoCoop Solutions and Services at its sole discretion may permit or deny the change of any information, if it is believes the same is required to observe applicable laws', 'The Website is only intended for users who are of 18 years of age or older and otherwise competent to enter into binding contracts', 'If it comes to GoCoop Solutions and Services’ attention that any User Information or information pertains to an individual under the age of 18 years or otherwise not eligible to enter into binding contracts, such User Information or information will be deleted without notice to You', 'The aggregate liability of GoCoop Solutions and Services to You or anyone, whether in contract, tort, negligence or otherwise, howsoever arising, whether in connection with this Privacy Policy, Your access and use of the Website and its contents and functionalities shall not exceed Rs']\n"
     ]
    }
   ],
   "source": [
    "final_policy_list=final_policy.split(\".\")\n",
    "final_policy_list.remove(\"\")\n",
    "print(final_policy_list)"
   ]
  },
  {
   "cell_type": "code",
   "execution_count": 156,
   "metadata": {},
   "outputs": [
    {
     "name": "stdout",
     "output_type": "stream",
     "text": [
      "272\n"
     ]
    }
   ],
   "source": [
    "count_common=0\n",
    "for i in final_policy_list:\n",
    "    for j in common_word_list:\n",
    "        if j in i:\n",
    "            count_common+=i.count(j)\n",
    "print(count_common)"
   ]
  },
  {
   "cell_type": "code",
   "execution_count": 159,
   "metadata": {
    "scrolled": true
   },
   "outputs": [
    {
     "data": {
      "text/plain": [
       "\"GoCoop Solutions and Services Private Limited, an Indian company ('GoCoop Solutions and Services', 'Our' or 'We') recognizes the importance of Your privacy and is committed to ensuring that You are aware of how Your information is being used.The terms “You” or “Your”, shall include any individual or legal entity who accesses or uses www.com (“Website”).This policy describes the types of information GoCoop Solutions and Services may collect from You or that You may provide in relation to the use or access of the Website and the manner in which such information is collected used, processed, disclosed and maintained.Please read and understand the policy carefully. If You do not agree with Our policies and Our practices in the way we treat Your information (“User Information” which may include Your name, nationality, date of birth, telephone number, email address, physical address and the like), Your choice is to not use the Website. Your use or access of the Website, shall constitute Your agreement to this Privacy Policy.By accepting the Privacy Policy you expressly consent to GoCoop Solutions and Services’ use and disclosure of your personal information in accordance with this Privacy Policy.This policy shall apply to all information You provide on the Website and all information that GoCoop Solutions and Services collects on the Website including but not limited to any information You upload, emails that You exchange with GoCoop Solutions and Services and other users of the Website and any information submitted by You to GoCoop Solutions and Services.The policy does not apply to, nor does GoCoop Solutions and Services take any responsibility for, any information that is collected by any third party either using the Website or through any links on the Website or through any advertisements on the Website.In the use of the Website, as You navigate through the Website, GoCoop Solutions and Services may collect different types of information. This may include User Information, information that is personally identifiable, other information which may not be personally identifiable, information on the usage patterns of any user including You, searches that You have done on the Website, advertisements or third party links that You have visited, any emails or other correspondence You have exchanged on the Website or with GoCoop Solutions and Services.You understand that the information collected by GoCoop Solutions and Services, may be collected directly or through tracking of Your usage of the Website. The usage details may include IP addresses, details of Your computer equipment, browser, location, connections, any information that GoCoop Solutions and Services may collect through the use of cookies and other tracking technologies. The collection of data may in most cases be automatic. These cookies may track Your Website usage, advertisement and links that You visit and other user data. [Most cookies GoCoop Solutions and Services uses are limited to a session, which mean they will be automatically deleted when Your session closes]. You may decline these cookies by changing Your browser settings, if permitted, however do note that this mayAdvertisements on the Website may be posted by third-party advertisers, and such third parties may use cookies and other automatic tracking technologies to collect information about You, including but not limited to web behavioural information and patterns. GoCoop Solutions and Services does not control nor takes any responsibility for such third parties, their collection and use of information or their tracking technologies or how they may be used.You also may provide information to be published or displayed or posted on the Website, or transmitted to other users of the Website or third parties. Any such information is posted or transmitted to others at your own risk. Please be aware that GoCoop Solutions and Services cannot control the actions of other users of the Website with whom you may choose to share information with.By using our website, you agree to allow third parties to process your IP address, in order to determine your location for the purpose of currency conversion. You also agree to have that currency stored in a session cookie in your browser (a temporary cookie which gets automatically removed when you close your browser). We do this in order for the selected currency to remain selected and consistent when browsing our website so that the prices can convert to your (the visitor) local currency.The information that We collect on the Website will be used for the purposes of operating the Website, facilitating Your use of the Website, facilitating the transactions between the users, studying user behaviour and for other business purposes of GoCoop Solutions and Services. The information including any User Information will be available to other registered users of the Website.Except as otherwise provided herein, no personally identifiable information will be disclosed or shared with any third party without Your express consent. For the purposes of this policy, personally identifiable information shall mean name, age, gender, bank account information, telephone numbers, location data, email addresses, payment, billing or shipping information.Please do not include any personal information, personally identifiable information or sensitive personal information unless specifically requested by GoCoop Solutions and Services as part of the registration or other applicable processes. If GoCoop Solutions and Services determines that any information You have provided or uploaded violates the terms of this Privacy Policy, GoCoop Solutions and Services has the right, in its absolute discretion, to delete or destroy such information without incurring any liability to You.GoCoop Solutions and Services will not publish, sell or rent Your personal information to third parties for their marketing purposes without Your explicit consentGoCoop Solutions and Services may also use the information for analytical purposes, including but not limited to assessing usage data, usage patterns, estimate audience sizes and other similar activities.You agree that Your personal information may be used to contact You and deliver information or targeted advertisements, administrative notices and any other communication relevant to Your use of the Website. If You do not wish to receive these communications, You can at any time change Your profile settings.The User Information You provide on the Website may be disclosed by GoCoop Solutions and Services to its agents, employees, third party advertisers, subsidiaries and affiliates, or to other third party service providers of GoCoop Solutions and Services who require the information for the purposes of operating and maintaining the Website.GoCoop Solutions and Services will comply with requests and directions of all governmental, law enforcement or regulatory authorities, which it believes in good faith to be in accordance with any applicable law. Such compliance may include providing User Information, personally identifiable information or any other information to such agency or authority. By providing any information on the Website, You consent to GoCoop Solutions and Services providing such information to any governmental, law enforcement or regulatory authorities who exercise jurisdiction over GoCoop Solutions and Services and the Website.The information that You provide, subject to disclosure in accordance with this Privacy Policy shall be maintained in a safe and secure manner. GoCoop Solutions and Services’ databases and information are stored on secure servers with appropriate firewalls owned by GoCoop Solutions and Services or by third parties.As a user of the Website, You have the responsibility to ensure data security. You should use the Website in a responsible manner. Do not share Your username or password with any person. You are solely responsible for all acts done under the username You are registered under.Given the nature of internet transactions, GoCoop Solutions and Services does not take any responsibility for the transmission of information including User Information to the Website. GoCoop Solutions and Services does not take any responsibility for You or any third party circumventing the privacy settings or security measures contained on the Website.While GoCoop Solutions and Services will use all reasonable efforts to ensure that Your User Information and other information submitted by You is safe and secure, it offers no representation, warranties or other assurances that the security measures are adequate, safe, fool proof or impenetrable.You can change, alter of otherwise modify or update Your User Information at any time by accessing the Website using Your registered username and accessing Your User account.You may also change and/or delete any of the information You have submitted. Do note however, GoCoop Solutions and Services the rights to save any usage information and You are not entitled to seek the deletion of the same.GoCoop Solutions and Services at its sole discretion may permit or deny the change of any information, if it is believes the same is required to observe applicable laws.The Website is only intended for users who are of 18 years of age or older and otherwise competent to enter into binding contracts. If You are not of the requisite age or otherwise unable to enter into binding contracts You are not to provide any User Information or other information. If it comes to GoCoop Solutions and Services’ attention that any User Information or information pertains to an individual under the age of 18 years or otherwise not eligible to enter into binding contracts, such User Information or information will be deleted without notice to You.The aggregate liability of GoCoop Solutions and Services to You or anyone, whether in contract, tort, negligence or otherwise, howsoever arising, whether in connection with this Privacy Policy, Your access and use of the Website and its contents and functionalities shall not exceed Rs. In no event shall GoCoop Solutions and Services be liable for any loss of profits (anticipated or real), loss of business, loss of reputation, loss of data, loss of goodwill, any business interruption or any direct, indirect, special, incidental, consequential, punitive, tort or other damages, however caused, whether or not it has been advised of the possibility of such damages.This Privacy Policy is subject to change at GoCoop Solutions and Services’ sole discretion. Any changes to the Privacy Policy will be notified by a notice on the home page.\""
      ]
     },
     "execution_count": 159,
     "metadata": {},
     "output_type": "execute_result"
    }
   ],
   "source": [
    "string"
   ]
  },
  {
   "cell_type": "code",
   "execution_count": 160,
   "metadata": {},
   "outputs": [
    {
     "name": "stdout",
     "output_type": "stream",
     "text": [
      "GoCoop Solutions and Services Private Limited, an Indian company ('GoCoop Solutions and Services', 'Our' or 'We') recognizes the importance of Your privacy and is committed to ensuring that You are aware of how Your information is being used.The terms “You” or “Your”, shall include any individual or legal entity who accesses or uses www.com (“Website”).This policy describes the types of information GoCoop Solutions and Services may collect from You or that You may provide in relation to the use or access of the Website and the manner in which such information is collected used, processed, disclosed and maintained.Please read and understand the policy carefully.\n",
      "\n",
      "If You do not agree with Our policies and Our practices in the way we treat Your information (“User Information” which may include Your name, nationality, date of birth, telephone number, email address, physical address and the like), Your choice is to not use the Website.\n",
      "\n",
      "Your use or access of the Website, shall constitute Your agreement to this Privacy Policy.By accepting the Privacy Policy you expressly consent to GoCoop Solutions and Services’ use and disclosure of your personal information in accordance with this Privacy Policy.This policy shall apply to all information You provide on the Website and all information that GoCoop Solutions and Services collects on the Website including but not limited to any information You upload, emails that You exchange with GoCoop Solutions and Services and other users of the Website and any information submitted by You to GoCoop Solutions and Services.The policy does not apply to, nor does GoCoop Solutions and Services take any responsibility for, any information that is collected by any third party either using the Website or through any links on the Website or through any advertisements on the Website.In the use of the Website, as You navigate through the Website, GoCoop Solutions and Services may collect different types of information.\n",
      "\n",
      "This may include User Information, information that is personally identifiable, other information which may not be personally identifiable, information on the usage patterns of any user including You, searches that You have done on the Website, advertisements or third party links that You have visited, any emails or other correspondence You have exchanged on the Website or with GoCoop Solutions and Services.You understand that the information collected by GoCoop Solutions and Services, may be collected directly or through tracking of Your usage of the Website.\n",
      "\n",
      "The collection of data may in most cases be automatic.\n",
      "\n",
      "These cookies may track Your Website usage, advertisement and links that You visit and other user data.\n",
      "\n",
      "You may decline these cookies by changing Your browser settings, if permitted, however do note that this mayAdvertisements on the Website may be posted by third-party advertisers, and such third parties may use cookies and other automatic tracking technologies to collect information about You, including but not limited to web behavioural information and patterns.\n",
      "\n",
      "Any such information is posted or transmitted to others at your own risk.\n",
      "\n",
      "You also agree to have that currency stored in a session cookie in your browser (a temporary cookie which gets automatically removed when you close your browser).\n",
      "\n",
      "The information including any User Information will be available to other registered users of the Website.Except as otherwise provided herein, no personally identifiable information will be disclosed or shared with any third party without Your express consent.\n",
      "\n",
      "Such compliance may include providing User Information, personally identifiable information or any other information to such agency or authority.\n",
      "\n",
      "You should use the Website in a responsible manner.\n",
      "\n",
      "Do not share Your username or password with any person.\n",
      "\n",
      "If You are not of the requisite age or otherwise unable to enter into binding contracts You are not to provide any User Information or other information.\n",
      "\n",
      "Any changes to the Privacy Policy will be notified by a notice on the home page.\n",
      "\n"
     ]
    }
   ],
   "source": [
    "my_parser = PlaintextParser.from_string(string,Tokenizer('english'))\n",
    "kl_summarizer=KLSummarizer()\n",
    "kl_summary=kl_summarizer(my_parser.document,sentences_count=15)\n",
    "\n",
    "count=0\n",
    "policy=\"\"\n",
    "# Printing the summary\n",
    "for sentence in kl_summary:\n",
    "    print(sentence)\n",
    "    count+=1\n",
    "    policy+=str(sentence)\n",
    "    print()"
   ]
  },
  {
   "cell_type": "code",
   "execution_count": 161,
   "metadata": {},
   "outputs": [
    {
     "name": "stdout",
     "output_type": "stream",
     "text": [
      "[\"GoCoop Solutions and Services Private Limited, an Indian company ('GoCoop Solutions and Services', 'Our' or 'We') recognizes the importance of Your privacy and is committed to ensuring that You are aware of how Your information is being used\", 'The terms “You” or “Your”, shall include any individual or legal entity who accesses or uses www', 'com (“Website”)', 'This policy describes the types of information GoCoop Solutions and Services may collect from You or that You may provide in relation to the use or access of the Website and the manner in which such information is collected used, processed, disclosed and maintained', 'Please read and understand the policy carefully', 'If You do not agree with Our policies and Our practices in the way we treat Your information (“User Information” which may include Your name, nationality, date of birth, telephone number, email address, physical address and the like), Your choice is to not use the Website', 'Your use or access of the Website, shall constitute Your agreement to this Privacy Policy', 'By accepting the Privacy Policy you expressly consent to GoCoop Solutions and Services’ use and disclosure of your personal information in accordance with this Privacy Policy', 'This policy shall apply to all information You provide on the Website and all information that GoCoop Solutions and Services collects on the Website including but not limited to any information You upload, emails that You exchange with GoCoop Solutions and Services and other users of the Website and any information submitted by You to GoCoop Solutions and Services', 'The policy does not apply to, nor does GoCoop Solutions and Services take any responsibility for, any information that is collected by any third party either using the Website or through any links on the Website or through any advertisements on the Website', 'In the use of the Website, as You navigate through the Website, GoCoop Solutions and Services may collect different types of information', 'This may include User Information, information that is personally identifiable, other information which may not be personally identifiable, information on the usage patterns of any user including You, searches that You have done on the Website, advertisements or third party links that You have visited, any emails or other correspondence You have exchanged on the Website or with GoCoop Solutions and Services', 'You understand that the information collected by GoCoop Solutions and Services, may be collected directly or through tracking of Your usage of the Website', 'The collection of data may in most cases be automatic', 'These cookies may track Your Website usage, advertisement and links that You visit and other user data', 'You may decline these cookies by changing Your browser settings, if permitted, however do note that this mayAdvertisements on the Website may be posted by third-party advertisers, and such third parties may use cookies and other automatic tracking technologies to collect information about You, including but not limited to web behavioural information and patterns', 'Any such information is posted or transmitted to others at your own risk', 'You also agree to have that currency stored in a session cookie in your browser (a temporary cookie which gets automatically removed when you close your browser)', 'The information including any User Information will be available to other registered users of the Website', 'Except as otherwise provided herein, no personally identifiable information will be disclosed or shared with any third party without Your express consent', 'Such compliance may include providing User Information, personally identifiable information or any other information to such agency or authority', 'You should use the Website in a responsible manner', 'Do not share Your username or password with any person', 'If You are not of the requisite age or otherwise unable to enter into binding contracts You are not to provide any User Information or other information', 'Any changes to the Privacy Policy will be notified by a notice on the home page']\n"
     ]
    }
   ],
   "source": [
    "final_policy_list=policy.split(\".\")\n",
    "final_policy_list.remove(\"\")\n",
    "print(final_policy_list)"
   ]
  },
  {
   "cell_type": "code",
   "execution_count": 162,
   "metadata": {},
   "outputs": [
    {
     "name": "stdout",
     "output_type": "stream",
     "text": [
      "154\n"
     ]
    }
   ],
   "source": [
    "count_common=0\n",
    "for i in final_policy_list:\n",
    "    for j in common_word_list:\n",
    "        if j in i:\n",
    "            count_common+=i.count(j)\n",
    "print(count_common)"
   ]
  },
  {
   "cell_type": "markdown",
   "metadata": {},
   "source": [
    "# TEST-2 repeat"
   ]
  },
  {
   "cell_type": "code",
   "execution_count": 117,
   "metadata": {},
   "outputs": [
    {
     "data": {
      "text/plain": [
       "\"eleB2B.com (a part of EFY Enterprises Pvt Ltd) is committed to safeguarding its users' privacy. We request all users to read our 'Privacy Policy' to understand how their personal and business information will be handled. As of now, we do not charge a single penny to buyers and suppliers (this may change later, and we will inform you when that happens) in exchange for our services. This privacy policy is applicable to the entire network of suppliers/manufacturers etc listed on and using eleB2B.com.By using our site, you consent to the terms of our online Privacy Policy.What user information do we collect?We collect information from buyers and suppliers when they register to gain access to our services or when they are requested to provide their personal and business details. During registration, we ask the buyers or suppliers for their name, email address, business information and other personal details.What do we use your personal/business information for?On successful registration, users are no longer anonymous to the eleB2B.com and EFY Group website admins, and it is deemed that the user has given us the right to publish the relevant personal and business details for the following purposes:To personalise your experienceTo improve our websiteTo share with sponsorsTo administer a contest, promotion, survey, or conduct any other such activity on the siteTo send out periodic emails.The email address you provide may be used to send you information, respond to inquiries, have an interactive communication, address other requests or personalise your experience on our website. Your business information is used when compiling listings or when featuring product offerings across our network, thus fetching the maximum business opportunities for the user.We also collect usage statistics (page views, unique visitors, browser software, screen resolutions, etc.) through third party tools/websites for analysis. This data helps us provide you with an improved user experience and services.Sharing of Information:As per our principles, eleB2B.com and EFY Group websites will not disclose or share any of your personal as well as business information without your permission, or under special circumstances as permitted in the terms of this policy (Privacy Policy Agreement).Distribution of Information:eleB2B.com; send its users emails regarding its products and services. It may also use your information to create any match- making tools to bring buyers together with interested sellers.Promotional use:Promotions that are being run may be sponsored by eleB2B.com only or EFY Group websites. You can decide not to participate in the promotions if you don't want your data to be shared. For the record, right now, eleB2B.com is not running any promotional campaign.Updating information:As a buyer or supplier, you may edit your account information and profile by logging into our website and/or by sending a request to the admin within the panel. The requested changes will take time to be displayed on the website because of the cross-verification process.At the same time, a registered user account can be deleted or deactivated, but doing so will only result in the user not being able to access the members-only area of the website. The rest of the information about that particular user will remain in our records.Cookie policyRight now, we are using cookies for usability purposes only. You can choose to have your computer warn you each time a cookie is being sent, or you can choose to turn off all cookies via your browser settings. Also, if you turn your cookies off, some of our services may not function properly.You can still place orders by contacting customer service +91-11-4059-6605 or can complain at support@eleb2b.com.Protection of Information:We do not sell third parties any data in bulk, which can be misused for telemarketing, bulk mailing or any other wrong purposes. Also, eleB2B does not sell any user’s’ personal information or business information until and unless it is permitted to do so by the user, as per the terms of this policy (Privacy Policy Agreement).Changes in the Privacy Policy.eleB2B.com reserves the right to change its user policies from time to time, so we suggest that you, as a buyer or seller, check the terms of the policy periodically.\""
      ]
     },
     "execution_count": 117,
     "metadata": {},
     "output_type": "execute_result"
    }
   ],
   "source": [
    "pr_new=\"eleB2B.com (a part of EFY Enterprises Pvt Ltd) is committed to safeguarding its users' privacy. We request all users to read our 'Privacy Policy' to understand how their personal and business information will be handled. As of now, we do not charge a single penny to buyers and suppliers (this may change later, and we will inform you when that happens) in exchange for our services. This privacy policy is applicable to the entire network of suppliers/manufacturers etc listed on and using eleB2B.com.By using our site, you consent to the terms of our online Privacy Policy.What user information do we collect?We collect information from buyers and suppliers when they register to gain access to our services or when they are requested to provide their personal and business details. During registration, we ask the buyers or suppliers for their name, email address, business information and other personal details.What do we use your personal/business information for?On successful registration, users are no longer anonymous to the eleB2B.com and EFY Group website admins, and it is deemed that the user has given us the right to publish the relevant personal and business details for the following purposes:To personalise your experienceTo improve our websiteTo share with sponsorsTo administer a contest, promotion, survey, or conduct any other such activity on the siteTo send out periodic emails.The email address you provide may be used to send you information, respond to inquiries, have an interactive communication, address other requests or personalise your experience on our website. Your business information is used when compiling listings or when featuring product offerings across our network, thus fetching the maximum business opportunities for the user.We also collect usage statistics (page views, unique visitors, browser software, screen resolutions, etc.) through third party tools/websites for analysis. This data helps us provide you with an improved user experience and services.Sharing of Information:As per our principles, eleB2B.com and EFY Group websites will not disclose or share any of your personal as well as business information without your permission, or under special circumstances as permitted in the terms of this policy (Privacy Policy Agreement).Distribution of Information:eleB2B.com; send its users emails regarding its products and services. It may also use your information to create any match- making tools to bring buyers together with interested sellers.Promotional use:Promotions that are being run may be sponsored by eleB2B.com only or EFY Group websites. You can decide not to participate in the promotions if you don't want your data to be shared. For the record, right now, eleB2B.com is not running any promotional campaign.Updating information:As a buyer or supplier, you may edit your account information and profile by logging into our website and/or by sending a request to the admin within the panel. The requested changes will take time to be displayed on the website because of the cross-verification process.At the same time, a registered user account can be deleted or deactivated, but doing so will only result in the user not being able to access the members-only area of the website. The rest of the information about that particular user will remain in our records.Cookie policyRight now, we are using cookies for usability purposes only. You can choose to have your computer warn you each time a cookie is being sent, or you can choose to turn off all cookies via your browser settings. Also, if you turn your cookies off, some of our services may not function properly.You can still place orders by contacting customer service +91-11-4059-6605 or can complain at support@eleb2b.com.Protection of Information:We do not sell third parties any data in bulk, which can be misused for telemarketing, bulk mailing or any other wrong purposes. Also, eleB2B does not sell any user’s’ personal information or business information until and unless it is permitted to do so by the user, as per the terms of this policy (Privacy Policy Agreement).Changes in the Privacy Policy.eleB2B.com reserves the right to change its user policies from time to time, so we suggest that you, as a buyer or seller, check the terms of the policy periodically.\"\n",
    "pr_new"
   ]
  },
  {
   "cell_type": "code",
   "execution_count": 118,
   "metadata": {},
   "outputs": [
    {
     "data": {
      "text/plain": [
       "['eleB2B',\n",
       " \"com (a part of EFY Enterprises Pvt Ltd) is committed to safeguarding its users' privacy\",\n",
       " \" We request all users to read our 'Privacy Policy' to understand how their personal and business information will be handled\",\n",
       " ' As of now, we do not charge a single penny to buyers and suppliers (this may change later, and we will inform you when that happens) in exchange for our services',\n",
       " ' This privacy policy is applicable to the entire network of suppliers/manufacturers etc listed on and using eleB2B',\n",
       " 'com',\n",
       " 'By using our site, you consent to the terms of our online Privacy Policy',\n",
       " 'What user information do we collect?We collect information from buyers and suppliers when they register to gain access to our services or when they are requested to provide their personal and business details',\n",
       " ' During registration, we ask the buyers or suppliers for their name, email address, business information and other personal details',\n",
       " 'What do we use your personal/business information for?On successful registration, users are no longer anonymous to the eleB2B',\n",
       " 'com and EFY Group website admins, and it is deemed that the user has given us the right to publish the relevant personal and business details for the following purposes:To personalise your experienceTo improve our websiteTo share with sponsorsTo administer a contest, promotion, survey, or conduct any other such activity on the siteTo send out periodic emails',\n",
       " 'The email address you provide may be used to send you information, respond to inquiries, have an interactive communication, address other requests or personalise your experience on our website',\n",
       " ' Your business information is used when compiling listings or when featuring product offerings across our network, thus fetching the maximum business opportunities for the user',\n",
       " 'We also collect usage statistics (page views, unique visitors, browser software, screen resolutions, etc',\n",
       " ') through third party tools/websites for analysis',\n",
       " ' This data helps us provide you with an improved user experience and services',\n",
       " 'Sharing of Information:As per our principles, eleB2B',\n",
       " 'com and EFY Group websites will not disclose or share any of your personal as well as business information without your permission, or under special circumstances as permitted in the terms of this policy (Privacy Policy Agreement)',\n",
       " 'Distribution of Information:eleB2B',\n",
       " 'com; send its users emails regarding its products and services',\n",
       " ' It may also use your information to create any match- making tools to bring buyers together with interested sellers',\n",
       " 'Promotional use:Promotions that are being run may be sponsored by eleB2B',\n",
       " 'com only or EFY Group websites',\n",
       " \" You can decide not to participate in the promotions if you don't want your data to be shared\",\n",
       " ' For the record, right now, eleB2B',\n",
       " 'com is not running any promotional campaign',\n",
       " 'Updating information:As a buyer or supplier, you may edit your account information and profile by logging into our website and/or by sending a request to the admin within the panel',\n",
       " ' The requested changes will take time to be displayed on the website because of the cross-verification process',\n",
       " 'At the same time, a registered user account can be deleted or deactivated, but doing so will only result in the user not being able to access the members-only area of the website',\n",
       " ' The rest of the information about that particular user will remain in our records',\n",
       " 'Cookie policyRight now, we are using cookies for usability purposes only',\n",
       " ' You can choose to have your computer warn you each time a cookie is being sent, or you can choose to turn off all cookies via your browser settings',\n",
       " ' Also, if you turn your cookies off, some of our services may not function properly',\n",
       " 'You can still place orders by contacting customer service +91-11-4059-6605 or can complain at support@eleb2b',\n",
       " 'com',\n",
       " 'Protection of Information:We do not sell third parties any data in bulk, which can be misused for telemarketing, bulk mailing or any other wrong purposes',\n",
       " ' Also, eleB2B does not sell any user’s’ personal information or business information until and unless it is permitted to do so by the user, as per the terms of this policy (Privacy Policy Agreement)',\n",
       " 'Changes in the Privacy Policy',\n",
       " 'eleB2B',\n",
       " 'com reserves the right to change its user policies from time to time, so we suggest that you, as a buyer or seller, check the terms of the policy periodically',\n",
       " '']"
      ]
     },
     "execution_count": 118,
     "metadata": {},
     "output_type": "execute_result"
    }
   ],
   "source": [
    "pr_new=pr_new.split(\".\")\n",
    "pr_new"
   ]
  },
  {
   "cell_type": "code",
   "execution_count": 119,
   "metadata": {},
   "outputs": [
    {
     "data": {
      "text/plain": [
       "41"
      ]
     },
     "execution_count": 119,
     "metadata": {},
     "output_type": "execute_result"
    }
   ],
   "source": [
    "len(pr_new)"
   ]
  },
  {
   "cell_type": "code",
   "execution_count": 120,
   "metadata": {},
   "outputs": [],
   "source": [
    "summary=[]\n",
    "for i in range(len(pr_new)):\n",
    "    for j in common_word_list:\n",
    "        if j in pr_new[i]:\n",
    "            summary.append(pr_new[i])\n",
    "            break"
   ]
  },
  {
   "cell_type": "code",
   "execution_count": 121,
   "metadata": {},
   "outputs": [
    {
     "data": {
      "text/plain": [
       "35"
      ]
     },
     "execution_count": 121,
     "metadata": {},
     "output_type": "execute_result"
    }
   ],
   "source": [
    "len(summary)"
   ]
  },
  {
   "cell_type": "code",
   "execution_count": 122,
   "metadata": {},
   "outputs": [
    {
     "name": "stdout",
     "output_type": "stream",
     "text": [
      "com (a part of EFY Enterprises Pvt Ltd) is committed to safeguarding its users' privacy. We request all users to read our 'Privacy Policy' to understand how their personal and business information will be handled. As of now, we do not charge a single penny to buyers and suppliers (this may change later, and we will inform you when that happens) in exchange for our services. This privacy policy is applicable to the entire network of suppliers/manufacturers etc listed on and using eleB2B.com.By using our site, you consent to the terms of our online Privacy Policy.What user information do we collect?We collect information from buyers and suppliers when they register to gain access to our services or when they are requested to provide their personal and business details. During registration, we ask the buyers or suppliers for their name, email address, business information and other personal details.What do we use your personal/business information for?On successful registration, users are no longer anonymous to the eleB2B.com and EFY Group website admins, and it is deemed that the user has given us the right to publish the relevant personal and business details for the following purposes:To personalise your experienceTo improve our websiteTo share with sponsorsTo administer a contest, promotion, survey, or conduct any other such activity on the siteTo send out periodic emails.The email address you provide may be used to send you information, respond to inquiries, have an interactive communication, address other requests or personalise your experience on our website. Your business information is used when compiling listings or when featuring product offerings across our network, thus fetching the maximum business opportunities for the user.We also collect usage statistics (page views, unique visitors, browser software, screen resolutions, etc.) through third party tools/websites for analysis. This data helps us provide you with an improved user experience and services.com and EFY Group websites will not disclose or share any of your personal as well as business information without your permission, or under special circumstances as permitted in the terms of this policy (Privacy Policy Agreement).com; send its users emails regarding its products and services. It may also use your information to create any match- making tools to bring buyers together with interested sellers.Promotional use:Promotions that are being run may be sponsored by eleB2B.com only or EFY Group websites. You can decide not to participate in the promotions if you don't want your data to be shared. For the record, right now, eleB2B.com is not running any promotional campaign.Updating information:As a buyer or supplier, you may edit your account information and profile by logging into our website and/or by sending a request to the admin within the panel. The requested changes will take time to be displayed on the website because of the cross-verification process.At the same time, a registered user account can be deleted or deactivated, but doing so will only result in the user not being able to access the members-only area of the website. The rest of the information about that particular user will remain in our records.Cookie policyRight now, we are using cookies for usability purposes only. You can choose to have your computer warn you each time a cookie is being sent, or you can choose to turn off all cookies via your browser settings. Also, if you turn your cookies off, some of our services may not function properly.You can still place orders by contacting customer service +91-11-4059-6605 or can complain at support@eleb2b.com.Protection of Information:We do not sell third parties any data in bulk, which can be misused for telemarketing, bulk mailing or any other wrong purposes. Also, eleB2B does not sell any user’s’ personal information or business information until and unless it is permitted to do so by the user, as per the terms of this policy (Privacy Policy Agreement).com reserves the right to change its user policies from time to time, so we suggest that you, as a buyer or seller, check the terms of the policy periodically.\n"
     ]
    }
   ],
   "source": [
    "string=\"\"\n",
    "for i in summary:\n",
    "    string+=i\n",
    "    string+=\".\"\n",
    "print(string)"
   ]
  },
  {
   "cell_type": "code",
   "execution_count": 138,
   "metadata": {},
   "outputs": [
    {
     "name": "stdout",
     "output_type": "stream",
     "text": [
      "com (a part of EFY Enterprises Pvt Ltd) is committed to safeguarding its users' privacy.\n",
      "\n",
      "We request all users to read our 'Privacy Policy' to understand how their personal and business information will be handled.\n",
      "\n",
      "As of now, we do not charge a single penny to buyers and suppliers (this may change later, and we will inform you when that happens) in exchange for our services.\n",
      "\n",
      "This privacy policy is applicable to the entire network of suppliers/manufacturers etc listed on and using eleB2B.com.By using our site, you consent to the terms of our online Privacy Policy.What user information do we collect?We collect information from buyers and suppliers when they register to gain access to our services or when they are requested to provide their personal and business details.\n",
      "\n",
      "During registration, we ask the buyers or suppliers for their name, email address, business information and other personal details.What do we use your personal/business information for?On successful registration, users are no longer anonymous to the eleB2B.com and EFY Group website admins, and it is deemed that the user has given us the right to publish the relevant personal and business details for the following purposes:To personalise your experienceTo improve our websiteTo share with sponsorsTo administer a contest, promotion, survey, or conduct any other such activity on the siteTo send out periodic emails.The email address you provide may be used to send you information, respond to inquiries, have an interactive communication, address other requests or personalise your experience on our website.\n",
      "\n",
      "Your business information is used when compiling listings or when featuring product offerings across our network, thus fetching the maximum business opportunities for the user.We also collect usage statistics (page views, unique visitors, browser software, screen resolutions, etc.)\n",
      "\n",
      "through third party tools/websites for analysis.\n",
      "\n",
      "This data helps us provide you with an improved user experience and services.com and EFY Group websites will not disclose or share any of your personal as well as business information without your permission, or under special circumstances as permitted in the terms of this policy (Privacy Policy Agreement).com; send its users emails regarding its products and services.\n",
      "\n",
      "You can decide not to participate in the promotions if you don't want your data to be shared.\n",
      "\n",
      "For the record, right now, eleB2B.com is not running any promotional campaign.Updating information:As a buyer or supplier, you may edit your account information and profile by logging into our website and/or by sending a request to the admin within the panel.\n",
      "\n",
      "The requested changes will take time to be displayed on the website because of the cross-verification process.At the same time, a registered user account can be deleted or deactivated, but doing so will only result in the user not being able to access the members-only area of the website.\n",
      "\n",
      "The rest of the information about that particular user will remain in our records.Cookie policyRight now, we are using cookies for usability purposes only.\n",
      "\n",
      "You can choose to have your computer warn you each time a cookie is being sent, or you can choose to turn off all cookies via your browser settings.\n",
      "\n",
      "Also, if you turn your cookies off, some of our services may not function properly.You can still place orders by contacting customer service +91-11-4059-6605 or can complain at support@eleb2b.com.Protection of Information:We do not sell third parties any data in bulk, which can be misused for telemarketing, bulk mailing or any other wrong purposes.\n",
      "\n",
      "Also, eleB2B does not sell any user’s’ personal information or business information until and unless it is permitted to do so by the user, as per the terms of this policy (Privacy Policy Agreement).com reserves the right to change its user policies from time to time, so we suggest that you, as a buyer or seller, check the terms of the policy periodically.\n",
      "\n"
     ]
    }
   ],
   "source": [
    "my_parser = PlaintextParser.from_string(string,Tokenizer('english'))\n",
    "lex_rank_summarizer = LexRankSummarizer()\n",
    "lexrank_summary = lex_rank_summarizer(my_parser.document,sentences_count=15)\n",
    "# Printing the summary\n",
    "final_policy=\"\"\n",
    "for sentence in lexrank_summary:\n",
    "    print(sentence)\n",
    "    print()\n",
    "    final_policy+=str(sentence)"
   ]
  },
  {
   "cell_type": "code",
   "execution_count": 139,
   "metadata": {},
   "outputs": [
    {
     "name": "stdout",
     "output_type": "stream",
     "text": [
      "[\"com (a part of EFY Enterprises Pvt Ltd) is committed to safeguarding its users' privacy\", \"We request all users to read our 'Privacy Policy' to understand how their personal and business information will be handled\", 'As of now, we do not charge a single penny to buyers and suppliers (this may change later, and we will inform you when that happens) in exchange for our services', 'This privacy policy is applicable to the entire network of suppliers/manufacturers etc listed on and using eleB2B', 'com', 'By using our site, you consent to the terms of our online Privacy Policy', 'What user information do we collect?We collect information from buyers and suppliers when they register to gain access to our services or when they are requested to provide their personal and business details', 'During registration, we ask the buyers or suppliers for their name, email address, business information and other personal details', 'What do we use your personal/business information for?On successful registration, users are no longer anonymous to the eleB2B', 'com and EFY Group website admins, and it is deemed that the user has given us the right to publish the relevant personal and business details for the following purposes:To personalise your experienceTo improve our websiteTo share with sponsorsTo administer a contest, promotion, survey, or conduct any other such activity on the siteTo send out periodic emails', 'The email address you provide may be used to send you information, respond to inquiries, have an interactive communication, address other requests or personalise your experience on our website', 'Your business information is used when compiling listings or when featuring product offerings across our network, thus fetching the maximum business opportunities for the user', 'We also collect usage statistics (page views, unique visitors, browser software, screen resolutions, etc', ')through third party tools/websites for analysis', 'This data helps us provide you with an improved user experience and services', 'com and EFY Group websites will not disclose or share any of your personal as well as business information without your permission, or under special circumstances as permitted in the terms of this policy (Privacy Policy Agreement)', 'com; send its users emails regarding its products and services', \"You can decide not to participate in the promotions if you don't want your data to be shared\", 'For the record, right now, eleB2B', 'com is not running any promotional campaign', 'Updating information:As a buyer or supplier, you may edit your account information and profile by logging into our website and/or by sending a request to the admin within the panel', 'The requested changes will take time to be displayed on the website because of the cross-verification process', 'At the same time, a registered user account can be deleted or deactivated, but doing so will only result in the user not being able to access the members-only area of the website', 'The rest of the information about that particular user will remain in our records', 'Cookie policyRight now, we are using cookies for usability purposes only', 'You can choose to have your computer warn you each time a cookie is being sent, or you can choose to turn off all cookies via your browser settings', 'Also, if you turn your cookies off, some of our services may not function properly', 'You can still place orders by contacting customer service +91-11-4059-6605 or can complain at support@eleb2b', 'com', 'Protection of Information:We do not sell third parties any data in bulk, which can be misused for telemarketing, bulk mailing or any other wrong purposes', 'Also, eleB2B does not sell any user’s’ personal information or business information until and unless it is permitted to do so by the user, as per the terms of this policy (Privacy Policy Agreement)', 'com reserves the right to change its user policies from time to time, so we suggest that you, as a buyer or seller, check the terms of the policy periodically']\n"
     ]
    }
   ],
   "source": [
    "final_policy_list=final_policy.split(\".\")\n",
    "final_policy_list.remove(\"\")\n",
    "print(final_policy_list)"
   ]
  },
  {
   "cell_type": "code",
   "execution_count": 140,
   "metadata": {},
   "outputs": [
    {
     "name": "stdout",
     "output_type": "stream",
     "text": [
      "201\n"
     ]
    }
   ],
   "source": [
    "count_common=0\n",
    "for i in final_policy_list:\n",
    "    for j in common_word_list:\n",
    "        if j in i:\n",
    "            count_common+=i.count(j)\n",
    "print(count_common)"
   ]
  },
  {
   "cell_type": "code",
   "execution_count": 141,
   "metadata": {},
   "outputs": [],
   "source": [
    "my_parser = PlaintextParser.from_string(string,Tokenizer('english'))"
   ]
  },
  {
   "cell_type": "code",
   "execution_count": 142,
   "metadata": {},
   "outputs": [
    {
     "name": "stdout",
     "output_type": "stream",
     "text": [
      "com (a part of EFY Enterprises Pvt Ltd) is committed to safeguarding its users' privacy.\n",
      "\n",
      "We request all users to read our 'Privacy Policy' to understand how their personal and business information will be handled.\n",
      "\n",
      "As of now, we do not charge a single penny to buyers and suppliers (this may change later, and we will inform you when that happens) in exchange for our services.\n",
      "\n",
      "This privacy policy is applicable to the entire network of suppliers/manufacturers etc listed on and using eleB2B.com.By using our site, you consent to the terms of our online Privacy Policy.What user information do we collect?We collect information from buyers and suppliers when they register to gain access to our services or when they are requested to provide their personal and business details.\n",
      "\n",
      "Your business information is used when compiling listings or when featuring product offerings across our network, thus fetching the maximum business opportunities for the user.We also collect usage statistics (page views, unique visitors, browser software, screen resolutions, etc.)\n",
      "\n",
      "through third party tools/websites for analysis.\n",
      "\n",
      "This data helps us provide you with an improved user experience and services.com and EFY Group websites will not disclose or share any of your personal as well as business information without your permission, or under special circumstances as permitted in the terms of this policy (Privacy Policy Agreement).com; send its users emails regarding its products and services.\n",
      "\n",
      "It may also use your information to create any match- making tools to bring buyers together with interested sellers.Promotional use:Promotions that are being run may be sponsored by eleB2B.com only or EFY Group websites.\n",
      "\n",
      "You can decide not to participate in the promotions if you don't want your data to be shared.\n",
      "\n",
      "For the record, right now, eleB2B.com is not running any promotional campaign.Updating information:As a buyer or supplier, you may edit your account information and profile by logging into our website and/or by sending a request to the admin within the panel.\n",
      "\n",
      "The requested changes will take time to be displayed on the website because of the cross-verification process.At the same time, a registered user account can be deleted or deactivated, but doing so will only result in the user not being able to access the members-only area of the website.\n",
      "\n",
      "The rest of the information about that particular user will remain in our records.Cookie policyRight now, we are using cookies for usability purposes only.\n",
      "\n",
      "You can choose to have your computer warn you each time a cookie is being sent, or you can choose to turn off all cookies via your browser settings.\n",
      "\n",
      "Also, if you turn your cookies off, some of our services may not function properly.You can still place orders by contacting customer service +91-11-4059-6605 or can complain at support@eleb2b.com.Protection of Information:We do not sell third parties any data in bulk, which can be misused for telemarketing, bulk mailing or any other wrong purposes.\n",
      "\n",
      "Also, eleB2B does not sell any user’s’ personal information or business information until and unless it is permitted to do so by the user, as per the terms of this policy (Privacy Policy Agreement).com reserves the right to change its user policies from time to time, so we suggest that you, as a buyer or seller, check the terms of the policy periodically.\n",
      "\n"
     ]
    }
   ],
   "source": [
    "kl_summarizer=KLSummarizer()\n",
    "kl_summary=kl_summarizer(parser.document,sentences_count=15)\n",
    "\n",
    "count=0\n",
    "policy=\"\"\n",
    "# Printing the summary\n",
    "for sentence in kl_summary:\n",
    "    print(sentence)\n",
    "    count+=1\n",
    "    policy+=str(sentence)\n",
    "    print()"
   ]
  },
  {
   "cell_type": "code",
   "execution_count": 145,
   "metadata": {},
   "outputs": [
    {
     "name": "stdout",
     "output_type": "stream",
     "text": [
      "[\"com (a part of EFY Enterprises Pvt Ltd) is committed to safeguarding its users' privacy\", \"We request all users to read our 'Privacy Policy' to understand how their personal and business information will be handled\", 'As of now, we do not charge a single penny to buyers and suppliers (this may change later, and we will inform you when that happens) in exchange for our services', 'This privacy policy is applicable to the entire network of suppliers/manufacturers etc listed on and using eleB2B', 'com', 'By using our site, you consent to the terms of our online Privacy Policy', 'What user information do we collect?We collect information from buyers and suppliers when they register to gain access to our services or when they are requested to provide their personal and business details', 'Your business information is used when compiling listings or when featuring product offerings across our network, thus fetching the maximum business opportunities for the user', 'We also collect usage statistics (page views, unique visitors, browser software, screen resolutions, etc', ')through third party tools/websites for analysis', 'This data helps us provide you with an improved user experience and services', 'com and EFY Group websites will not disclose or share any of your personal as well as business information without your permission, or under special circumstances as permitted in the terms of this policy (Privacy Policy Agreement)', 'com; send its users emails regarding its products and services', 'It may also use your information to create any match- making tools to bring buyers together with interested sellers', 'Promotional use:Promotions that are being run may be sponsored by eleB2B', 'com only or EFY Group websites', \"You can decide not to participate in the promotions if you don't want your data to be shared\", 'For the record, right now, eleB2B', 'com is not running any promotional campaign', 'Updating information:As a buyer or supplier, you may edit your account information and profile by logging into our website and/or by sending a request to the admin within the panel', 'The requested changes will take time to be displayed on the website because of the cross-verification process', 'At the same time, a registered user account can be deleted or deactivated, but doing so will only result in the user not being able to access the members-only area of the website', 'The rest of the information about that particular user will remain in our records', 'Cookie policyRight now, we are using cookies for usability purposes only', 'You can choose to have your computer warn you each time a cookie is being sent, or you can choose to turn off all cookies via your browser settings', 'Also, if you turn your cookies off, some of our services may not function properly', 'You can still place orders by contacting customer service +91-11-4059-6605 or can complain at support@eleb2b', 'com', 'Protection of Information:We do not sell third parties any data in bulk, which can be misused for telemarketing, bulk mailing or any other wrong purposes', 'Also, eleB2B does not sell any user’s’ personal information or business information until and unless it is permitted to do so by the user, as per the terms of this policy (Privacy Policy Agreement)', 'com reserves the right to change its user policies from time to time, so we suggest that you, as a buyer or seller, check the terms of the policy periodically']\n"
     ]
    }
   ],
   "source": [
    "final_policy_list=policy.split(\".\")\n",
    "final_policy_list.remove(\"\")\n",
    "print(final_policy_list)"
   ]
  },
  {
   "cell_type": "code",
   "execution_count": 146,
   "metadata": {},
   "outputs": [
    {
     "name": "stdout",
     "output_type": "stream",
     "text": [
      "172\n"
     ]
    }
   ],
   "source": [
    "count_common=0\n",
    "for i in final_policy_list:\n",
    "    for j in common_word_list:\n",
    "        if j in i:\n",
    "            count_common+=i.count(j)\n",
    "print(count_common)"
   ]
  },
  {
   "cell_type": "code",
   "execution_count": null,
   "metadata": {},
   "outputs": [],
   "source": []
  }
 ],
 "metadata": {
  "kernelspec": {
   "display_name": "Python 3",
   "language": "python",
   "name": "python3"
  },
  "language_info": {
   "codemirror_mode": {
    "name": "ipython",
    "version": 3
   },
   "file_extension": ".py",
   "mimetype": "text/x-python",
   "name": "python",
   "nbconvert_exporter": "python",
   "pygments_lexer": "ipython3",
   "version": "3.8.5"
  }
 },
 "nbformat": 4,
 "nbformat_minor": 4
}
